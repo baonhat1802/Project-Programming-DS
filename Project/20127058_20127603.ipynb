{
  "cells": [
    {
      "cell_type": "code",
      "execution_count": 1,
      "metadata": {
        "id": "6lkBBj_d7uvr"
      },
      "outputs": [],
      "source": [
        "import matplotlib.pyplot as plt\n",
        "import seaborn as sns \n",
        "import pandas as pd\n",
        "import numpy as np\n",
        "import csv\n",
        "\n",
        "from sklearn.model_selection import train_test_split\n",
        "from sklearn.preprocessing import OneHotEncoder, StandardScaler\n",
        "from sklearn.impute import SimpleImputer\n",
        "from sklearn.base import BaseEstimator, TransformerMixin\n",
        "from sklearn.pipeline import Pipeline, make_pipeline\n",
        "from sklearn.compose import ColumnTransformer, make_column_transformer\n",
        "from sklearn.neural_network import MLPClassifier\n",
        "from sklearn import set_config\n",
        "\n",
        "from sklearn.feature_selection import SelectKBest, f_regression\n",
        "\n",
        "from sklearn import svm\n",
        "from sklearn.linear_model import LogisticRegression\n",
        "from sklearn.ensemble import RandomForestClassifier, AdaBoostClassifier\n",
        "from sklearn.tree import DecisionTreeClassifier\n",
        "from sklearn.neighbors import KNeighborsClassifier\n",
        "from sklearn.ensemble import GradientBoostingClassifier\n",
        "from sklearn import metrics\n",
        "from sklearn.metrics import accuracy_score\n",
        "from sklearn.model_selection import KFold, cross_val_score\n",
        "from sklearn.feature_selection import chi2\n",
        "from sklearn.feature_selection import SelectKBest\n",
        "from sklearn.feature_selection import SelectFromModel\n",
        "from sklearn.svm import LinearSVC\n",
        "from sklearn.ensemble import ExtraTreesClassifier\n",
        "from sklearn.ensemble import StackingClassifier\n",
        "from sklearn.naive_bayes import GaussianNB\n",
        "from sklearn.ensemble import RandomForestRegressor\n",
        "from sklearn.neural_network import MLPRegressor\n",
        "import seaborn as sns\n"
      ]
    },
    {
      "cell_type": "markdown",
      "metadata": {
        "id": "iQpRXGWz7uvu"
      },
      "source": [
        "---\n",
        "# Collecting data\n",
        "Our data is about Rolex watches which are sold on `chrono24.com`.\n",
        "\n",
        "Yes, He allows us to freely use the dataset.\n",
        "\n",
        "He collected this data by scraping with Selenium"
      ]
    },
    {
      "cell_type": "markdown",
      "metadata": {
        "id": "W9pUpPwV7uvw"
      },
      "source": [
        "---\n",
        "# Exploring data"
      ]
    },
    {
      "cell_type": "code",
      "execution_count": 2,
      "metadata": {
        "id": "tyWKIBpl7uvx"
      },
      "outputs": [],
      "source": [
        "rolex_df = pd.read_csv('rolex_scaper_clean.csv')"
      ]
    },
    {
      "cell_type": "markdown",
      "metadata": {
        "id": "d1bCiqNm7uvx"
      },
      "source": [
        "#### Number of rows and columns"
      ]
    },
    {
      "cell_type": "code",
      "execution_count": 3,
      "metadata": {
        "colab": {
          "base_uri": "https://localhost:8080/"
        },
        "id": "A1f3bBMK7uvy",
        "outputId": "3f236e5d-b1e2-449f-c308-5f64c634e83e"
      },
      "outputs": [
        {
          "data": {
            "text/plain": [
              "(87117, 12)"
            ]
          },
          "execution_count": 3,
          "metadata": {},
          "output_type": "execute_result"
        }
      ],
      "source": [
        "num_rows,num_cols = rolex_df.shape\n",
        "rolex_df.shape"
      ]
    },
    {
      "cell_type": "markdown",
      "metadata": {
        "id": "hr2hpIlh7uvz"
      },
      "source": [
        "#### Meaning of each row\n",
        "We can see that each row has information like model, price, ... about the watch."
      ]
    },
    {
      "cell_type": "code",
      "execution_count": 4,
      "metadata": {
        "colab": {
          "base_uri": "https://localhost:8080/",
          "height": 458
        },
        "id": "DvIfZY5s7uvz",
        "outputId": "f7b2152f-7226-46b2-f486-db4363260180"
      },
      "outputs": [
        {
          "data": {
            "text/html": [
              "<div>\n",
              "<style scoped>\n",
              "    .dataframe tbody tr th:only-of-type {\n",
              "        vertical-align: middle;\n",
              "    }\n",
              "\n",
              "    .dataframe tbody tr th {\n",
              "        vertical-align: top;\n",
              "    }\n",
              "\n",
              "    .dataframe thead th {\n",
              "        text-align: right;\n",
              "    }\n",
              "</style>\n",
              "<table border=\"1\" class=\"dataframe\">\n",
              "  <thead>\n",
              "    <tr style=\"text-align: right;\">\n",
              "      <th></th>\n",
              "      <th>model</th>\n",
              "      <th>reference number</th>\n",
              "      <th>price</th>\n",
              "      <th>aditional shipping price</th>\n",
              "      <th>ad name</th>\n",
              "      <th>movement</th>\n",
              "      <th>case material</th>\n",
              "      <th>case diameter</th>\n",
              "      <th>year of production</th>\n",
              "      <th>condition</th>\n",
              "      <th>scope of delivery</th>\n",
              "      <th>location</th>\n",
              "    </tr>\n",
              "  </thead>\n",
              "  <tbody>\n",
              "    <tr>\n",
              "      <th>0</th>\n",
              "      <td>Rolex Lady-Datejust</td>\n",
              "      <td>179161</td>\n",
              "      <td>9080.0</td>\n",
              "      <td>140.0</td>\n",
              "      <td>Steel Rose Gold Black Roman Dial Ladies Watch ...</td>\n",
              "      <td>Automatic</td>\n",
              "      <td>Steel</td>\n",
              "      <td>26 mm</td>\n",
              "      <td>2014.0</td>\n",
              "      <td>Very good</td>\n",
              "      <td>Original box, original papers</td>\n",
              "      <td>United States of America, Georgia</td>\n",
              "    </tr>\n",
              "    <tr>\n",
              "      <th>1</th>\n",
              "      <td>Rolex Chronograph</td>\n",
              "      <td>2917</td>\n",
              "      <td>16202.0</td>\n",
              "      <td>216.0</td>\n",
              "      <td>REF. 2917</td>\n",
              "      <td>Manual winding</td>\n",
              "      <td>Steel</td>\n",
              "      <td>33 mm</td>\n",
              "      <td>1934.0</td>\n",
              "      <td>Very good</td>\n",
              "      <td>Original box, no original papers</td>\n",
              "      <td>Italy, Roma</td>\n",
              "    </tr>\n",
              "    <tr>\n",
              "      <th>2</th>\n",
              "      <td>Rolex Daytona</td>\n",
              "      <td>116519G</td>\n",
              "      <td>41567.0</td>\n",
              "      <td>0.0</td>\n",
              "      <td>保証書付き ROLEX ロレックス デイトナ コスモグラフ K18WG 8Pダイヤ ランダム...</td>\n",
              "      <td>Automatic</td>\n",
              "      <td>White gold</td>\n",
              "      <td>39 mm</td>\n",
              "      <td>NaN</td>\n",
              "      <td>Fair</td>\n",
              "      <td>Original papers, no original box</td>\n",
              "      <td>Japan, Nagoya City</td>\n",
              "    </tr>\n",
              "    <tr>\n",
              "      <th>3</th>\n",
              "      <td>Rolex Submariner Date</td>\n",
              "      <td>116613</td>\n",
              "      <td>19795.0</td>\n",
              "      <td>235.0</td>\n",
              "      <td>New Submariner 116613 Yellow Steel Gold Cerami...</td>\n",
              "      <td>Automatic</td>\n",
              "      <td>Steel</td>\n",
              "      <td>40 mm</td>\n",
              "      <td>2020.0</td>\n",
              "      <td>Unworn</td>\n",
              "      <td>Original box, original papers</td>\n",
              "      <td>United States of America, Florida, Miami</td>\n",
              "    </tr>\n",
              "    <tr>\n",
              "      <th>4</th>\n",
              "      <td>Rolex Submariner Date</td>\n",
              "      <td>16610</td>\n",
              "      <td>10674.0</td>\n",
              "      <td>145.0</td>\n",
              "      <td>1990s ROLEX SUBMARINER 16610 Tritium vintage G...</td>\n",
              "      <td>Automatic</td>\n",
              "      <td>NaN</td>\n",
              "      <td>40 mm</td>\n",
              "      <td>1990.0</td>\n",
              "      <td>Good</td>\n",
              "      <td>Original box, original papers</td>\n",
              "      <td>Japan, Ehime yawatahama</td>\n",
              "    </tr>\n",
              "  </tbody>\n",
              "</table>\n",
              "</div>"
            ],
            "text/plain": [
              "                   model reference number    price  aditional shipping price  \\\n",
              "0    Rolex Lady-Datejust           179161   9080.0                     140.0   \n",
              "1      Rolex Chronograph             2917  16202.0                     216.0   \n",
              "2          Rolex Daytona          116519G  41567.0                       0.0   \n",
              "3  Rolex Submariner Date           116613  19795.0                     235.0   \n",
              "4  Rolex Submariner Date            16610  10674.0                     145.0   \n",
              "\n",
              "                                             ad name        movement  \\\n",
              "0  Steel Rose Gold Black Roman Dial Ladies Watch ...       Automatic   \n",
              "1                                          REF. 2917  Manual winding   \n",
              "2  保証書付き ROLEX ロレックス デイトナ コスモグラフ K18WG 8Pダイヤ ランダム...       Automatic   \n",
              "3  New Submariner 116613 Yellow Steel Gold Cerami...       Automatic   \n",
              "4  1990s ROLEX SUBMARINER 16610 Tritium vintage G...       Automatic   \n",
              "\n",
              "  case material case diameter  year of production  condition  \\\n",
              "0         Steel         26 mm              2014.0  Very good   \n",
              "1         Steel         33 mm              1934.0  Very good   \n",
              "2    White gold         39 mm                 NaN       Fair   \n",
              "3         Steel         40 mm              2020.0     Unworn   \n",
              "4           NaN         40 mm              1990.0       Good   \n",
              "\n",
              "                  scope of delivery                                  location  \n",
              "0     Original box, original papers         United States of America, Georgia  \n",
              "1  Original box, no original papers                               Italy, Roma  \n",
              "2  Original papers, no original box                        Japan, Nagoya City  \n",
              "3     Original box, original papers  United States of America, Florida, Miami  \n",
              "4     Original box, original papers                   Japan, Ehime yawatahama  "
            ]
          },
          "execution_count": 4,
          "metadata": {},
          "output_type": "execute_result"
        }
      ],
      "source": [
        "rolex_df.head()"
      ]
    },
    {
      "cell_type": "markdown",
      "metadata": {
        "id": "rbH0dHz-7uv0"
      },
      "source": [
        "#### Are there duplicated rows ?"
      ]
    },
    {
      "cell_type": "code",
      "execution_count": 5,
      "metadata": {
        "colab": {
          "base_uri": "https://localhost:8080/"
        },
        "id": "7PbV6D-I7uv0",
        "outputId": "5055004c-5f34-4266-dca8-662499c2663a"
      },
      "outputs": [
        {
          "data": {
            "text/plain": [
              "21898"
            ]
          },
          "execution_count": 5,
          "metadata": {},
          "output_type": "execute_result"
        }
      ],
      "source": [
        "rolex_df.duplicated(keep='first').sum()"
      ]
    },
    {
      "cell_type": "markdown",
      "metadata": {
        "id": "6vPtmwjl7uv1"
      },
      "source": [
        "Drop duplicated rows"
      ]
    },
    {
      "cell_type": "code",
      "execution_count": 6,
      "metadata": {
        "id": "jQT_GcPp7uv1"
      },
      "outputs": [],
      "source": [
        "rolex_df.drop_duplicates(inplace=True)"
      ]
    },
    {
      "cell_type": "markdown",
      "metadata": {
        "id": "CtXJFwn27uv1"
      },
      "source": [
        "#### Meaning of each columns ?\n",
        "\n",
        "model: the watch model name\n",
        "\n",
        "reference number: the number to identify the watch model as a whole\n",
        "\n",
        "price: the price on the listing (price made by the reseller)\n",
        "\n",
        "additional shipping price: the price for shipping (0 = free shipping)\n",
        "\n",
        "ad name: the name of the listing on the site\n",
        "\n",
        "movement: the engine of a watch to make the watch and its functions operate\n",
        "\n",
        "case material: the material of the external watch case\n",
        "\n",
        "case diameter: the dimensions of the watch\n",
        "\n",
        "year of production: the year when Rolex fabricate that particular watch\n",
        "\n",
        "condition: the general condition of the watch\n",
        "\n",
        "scope of delivery: the additional things like warranty, or box that could come with the watch\n",
        "\n",
        "location: the location of the reseller\n"
      ]
    },
    {
      "cell_type": "markdown",
      "metadata": {
        "id": "Z9x-sILE7uv2"
      },
      "source": [
        "#### Type of each colum \n",
        "Luckily, all columns are in their right data types except for year of production. It should be categorical (object) instead of float64."
      ]
    },
    {
      "cell_type": "code",
      "execution_count": 7,
      "metadata": {
        "colab": {
          "base_uri": "https://localhost:8080/"
        },
        "id": "2OjnvokD7uv2",
        "outputId": "fdcc413c-8874-4b0a-dc39-785317e8d8d9"
      },
      "outputs": [
        {
          "data": {
            "text/plain": [
              "model                        object\n",
              "reference number             object\n",
              "price                       float64\n",
              "aditional shipping price    float64\n",
              "ad name                      object\n",
              "movement                     object\n",
              "case material                object\n",
              "case diameter                object\n",
              "year of production          float64\n",
              "condition                    object\n",
              "scope of delivery            object\n",
              "location                     object\n",
              "dtype: object"
            ]
          },
          "execution_count": 7,
          "metadata": {},
          "output_type": "execute_result"
        }
      ],
      "source": [
        "rolex_df.dtypes "
      ]
    },
    {
      "cell_type": "markdown",
      "metadata": {
        "id": "MSH7zfQX7uv2"
      },
      "source": [
        "Change data types of year of production column"
      ]
    },
    {
      "cell_type": "code",
      "execution_count": 8,
      "metadata": {
        "colab": {
          "base_uri": "https://localhost:8080/"
        },
        "id": "D65_2jqz7uv3",
        "outputId": "078222fd-fbbf-44c8-9176-f164509830f5"
      },
      "outputs": [
        {
          "data": {
            "text/plain": [
              "model                        object\n",
              "reference number             object\n",
              "price                       float64\n",
              "aditional shipping price    float64\n",
              "ad name                      object\n",
              "movement                     object\n",
              "case material                object\n",
              "case diameter                object\n",
              "year of production           object\n",
              "condition                    object\n",
              "scope of delivery            object\n",
              "location                     object\n",
              "dtype: object"
            ]
          },
          "execution_count": 8,
          "metadata": {},
          "output_type": "execute_result"
        }
      ],
      "source": [
        "rolex_df['year of production'] = rolex_df['year of production'].astype('object')\n",
        "rolex_df.dtypes"
      ]
    },
    {
      "cell_type": "markdown",
      "metadata": {
        "id": "9kCWsaIO7uv3"
      },
      "source": [
        "#### With each numerical column, how are values distributed?"
      ]
    },
    {
      "cell_type": "code",
      "execution_count": 9,
      "metadata": {
        "colab": {
          "base_uri": "https://localhost:8080/",
          "height": 206
        },
        "id": "_r2zsoRi7uv3",
        "outputId": "54ebfc7e-20f0-4ba5-bbf6-95c2f2de23be"
      },
      "outputs": [
        {
          "data": {
            "text/html": [
              "<div>\n",
              "<style scoped>\n",
              "    .dataframe tbody tr th:only-of-type {\n",
              "        vertical-align: middle;\n",
              "    }\n",
              "\n",
              "    .dataframe tbody tr th {\n",
              "        vertical-align: top;\n",
              "    }\n",
              "\n",
              "    .dataframe thead th {\n",
              "        text-align: right;\n",
              "    }\n",
              "</style>\n",
              "<table border=\"1\" class=\"dataframe\">\n",
              "  <thead>\n",
              "    <tr style=\"text-align: right;\">\n",
              "      <th></th>\n",
              "      <th>price</th>\n",
              "      <th>aditional shipping price</th>\n",
              "    </tr>\n",
              "  </thead>\n",
              "  <tbody>\n",
              "    <tr>\n",
              "      <th>0</th>\n",
              "      <td>9080.0</td>\n",
              "      <td>140.0</td>\n",
              "    </tr>\n",
              "    <tr>\n",
              "      <th>1</th>\n",
              "      <td>16202.0</td>\n",
              "      <td>216.0</td>\n",
              "    </tr>\n",
              "    <tr>\n",
              "      <th>2</th>\n",
              "      <td>41567.0</td>\n",
              "      <td>0.0</td>\n",
              "    </tr>\n",
              "    <tr>\n",
              "      <th>3</th>\n",
              "      <td>19795.0</td>\n",
              "      <td>235.0</td>\n",
              "    </tr>\n",
              "    <tr>\n",
              "      <th>4</th>\n",
              "      <td>10674.0</td>\n",
              "      <td>145.0</td>\n",
              "    </tr>\n",
              "  </tbody>\n",
              "</table>\n",
              "</div>"
            ],
            "text/plain": [
              "     price  aditional shipping price\n",
              "0   9080.0                     140.0\n",
              "1  16202.0                     216.0\n",
              "2  41567.0                       0.0\n",
              "3  19795.0                     235.0\n",
              "4  10674.0                     145.0"
            ]
          },
          "execution_count": 9,
          "metadata": {},
          "output_type": "execute_result"
        }
      ],
      "source": [
        "numerical_cols = rolex_df.select_dtypes(include=np.number).copy()\n",
        "numerical_cols.head()"
      ]
    },
    {
      "cell_type": "markdown",
      "metadata": {
        "id": "i7TaLK3o7uv4"
      },
      "source": [
        "Proportion of missing values"
      ]
    },
    {
      "cell_type": "code",
      "execution_count": 10,
      "metadata": {
        "colab": {
          "base_uri": "https://localhost:8080/"
        },
        "id": "U5vxAM5M7uv4",
        "outputId": "07d38769-3839-4742-f3f3-96bbbe2b7f35"
      },
      "outputs": [
        {
          "data": {
            "text/plain": [
              "price                       6.271179\n",
              "aditional shipping price    0.000000\n",
              "dtype: float64"
            ]
          },
          "execution_count": 10,
          "metadata": {},
          "output_type": "execute_result"
        }
      ],
      "source": [
        "num_missing_percentages = (numerical_cols.isna()).sum() / rolex_df.shape[0] * 100\n",
        "num_missing_percentages"
      ]
    },
    {
      "attachments": {},
      "cell_type": "markdown",
      "metadata": {},
      "source": [
        "Describe numerical/categorical columns"
      ]
    },
    {
      "cell_type": "code",
      "execution_count": 11,
      "metadata": {},
      "outputs": [],
      "source": [
        "def describe__(df):\n",
        "    res_df = pd.DataFrame(columns=[df.columns])\n",
        "\n",
        "    try:\n",
        "        res_df.loc['missing_ratio'] = np.asarray(missing_percentages[df.columns])\n",
        "    except:\n",
        "        res_df.loc['missing_ratio'] = np.asarray((df.isna()).sum() / df.shape[0] * 100)\n",
        "        \n",
        "    res_df.loc['num_unique'] = np.asarray(df.nunique())\n",
        "    res_df.loc['unique'] = np.asarray([df[col].unique() for col in df], dtype=object)\n",
        "\n",
        "    return res_df"
      ]
    },
    {
      "cell_type": "markdown",
      "metadata": {
        "id": "ZcA7e5YI7uv4"
      },
      "source": [
        "Describe"
      ]
    },
    {
      "cell_type": "code",
      "execution_count": 12,
      "metadata": {
        "colab": {
          "base_uri": "https://localhost:8080/",
          "height": 300
        },
        "id": "hNCe1IBh7uv5",
        "outputId": "ffb1f69a-c404-4858-fa37-35db826b34f3"
      },
      "outputs": [
        {
          "data": {
            "text/html": [
              "<div>\n",
              "<style scoped>\n",
              "    .dataframe tbody tr th:only-of-type {\n",
              "        vertical-align: middle;\n",
              "    }\n",
              "\n",
              "    .dataframe tbody tr th {\n",
              "        vertical-align: top;\n",
              "    }\n",
              "\n",
              "    .dataframe thead th {\n",
              "        text-align: right;\n",
              "    }\n",
              "</style>\n",
              "<table border=\"1\" class=\"dataframe\">\n",
              "  <thead>\n",
              "    <tr style=\"text-align: right;\">\n",
              "      <th></th>\n",
              "      <th>price</th>\n",
              "      <th>aditional shipping price</th>\n",
              "    </tr>\n",
              "  </thead>\n",
              "  <tbody>\n",
              "    <tr>\n",
              "      <th>count</th>\n",
              "      <td>6.112900e+04</td>\n",
              "      <td>65219.000000</td>\n",
              "    </tr>\n",
              "    <tr>\n",
              "      <th>mean</th>\n",
              "      <td>2.276485e+04</td>\n",
              "      <td>134.830234</td>\n",
              "    </tr>\n",
              "    <tr>\n",
              "      <th>std</th>\n",
              "      <td>3.059692e+04</td>\n",
              "      <td>2580.042710</td>\n",
              "    </tr>\n",
              "    <tr>\n",
              "      <th>min</th>\n",
              "      <td>3.150000e+02</td>\n",
              "      <td>0.000000</td>\n",
              "    </tr>\n",
              "    <tr>\n",
              "      <th>25%</th>\n",
              "      <td>9.157000e+03</td>\n",
              "      <td>31.000000</td>\n",
              "    </tr>\n",
              "    <tr>\n",
              "      <th>50%</th>\n",
              "      <td>1.500000e+04</td>\n",
              "      <td>99.000000</td>\n",
              "    </tr>\n",
              "    <tr>\n",
              "      <th>75%</th>\n",
              "      <td>2.483300e+04</td>\n",
              "      <td>160.000000</td>\n",
              "    </tr>\n",
              "    <tr>\n",
              "      <th>max</th>\n",
              "      <td>1.152102e+06</td>\n",
              "      <td>656389.000000</td>\n",
              "    </tr>\n",
              "  </tbody>\n",
              "</table>\n",
              "</div>"
            ],
            "text/plain": [
              "              price  aditional shipping price\n",
              "count  6.112900e+04              65219.000000\n",
              "mean   2.276485e+04                134.830234\n",
              "std    3.059692e+04               2580.042710\n",
              "min    3.150000e+02                  0.000000\n",
              "25%    9.157000e+03                 31.000000\n",
              "50%    1.500000e+04                 99.000000\n",
              "75%    2.483300e+04                160.000000\n",
              "max    1.152102e+06             656389.000000"
            ]
          },
          "execution_count": 12,
          "metadata": {},
          "output_type": "execute_result"
        }
      ],
      "source": [
        "numerical_cols.describe()"
      ]
    },
    {
      "cell_type": "code",
      "execution_count": 13,
      "metadata": {},
      "outputs": [
        {
          "data": {
            "text/html": [
              "<div>\n",
              "<style scoped>\n",
              "    .dataframe tbody tr th:only-of-type {\n",
              "        vertical-align: middle;\n",
              "    }\n",
              "\n",
              "    .dataframe tbody tr th {\n",
              "        vertical-align: top;\n",
              "    }\n",
              "\n",
              "    .dataframe thead tr th {\n",
              "        text-align: left;\n",
              "    }\n",
              "</style>\n",
              "<table border=\"1\" class=\"dataframe\">\n",
              "  <thead>\n",
              "    <tr>\n",
              "      <th></th>\n",
              "      <th>price</th>\n",
              "      <th>aditional shipping price</th>\n",
              "    </tr>\n",
              "  </thead>\n",
              "  <tbody>\n",
              "    <tr>\n",
              "      <th>missing_ratio</th>\n",
              "      <td>6.271179</td>\n",
              "      <td>0.0</td>\n",
              "    </tr>\n",
              "    <tr>\n",
              "      <th>num_unique</th>\n",
              "      <td>15492.0</td>\n",
              "      <td>299.0</td>\n",
              "    </tr>\n",
              "    <tr>\n",
              "      <th>unique</th>\n",
              "      <td>[9080.0, 16202.0, 41567.0, 19795.0, 10674.0, 2...</td>\n",
              "      <td>[140.0, 216.0, 0.0, 235.0, 145.0, 75.0, 189.0,...</td>\n",
              "    </tr>\n",
              "  </tbody>\n",
              "</table>\n",
              "</div>"
            ],
            "text/plain": [
              "                                                           price  \\\n",
              "missing_ratio                                           6.271179   \n",
              "num_unique                                               15492.0   \n",
              "unique         [9080.0, 16202.0, 41567.0, 19795.0, 10674.0, 2...   \n",
              "\n",
              "                                        aditional shipping price  \n",
              "missing_ratio                                                0.0  \n",
              "num_unique                                                 299.0  \n",
              "unique         [140.0, 216.0, 0.0, 235.0, 145.0, 75.0, 189.0,...  "
            ]
          },
          "execution_count": 13,
          "metadata": {},
          "output_type": "execute_result"
        }
      ],
      "source": [
        "describe__(numerical_cols)"
      ]
    },
    {
      "cell_type": "markdown",
      "metadata": {
        "id": "WIz-j0aX7uv5"
      },
      "source": [
        "#### With each categorical column, how are values distributed?"
      ]
    },
    {
      "cell_type": "code",
      "execution_count": 14,
      "metadata": {
        "colab": {
          "base_uri": "https://localhost:8080/",
          "height": 389
        },
        "id": "q1Qe2YIk7uv5",
        "outputId": "3d7c1f80-9ab9-4c89-d8f2-0c873598adbf"
      },
      "outputs": [
        {
          "data": {
            "text/html": [
              "<div>\n",
              "<style scoped>\n",
              "    .dataframe tbody tr th:only-of-type {\n",
              "        vertical-align: middle;\n",
              "    }\n",
              "\n",
              "    .dataframe tbody tr th {\n",
              "        vertical-align: top;\n",
              "    }\n",
              "\n",
              "    .dataframe thead th {\n",
              "        text-align: right;\n",
              "    }\n",
              "</style>\n",
              "<table border=\"1\" class=\"dataframe\">\n",
              "  <thead>\n",
              "    <tr style=\"text-align: right;\">\n",
              "      <th></th>\n",
              "      <th>model</th>\n",
              "      <th>reference number</th>\n",
              "      <th>ad name</th>\n",
              "      <th>movement</th>\n",
              "      <th>case material</th>\n",
              "      <th>case diameter</th>\n",
              "      <th>year of production</th>\n",
              "      <th>condition</th>\n",
              "      <th>scope of delivery</th>\n",
              "      <th>location</th>\n",
              "    </tr>\n",
              "  </thead>\n",
              "  <tbody>\n",
              "    <tr>\n",
              "      <th>0</th>\n",
              "      <td>Rolex Lady-Datejust</td>\n",
              "      <td>179161</td>\n",
              "      <td>Steel Rose Gold Black Roman Dial Ladies Watch ...</td>\n",
              "      <td>Automatic</td>\n",
              "      <td>Steel</td>\n",
              "      <td>26 mm</td>\n",
              "      <td>2014.0</td>\n",
              "      <td>Very good</td>\n",
              "      <td>Original box, original papers</td>\n",
              "      <td>United States of America, Georgia</td>\n",
              "    </tr>\n",
              "    <tr>\n",
              "      <th>1</th>\n",
              "      <td>Rolex Chronograph</td>\n",
              "      <td>2917</td>\n",
              "      <td>REF. 2917</td>\n",
              "      <td>Manual winding</td>\n",
              "      <td>Steel</td>\n",
              "      <td>33 mm</td>\n",
              "      <td>1934.0</td>\n",
              "      <td>Very good</td>\n",
              "      <td>Original box, no original papers</td>\n",
              "      <td>Italy, Roma</td>\n",
              "    </tr>\n",
              "    <tr>\n",
              "      <th>2</th>\n",
              "      <td>Rolex Daytona</td>\n",
              "      <td>116519G</td>\n",
              "      <td>保証書付き ROLEX ロレックス デイトナ コスモグラフ K18WG 8Pダイヤ ランダム...</td>\n",
              "      <td>Automatic</td>\n",
              "      <td>White gold</td>\n",
              "      <td>39 mm</td>\n",
              "      <td>NaN</td>\n",
              "      <td>Fair</td>\n",
              "      <td>Original papers, no original box</td>\n",
              "      <td>Japan, Nagoya City</td>\n",
              "    </tr>\n",
              "    <tr>\n",
              "      <th>3</th>\n",
              "      <td>Rolex Submariner Date</td>\n",
              "      <td>116613</td>\n",
              "      <td>New Submariner 116613 Yellow Steel Gold Cerami...</td>\n",
              "      <td>Automatic</td>\n",
              "      <td>Steel</td>\n",
              "      <td>40 mm</td>\n",
              "      <td>2020.0</td>\n",
              "      <td>Unworn</td>\n",
              "      <td>Original box, original papers</td>\n",
              "      <td>United States of America, Florida, Miami</td>\n",
              "    </tr>\n",
              "    <tr>\n",
              "      <th>4</th>\n",
              "      <td>Rolex Submariner Date</td>\n",
              "      <td>16610</td>\n",
              "      <td>1990s ROLEX SUBMARINER 16610 Tritium vintage G...</td>\n",
              "      <td>Automatic</td>\n",
              "      <td>NaN</td>\n",
              "      <td>40 mm</td>\n",
              "      <td>1990.0</td>\n",
              "      <td>Good</td>\n",
              "      <td>Original box, original papers</td>\n",
              "      <td>Japan, Ehime yawatahama</td>\n",
              "    </tr>\n",
              "  </tbody>\n",
              "</table>\n",
              "</div>"
            ],
            "text/plain": [
              "                   model reference number  \\\n",
              "0    Rolex Lady-Datejust           179161   \n",
              "1      Rolex Chronograph             2917   \n",
              "2          Rolex Daytona          116519G   \n",
              "3  Rolex Submariner Date           116613   \n",
              "4  Rolex Submariner Date            16610   \n",
              "\n",
              "                                             ad name        movement  \\\n",
              "0  Steel Rose Gold Black Roman Dial Ladies Watch ...       Automatic   \n",
              "1                                          REF. 2917  Manual winding   \n",
              "2  保証書付き ROLEX ロレックス デイトナ コスモグラフ K18WG 8Pダイヤ ランダム...       Automatic   \n",
              "3  New Submariner 116613 Yellow Steel Gold Cerami...       Automatic   \n",
              "4  1990s ROLEX SUBMARINER 16610 Tritium vintage G...       Automatic   \n",
              "\n",
              "  case material case diameter year of production  condition  \\\n",
              "0         Steel         26 mm             2014.0  Very good   \n",
              "1         Steel         33 mm             1934.0  Very good   \n",
              "2    White gold         39 mm                NaN       Fair   \n",
              "3         Steel         40 mm             2020.0     Unworn   \n",
              "4           NaN         40 mm             1990.0       Good   \n",
              "\n",
              "                  scope of delivery                                  location  \n",
              "0     Original box, original papers         United States of America, Georgia  \n",
              "1  Original box, no original papers                               Italy, Roma  \n",
              "2  Original papers, no original box                        Japan, Nagoya City  \n",
              "3     Original box, original papers  United States of America, Florida, Miami  \n",
              "4     Original box, original papers                   Japan, Ehime yawatahama  "
            ]
          },
          "execution_count": 14,
          "metadata": {},
          "output_type": "execute_result"
        }
      ],
      "source": [
        "categorical_cols = rolex_df.select_dtypes(exclude=np.number).copy()\n",
        "categorical_cols.head()"
      ]
    },
    {
      "cell_type": "code",
      "execution_count": 15,
      "metadata": {},
      "outputs": [
        {
          "data": {
            "text/html": [
              "<div>\n",
              "<style scoped>\n",
              "    .dataframe tbody tr th:only-of-type {\n",
              "        vertical-align: middle;\n",
              "    }\n",
              "\n",
              "    .dataframe tbody tr th {\n",
              "        vertical-align: top;\n",
              "    }\n",
              "\n",
              "    .dataframe thead th {\n",
              "        text-align: right;\n",
              "    }\n",
              "</style>\n",
              "<table border=\"1\" class=\"dataframe\">\n",
              "  <thead>\n",
              "    <tr style=\"text-align: right;\">\n",
              "      <th></th>\n",
              "      <th>model</th>\n",
              "      <th>reference number</th>\n",
              "      <th>ad name</th>\n",
              "      <th>movement</th>\n",
              "      <th>case material</th>\n",
              "      <th>case diameter</th>\n",
              "      <th>year of production</th>\n",
              "      <th>condition</th>\n",
              "      <th>scope of delivery</th>\n",
              "      <th>location</th>\n",
              "    </tr>\n",
              "  </thead>\n",
              "  <tbody>\n",
              "    <tr>\n",
              "      <th>count</th>\n",
              "      <td>65219</td>\n",
              "      <td>63127</td>\n",
              "      <td>65161</td>\n",
              "      <td>62855</td>\n",
              "      <td>61721</td>\n",
              "      <td>62312</td>\n",
              "      <td>48335.0</td>\n",
              "      <td>64301</td>\n",
              "      <td>65219</td>\n",
              "      <td>65219</td>\n",
              "    </tr>\n",
              "    <tr>\n",
              "      <th>unique</th>\n",
              "      <td>58</td>\n",
              "      <td>4863</td>\n",
              "      <td>44292</td>\n",
              "      <td>3</td>\n",
              "      <td>13</td>\n",
              "      <td>643</td>\n",
              "      <td>111.0</td>\n",
              "      <td>7</td>\n",
              "      <td>4</td>\n",
              "      <td>4097</td>\n",
              "    </tr>\n",
              "    <tr>\n",
              "      <th>top</th>\n",
              "      <td>Rolex Datejust 36</td>\n",
              "      <td>126334</td>\n",
              "      <td>126334</td>\n",
              "      <td>Automatic</td>\n",
              "      <td>Steel</td>\n",
              "      <td>40 mm</td>\n",
              "      <td>2022.0</td>\n",
              "      <td>Very good</td>\n",
              "      <td>Original box, original papers</td>\n",
              "      <td>United States of America, New York, New York</td>\n",
              "    </tr>\n",
              "    <tr>\n",
              "      <th>freq</th>\n",
              "      <td>8026</td>\n",
              "      <td>1551</td>\n",
              "      <td>333</td>\n",
              "      <td>60696</td>\n",
              "      <td>35519</td>\n",
              "      <td>21627</td>\n",
              "      <td>12016.0</td>\n",
              "      <td>33768</td>\n",
              "      <td>41707</td>\n",
              "      <td>5303</td>\n",
              "    </tr>\n",
              "  </tbody>\n",
              "</table>\n",
              "</div>"
            ],
            "text/plain": [
              "                    model reference number ad name   movement case material  \\\n",
              "count               65219            63127   65161      62855         61721   \n",
              "unique                 58             4863   44292          3            13   \n",
              "top     Rolex Datejust 36           126334  126334  Automatic         Steel   \n",
              "freq                 8026             1551     333      60696         35519   \n",
              "\n",
              "       case diameter  year of production  condition  \\\n",
              "count          62312             48335.0      64301   \n",
              "unique           643               111.0          7   \n",
              "top            40 mm              2022.0  Very good   \n",
              "freq           21627             12016.0      33768   \n",
              "\n",
              "                    scope of delivery  \\\n",
              "count                           65219   \n",
              "unique                              4   \n",
              "top     Original box, original papers   \n",
              "freq                            41707   \n",
              "\n",
              "                                            location  \n",
              "count                                          65219  \n",
              "unique                                          4097  \n",
              "top     United States of America, New York, New York  \n",
              "freq                                            5303  "
            ]
          },
          "execution_count": 15,
          "metadata": {},
          "output_type": "execute_result"
        }
      ],
      "source": [
        "categorical_cols.describe()"
      ]
    },
    {
      "cell_type": "code",
      "execution_count": 16,
      "metadata": {},
      "outputs": [
        {
          "data": {
            "text/html": [
              "<div>\n",
              "<style scoped>\n",
              "    .dataframe tbody tr th:only-of-type {\n",
              "        vertical-align: middle;\n",
              "    }\n",
              "\n",
              "    .dataframe tbody tr th {\n",
              "        vertical-align: top;\n",
              "    }\n",
              "\n",
              "    .dataframe thead tr th {\n",
              "        text-align: left;\n",
              "    }\n",
              "</style>\n",
              "<table border=\"1\" class=\"dataframe\">\n",
              "  <thead>\n",
              "    <tr>\n",
              "      <th></th>\n",
              "      <th>model</th>\n",
              "      <th>reference number</th>\n",
              "      <th>ad name</th>\n",
              "      <th>movement</th>\n",
              "      <th>case material</th>\n",
              "      <th>case diameter</th>\n",
              "      <th>year of production</th>\n",
              "      <th>condition</th>\n",
              "      <th>scope of delivery</th>\n",
              "      <th>location</th>\n",
              "    </tr>\n",
              "  </thead>\n",
              "  <tbody>\n",
              "    <tr>\n",
              "      <th>missing_ratio</th>\n",
              "      <td>0.0</td>\n",
              "      <td>3.207654</td>\n",
              "      <td>0.088931</td>\n",
              "      <td>3.624711</td>\n",
              "      <td>5.363468</td>\n",
              "      <td>4.45729</td>\n",
              "      <td>25.888161</td>\n",
              "      <td>1.407565</td>\n",
              "      <td>0.0</td>\n",
              "      <td>0.0</td>\n",
              "    </tr>\n",
              "    <tr>\n",
              "      <th>num_unique</th>\n",
              "      <td>58.0</td>\n",
              "      <td>4863.0</td>\n",
              "      <td>44292.0</td>\n",
              "      <td>3.0</td>\n",
              "      <td>13.0</td>\n",
              "      <td>643.0</td>\n",
              "      <td>111.0</td>\n",
              "      <td>7.0</td>\n",
              "      <td>4.0</td>\n",
              "      <td>4097.0</td>\n",
              "    </tr>\n",
              "    <tr>\n",
              "      <th>unique</th>\n",
              "      <td>[Rolex Lady-Datejust, Rolex Chronograph, Rolex...</td>\n",
              "      <td>[179161, 2917, 116519G, 116613, 16610, 126331,...</td>\n",
              "      <td>[Steel Rose Gold Black Roman Dial Ladies Watch...</td>\n",
              "      <td>[Automatic, Manual winding, nan, Quartz]</td>\n",
              "      <td>[Steel, White gold, nan, Gold/Steel, Yellow go...</td>\n",
              "      <td>[26 mm, 33 mm, 39 mm, 40 mm, 41 mm, 36 mm, 31 ...</td>\n",
              "      <td>[2014.0, 1934.0, nan, 2020.0, 1990.0, 2022.0, ...</td>\n",
              "      <td>[Very good, Fair, Unworn, Good, New, nan, Poor...</td>\n",
              "      <td>[Original box, original papers, Original box, ...</td>\n",
              "      <td>[United States of America, Georgia, Italy, Rom...</td>\n",
              "    </tr>\n",
              "  </tbody>\n",
              "</table>\n",
              "</div>"
            ],
            "text/plain": [
              "                                                           model  \\\n",
              "missing_ratio                                                0.0   \n",
              "num_unique                                                  58.0   \n",
              "unique         [Rolex Lady-Datejust, Rolex Chronograph, Rolex...   \n",
              "\n",
              "                                                reference number  \\\n",
              "missing_ratio                                           3.207654   \n",
              "num_unique                                                4863.0   \n",
              "unique         [179161, 2917, 116519G, 116613, 16610, 126331,...   \n",
              "\n",
              "                                                         ad name  \\\n",
              "missing_ratio                                           0.088931   \n",
              "num_unique                                               44292.0   \n",
              "unique         [Steel Rose Gold Black Roman Dial Ladies Watch...   \n",
              "\n",
              "                                               movement  \\\n",
              "missing_ratio                                  3.624711   \n",
              "num_unique                                          3.0   \n",
              "unique         [Automatic, Manual winding, nan, Quartz]   \n",
              "\n",
              "                                                   case material  \\\n",
              "missing_ratio                                           5.363468   \n",
              "num_unique                                                  13.0   \n",
              "unique         [Steel, White gold, nan, Gold/Steel, Yellow go...   \n",
              "\n",
              "                                                   case diameter  \\\n",
              "missing_ratio                                            4.45729   \n",
              "num_unique                                                 643.0   \n",
              "unique         [26 mm, 33 mm, 39 mm, 40 mm, 41 mm, 36 mm, 31 ...   \n",
              "\n",
              "                                              year of production  \\\n",
              "missing_ratio                                          25.888161   \n",
              "num_unique                                                 111.0   \n",
              "unique         [2014.0, 1934.0, nan, 2020.0, 1990.0, 2022.0, ...   \n",
              "\n",
              "                                                       condition  \\\n",
              "missing_ratio                                           1.407565   \n",
              "num_unique                                                   7.0   \n",
              "unique         [Very good, Fair, Unworn, Good, New, nan, Poor...   \n",
              "\n",
              "                                               scope of delivery  \\\n",
              "missing_ratio                                                0.0   \n",
              "num_unique                                                   4.0   \n",
              "unique         [Original box, original papers, Original box, ...   \n",
              "\n",
              "                                                        location  \n",
              "missing_ratio                                                0.0  \n",
              "num_unique                                                4097.0  \n",
              "unique         [United States of America, Georgia, Italy, Rom...  "
            ]
          },
          "execution_count": 16,
          "metadata": {},
          "output_type": "execute_result"
        }
      ],
      "source": [
        "describe__(categorical_cols)"
      ]
    },
    {
      "cell_type": "markdown",
      "metadata": {
        "id": "nUe0_tAX7uv6"
      },
      "source": [
        "Percentage of missing values"
      ]
    },
    {
      "cell_type": "code",
      "execution_count": 17,
      "metadata": {
        "colab": {
          "base_uri": "https://localhost:8080/"
        },
        "id": "Jy9uLkl37uv6",
        "outputId": "c3239491-0040-4d68-b81c-a69f9fbee164"
      },
      "outputs": [
        {
          "data": {
            "text/plain": [
              "model                  0.000000\n",
              "reference number       3.207654\n",
              "ad name                0.088931\n",
              "movement               3.624711\n",
              "case material          5.363468\n",
              "case diameter          4.457290\n",
              "year of production    25.888161\n",
              "condition              1.407565\n",
              "scope of delivery      0.000000\n",
              "location               0.000000\n",
              "dtype: float64"
            ]
          },
          "execution_count": 17,
          "metadata": {},
          "output_type": "execute_result"
        }
      ],
      "source": [
        "cate_missing_percentages = (categorical_cols.isna()).sum() / rolex_df.shape[0] * 100\n",
        "cate_missing_percentages"
      ]
    },
    {
      "cell_type": "markdown",
      "metadata": {
        "id": "nP8UgtY57uv6"
      },
      "source": [
        "Number of different values"
      ]
    },
    {
      "cell_type": "code",
      "execution_count": 18,
      "metadata": {
        "colab": {
          "base_uri": "https://localhost:8080/"
        },
        "id": "RhmT5PBd7uv7",
        "outputId": "0cedd3d0-10d6-4e17-e402-7e64a831c69e"
      },
      "outputs": [
        {
          "data": {
            "text/plain": [
              "model                    58\n",
              "reference number       4863\n",
              "ad name               44292\n",
              "movement                  3\n",
              "case material            13\n",
              "case diameter           643\n",
              "year of production      111\n",
              "condition                 7\n",
              "scope of delivery         4\n",
              "location               4097\n",
              "dtype: int64"
            ]
          },
          "execution_count": 18,
          "metadata": {},
          "output_type": "execute_result"
        }
      ],
      "source": [
        "categorical_cols.nunique()"
      ]
    },
    {
      "cell_type": "markdown",
      "metadata": {
        "id": "1rR-FmoB7uv7"
      },
      "source": [
        "---"
      ]
    },
    {
      "cell_type": "markdown",
      "metadata": {
        "id": "XaZ6lexp7uv7"
      },
      "source": [
        "# Asking meaningful questions "
      ]
    },
    {
      "cell_type": "code",
      "execution_count": 19,
      "metadata": {
        "id": "FMo1Zlcj7uv7"
      },
      "outputs": [],
      "source": [
        "rolex_df.drop(columns = ['ad name'],inplace=True)\n",
        "rolex_df = rolex_df[rolex_df['model'] != 'Rolex']"
      ]
    },
    {
      "cell_type": "code",
      "execution_count": 20,
      "metadata": {
        "colab": {
          "base_uri": "https://localhost:8080/",
          "height": 354
        },
        "id": "oMus5hDl7uv8",
        "outputId": "1511b505-1003-4b60-b389-4bbdd94bd0aa"
      },
      "outputs": [
        {
          "data": {
            "text/html": [
              "<div>\n",
              "<style scoped>\n",
              "    .dataframe tbody tr th:only-of-type {\n",
              "        vertical-align: middle;\n",
              "    }\n",
              "\n",
              "    .dataframe tbody tr th {\n",
              "        vertical-align: top;\n",
              "    }\n",
              "\n",
              "    .dataframe thead th {\n",
              "        text-align: right;\n",
              "    }\n",
              "</style>\n",
              "<table border=\"1\" class=\"dataframe\">\n",
              "  <thead>\n",
              "    <tr style=\"text-align: right;\">\n",
              "      <th></th>\n",
              "      <th>model</th>\n",
              "      <th>reference number</th>\n",
              "      <th>price</th>\n",
              "      <th>aditional shipping price</th>\n",
              "      <th>movement</th>\n",
              "      <th>case material</th>\n",
              "      <th>case diameter</th>\n",
              "      <th>year of production</th>\n",
              "      <th>condition</th>\n",
              "      <th>scope of delivery</th>\n",
              "      <th>location</th>\n",
              "    </tr>\n",
              "  </thead>\n",
              "  <tbody>\n",
              "    <tr>\n",
              "      <th>0</th>\n",
              "      <td>Rolex Lady-Datejust</td>\n",
              "      <td>179161</td>\n",
              "      <td>9080.0</td>\n",
              "      <td>140.0</td>\n",
              "      <td>Automatic</td>\n",
              "      <td>Steel</td>\n",
              "      <td>26 mm</td>\n",
              "      <td>2014.0</td>\n",
              "      <td>Very good</td>\n",
              "      <td>Original box, original papers</td>\n",
              "      <td>United States of America, Georgia</td>\n",
              "    </tr>\n",
              "    <tr>\n",
              "      <th>1</th>\n",
              "      <td>Rolex Chronograph</td>\n",
              "      <td>2917</td>\n",
              "      <td>16202.0</td>\n",
              "      <td>216.0</td>\n",
              "      <td>Manual winding</td>\n",
              "      <td>Steel</td>\n",
              "      <td>33 mm</td>\n",
              "      <td>1934.0</td>\n",
              "      <td>Very good</td>\n",
              "      <td>Original box, no original papers</td>\n",
              "      <td>Italy, Roma</td>\n",
              "    </tr>\n",
              "    <tr>\n",
              "      <th>2</th>\n",
              "      <td>Rolex Daytona</td>\n",
              "      <td>116519G</td>\n",
              "      <td>41567.0</td>\n",
              "      <td>0.0</td>\n",
              "      <td>Automatic</td>\n",
              "      <td>White gold</td>\n",
              "      <td>39 mm</td>\n",
              "      <td>NaN</td>\n",
              "      <td>Fair</td>\n",
              "      <td>Original papers, no original box</td>\n",
              "      <td>Japan, Nagoya City</td>\n",
              "    </tr>\n",
              "    <tr>\n",
              "      <th>3</th>\n",
              "      <td>Rolex Submariner Date</td>\n",
              "      <td>116613</td>\n",
              "      <td>19795.0</td>\n",
              "      <td>235.0</td>\n",
              "      <td>Automatic</td>\n",
              "      <td>Steel</td>\n",
              "      <td>40 mm</td>\n",
              "      <td>2020.0</td>\n",
              "      <td>Unworn</td>\n",
              "      <td>Original box, original papers</td>\n",
              "      <td>United States of America, Florida, Miami</td>\n",
              "    </tr>\n",
              "    <tr>\n",
              "      <th>4</th>\n",
              "      <td>Rolex Submariner Date</td>\n",
              "      <td>16610</td>\n",
              "      <td>10674.0</td>\n",
              "      <td>145.0</td>\n",
              "      <td>Automatic</td>\n",
              "      <td>NaN</td>\n",
              "      <td>40 mm</td>\n",
              "      <td>1990.0</td>\n",
              "      <td>Good</td>\n",
              "      <td>Original box, original papers</td>\n",
              "      <td>Japan, Ehime yawatahama</td>\n",
              "    </tr>\n",
              "  </tbody>\n",
              "</table>\n",
              "</div>"
            ],
            "text/plain": [
              "                   model reference number    price  aditional shipping price  \\\n",
              "0    Rolex Lady-Datejust           179161   9080.0                     140.0   \n",
              "1      Rolex Chronograph             2917  16202.0                     216.0   \n",
              "2          Rolex Daytona          116519G  41567.0                       0.0   \n",
              "3  Rolex Submariner Date           116613  19795.0                     235.0   \n",
              "4  Rolex Submariner Date            16610  10674.0                     145.0   \n",
              "\n",
              "         movement case material case diameter year of production  condition  \\\n",
              "0       Automatic         Steel         26 mm             2014.0  Very good   \n",
              "1  Manual winding         Steel         33 mm             1934.0  Very good   \n",
              "2       Automatic    White gold         39 mm                NaN       Fair   \n",
              "3       Automatic         Steel         40 mm             2020.0     Unworn   \n",
              "4       Automatic           NaN         40 mm             1990.0       Good   \n",
              "\n",
              "                  scope of delivery                                  location  \n",
              "0     Original box, original papers         United States of America, Georgia  \n",
              "1  Original box, no original papers                               Italy, Roma  \n",
              "2  Original papers, no original box                        Japan, Nagoya City  \n",
              "3     Original box, original papers  United States of America, Florida, Miami  \n",
              "4     Original box, original papers                   Japan, Ehime yawatahama  "
            ]
          },
          "execution_count": 20,
          "metadata": {},
          "output_type": "execute_result"
        }
      ],
      "source": [
        "rolex_df.reset_index(drop=True,inplace = True)\n",
        "rolex_df.head()"
      ]
    },
    {
      "cell_type": "markdown",
      "metadata": {
        "id": "yD4Gm8Lv7uv9"
      },
      "source": [
        "Check if dataset still consists missing values"
      ]
    },
    {
      "cell_type": "code",
      "execution_count": 21,
      "metadata": {
        "colab": {
          "base_uri": "https://localhost:8080/"
        },
        "id": "RenkXnZj7uv9",
        "outputId": "2412bac6-d333-4def-ba00-a81e6f1b23c0"
      },
      "outputs": [
        {
          "data": {
            "text/plain": [
              "model                        0.000000\n",
              "reference number             2.672060\n",
              "price                        6.321740\n",
              "aditional shipping price     0.000000\n",
              "movement                     3.574719\n",
              "case material                5.241048\n",
              "case diameter                4.289975\n",
              "year of production          25.630534\n",
              "condition                    1.361798\n",
              "scope of delivery            0.000000\n",
              "location                     0.000000\n",
              "dtype: float64"
            ]
          },
          "execution_count": 21,
          "metadata": {},
          "output_type": "execute_result"
        }
      ],
      "source": [
        "missing_percentages = rolex_df.isna().sum()/rolex_df.shape[0]*100\n",
        "missing_percentages"
      ]
    },
    {
      "cell_type": "code",
      "execution_count": 22,
      "metadata": {},
      "outputs": [
        {
          "data": {
            "text/html": [
              "<div>\n",
              "<style scoped>\n",
              "    .dataframe tbody tr th:only-of-type {\n",
              "        vertical-align: middle;\n",
              "    }\n",
              "\n",
              "    .dataframe tbody tr th {\n",
              "        vertical-align: top;\n",
              "    }\n",
              "\n",
              "    .dataframe thead th {\n",
              "        text-align: right;\n",
              "    }\n",
              "</style>\n",
              "<table border=\"1\" class=\"dataframe\">\n",
              "  <thead>\n",
              "    <tr style=\"text-align: right;\">\n",
              "      <th></th>\n",
              "      <th>model</th>\n",
              "      <th>reference number</th>\n",
              "      <th>movement</th>\n",
              "      <th>case material</th>\n",
              "      <th>case diameter</th>\n",
              "      <th>year of production</th>\n",
              "      <th>condition</th>\n",
              "      <th>scope of delivery</th>\n",
              "      <th>location</th>\n",
              "    </tr>\n",
              "  </thead>\n",
              "  <tbody>\n",
              "    <tr>\n",
              "      <th>0</th>\n",
              "      <td>Rolex Lady-Datejust</td>\n",
              "      <td>179161</td>\n",
              "      <td>Automatic</td>\n",
              "      <td>Steel</td>\n",
              "      <td>26 mm</td>\n",
              "      <td>2014.0</td>\n",
              "      <td>Very good</td>\n",
              "      <td>Original box, original papers</td>\n",
              "      <td>United States of America, Georgia</td>\n",
              "    </tr>\n",
              "    <tr>\n",
              "      <th>1</th>\n",
              "      <td>Rolex Chronograph</td>\n",
              "      <td>2917</td>\n",
              "      <td>Manual winding</td>\n",
              "      <td>Steel</td>\n",
              "      <td>33 mm</td>\n",
              "      <td>1934.0</td>\n",
              "      <td>Very good</td>\n",
              "      <td>Original box, no original papers</td>\n",
              "      <td>Italy, Roma</td>\n",
              "    </tr>\n",
              "    <tr>\n",
              "      <th>2</th>\n",
              "      <td>Rolex Daytona</td>\n",
              "      <td>116519G</td>\n",
              "      <td>Automatic</td>\n",
              "      <td>White gold</td>\n",
              "      <td>39 mm</td>\n",
              "      <td>NaN</td>\n",
              "      <td>Fair</td>\n",
              "      <td>Original papers, no original box</td>\n",
              "      <td>Japan, Nagoya City</td>\n",
              "    </tr>\n",
              "  </tbody>\n",
              "</table>\n",
              "</div>"
            ],
            "text/plain": [
              "                 model reference number        movement case material  \\\n",
              "0  Rolex Lady-Datejust           179161       Automatic         Steel   \n",
              "1    Rolex Chronograph             2917  Manual winding         Steel   \n",
              "2        Rolex Daytona          116519G       Automatic    White gold   \n",
              "\n",
              "  case diameter year of production  condition  \\\n",
              "0         26 mm             2014.0  Very good   \n",
              "1         33 mm             1934.0  Very good   \n",
              "2         39 mm                NaN       Fair   \n",
              "\n",
              "                  scope of delivery                           location  \n",
              "0     Original box, original papers  United States of America, Georgia  \n",
              "1  Original box, no original papers                        Italy, Roma  \n",
              "2  Original papers, no original box                 Japan, Nagoya City  "
            ]
          },
          "execution_count": 22,
          "metadata": {},
          "output_type": "execute_result"
        }
      ],
      "source": [
        "# remove ad name from categorical columns\n",
        "new_cat_cols = pd.DataFrame(categorical_cols.drop(columns = ['ad name'],inplace=False))\n",
        "new_cat_cols.head(3)"
      ]
    },
    {
      "attachments": {},
      "cell_type": "markdown",
      "metadata": {},
      "source": [
        "Take a look at categorical/numerical columns missing ratio and unique values "
      ]
    },
    {
      "attachments": {},
      "cell_type": "markdown",
      "metadata": {},
      "source": [
        "numerical columns"
      ]
    },
    {
      "cell_type": "code",
      "execution_count": 23,
      "metadata": {},
      "outputs": [
        {
          "data": {
            "text/html": [
              "<div>\n",
              "<style scoped>\n",
              "    .dataframe tbody tr th:only-of-type {\n",
              "        vertical-align: middle;\n",
              "    }\n",
              "\n",
              "    .dataframe tbody tr th {\n",
              "        vertical-align: top;\n",
              "    }\n",
              "\n",
              "    .dataframe thead tr th {\n",
              "        text-align: left;\n",
              "    }\n",
              "</style>\n",
              "<table border=\"1\" class=\"dataframe\">\n",
              "  <thead>\n",
              "    <tr>\n",
              "      <th></th>\n",
              "      <th>price</th>\n",
              "      <th>aditional shipping price</th>\n",
              "    </tr>\n",
              "  </thead>\n",
              "  <tbody>\n",
              "    <tr>\n",
              "      <th>missing_ratio</th>\n",
              "      <td>6.32174</td>\n",
              "      <td>0.0</td>\n",
              "    </tr>\n",
              "    <tr>\n",
              "      <th>num_unique</th>\n",
              "      <td>15492.0</td>\n",
              "      <td>299.0</td>\n",
              "    </tr>\n",
              "    <tr>\n",
              "      <th>unique</th>\n",
              "      <td>[9080.0, 16202.0, 41567.0, 19795.0, 10674.0, 2...</td>\n",
              "      <td>[140.0, 216.0, 0.0, 235.0, 145.0, 75.0, 189.0,...</td>\n",
              "    </tr>\n",
              "  </tbody>\n",
              "</table>\n",
              "</div>"
            ],
            "text/plain": [
              "                                                           price  \\\n",
              "missing_ratio                                            6.32174   \n",
              "num_unique                                               15492.0   \n",
              "unique         [9080.0, 16202.0, 41567.0, 19795.0, 10674.0, 2...   \n",
              "\n",
              "                                        aditional shipping price  \n",
              "missing_ratio                                                0.0  \n",
              "num_unique                                                 299.0  \n",
              "unique         [140.0, 216.0, 0.0, 235.0, 145.0, 75.0, 189.0,...  "
            ]
          },
          "execution_count": 23,
          "metadata": {},
          "output_type": "execute_result"
        }
      ],
      "source": [
        "describe__(numerical_cols)"
      ]
    },
    {
      "attachments": {},
      "cell_type": "markdown",
      "metadata": {},
      "source": [
        "new categorical columns (remove ad name)"
      ]
    },
    {
      "cell_type": "code",
      "execution_count": 24,
      "metadata": {},
      "outputs": [
        {
          "data": {
            "text/html": [
              "<div>\n",
              "<style scoped>\n",
              "    .dataframe tbody tr th:only-of-type {\n",
              "        vertical-align: middle;\n",
              "    }\n",
              "\n",
              "    .dataframe tbody tr th {\n",
              "        vertical-align: top;\n",
              "    }\n",
              "\n",
              "    .dataframe thead tr th {\n",
              "        text-align: left;\n",
              "    }\n",
              "</style>\n",
              "<table border=\"1\" class=\"dataframe\">\n",
              "  <thead>\n",
              "    <tr>\n",
              "      <th></th>\n",
              "      <th>model</th>\n",
              "      <th>reference number</th>\n",
              "      <th>movement</th>\n",
              "      <th>case material</th>\n",
              "      <th>case diameter</th>\n",
              "      <th>year of production</th>\n",
              "      <th>condition</th>\n",
              "      <th>scope of delivery</th>\n",
              "      <th>location</th>\n",
              "    </tr>\n",
              "  </thead>\n",
              "  <tbody>\n",
              "    <tr>\n",
              "      <th>missing_ratio</th>\n",
              "      <td>0.0</td>\n",
              "      <td>2.67206</td>\n",
              "      <td>3.574719</td>\n",
              "      <td>5.241048</td>\n",
              "      <td>4.289975</td>\n",
              "      <td>25.630534</td>\n",
              "      <td>1.361798</td>\n",
              "      <td>0.0</td>\n",
              "      <td>0.0</td>\n",
              "    </tr>\n",
              "    <tr>\n",
              "      <th>num_unique</th>\n",
              "      <td>58.0</td>\n",
              "      <td>4863.0</td>\n",
              "      <td>3.0</td>\n",
              "      <td>13.0</td>\n",
              "      <td>643.0</td>\n",
              "      <td>111.0</td>\n",
              "      <td>7.0</td>\n",
              "      <td>4.0</td>\n",
              "      <td>4097.0</td>\n",
              "    </tr>\n",
              "    <tr>\n",
              "      <th>unique</th>\n",
              "      <td>[Rolex Lady-Datejust, Rolex Chronograph, Rolex...</td>\n",
              "      <td>[179161, 2917, 116519G, 116613, 16610, 126331,...</td>\n",
              "      <td>[Automatic, Manual winding, nan, Quartz]</td>\n",
              "      <td>[Steel, White gold, nan, Gold/Steel, Yellow go...</td>\n",
              "      <td>[26 mm, 33 mm, 39 mm, 40 mm, 41 mm, 36 mm, 31 ...</td>\n",
              "      <td>[2014.0, 1934.0, nan, 2020.0, 1990.0, 2022.0, ...</td>\n",
              "      <td>[Very good, Fair, Unworn, Good, New, nan, Poor...</td>\n",
              "      <td>[Original box, original papers, Original box, ...</td>\n",
              "      <td>[United States of America, Georgia, Italy, Rom...</td>\n",
              "    </tr>\n",
              "  </tbody>\n",
              "</table>\n",
              "</div>"
            ],
            "text/plain": [
              "                                                           model  \\\n",
              "missing_ratio                                                0.0   \n",
              "num_unique                                                  58.0   \n",
              "unique         [Rolex Lady-Datejust, Rolex Chronograph, Rolex...   \n",
              "\n",
              "                                                reference number  \\\n",
              "missing_ratio                                            2.67206   \n",
              "num_unique                                                4863.0   \n",
              "unique         [179161, 2917, 116519G, 116613, 16610, 126331,...   \n",
              "\n",
              "                                               movement  \\\n",
              "missing_ratio                                  3.574719   \n",
              "num_unique                                          3.0   \n",
              "unique         [Automatic, Manual winding, nan, Quartz]   \n",
              "\n",
              "                                                   case material  \\\n",
              "missing_ratio                                           5.241048   \n",
              "num_unique                                                  13.0   \n",
              "unique         [Steel, White gold, nan, Gold/Steel, Yellow go...   \n",
              "\n",
              "                                                   case diameter  \\\n",
              "missing_ratio                                           4.289975   \n",
              "num_unique                                                 643.0   \n",
              "unique         [26 mm, 33 mm, 39 mm, 40 mm, 41 mm, 36 mm, 31 ...   \n",
              "\n",
              "                                              year of production  \\\n",
              "missing_ratio                                          25.630534   \n",
              "num_unique                                                 111.0   \n",
              "unique         [2014.0, 1934.0, nan, 2020.0, 1990.0, 2022.0, ...   \n",
              "\n",
              "                                                       condition  \\\n",
              "missing_ratio                                           1.361798   \n",
              "num_unique                                                   7.0   \n",
              "unique         [Very good, Fair, Unworn, Good, New, nan, Poor...   \n",
              "\n",
              "                                               scope of delivery  \\\n",
              "missing_ratio                                                0.0   \n",
              "num_unique                                                   4.0   \n",
              "unique         [Original box, original papers, Original box, ...   \n",
              "\n",
              "                                                        location  \n",
              "missing_ratio                                                0.0  \n",
              "num_unique                                                4097.0  \n",
              "unique         [United States of America, Georgia, Italy, Rom...  "
            ]
          },
          "execution_count": 24,
          "metadata": {},
          "output_type": "execute_result"
        }
      ],
      "source": [
        "describe__(new_cat_cols)"
      ]
    },
    {
      "cell_type": "markdown",
      "metadata": {
        "id": "_TJ_0Joi7uv-"
      },
      "source": [
        "### Question 1 : How can we know if we had bought a great deal (Our team will create a model to predict price of watch) \n",
        "Have you ever wanted to buy a watch but you do not know that the price of the thing that you found is cheap or expensive. That is the reason why we want to ask this question is that our team was in this situations multiple times. We find that it is really time consuming when you have to find the things which we want to buy at a good price. Therefore, we will create a model that can help us and other people who want to buy Rolex save time from searching for a great deal. And if we can solve this problem, we can use this model to predict price of various things not only Rolex watches."
      ]
    },
    {
      "attachments": {},
      "cell_type": "markdown",
      "metadata": {},
      "source": [
        "Class to preprocess data"
      ]
    },
    {
      "cell_type": "code",
      "execution_count": 165,
      "metadata": {
        "id": "gnGZd2C27uv-"
      },
      "outputs": [],
      "source": [
        "class preprocess(BaseEstimator, TransformerMixin):\n",
        "    def fit(self, X_df, y=None):\n",
        "        return self\n",
        "        \n",
        "    def transform (self, X_df):\n",
        "        out_df = X_df.copy()\n",
        "    \n",
        "        #Remove watch's size in model name\n",
        "        out_df['model'].replace(regex = True,to_replace = r\"[0-9]\",value = '',inplace= True)\n",
        "\n",
        "        # #Get true size of case\n",
        "        out_df['case diameter'] = out_df['case diameter'].str.extract(r'(^[\\d][\\d])')\n",
        "\n",
        "        #Preprocess ref number because some ref num are in wrong format (including characters,etc) \n",
        "\n",
        "        tmp = out_df['reference number'].str.extract(r'(\\d+[-]\\d+)|(\\d+)')\n",
        "        tmp[0].fillna(tmp[1],inplace=True)\n",
        "        out_df['reference number'] = tmp[0]\n",
        "\n",
        "        #Replace all Nan with Unknown\n",
        "        out_df['reference number'].replace(regex = True,to_replace = \"\",value = 'Unknown',inplace= True)\n",
        "\n",
        "        out_df['year of production'] = out_df['year of production'].astype(np.number)\n",
        "        out_df.loc[out_df['year of production'] < 1905, 'year of production' ] = np.nan\n",
        "        out_df['year of production'] = out_df['year of production'].astype('object')\n",
        "\n",
        "        model_list = out_df['model'].unique()\n",
        "        for i in model_list:\n",
        "            try:\n",
        "                out_df[out_df['model'] == i]['price'].fillna(value = out_df[out_df['model'] == i]['price'].mean())\n",
        "            except:\n",
        "                pass\n",
        "            try :\n",
        "                out_df[out_df['model'] == i] = out_df[out_df['model'] == i].fillna(out_df[out_df['model'] == i].mode().iloc[0])\n",
        "            except:\n",
        "                pass\n",
        "        return out_df"
      ]
    },
    {
      "cell_type": "markdown",
      "metadata": {
        "id": "g2MvBQss7uv-"
      },
      "source": [
        "Split data"
      ]
    },
    {
      "cell_type": "code",
      "execution_count": 120,
      "metadata": {
        "id": "KSlz62DV7uv_"
      },
      "outputs": [],
      "source": [
        "tmp  = rolex_df[['model', 'reference number', 'price',\n",
        "       'movement', 'case material', 'case diameter', 'year of production',\n",
        "       'condition', 'scope of delivery']].copy()\n",
        "\n",
        "X_train, X_test= train_test_split(tmp, test_size=0.2, random_state=0)\n",
        "X_train = preprocess().transform(X_train)\n",
        "Y_train = X_train['price']\n",
        "X_train.drop(\"price\", axis=1,inplace=True)\n",
        "\n",
        "X_test = preprocess().transform(X_test)\n",
        "Y_test = X_test['price']\n",
        "X_test.drop(\"price\", axis=1,inplace=True)"
      ]
    },
    {
      "attachments": {},
      "cell_type": "markdown",
      "metadata": {},
      "source": [
        "Create pipleline "
      ]
    },
    {
      "cell_type": "code",
      "execution_count": 173,
      "metadata": {
        "id": "9nJpxiEj7uv_"
      },
      "outputs": [],
      "source": [
        "categorical_cols = X_train.select_dtypes(exclude=np.number).columns\n",
        "numerical_cols = X_train.select_dtypes(include = np.number).columns\n",
        "\n",
        "ohe = OneHotEncoder(handle_unknown='ignore',sparse_output=False)\n",
        "scaler = StandardScaler()\n",
        "\n",
        "numerics_pipeline = make_pipeline(scaler)\n",
        "categorical_pipeline = make_pipeline(ohe,scaler)\n",
        "\n",
        "col_transformer = make_column_transformer(\n",
        "    (numerics_pipeline,numerical_cols),\n",
        "    (categorical_pipeline,categorical_cols),\n",
        "    remainder='passthrough')\n",
        "preprocess_pipeline = make_pipeline(preprocess(), col_transformer)\n"
      ]
    },
    {
      "cell_type": "markdown",
      "metadata": {
        "id": "bWibPIE67uv_"
      },
      "source": [
        "Predict"
      ]
    },
    {
      "cell_type": "code",
      "execution_count": 123,
      "metadata": {
        "colab": {
          "base_uri": "https://localhost:8080/"
        },
        "id": "1GwAKBWq7uwA",
        "outputId": "ad6f26ca-a000-4ed2-a593-8e3b253b8677"
      },
      "outputs": [
        {
          "name": "stderr",
          "output_type": "stream",
          "text": [
            "[Parallel(n_jobs=-1)]: Using backend ThreadingBackend with 12 concurrent workers.\n",
            "[Parallel(n_jobs=-1)]: Done  26 tasks      | elapsed:  1.9min\n",
            "[Parallel(n_jobs=-1)]: Done 100 out of 100 | elapsed:  6.5min finished\n",
            "[Parallel(n_jobs=12)]: Using backend ThreadingBackend with 12 concurrent workers.\n",
            "[Parallel(n_jobs=12)]: Done  26 tasks      | elapsed:    0.0s\n",
            "[Parallel(n_jobs=12)]: Done 100 out of 100 | elapsed:    0.1s finished\n"
          ]
        }
      ],
      "source": [
        "full_pipeline = make_pipeline(preprocess_pipeline,RandomForestRegressor(n_jobs = -1,verbose = True))\n",
        "clf = full_pipeline.fit(X_train,Y_train)\n",
        "predict_y = clf.predict(X_test)"
      ]
    },
    {
      "attachments": {},
      "cell_type": "markdown",
      "metadata": {},
      "source": [
        "Accuracy"
      ]
    },
    {
      "attachments": {},
      "cell_type": "markdown",
      "metadata": {},
      "source": [
        "RMSE"
      ]
    },
    {
      "cell_type": "code",
      "execution_count": 124,
      "metadata": {
        "colab": {
          "base_uri": "https://localhost:8080/"
        },
        "id": "b5bcdtIl7uwA",
        "outputId": "a1f70df3-77b3-4333-8d7e-9d4a4d2c2392"
      },
      "outputs": [
        {
          "data": {
            "text/plain": [
              "17937.516284287634"
            ]
          },
          "execution_count": 124,
          "metadata": {},
          "output_type": "execute_result"
        }
      ],
      "source": [
        "from sklearn.metrics import mean_squared_error,r2_score\n",
        "from math import sqrt\n",
        "sqrt(mean_squared_error(predict_y, Y_test))"
      ]
    },
    {
      "attachments": {},
      "cell_type": "markdown",
      "metadata": {},
      "source": [
        "R^2 score"
      ]
    },
    {
      "cell_type": "code",
      "execution_count": 125,
      "metadata": {
        "colab": {
          "base_uri": "https://localhost:8080/"
        },
        "id": "P_T6m4e6yFY3",
        "outputId": "16eba952-0209-4b55-c305-8ec3e4d69a2f"
      },
      "outputs": [
        {
          "data": {
            "text/plain": [
              "0.6503166163593237"
            ]
          },
          "execution_count": 125,
          "metadata": {},
          "output_type": "execute_result"
        }
      ],
      "source": [
        "r2_score(Y_test,predict_y)\n"
      ]
    },
    {
      "attachments": {},
      "cell_type": "markdown",
      "metadata": {},
      "source": [
        "Test accuracy"
      ]
    },
    {
      "cell_type": "code",
      "execution_count": 126,
      "metadata": {
        "colab": {
          "base_uri": "https://localhost:8080/"
        },
        "id": "Pt53RuJn28AS",
        "outputId": "04c18a99-b762-4f1c-94e5-7fd2f01b9ff3"
      },
      "outputs": [
        {
          "name": "stderr",
          "output_type": "stream",
          "text": [
            "[Parallel(n_jobs=12)]: Using backend ThreadingBackend with 12 concurrent workers.\n",
            "[Parallel(n_jobs=12)]: Done  26 tasks      | elapsed:    0.0s\n",
            "[Parallel(n_jobs=12)]: Done 100 out of 100 | elapsed:    0.2s finished\n"
          ]
        },
        {
          "data": {
            "text/plain": [
              "0.6503166163593237"
            ]
          },
          "execution_count": 126,
          "metadata": {},
          "output_type": "execute_result"
        }
      ],
      "source": [
        "clf.score(X_test,Y_test)"
      ]
    },
    {
      "attachments": {},
      "cell_type": "markdown",
      "metadata": {},
      "source": [
        "Train accuracy"
      ]
    },
    {
      "cell_type": "code",
      "execution_count": 127,
      "metadata": {
        "colab": {
          "base_uri": "https://localhost:8080/"
        },
        "id": "UXZt7Ct28LRQ",
        "outputId": "92ea5909-220a-4985-d95e-b5915970890f"
      },
      "outputs": [
        {
          "name": "stderr",
          "output_type": "stream",
          "text": [
            "[Parallel(n_jobs=12)]: Using backend ThreadingBackend with 12 concurrent workers.\n",
            "[Parallel(n_jobs=12)]: Done  26 tasks      | elapsed:    0.2s\n",
            "[Parallel(n_jobs=12)]: Done 100 out of 100 | elapsed:    1.0s finished\n"
          ]
        },
        {
          "data": {
            "text/plain": [
              "0.8683035147997937"
            ]
          },
          "execution_count": 127,
          "metadata": {},
          "output_type": "execute_result"
        }
      ],
      "source": [
        "clf.score(X_train,Y_train)"
      ]
    },
    {
      "attachments": {},
      "cell_type": "markdown",
      "metadata": {},
      "source": [
        "Test model"
      ]
    },
    {
      "attachments": {},
      "cell_type": "markdown",
      "metadata": {},
      "source": [
        "Price of this watch is 12825$"
      ]
    },
    {
      "cell_type": "code",
      "execution_count": 205,
      "metadata": {},
      "outputs": [],
      "source": [
        "Rolex_test = pd.read_csv('test_model.csv')\n"
      ]
    },
    {
      "cell_type": "code",
      "execution_count": 206,
      "metadata": {},
      "outputs": [],
      "source": [
        "df3 = pd.concat([Rolex_test, X_test], ignore_index = True)"
      ]
    },
    {
      "cell_type": "code",
      "execution_count": 207,
      "metadata": {},
      "outputs": [
        {
          "name": "stderr",
          "output_type": "stream",
          "text": [
            "[Parallel(n_jobs=12)]: Using backend ThreadingBackend with 12 concurrent workers.\n",
            "[Parallel(n_jobs=12)]: Done  26 tasks      | elapsed:    0.0s\n",
            "[Parallel(n_jobs=12)]: Done 100 out of 100 | elapsed:    0.2s finished\n"
          ]
        },
        {
          "data": {
            "text/plain": [
              "13352.536412916244"
            ]
          },
          "execution_count": 207,
          "metadata": {},
          "output_type": "execute_result"
        }
      ],
      "source": [
        "clf.predict(df3)[0]"
      ]
    },
    {
      "attachments": {},
      "cell_type": "markdown",
      "metadata": {},
      "source": [
        "#### Conclusion"
      ]
    },
    {
      "attachments": {},
      "cell_type": "markdown",
      "metadata": {},
      "source": [
        "- The accuracy on test set is about **65% and on the training set is approximately 87%**. The model still gives an acceptable prediction on the price of the test watch,although the accuracy of our model on test set is not really high. The true price is 12825$ and the predicted price is about 13352$, i think we can count on this model for the next time when we want to but a new Rolex. \n",
        "- We also tried to stack various models in order to increase the accuracy, but it only enhanced about 2-3% and took too long to run (about 2-3 hours running on Google Colab). That is the reason why on this report we only use the RandomForestRegressor.\n"
      ]
    },
    {
      "attachments": {},
      "cell_type": "markdown",
      "metadata": {},
      "source": [
        "## Question 2\n",
        "- How Rolex manufacture their watches over the years (movement, case material) ?\n",
        "- By answering this question, we will know a bit more about how Rolex manufacture their watches to satisfy the needs or their customers over the years"
      ]
    },
    {
      "attachments": {},
      "cell_type": "markdown",
      "metadata": {},
      "source": [
        "### Double check if there are any abnormal values"
      ]
    },
    {
      "attachments": {},
      "cell_type": "markdown",
      "metadata": {},
      "source": [
        "- Get a copy of original data"
      ]
    },
    {
      "cell_type": "code",
      "execution_count": 104,
      "metadata": {},
      "outputs": [],
      "source": [
        "tt=rolex_df.copy()"
      ]
    },
    {
      "attachments": {},
      "cell_type": "markdown",
      "metadata": {},
      "source": [
        "- Extract features that is needed for answering this question and store to a new dataframe `q2df`"
      ]
    },
    {
      "cell_type": "code",
      "execution_count": 105,
      "metadata": {},
      "outputs": [
        {
          "data": {
            "text/html": [
              "<div>\n",
              "<style scoped>\n",
              "    .dataframe tbody tr th:only-of-type {\n",
              "        vertical-align: middle;\n",
              "    }\n",
              "\n",
              "    .dataframe tbody tr th {\n",
              "        vertical-align: top;\n",
              "    }\n",
              "\n",
              "    .dataframe thead th {\n",
              "        text-align: right;\n",
              "    }\n",
              "</style>\n",
              "<table border=\"1\" class=\"dataframe\">\n",
              "  <thead>\n",
              "    <tr style=\"text-align: right;\">\n",
              "      <th></th>\n",
              "      <th>model</th>\n",
              "      <th>movement</th>\n",
              "      <th>case material</th>\n",
              "      <th>case diameter</th>\n",
              "      <th>year of production</th>\n",
              "    </tr>\n",
              "  </thead>\n",
              "  <tbody>\n",
              "    <tr>\n",
              "      <th>25029</th>\n",
              "      <td>Rolex Datejust</td>\n",
              "      <td>Automatic</td>\n",
              "      <td>Steel</td>\n",
              "      <td>31</td>\n",
              "      <td>20052004.0</td>\n",
              "    </tr>\n",
              "    <tr>\n",
              "      <th>2865</th>\n",
              "      <td>Rolex GMT-Master II</td>\n",
              "      <td>Automatic</td>\n",
              "      <td>Steel</td>\n",
              "      <td>40</td>\n",
              "      <td>2023.0</td>\n",
              "    </tr>\n",
              "    <tr>\n",
              "      <th>9570</th>\n",
              "      <td>Rolex Milgauss</td>\n",
              "      <td>Automatic</td>\n",
              "      <td>Steel</td>\n",
              "      <td>40</td>\n",
              "      <td>2023.0</td>\n",
              "    </tr>\n",
              "    <tr>\n",
              "      <th>32016</th>\n",
              "      <td>Rolex Oyster Perpetual</td>\n",
              "      <td>Automatic</td>\n",
              "      <td>Steel</td>\n",
              "      <td>36</td>\n",
              "      <td>2022.0</td>\n",
              "    </tr>\n",
              "    <tr>\n",
              "      <th>24120</th>\n",
              "      <td>Rolex GMT-Master II</td>\n",
              "      <td>Automatic</td>\n",
              "      <td>Rose gold</td>\n",
              "      <td>40</td>\n",
              "      <td>2022.0</td>\n",
              "    </tr>\n",
              "    <tr>\n",
              "      <th>...</th>\n",
              "      <td>...</td>\n",
              "      <td>...</td>\n",
              "      <td>...</td>\n",
              "      <td>...</td>\n",
              "      <td>...</td>\n",
              "    </tr>\n",
              "    <tr>\n",
              "      <th>31323</th>\n",
              "      <td>Rolex Precision</td>\n",
              "      <td>Manual winding</td>\n",
              "      <td>Steel</td>\n",
              "      <td>18</td>\n",
              "      <td>1922.0</td>\n",
              "    </tr>\n",
              "    <tr>\n",
              "      <th>17954</th>\n",
              "      <td>Rolex Prince</td>\n",
              "      <td>Manual winding</td>\n",
              "      <td>Silver</td>\n",
              "      <td>23</td>\n",
              "      <td>1920.0</td>\n",
              "    </tr>\n",
              "    <tr>\n",
              "      <th>44918</th>\n",
              "      <td>Rolex Prince</td>\n",
              "      <td>Manual winding</td>\n",
              "      <td>White gold</td>\n",
              "      <td>12</td>\n",
              "      <td>1920.0</td>\n",
              "    </tr>\n",
              "    <tr>\n",
              "      <th>30293</th>\n",
              "      <td>Rolex Prince</td>\n",
              "      <td>Manual winding</td>\n",
              "      <td>Yellow gold</td>\n",
              "      <td>10</td>\n",
              "      <td>1920.0</td>\n",
              "    </tr>\n",
              "    <tr>\n",
              "      <th>10272</th>\n",
              "      <td>Rolex Prince</td>\n",
              "      <td>Manual winding</td>\n",
              "      <td>Yellow gold</td>\n",
              "      <td>38</td>\n",
              "      <td>1920.0</td>\n",
              "    </tr>\n",
              "  </tbody>\n",
              "</table>\n",
              "<p>64033 rows × 5 columns</p>\n",
              "</div>"
            ],
            "text/plain": [
              "                         model        movement case material case diameter  \\\n",
              "25029          Rolex Datejust        Automatic         Steel            31   \n",
              "2865       Rolex GMT-Master II       Automatic         Steel            40   \n",
              "9570            Rolex Milgauss       Automatic         Steel            40   \n",
              "32016  Rolex Oyster Perpetual        Automatic         Steel            36   \n",
              "24120      Rolex GMT-Master II       Automatic     Rose gold            40   \n",
              "...                        ...             ...           ...           ...   \n",
              "31323          Rolex Precision  Manual winding         Steel            18   \n",
              "17954             Rolex Prince  Manual winding        Silver            23   \n",
              "44918             Rolex Prince  Manual winding    White gold            12   \n",
              "30293             Rolex Prince  Manual winding   Yellow gold            10   \n",
              "10272             Rolex Prince  Manual winding   Yellow gold            38   \n",
              "\n",
              "      year of production  \n",
              "25029         20052004.0  \n",
              "2865              2023.0  \n",
              "9570              2023.0  \n",
              "32016             2022.0  \n",
              "24120             2022.0  \n",
              "...                  ...  \n",
              "31323             1922.0  \n",
              "17954             1920.0  \n",
              "44918             1920.0  \n",
              "30293             1920.0  \n",
              "10272             1920.0  \n",
              "\n",
              "[64033 rows x 5 columns]"
            ]
          },
          "execution_count": 105,
          "metadata": {},
          "output_type": "execute_result"
        }
      ],
      "source": [
        "tt=preprocess().transform(tt)\n",
        "q2df=tt[['model', 'movement', 'case material', 'case diameter', 'year of production']]\n",
        "q2df.sort_values(by=['year of production'], ascending=False)"
      ]
    },
    {
      "attachments": {},
      "cell_type": "markdown",
      "metadata": {},
      "source": [
        "- By observing we can see there are some abnormal values in `year of product` column like `20052004` and `2023`\n",
        "- We will drop these rows"
      ]
    },
    {
      "cell_type": "code",
      "execution_count": 106,
      "metadata": {},
      "outputs": [
        {
          "data": {
            "text/html": [
              "<div>\n",
              "<style scoped>\n",
              "    .dataframe tbody tr th:only-of-type {\n",
              "        vertical-align: middle;\n",
              "    }\n",
              "\n",
              "    .dataframe tbody tr th {\n",
              "        vertical-align: top;\n",
              "    }\n",
              "\n",
              "    .dataframe thead th {\n",
              "        text-align: right;\n",
              "    }\n",
              "</style>\n",
              "<table border=\"1\" class=\"dataframe\">\n",
              "  <thead>\n",
              "    <tr style=\"text-align: right;\">\n",
              "      <th></th>\n",
              "      <th>model</th>\n",
              "      <th>movement</th>\n",
              "      <th>case material</th>\n",
              "      <th>case diameter</th>\n",
              "      <th>year of production</th>\n",
              "    </tr>\n",
              "  </thead>\n",
              "  <tbody>\n",
              "    <tr>\n",
              "      <th>32018</th>\n",
              "      <td>Rolex Submariner Date</td>\n",
              "      <td>Automatic</td>\n",
              "      <td>Steel</td>\n",
              "      <td>41</td>\n",
              "      <td>2022.0</td>\n",
              "    </tr>\n",
              "    <tr>\n",
              "      <th>49965</th>\n",
              "      <td>Rolex Oyster Perpetual</td>\n",
              "      <td>Automatic</td>\n",
              "      <td>Steel</td>\n",
              "      <td>41</td>\n",
              "      <td>2022.0</td>\n",
              "    </tr>\n",
              "    <tr>\n",
              "      <th>49949</th>\n",
              "      <td>Rolex Sea-Dweller</td>\n",
              "      <td>Automatic</td>\n",
              "      <td>Gold/Steel</td>\n",
              "      <td>43</td>\n",
              "      <td>2022.0</td>\n",
              "    </tr>\n",
              "    <tr>\n",
              "      <th>24134</th>\n",
              "      <td>Rolex Datejust</td>\n",
              "      <td>Automatic</td>\n",
              "      <td>Gold/Steel</td>\n",
              "      <td>41</td>\n",
              "      <td>2022.0</td>\n",
              "    </tr>\n",
              "    <tr>\n",
              "      <th>24132</th>\n",
              "      <td>Rolex Day-Date</td>\n",
              "      <td>Automatic</td>\n",
              "      <td>Yellow gold</td>\n",
              "      <td>40</td>\n",
              "      <td>2022.0</td>\n",
              "    </tr>\n",
              "    <tr>\n",
              "      <th>...</th>\n",
              "      <td>...</td>\n",
              "      <td>...</td>\n",
              "      <td>...</td>\n",
              "      <td>...</td>\n",
              "      <td>...</td>\n",
              "    </tr>\n",
              "    <tr>\n",
              "      <th>31323</th>\n",
              "      <td>Rolex Precision</td>\n",
              "      <td>Manual winding</td>\n",
              "      <td>Steel</td>\n",
              "      <td>18</td>\n",
              "      <td>1922.0</td>\n",
              "    </tr>\n",
              "    <tr>\n",
              "      <th>17954</th>\n",
              "      <td>Rolex Prince</td>\n",
              "      <td>Manual winding</td>\n",
              "      <td>Silver</td>\n",
              "      <td>23</td>\n",
              "      <td>1920.0</td>\n",
              "    </tr>\n",
              "    <tr>\n",
              "      <th>44918</th>\n",
              "      <td>Rolex Prince</td>\n",
              "      <td>Manual winding</td>\n",
              "      <td>White gold</td>\n",
              "      <td>12</td>\n",
              "      <td>1920.0</td>\n",
              "    </tr>\n",
              "    <tr>\n",
              "      <th>30293</th>\n",
              "      <td>Rolex Prince</td>\n",
              "      <td>Manual winding</td>\n",
              "      <td>Yellow gold</td>\n",
              "      <td>10</td>\n",
              "      <td>1920.0</td>\n",
              "    </tr>\n",
              "    <tr>\n",
              "      <th>10272</th>\n",
              "      <td>Rolex Prince</td>\n",
              "      <td>Manual winding</td>\n",
              "      <td>Yellow gold</td>\n",
              "      <td>38</td>\n",
              "      <td>1920.0</td>\n",
              "    </tr>\n",
              "  </tbody>\n",
              "</table>\n",
              "<p>64030 rows × 5 columns</p>\n",
              "</div>"
            ],
            "text/plain": [
              "                         model        movement case material case diameter  \\\n",
              "32018    Rolex Submariner Date       Automatic         Steel            41   \n",
              "49965  Rolex Oyster Perpetual        Automatic         Steel            41   \n",
              "49949        Rolex Sea-Dweller       Automatic    Gold/Steel            43   \n",
              "24134          Rolex Datejust        Automatic    Gold/Steel            41   \n",
              "24132          Rolex Day-Date        Automatic   Yellow gold            40   \n",
              "...                        ...             ...           ...           ...   \n",
              "31323          Rolex Precision  Manual winding         Steel            18   \n",
              "17954             Rolex Prince  Manual winding        Silver            23   \n",
              "44918             Rolex Prince  Manual winding    White gold            12   \n",
              "30293             Rolex Prince  Manual winding   Yellow gold            10   \n",
              "10272             Rolex Prince  Manual winding   Yellow gold            38   \n",
              "\n",
              "      year of production  \n",
              "32018             2022.0  \n",
              "49965             2022.0  \n",
              "49949             2022.0  \n",
              "24134             2022.0  \n",
              "24132             2022.0  \n",
              "...                  ...  \n",
              "31323             1922.0  \n",
              "17954             1920.0  \n",
              "44918             1920.0  \n",
              "30293             1920.0  \n",
              "10272             1920.0  \n",
              "\n",
              "[64030 rows x 5 columns]"
            ]
          },
          "execution_count": 106,
          "metadata": {},
          "output_type": "execute_result"
        }
      ],
      "source": [
        "q2df=q2df[q2df['year of production'] <= 2022]\n",
        "q2df.sort_values(by=['year of production'], ascending=False)"
      ]
    },
    {
      "attachments": {},
      "cell_type": "markdown",
      "metadata": {},
      "source": [
        "- All good, now the data is ready "
      ]
    },
    {
      "attachments": {},
      "cell_type": "markdown",
      "metadata": {},
      "source": [
        "### a. How Rolex `movement` changes ?"
      ]
    },
    {
      "attachments": {},
      "cell_type": "markdown",
      "metadata": {},
      "source": [
        "- Count how many time each movement appears in the data"
      ]
    },
    {
      "cell_type": "code",
      "execution_count": 136,
      "metadata": {},
      "outputs": [
        {
          "data": {
            "text/html": [
              "<div>\n",
              "<style scoped>\n",
              "    .dataframe tbody tr th:only-of-type {\n",
              "        vertical-align: middle;\n",
              "    }\n",
              "\n",
              "    .dataframe tbody tr th {\n",
              "        vertical-align: top;\n",
              "    }\n",
              "\n",
              "    .dataframe thead th {\n",
              "        text-align: right;\n",
              "    }\n",
              "</style>\n",
              "<table border=\"1\" class=\"dataframe\">\n",
              "  <thead>\n",
              "    <tr style=\"text-align: right;\">\n",
              "      <th></th>\n",
              "      <th></th>\n",
              "      <th>model</th>\n",
              "      <th>case material</th>\n",
              "      <th>case diameter</th>\n",
              "    </tr>\n",
              "    <tr>\n",
              "      <th>year of production</th>\n",
              "      <th>movement</th>\n",
              "      <th></th>\n",
              "      <th></th>\n",
              "      <th></th>\n",
              "    </tr>\n",
              "  </thead>\n",
              "  <tbody>\n",
              "    <tr>\n",
              "      <th>1920.0</th>\n",
              "      <th>Manual winding</th>\n",
              "      <td>4</td>\n",
              "      <td>4</td>\n",
              "      <td>4</td>\n",
              "    </tr>\n",
              "    <tr>\n",
              "      <th>1922.0</th>\n",
              "      <th>Manual winding</th>\n",
              "      <td>1</td>\n",
              "      <td>1</td>\n",
              "      <td>1</td>\n",
              "    </tr>\n",
              "    <tr>\n",
              "      <th>1925.0</th>\n",
              "      <th>Manual winding</th>\n",
              "      <td>1</td>\n",
              "      <td>1</td>\n",
              "      <td>1</td>\n",
              "    </tr>\n",
              "    <tr>\n",
              "      <th>1928.0</th>\n",
              "      <th>Manual winding</th>\n",
              "      <td>2</td>\n",
              "      <td>2</td>\n",
              "      <td>2</td>\n",
              "    </tr>\n",
              "    <tr>\n",
              "      <th>1930.0</th>\n",
              "      <th>Automatic</th>\n",
              "      <td>1</td>\n",
              "      <td>1</td>\n",
              "      <td>1</td>\n",
              "    </tr>\n",
              "    <tr>\n",
              "      <th>...</th>\n",
              "      <th>...</th>\n",
              "      <td>...</td>\n",
              "      <td>...</td>\n",
              "      <td>...</td>\n",
              "    </tr>\n",
              "    <tr>\n",
              "      <th rowspan=\"3\" valign=\"top\">2021.0</th>\n",
              "      <th>Automatic</th>\n",
              "      <td>5182</td>\n",
              "      <td>5182</td>\n",
              "      <td>5182</td>\n",
              "    </tr>\n",
              "    <tr>\n",
              "      <th>Manual winding</th>\n",
              "      <td>7</td>\n",
              "      <td>7</td>\n",
              "      <td>7</td>\n",
              "    </tr>\n",
              "    <tr>\n",
              "      <th>Quartz</th>\n",
              "      <td>1</td>\n",
              "      <td>1</td>\n",
              "      <td>1</td>\n",
              "    </tr>\n",
              "    <tr>\n",
              "      <th rowspan=\"2\" valign=\"top\">2022.0</th>\n",
              "      <th>Automatic</th>\n",
              "      <td>26484</td>\n",
              "      <td>26484</td>\n",
              "      <td>26484</td>\n",
              "    </tr>\n",
              "    <tr>\n",
              "      <th>Manual winding</th>\n",
              "      <td>35</td>\n",
              "      <td>35</td>\n",
              "      <td>35</td>\n",
              "    </tr>\n",
              "  </tbody>\n",
              "</table>\n",
              "<p>220 rows × 3 columns</p>\n",
              "</div>"
            ],
            "text/plain": [
              "                                   model  case material  case diameter\n",
              "year of production movement                                           \n",
              "1920.0             Manual winding      4              4              4\n",
              "1922.0             Manual winding      1              1              1\n",
              "1925.0             Manual winding      1              1              1\n",
              "1928.0             Manual winding      2              2              2\n",
              "1930.0             Automatic           1              1              1\n",
              "...                                  ...            ...            ...\n",
              "2021.0             Automatic        5182           5182           5182\n",
              "                   Manual winding      7              7              7\n",
              "                   Quartz              1              1              1\n",
              "2022.0             Automatic       26484          26484          26484\n",
              "                   Manual winding     35             35             35\n",
              "\n",
              "[220 rows x 3 columns]"
            ]
          },
          "execution_count": 136,
          "metadata": {},
          "output_type": "execute_result"
        }
      ],
      "source": [
        "mmgb=q2df.groupby(['year of production', 'movement']).count()\n",
        "mmgb"
      ]
    },
    {
      "attachments": {},
      "cell_type": "markdown",
      "metadata": {},
      "source": [
        "- Reset index and extract and rename the columns that we need"
      ]
    },
    {
      "cell_type": "code",
      "execution_count": 137,
      "metadata": {},
      "outputs": [],
      "source": [
        "# reset index\n",
        "mmgb = mmgb.reset_index()\n",
        "mmgb = mmgb[['year of production', 'movement', 'model']]\n",
        "mmgb = mmgb.rename(columns={'model': 'count'})"
      ]
    },
    {
      "attachments": {},
      "cell_type": "markdown",
      "metadata": {},
      "source": [
        "- Pivot the data to get the number of each movement in each year"
      ]
    },
    {
      "cell_type": "code",
      "execution_count": 138,
      "metadata": {},
      "outputs": [
        {
          "data": {
            "text/html": [
              "<div>\n",
              "<style scoped>\n",
              "    .dataframe tbody tr th:only-of-type {\n",
              "        vertical-align: middle;\n",
              "    }\n",
              "\n",
              "    .dataframe tbody tr th {\n",
              "        vertical-align: top;\n",
              "    }\n",
              "\n",
              "    .dataframe thead th {\n",
              "        text-align: right;\n",
              "    }\n",
              "</style>\n",
              "<table border=\"1\" class=\"dataframe\">\n",
              "  <thead>\n",
              "    <tr style=\"text-align: right;\">\n",
              "      <th>movement</th>\n",
              "      <th>Automatic</th>\n",
              "      <th>Manual winding</th>\n",
              "      <th>Quartz</th>\n",
              "    </tr>\n",
              "    <tr>\n",
              "      <th>year of production</th>\n",
              "      <th></th>\n",
              "      <th></th>\n",
              "      <th></th>\n",
              "    </tr>\n",
              "  </thead>\n",
              "  <tbody>\n",
              "    <tr>\n",
              "      <th>1920.0</th>\n",
              "      <td>0.0</td>\n",
              "      <td>4.0</td>\n",
              "      <td>0.0</td>\n",
              "    </tr>\n",
              "    <tr>\n",
              "      <th>1922.0</th>\n",
              "      <td>0.0</td>\n",
              "      <td>1.0</td>\n",
              "      <td>0.0</td>\n",
              "    </tr>\n",
              "    <tr>\n",
              "      <th>1925.0</th>\n",
              "      <td>0.0</td>\n",
              "      <td>1.0</td>\n",
              "      <td>0.0</td>\n",
              "    </tr>\n",
              "    <tr>\n",
              "      <th>1928.0</th>\n",
              "      <td>0.0</td>\n",
              "      <td>2.0</td>\n",
              "      <td>0.0</td>\n",
              "    </tr>\n",
              "    <tr>\n",
              "      <th>1930.0</th>\n",
              "      <td>1.0</td>\n",
              "      <td>35.0</td>\n",
              "      <td>0.0</td>\n",
              "    </tr>\n",
              "    <tr>\n",
              "      <th>...</th>\n",
              "      <td>...</td>\n",
              "      <td>...</td>\n",
              "      <td>...</td>\n",
              "    </tr>\n",
              "    <tr>\n",
              "      <th>2018.0</th>\n",
              "      <td>1317.0</td>\n",
              "      <td>3.0</td>\n",
              "      <td>0.0</td>\n",
              "    </tr>\n",
              "    <tr>\n",
              "      <th>2019.0</th>\n",
              "      <td>1738.0</td>\n",
              "      <td>2.0</td>\n",
              "      <td>0.0</td>\n",
              "    </tr>\n",
              "    <tr>\n",
              "      <th>2020.0</th>\n",
              "      <td>2371.0</td>\n",
              "      <td>3.0</td>\n",
              "      <td>0.0</td>\n",
              "    </tr>\n",
              "    <tr>\n",
              "      <th>2021.0</th>\n",
              "      <td>5182.0</td>\n",
              "      <td>7.0</td>\n",
              "      <td>1.0</td>\n",
              "    </tr>\n",
              "    <tr>\n",
              "      <th>2022.0</th>\n",
              "      <td>26484.0</td>\n",
              "      <td>35.0</td>\n",
              "      <td>0.0</td>\n",
              "    </tr>\n",
              "  </tbody>\n",
              "</table>\n",
              "<p>94 rows × 3 columns</p>\n",
              "</div>"
            ],
            "text/plain": [
              "movement            Automatic  Manual winding  Quartz\n",
              "year of production                                   \n",
              "1920.0                    0.0             4.0     0.0\n",
              "1922.0                    0.0             1.0     0.0\n",
              "1925.0                    0.0             1.0     0.0\n",
              "1928.0                    0.0             2.0     0.0\n",
              "1930.0                    1.0            35.0     0.0\n",
              "...                       ...             ...     ...\n",
              "2018.0                 1317.0             3.0     0.0\n",
              "2019.0                 1738.0             2.0     0.0\n",
              "2020.0                 2371.0             3.0     0.0\n",
              "2021.0                 5182.0             7.0     1.0\n",
              "2022.0                26484.0            35.0     0.0\n",
              "\n",
              "[94 rows x 3 columns]"
            ]
          },
          "execution_count": 138,
          "metadata": {},
          "output_type": "execute_result"
        }
      ],
      "source": [
        "res_mm = mmgb.pivot(index='year of production', columns='movement', values='count')\n",
        "res_mm = res_mm.fillna(0)\n",
        "res_mm"
      ]
    },
    {
      "attachments": {},
      "cell_type": "markdown",
      "metadata": {},
      "source": [
        "- Get the most common movement in each year"
      ]
    },
    {
      "cell_type": "code",
      "execution_count": 139,
      "metadata": {},
      "outputs": [
        {
          "data": {
            "text/html": [
              "<div>\n",
              "<style scoped>\n",
              "    .dataframe tbody tr th:only-of-type {\n",
              "        vertical-align: middle;\n",
              "    }\n",
              "\n",
              "    .dataframe tbody tr th {\n",
              "        vertical-align: top;\n",
              "    }\n",
              "\n",
              "    .dataframe thead th {\n",
              "        text-align: right;\n",
              "    }\n",
              "</style>\n",
              "<table border=\"1\" class=\"dataframe\">\n",
              "  <thead>\n",
              "    <tr style=\"text-align: right;\">\n",
              "      <th></th>\n",
              "      <th>year of production</th>\n",
              "      <th>movement</th>\n",
              "    </tr>\n",
              "  </thead>\n",
              "  <tbody>\n",
              "    <tr>\n",
              "      <th>0</th>\n",
              "      <td>1920.0</td>\n",
              "      <td>Manual winding</td>\n",
              "    </tr>\n",
              "    <tr>\n",
              "      <th>1</th>\n",
              "      <td>1922.0</td>\n",
              "      <td>Manual winding</td>\n",
              "    </tr>\n",
              "    <tr>\n",
              "      <th>2</th>\n",
              "      <td>1925.0</td>\n",
              "      <td>Manual winding</td>\n",
              "    </tr>\n",
              "    <tr>\n",
              "      <th>3</th>\n",
              "      <td>1928.0</td>\n",
              "      <td>Manual winding</td>\n",
              "    </tr>\n",
              "    <tr>\n",
              "      <th>4</th>\n",
              "      <td>1930.0</td>\n",
              "      <td>Manual winding</td>\n",
              "    </tr>\n",
              "    <tr>\n",
              "      <th>...</th>\n",
              "      <td>...</td>\n",
              "      <td>...</td>\n",
              "    </tr>\n",
              "    <tr>\n",
              "      <th>89</th>\n",
              "      <td>2018.0</td>\n",
              "      <td>Automatic</td>\n",
              "    </tr>\n",
              "    <tr>\n",
              "      <th>90</th>\n",
              "      <td>2019.0</td>\n",
              "      <td>Automatic</td>\n",
              "    </tr>\n",
              "    <tr>\n",
              "      <th>91</th>\n",
              "      <td>2020.0</td>\n",
              "      <td>Automatic</td>\n",
              "    </tr>\n",
              "    <tr>\n",
              "      <th>92</th>\n",
              "      <td>2021.0</td>\n",
              "      <td>Automatic</td>\n",
              "    </tr>\n",
              "    <tr>\n",
              "      <th>93</th>\n",
              "      <td>2022.0</td>\n",
              "      <td>Automatic</td>\n",
              "    </tr>\n",
              "  </tbody>\n",
              "</table>\n",
              "<p>94 rows × 2 columns</p>\n",
              "</div>"
            ],
            "text/plain": [
              "    year of production        movement\n",
              "0               1920.0  Manual winding\n",
              "1               1922.0  Manual winding\n",
              "2               1925.0  Manual winding\n",
              "3               1928.0  Manual winding\n",
              "4               1930.0  Manual winding\n",
              "..                 ...             ...\n",
              "89              2018.0       Automatic\n",
              "90              2019.0       Automatic\n",
              "91              2020.0       Automatic\n",
              "92              2021.0       Automatic\n",
              "93              2022.0       Automatic\n",
              "\n",
              "[94 rows x 2 columns]"
            ]
          },
          "execution_count": 139,
          "metadata": {},
          "output_type": "execute_result"
        }
      ],
      "source": [
        "res_mmdf = pd.DataFrame(res_mm.idxmax(axis=1), columns=['movement']).reset_index()\n",
        "res_mmdf"
      ]
    },
    {
      "attachments": {},
      "cell_type": "markdown",
      "metadata": {},
      "source": [
        "- Create a list to store all the movements available"
      ]
    },
    {
      "cell_type": "code",
      "execution_count": 140,
      "metadata": {},
      "outputs": [
        {
          "data": {
            "text/plain": [
              "array(['Automatic', 'Manual winding', 'Quartz'], dtype=object)"
            ]
          },
          "execution_count": 140,
          "metadata": {},
          "output_type": "execute_result"
        }
      ],
      "source": [
        "mm_list = tt['movement'].unique()\n",
        "mm_list"
      ]
    },
    {
      "attachments": {},
      "cell_type": "markdown",
      "metadata": {},
      "source": [
        "Select all years that have Automatic as the most common movement"
      ]
    },
    {
      "cell_type": "code",
      "execution_count": 141,
      "metadata": {},
      "outputs": [
        {
          "data": {
            "text/html": [
              "<div>\n",
              "<style scoped>\n",
              "    .dataframe tbody tr th:only-of-type {\n",
              "        vertical-align: middle;\n",
              "    }\n",
              "\n",
              "    .dataframe tbody tr th {\n",
              "        vertical-align: top;\n",
              "    }\n",
              "\n",
              "    .dataframe thead th {\n",
              "        text-align: right;\n",
              "    }\n",
              "</style>\n",
              "<table border=\"1\" class=\"dataframe\">\n",
              "  <thead>\n",
              "    <tr style=\"text-align: right;\">\n",
              "      <th></th>\n",
              "      <th>year of production</th>\n",
              "      <th>movement</th>\n",
              "    </tr>\n",
              "  </thead>\n",
              "  <tbody>\n",
              "    <tr>\n",
              "      <th>7</th>\n",
              "      <td>1936.0</td>\n",
              "      <td>Automatic</td>\n",
              "    </tr>\n",
              "    <tr>\n",
              "      <th>16</th>\n",
              "      <td>1945.0</td>\n",
              "      <td>Automatic</td>\n",
              "    </tr>\n",
              "    <tr>\n",
              "      <th>19</th>\n",
              "      <td>1948.0</td>\n",
              "      <td>Automatic</td>\n",
              "    </tr>\n",
              "    <tr>\n",
              "      <th>20</th>\n",
              "      <td>1949.0</td>\n",
              "      <td>Automatic</td>\n",
              "    </tr>\n",
              "    <tr>\n",
              "      <th>22</th>\n",
              "      <td>1951.0</td>\n",
              "      <td>Automatic</td>\n",
              "    </tr>\n",
              "    <tr>\n",
              "      <th>...</th>\n",
              "      <td>...</td>\n",
              "      <td>...</td>\n",
              "    </tr>\n",
              "    <tr>\n",
              "      <th>89</th>\n",
              "      <td>2018.0</td>\n",
              "      <td>Automatic</td>\n",
              "    </tr>\n",
              "    <tr>\n",
              "      <th>90</th>\n",
              "      <td>2019.0</td>\n",
              "      <td>Automatic</td>\n",
              "    </tr>\n",
              "    <tr>\n",
              "      <th>91</th>\n",
              "      <td>2020.0</td>\n",
              "      <td>Automatic</td>\n",
              "    </tr>\n",
              "    <tr>\n",
              "      <th>92</th>\n",
              "      <td>2021.0</td>\n",
              "      <td>Automatic</td>\n",
              "    </tr>\n",
              "    <tr>\n",
              "      <th>93</th>\n",
              "      <td>2022.0</td>\n",
              "      <td>Automatic</td>\n",
              "    </tr>\n",
              "  </tbody>\n",
              "</table>\n",
              "<p>75 rows × 2 columns</p>\n",
              "</div>"
            ],
            "text/plain": [
              "    year of production   movement\n",
              "7               1936.0  Automatic\n",
              "16              1945.0  Automatic\n",
              "19              1948.0  Automatic\n",
              "20              1949.0  Automatic\n",
              "22              1951.0  Automatic\n",
              "..                 ...        ...\n",
              "89              2018.0  Automatic\n",
              "90              2019.0  Automatic\n",
              "91              2020.0  Automatic\n",
              "92              2021.0  Automatic\n",
              "93              2022.0  Automatic\n",
              "\n",
              "[75 rows x 2 columns]"
            ]
          },
          "execution_count": 141,
          "metadata": {},
          "output_type": "execute_result"
        }
      ],
      "source": [
        "# Automatic\n",
        "res_mmdf.loc[res_mmdf['movement'] == mm_list[0]]"
      ]
    },
    {
      "attachments": {},
      "cell_type": "markdown",
      "metadata": {},
      "source": [
        "Manual winding"
      ]
    },
    {
      "cell_type": "code",
      "execution_count": 142,
      "metadata": {},
      "outputs": [
        {
          "data": {
            "text/html": [
              "<div>\n",
              "<style scoped>\n",
              "    .dataframe tbody tr th:only-of-type {\n",
              "        vertical-align: middle;\n",
              "    }\n",
              "\n",
              "    .dataframe tbody tr th {\n",
              "        vertical-align: top;\n",
              "    }\n",
              "\n",
              "    .dataframe thead th {\n",
              "        text-align: right;\n",
              "    }\n",
              "</style>\n",
              "<table border=\"1\" class=\"dataframe\">\n",
              "  <thead>\n",
              "    <tr style=\"text-align: right;\">\n",
              "      <th></th>\n",
              "      <th>year of production</th>\n",
              "      <th>movement</th>\n",
              "    </tr>\n",
              "  </thead>\n",
              "  <tbody>\n",
              "    <tr>\n",
              "      <th>0</th>\n",
              "      <td>1920.0</td>\n",
              "      <td>Manual winding</td>\n",
              "    </tr>\n",
              "    <tr>\n",
              "      <th>1</th>\n",
              "      <td>1922.0</td>\n",
              "      <td>Manual winding</td>\n",
              "    </tr>\n",
              "    <tr>\n",
              "      <th>2</th>\n",
              "      <td>1925.0</td>\n",
              "      <td>Manual winding</td>\n",
              "    </tr>\n",
              "    <tr>\n",
              "      <th>3</th>\n",
              "      <td>1928.0</td>\n",
              "      <td>Manual winding</td>\n",
              "    </tr>\n",
              "    <tr>\n",
              "      <th>4</th>\n",
              "      <td>1930.0</td>\n",
              "      <td>Manual winding</td>\n",
              "    </tr>\n",
              "    <tr>\n",
              "      <th>5</th>\n",
              "      <td>1934.0</td>\n",
              "      <td>Manual winding</td>\n",
              "    </tr>\n",
              "    <tr>\n",
              "      <th>6</th>\n",
              "      <td>1935.0</td>\n",
              "      <td>Manual winding</td>\n",
              "    </tr>\n",
              "    <tr>\n",
              "      <th>8</th>\n",
              "      <td>1937.0</td>\n",
              "      <td>Manual winding</td>\n",
              "    </tr>\n",
              "    <tr>\n",
              "      <th>9</th>\n",
              "      <td>1938.0</td>\n",
              "      <td>Manual winding</td>\n",
              "    </tr>\n",
              "    <tr>\n",
              "      <th>10</th>\n",
              "      <td>1939.0</td>\n",
              "      <td>Manual winding</td>\n",
              "    </tr>\n",
              "    <tr>\n",
              "      <th>11</th>\n",
              "      <td>1940.0</td>\n",
              "      <td>Manual winding</td>\n",
              "    </tr>\n",
              "    <tr>\n",
              "      <th>12</th>\n",
              "      <td>1941.0</td>\n",
              "      <td>Manual winding</td>\n",
              "    </tr>\n",
              "    <tr>\n",
              "      <th>13</th>\n",
              "      <td>1942.0</td>\n",
              "      <td>Manual winding</td>\n",
              "    </tr>\n",
              "    <tr>\n",
              "      <th>14</th>\n",
              "      <td>1943.0</td>\n",
              "      <td>Manual winding</td>\n",
              "    </tr>\n",
              "    <tr>\n",
              "      <th>15</th>\n",
              "      <td>1944.0</td>\n",
              "      <td>Manual winding</td>\n",
              "    </tr>\n",
              "    <tr>\n",
              "      <th>17</th>\n",
              "      <td>1946.0</td>\n",
              "      <td>Manual winding</td>\n",
              "    </tr>\n",
              "    <tr>\n",
              "      <th>18</th>\n",
              "      <td>1947.0</td>\n",
              "      <td>Manual winding</td>\n",
              "    </tr>\n",
              "    <tr>\n",
              "      <th>21</th>\n",
              "      <td>1950.0</td>\n",
              "      <td>Manual winding</td>\n",
              "    </tr>\n",
              "    <tr>\n",
              "      <th>23</th>\n",
              "      <td>1952.0</td>\n",
              "      <td>Manual winding</td>\n",
              "    </tr>\n",
              "  </tbody>\n",
              "</table>\n",
              "</div>"
            ],
            "text/plain": [
              "    year of production        movement\n",
              "0               1920.0  Manual winding\n",
              "1               1922.0  Manual winding\n",
              "2               1925.0  Manual winding\n",
              "3               1928.0  Manual winding\n",
              "4               1930.0  Manual winding\n",
              "5               1934.0  Manual winding\n",
              "6               1935.0  Manual winding\n",
              "8               1937.0  Manual winding\n",
              "9               1938.0  Manual winding\n",
              "10              1939.0  Manual winding\n",
              "11              1940.0  Manual winding\n",
              "12              1941.0  Manual winding\n",
              "13              1942.0  Manual winding\n",
              "14              1943.0  Manual winding\n",
              "15              1944.0  Manual winding\n",
              "17              1946.0  Manual winding\n",
              "18              1947.0  Manual winding\n",
              "21              1950.0  Manual winding\n",
              "23              1952.0  Manual winding"
            ]
          },
          "execution_count": 142,
          "metadata": {},
          "output_type": "execute_result"
        }
      ],
      "source": [
        "# Manual winding\n",
        "res_mmdf.loc[res_mmdf['movement'] == mm_list[1]]"
      ]
    },
    {
      "attachments": {},
      "cell_type": "markdown",
      "metadata": {},
      "source": [
        "It looks like Quartz has never been common in Rolex watches"
      ]
    },
    {
      "cell_type": "code",
      "execution_count": 143,
      "metadata": {},
      "outputs": [
        {
          "data": {
            "text/plain": [
              "0"
            ]
          },
          "execution_count": 143,
          "metadata": {},
          "output_type": "execute_result"
        }
      ],
      "source": [
        "# Quartz\n",
        "res_mmdf.loc[res_mmdf['movement'] == mm_list[2]].shape[0]"
      ]
    },
    {
      "attachments": {},
      "cell_type": "markdown",
      "metadata": {},
      "source": [
        "##### Prepare the dataframe for visualization\n",
        "- We going to replace the movements with number to make it easier to visualize"
      ]
    },
    {
      "cell_type": "code",
      "execution_count": 144,
      "metadata": {},
      "outputs": [],
      "source": [
        "res_mmdf_plot = res_mmdf.copy()\n",
        "res_mmdf_plot['movement'] = res_mmdf_plot['movement'].replace(mm_list[0], 0)\n",
        "res_mmdf_plot['movement'] = res_mmdf_plot['movement'].replace(mm_list[1], 1)\n",
        "# res_mmdf_plot['movement'] = res_mmdf_plot['movement'].replace(mm_list[2], 2)\n",
        "\n",
        "res_mmdf_plot1 = res_mmdf_plot[res_mmdf_plot['movement'] == 0]\n",
        "res_mmdf_plot2 = res_mmdf_plot[res_mmdf_plot['movement'] == 1]"
      ]
    },
    {
      "attachments": {},
      "cell_type": "markdown",
      "metadata": {},
      "source": [
        "##### Visualize the data"
      ]
    },
    {
      "cell_type": "code",
      "execution_count": 198,
      "metadata": {},
      "outputs": [
        {
          "data": {
            "image/png": "[encoded data removed]",
            "text/plain": [
              "<Figure size 2200x300 with 1 Axes>"
            ]
          },
          "metadata": {},
          "output_type": "display_data"
        }
      ],
      "source": [
        "ax = plt.subplots(figsize=(22, 3))\n",
        "scp1 = plt.scatter(res_mmdf_plot1['year of production'], res_mmdf_plot1['movement'], s=40, c='red', label='Automatic')\n",
        "scp2 = plt.scatter(res_mmdf_plot2['year of production'], res_mmdf_plot2['movement'], s=40, c='blue', label='Manual winding')\n",
        "\n",
        "plt.legend(handles=[scp1, scp2])\n",
        "plt.title('Most common Rolex watch movement made by year of production')\n",
        "plt.xlabel('Year of production')\n",
        "plt.ylabel('Movement')\n",
        "\n",
        "# two vertical lines to make it easier to see \n",
        "plt.axvline(x=1945, color='b', linestyle='--')\n",
        "plt.axvline(x=1953, color='r', linestyle='--')\n",
        "plt.axvspan(1945, 1953, alpha=0.2, color='grey')\n",
        "\n",
        "plt.xticks(np.arange(1920, 2022, 5))\n",
        "\n",
        "plt.show()"
      ]
    },
    {
      "attachments": {},
      "cell_type": "markdown",
      "metadata": {},
      "source": [
        "- We decide to use scatter plot to visualize the data as each every dot represents a movement (0 is Automatic, 1 is Manual winding, 2 is supposed to be Quatz but according to the data, it has never been common in Rolex watches)\n",
        "- We will draw two lines to show the change of trend in Rolex watches movement (1945 - 1953) - the period of time show that the customers and Rolex were starting to change from Manual to Automatic.\n",
        "  \n",
        "  - The blue line is when trend starts to change from Manual to Automatic\n",
        "  - The red line is when Automatic becomes the most common movement"
      ]
    },
    {
      "attachments": {},
      "cell_type": "markdown",
      "metadata": {},
      "source": [
        "So how the movement change in 1945 - 1953 ?\n",
        " - We will visualize that interval in details for better understanding"
      ]
    },
    {
      "attachments": {},
      "cell_type": "markdown",
      "metadata": {},
      "source": [
        "Prepare the data from 1940 to 1960 to visualize"
      ]
    },
    {
      "cell_type": "code",
      "execution_count": 210,
      "metadata": {},
      "outputs": [],
      "source": [
        "ptc = mmgb.copy()\n",
        "ptca = ptc[(ptc['year of production'] <= 1960) & (ptc['year of production'] >= 1940) & (ptc['movement'] == 'Automatic')]\n",
        "ptcm = ptc[(ptc['year of production'] <= 1960) & (ptc['year of production'] >= 1940) & (ptc['movement'] == 'Manual winding')]\n",
        "ptcq = ptc[(ptc['year of production'] <= 1960) & (ptc['year of production'] >= 1940) & (ptc['movement'] == 'Quartz')]"
      ]
    },
    {
      "attachments": {},
      "cell_type": "markdown",
      "metadata": {},
      "source": [
        "Visualize the data"
      ]
    },
    {
      "cell_type": "code",
      "execution_count": 211,
      "metadata": {},
      "outputs": [
        {
          "data": {
            "image/png": "[encoded data removed]",
            "text/plain": [
              "<Figure size 1500x300 with 1 Axes>"
            ]
          },
          "metadata": {},
          "output_type": "display_data"
        }
      ],
      "source": [
        "ax = ptca.plot(x='year of production', y='count', label='Automatic', figsize=(15, 3), color='red')\n",
        "ptcm.plot(x='year of production', y='count', label='Manual winding', color='blue', ax=ax)\n",
        "ptcq.plot(x='year of production', y='count', label='Quartz', ax=ax)\n",
        "plt.title('Rolex watches in 1940 - 1960')\n",
        "plt.xlabel('Year of production')\n",
        "plt.ylabel('Count')\n",
        "\n",
        "plt.axvline(x=1945, color='b', linestyle='--')\n",
        "plt.axvline(x=1953, color='r', linestyle='--')\n",
        "plt.axvspan(1945, 1953, alpha=0.2, color='grey')\n",
        "\n",
        "plt.xticks(np.arange(1940, 1960, 2))\n",
        "\n",
        "plt.show()"
      ]
    },
    {
      "attachments": {},
      "cell_type": "markdown",
      "metadata": {},
      "source": [
        "- We can see that in that interval, the number of Manual winding (blue) watches is decreasing and the number of Automatic (red) watches is increasing (of course, there are still up and down in the mean time but in the end - 1953 they decided to go with Automatic)"
      ]
    },
    {
      "attachments": {},
      "cell_type": "markdown",
      "metadata": {},
      "source": [
        "#### Conclusion a\n",
        ". 1920 - 1945 : Manual winding is the most common movement in Rolex watches \\\n",
        ". 1945 - 1953 : Bovement changing from Manual to Automatic \\\n",
        ". 1953 - now : Automatic is the most common movement in Rolex watches"
      ]
    },
    {
      "attachments": {},
      "cell_type": "markdown",
      "metadata": {},
      "source": [
        "### b. How Rolex `case material` changes ?"
      ]
    },
    {
      "attachments": {},
      "cell_type": "markdown",
      "metadata": {},
      "source": [
        "A quick preview of the data before we start"
      ]
    },
    {
      "cell_type": "code",
      "execution_count": 117,
      "metadata": {},
      "outputs": [
        {
          "data": {
            "text/html": [
              "<div>\n",
              "<style scoped>\n",
              "    .dataframe tbody tr th:only-of-type {\n",
              "        vertical-align: middle;\n",
              "    }\n",
              "\n",
              "    .dataframe tbody tr th {\n",
              "        vertical-align: top;\n",
              "    }\n",
              "\n",
              "    .dataframe thead th {\n",
              "        text-align: right;\n",
              "    }\n",
              "</style>\n",
              "<table border=\"1\" class=\"dataframe\">\n",
              "  <thead>\n",
              "    <tr style=\"text-align: right;\">\n",
              "      <th></th>\n",
              "      <th>model</th>\n",
              "      <th>movement</th>\n",
              "      <th>case material</th>\n",
              "      <th>case diameter</th>\n",
              "      <th>year of production</th>\n",
              "    </tr>\n",
              "  </thead>\n",
              "  <tbody>\n",
              "    <tr>\n",
              "      <th>32018</th>\n",
              "      <td>Rolex Submariner Date</td>\n",
              "      <td>Automatic</td>\n",
              "      <td>Steel</td>\n",
              "      <td>41</td>\n",
              "      <td>2022.0</td>\n",
              "    </tr>\n",
              "    <tr>\n",
              "      <th>49965</th>\n",
              "      <td>Rolex Oyster Perpetual</td>\n",
              "      <td>Automatic</td>\n",
              "      <td>Steel</td>\n",
              "      <td>41</td>\n",
              "      <td>2022.0</td>\n",
              "    </tr>\n",
              "    <tr>\n",
              "      <th>49949</th>\n",
              "      <td>Rolex Sea-Dweller</td>\n",
              "      <td>Automatic</td>\n",
              "      <td>Gold/Steel</td>\n",
              "      <td>43</td>\n",
              "      <td>2022.0</td>\n",
              "    </tr>\n",
              "    <tr>\n",
              "      <th>24134</th>\n",
              "      <td>Rolex Datejust</td>\n",
              "      <td>Automatic</td>\n",
              "      <td>Gold/Steel</td>\n",
              "      <td>41</td>\n",
              "      <td>2022.0</td>\n",
              "    </tr>\n",
              "    <tr>\n",
              "      <th>24132</th>\n",
              "      <td>Rolex Day-Date</td>\n",
              "      <td>Automatic</td>\n",
              "      <td>Yellow gold</td>\n",
              "      <td>40</td>\n",
              "      <td>2022.0</td>\n",
              "    </tr>\n",
              "    <tr>\n",
              "      <th>...</th>\n",
              "      <td>...</td>\n",
              "      <td>...</td>\n",
              "      <td>...</td>\n",
              "      <td>...</td>\n",
              "      <td>...</td>\n",
              "    </tr>\n",
              "    <tr>\n",
              "      <th>31323</th>\n",
              "      <td>Rolex Precision</td>\n",
              "      <td>Manual winding</td>\n",
              "      <td>Steel</td>\n",
              "      <td>18</td>\n",
              "      <td>1922.0</td>\n",
              "    </tr>\n",
              "    <tr>\n",
              "      <th>17954</th>\n",
              "      <td>Rolex Prince</td>\n",
              "      <td>Manual winding</td>\n",
              "      <td>Silver</td>\n",
              "      <td>23</td>\n",
              "      <td>1920.0</td>\n",
              "    </tr>\n",
              "    <tr>\n",
              "      <th>44918</th>\n",
              "      <td>Rolex Prince</td>\n",
              "      <td>Manual winding</td>\n",
              "      <td>White gold</td>\n",
              "      <td>12</td>\n",
              "      <td>1920.0</td>\n",
              "    </tr>\n",
              "    <tr>\n",
              "      <th>30293</th>\n",
              "      <td>Rolex Prince</td>\n",
              "      <td>Manual winding</td>\n",
              "      <td>Yellow gold</td>\n",
              "      <td>10</td>\n",
              "      <td>1920.0</td>\n",
              "    </tr>\n",
              "    <tr>\n",
              "      <th>10272</th>\n",
              "      <td>Rolex Prince</td>\n",
              "      <td>Manual winding</td>\n",
              "      <td>Yellow gold</td>\n",
              "      <td>38</td>\n",
              "      <td>1920.0</td>\n",
              "    </tr>\n",
              "  </tbody>\n",
              "</table>\n",
              "<p>64030 rows × 5 columns</p>\n",
              "</div>"
            ],
            "text/plain": [
              "                         model        movement case material case diameter  \\\n",
              "32018    Rolex Submariner Date       Automatic         Steel            41   \n",
              "49965  Rolex Oyster Perpetual        Automatic         Steel            41   \n",
              "49949        Rolex Sea-Dweller       Automatic    Gold/Steel            43   \n",
              "24134          Rolex Datejust        Automatic    Gold/Steel            41   \n",
              "24132          Rolex Day-Date        Automatic   Yellow gold            40   \n",
              "...                        ...             ...           ...           ...   \n",
              "31323          Rolex Precision  Manual winding         Steel            18   \n",
              "17954             Rolex Prince  Manual winding        Silver            23   \n",
              "44918             Rolex Prince  Manual winding    White gold            12   \n",
              "30293             Rolex Prince  Manual winding   Yellow gold            10   \n",
              "10272             Rolex Prince  Manual winding   Yellow gold            38   \n",
              "\n",
              "      year of production  \n",
              "32018             2022.0  \n",
              "49965             2022.0  \n",
              "49949             2022.0  \n",
              "24134             2022.0  \n",
              "24132             2022.0  \n",
              "...                  ...  \n",
              "31323             1922.0  \n",
              "17954             1920.0  \n",
              "44918             1920.0  \n",
              "30293             1920.0  \n",
              "10272             1920.0  \n",
              "\n",
              "[64030 rows x 5 columns]"
            ]
          },
          "execution_count": 117,
          "metadata": {},
          "output_type": "execute_result"
        }
      ],
      "source": [
        "q2df.sort_values(by=['year of production'], ascending=False)"
      ]
    },
    {
      "attachments": {},
      "cell_type": "markdown",
      "metadata": {},
      "source": [
        "Group by year and case material to get the number of each case material in each year"
      ]
    },
    {
      "cell_type": "code",
      "execution_count": 212,
      "metadata": {},
      "outputs": [
        {
          "data": {
            "text/html": [
              "<div>\n",
              "<style scoped>\n",
              "    .dataframe tbody tr th:only-of-type {\n",
              "        vertical-align: middle;\n",
              "    }\n",
              "\n",
              "    .dataframe tbody tr th {\n",
              "        vertical-align: top;\n",
              "    }\n",
              "\n",
              "    .dataframe thead th {\n",
              "        text-align: right;\n",
              "    }\n",
              "</style>\n",
              "<table border=\"1\" class=\"dataframe\">\n",
              "  <thead>\n",
              "    <tr style=\"text-align: right;\">\n",
              "      <th></th>\n",
              "      <th></th>\n",
              "      <th>model</th>\n",
              "      <th>movement</th>\n",
              "      <th>case diameter</th>\n",
              "    </tr>\n",
              "    <tr>\n",
              "      <th>year of production</th>\n",
              "      <th>case material</th>\n",
              "      <th></th>\n",
              "      <th></th>\n",
              "      <th></th>\n",
              "    </tr>\n",
              "  </thead>\n",
              "  <tbody>\n",
              "    <tr>\n",
              "      <th rowspan=\"3\" valign=\"top\">1920.0</th>\n",
              "      <th>Silver</th>\n",
              "      <td>1</td>\n",
              "      <td>1</td>\n",
              "      <td>1</td>\n",
              "    </tr>\n",
              "    <tr>\n",
              "      <th>White gold</th>\n",
              "      <td>1</td>\n",
              "      <td>1</td>\n",
              "      <td>1</td>\n",
              "    </tr>\n",
              "    <tr>\n",
              "      <th>Yellow gold</th>\n",
              "      <td>2</td>\n",
              "      <td>2</td>\n",
              "      <td>2</td>\n",
              "    </tr>\n",
              "    <tr>\n",
              "      <th>1922.0</th>\n",
              "      <th>Steel</th>\n",
              "      <td>1</td>\n",
              "      <td>1</td>\n",
              "      <td>1</td>\n",
              "    </tr>\n",
              "    <tr>\n",
              "      <th>1925.0</th>\n",
              "      <th>Steel</th>\n",
              "      <td>1</td>\n",
              "      <td>1</td>\n",
              "      <td>1</td>\n",
              "    </tr>\n",
              "    <tr>\n",
              "      <th>...</th>\n",
              "      <th>...</th>\n",
              "      <td>...</td>\n",
              "      <td>...</td>\n",
              "      <td>...</td>\n",
              "    </tr>\n",
              "    <tr>\n",
              "      <th rowspan=\"5\" valign=\"top\">2022.0</th>\n",
              "      <th>Silver</th>\n",
              "      <td>40</td>\n",
              "      <td>40</td>\n",
              "      <td>40</td>\n",
              "    </tr>\n",
              "    <tr>\n",
              "      <th>Steel</th>\n",
              "      <td>15131</td>\n",
              "      <td>15131</td>\n",
              "      <td>15131</td>\n",
              "    </tr>\n",
              "    <tr>\n",
              "      <th>Titanium</th>\n",
              "      <td>4</td>\n",
              "      <td>4</td>\n",
              "      <td>4</td>\n",
              "    </tr>\n",
              "    <tr>\n",
              "      <th>White gold</th>\n",
              "      <td>1642</td>\n",
              "      <td>1642</td>\n",
              "      <td>1642</td>\n",
              "    </tr>\n",
              "    <tr>\n",
              "      <th>Yellow gold</th>\n",
              "      <td>2762</td>\n",
              "      <td>2762</td>\n",
              "      <td>2762</td>\n",
              "    </tr>\n",
              "  </tbody>\n",
              "</table>\n",
              "<p>500 rows × 3 columns</p>\n",
              "</div>"
            ],
            "text/plain": [
              "                                  model  movement  case diameter\n",
              "year of production case material                                \n",
              "1920.0             Silver             1         1              1\n",
              "                   White gold         1         1              1\n",
              "                   Yellow gold        2         2              2\n",
              "1922.0             Steel              1         1              1\n",
              "1925.0             Steel              1         1              1\n",
              "...                                 ...       ...            ...\n",
              "2022.0             Silver            40        40             40\n",
              "                   Steel          15131     15131          15131\n",
              "                   Titanium           4         4              4\n",
              "                   White gold      1642      1642           1642\n",
              "                   Yellow gold     2762      2762           2762\n",
              "\n",
              "[500 rows x 3 columns]"
            ]
          },
          "execution_count": 212,
          "metadata": {},
          "output_type": "execute_result"
        }
      ],
      "source": [
        "cmgb = q2df.groupby(\n",
        "    ['year of production', 'case material']).count()\n",
        "cmgb"
      ]
    },
    {
      "attachments": {},
      "cell_type": "markdown",
      "metadata": {},
      "source": [
        "Extract the features and rename the columns"
      ]
    },
    {
      "cell_type": "code",
      "execution_count": 119,
      "metadata": {},
      "outputs": [],
      "source": [
        "cmgb=cmgb.reset_index()\n",
        "cmgb=cmgb.loc[:, ['year of production', 'case material', 'model']].rename(columns={'model': 'count'})"
      ]
    },
    {
      "cell_type": "markdown",
      "metadata": {},
      "source": [
        "Get the most common case material for each year of production"
      ]
    },
    {
      "cell_type": "code",
      "execution_count": 120,
      "metadata": {},
      "outputs": [],
      "source": [
        "res_cm = cmgb.sort_values(\n",
        "    by=['year of production', 'count'],\n",
        "    ascending=[True, False]).drop_duplicates(\n",
        "        subset=['year of production'],\n",
        "        keep='first')"
      ]
    },
    {
      "attachments": {},
      "cell_type": "markdown",
      "metadata": {},
      "source": [
        "Get a list to store all the case materials"
      ]
    },
    {
      "cell_type": "code",
      "execution_count": 122,
      "metadata": {},
      "outputs": [
        {
          "data": {
            "text/plain": [
              "array(['Steel', 'White gold', 'Gold/Steel', 'Yellow gold', 'Rose gold',\n",
              "       'Platinum', 'Silver', 'Red gold', 'Ceramic', 'Carbon', 'Titanium',\n",
              "       'Aluminum'], dtype=object)"
            ]
          },
          "execution_count": 122,
          "metadata": {},
          "output_type": "execute_result"
        }
      ],
      "source": [
        "material_list = tt['case material'].unique()\n",
        "material_list"
      ]
    },
    {
      "attachments": {},
      "cell_type": "markdown",
      "metadata": {},
      "source": [
        "Get all available case materials appeared in res_cm (Most common case materials for each year)"
      ]
    },
    {
      "cell_type": "code",
      "execution_count": 123,
      "metadata": {},
      "outputs": [
        {
          "data": {
            "text/plain": [
              "['Steel', 'Gold/Steel', 'Yellow gold']"
            ]
          },
          "execution_count": 123,
          "metadata": {},
          "output_type": "execute_result"
        }
      ],
      "source": [
        "a_material_list = [m for m in material_list if res_cm.loc[res_cm['case material'] == m].shape[0] != 0]\n",
        "a_material_list"
      ]
    },
    {
      "attachments": {},
      "cell_type": "markdown",
      "metadata": {},
      "source": [
        "Prepare the data for visualizing"
      ]
    },
    {
      "cell_type": "code",
      "execution_count": 124,
      "metadata": {},
      "outputs": [],
      "source": [
        "res_cm_plot = res_cm.copy()\n",
        "for m in a_material_list:\n",
        "    res_cm_plot['case material'] = res_cm_plot['case material'].replace(m, a_material_list.index(m))\n",
        "\n",
        "res_cm_plot1 = res_cm_plot[res_cm_plot['case material'] == 0]\n",
        "res_cm_plot2 = res_cm_plot[res_cm_plot['case material'] == 1]\n",
        "res_cm_plot3 = res_cm_plot[res_cm_plot['case material'] == 2]\n"
      ]
    },
    {
      "attachments": {},
      "cell_type": "markdown",
      "metadata": {},
      "source": [
        "#### How many watches of each case material made in each year to be the most common ?"
      ]
    },
    {
      "attachments": {},
      "cell_type": "markdown",
      "metadata": {},
      "source": [
        "As the Steel material appears to be the most common case material of all time, so this bar plot should be a very long one so we will be visualized in a different way"
      ]
    },
    {
      "cell_type": "code",
      "execution_count": 227,
      "metadata": {},
      "outputs": [
        {
          "data": {
            "image/png": "[encoded data removed]",
            "text/plain": [
              "<Figure size 1500x500 with 1 Axes>"
            ]
          },
          "metadata": {},
          "output_type": "display_data"
        }
      ],
      "source": [
        "# Steel\n",
        "res_cm_plot1.plot(x = 'year of production', y = 'count', label='watches sold', title='Steel', figsize=(15, 5))\n",
        "plt.legend()\n",
        "plt.show()"
      ]
    },
    {
      "cell_type": "code",
      "execution_count": 218,
      "metadata": {},
      "outputs": [
        {
          "data": {
            "image/png": "[encoded data removed]",
            "text/plain": [
              "<Figure size 640x480 with 1 Axes>"
            ]
          },
          "metadata": {},
          "output_type": "display_data"
        }
      ],
      "source": [
        "# Gold/steel\n",
        "res_cm_plot2.plot(x = 'year of production', y = 'count', kind='barh', label='watches sold', title='Gold/steel')\n",
        "plt.show()"
      ]
    },
    {
      "cell_type": "code",
      "execution_count": 219,
      "metadata": {},
      "outputs": [
        {
          "data": {
            "image/png": "[encoded data removed]",
            "text/plain": [
              "<Figure size 640x480 with 1 Axes>"
            ]
          },
          "metadata": {},
          "output_type": "display_data"
        }
      ],
      "source": [
        "# Yellow gold\n",
        "res_cm_plot3.plot(x = 'year of production', y = 'count', kind='barh', label='watches sold', title='Yellow gold')\n",
        "plt.show()"
      ]
    },
    {
      "attachments": {},
      "cell_type": "markdown",
      "metadata": {},
      "source": [
        "#### Visualize the data"
      ]
    },
    {
      "cell_type": "code",
      "execution_count": 129,
      "metadata": {},
      "outputs": [
        {
          "data": {
            "image/png": "[encoded data removed]",
            "text/plain": [
              "<Figure size 2200x300 with 1 Axes>"
            ]
          },
          "metadata": {},
          "output_type": "display_data"
        }
      ],
      "source": [
        "ax = plt.subplots(figsize=(22, 3))\n",
        "scp1 = plt.scatter(res_cm_plot1['year of production'], res_cm_plot1['case material'], s=40, c='red', label='Steel')\n",
        "scp2 = plt.scatter(res_cm_plot2['year of production'], res_cm_plot2['case material'], s=40, c='blue', label='Gold/Steel')\n",
        "scp3 = plt.scatter(res_cm_plot3['year of production'], res_cm_plot3['case material'], s=40, c='green', label='Yellow gold')\n",
        "\n",
        "plt.legend(handles=[scp1, scp2, scp3])\n",
        "plt.title('Most common Rolex watch case material made by year of production')\n",
        "plt.xlabel('Year of production')\n",
        "plt.ylabel('Case material')\n",
        "\n",
        "plt.xticks(np.arange(1920, 2022, 5))\n",
        "plt.show()"
      ]
    },
    {
      "attachments": {},
      "cell_type": "markdown",
      "metadata": {},
      "source": [
        "#### Conclusion b\n",
        "- Steel is the most common case material in Rolex watches from 1920 to now\n",
        "- There were some changes in the case material of Rolex watches in the past but it is not significant enough to be noticed"
      ]
    },
    {
      "attachments": {},
      "cell_type": "markdown",
      "metadata": {},
      "source": [
        "### Conclusion\n",
        "- The most common case material of Rolex watches is Steel from 1920 to now\n",
        "- Rolex changed their strategy to satisfy the needs of their customers\n",
        "  - In this case, they have to change their movement from Manual to Automatic to satisfy the needs of their customers\n",
        "- So if there's nothing changes in the future like Rolex come up a very inovative watches movement or case material, We can assume that in the next years, the majority of Rolex watches sold on the market will be made of Steel and have Automatic movement."
      ]
    },
    {
      "attachments": {},
      "cell_type": "markdown",
      "metadata": {},
      "source": [
        "- By answering this question\n",
        "  - We can know that Rolex is similar to any other business, they have to change their strategy to satisfy the needs of their customers. Before this we thought that Rolex is very much of a traditional company and they would never change their strategy\n",
        "  - We can know that in the future, the majority of Rolex watches sold on the market will be made of Steel and have Automatic movement."
      ]
    },
    {
      "attachments": {},
      "cell_type": "markdown",
      "metadata": {},
      "source": [
        "# Reflection\n"
      ]
    },
    {
      "attachments": {},
      "cell_type": "markdown",
      "metadata": {},
      "source": [
        "| Member  | Difficulties  |\n",
        "|---|---|\n",
        "|Lê Hồ Bảo Nhật   |I find that it kinda hard to preprocess the data before i can do my first question. Our data contains lots of noise in model name, ref number,etc..., these data stays in many form from number to object type and also lots of weird charactera and format. It was quite time-consuming to brainstorm how to deal with it. Other difficulties is which model should i choose, like you hvae already known there are many kinds of model, i have chosen base on time to learn and its performance. I also tried to stack multiple model, it actually worked but the disadvantage is that it cost me about 3-4 hours to increase 1-2% of accuracy. Next problem is that our data miss various important characteristics of rolex watch, which make our model become not too good. Finally, i think that my knowledge before doing this project is like a small fish in a big pond       |   \n",
        "|Ninh Trần Hoàng Quân   |   |"
      ]
    },
    {
      "attachments": {},
      "cell_type": "markdown",
      "metadata": {},
      "source": [
        "| Member  | Knowledge  |\n",
        "|---|---|\n",
        "|Lê Hồ Bảo Nhật   |I have gained various things from this project. In preprocessing, I have learned how to choose a standard form for data. How to choose model and its parameters. And i have a chance to rewind and understand more about SVM, Gradient descent, and some other model. Also i have a chance to learn how to perform project in a nice way. I have a chance to use github and learned some funny stuff of github  |   \n",
        "|Ninh Trần Hoàng Quân   |   |"
      ]
    },
    {
      "attachments": {},
      "cell_type": "markdown",
      "metadata": {},
      "source": [
        "If we have more time "
      ]
    },
    {
      "attachments": {},
      "cell_type": "markdown",
      "metadata": {},
      "source": [
        "| Member  | WalaWalabangbang  |\n",
        "|---|---|\n",
        "|Lê Hồ Bảo Nhật   |I would like to scrape data myself, which can allow me to have more questions to ask. And i can have a chance to learn how to scrape data. I would choose other way like using some model to predict missing values to preprocessing data instead using median for categorical columns and mean for numerical fields.  |   \n",
        "|Ninh Trần Hoàng Quân   |   |"
      ]
    },
    {
      "attachments": {},
      "cell_type": "markdown",
      "metadata": {},
      "source": [
        "# Contribution rate\n",
        "| Member  | %  |\n",
        "|---|---|\n",
        "|Lê Hồ Bảo Nhật   |100%|   \n",
        "|Ninh Trần Hoàng Quân   |100%|"
      ]
    },
    {
      "attachments": {},
      "cell_type": "markdown",
      "metadata": {},
      "source": [
        "# Reference\n",
        "- https://youtu.be/iOVbAmknKUk\n",
        "- https://www.youtube.com/watch?v=UQAKwWUYnuI\n",
        "- https://www.mastersindatascience.org/learning/how-to-deal-with-missing-data/\n",
        "- https://towardsdatascience.com/4-techniques-to-deal-with-missing-data-in-datasets-841f8a303395\n",
        "- https://www.analyticsvidhya.com/blog/2021/10/handling-missing-value/\n",
        "- https://towardsdatascience.com/mercari-price-suggestion-97ff15840dbd\n",
        "- https://builtin.com/data-science/pandas-pivot-tables\n",
        "- https://micro.ai/blog/using-machine-learning-algorithms-to-predict-pricing-trends\n",
        "- https://towardsdatascience.com/simple-model-stacking-explained-and-automated-1b54e4357916\n",
        "- https://scikit-learn.org/"
      ]
    }
  ],
  "metadata": {
    "colab": {
      "provenance": []
    },
    "kernelspec": {
      "display_name": "Python 3.9.12 ('base')",
      "language": "python",
      "name": "python3"
    },
    "language_info": {
      "codemirror_mode": {
        "name": "ipython",
        "version": 3
      },
      "file_extension": ".py",
      "mimetype": "text/x-python",
      "name": "python",
      "nbconvert_exporter": "python",
      "pygments_lexer": "ipython3",
      "version": "3.9.12"
    },
    "orig_nbformat": 4,
    "vscode": {
      "interpreter": {
        "hash": "f5051a862b211aa3ac754ed70592e90620d523e87b3b3d1f0d4bf9ecbd174644"
      }
    }
  },
  "nbformat": 4,
  "nbformat_minor": 0
}
