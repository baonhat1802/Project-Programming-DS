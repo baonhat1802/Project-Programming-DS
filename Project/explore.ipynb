{
  "cells": [
    {
      "cell_type": "code",
      "execution_count": 1,
      "metadata": {
        "id": "6lkBBj_d7uvr"
      },
      "outputs": [],
      "source": [
        "import matplotlib.pyplot as plt\n",
        "import seaborn as sns \n",
        "import pandas as pd\n",
        "import numpy as np\n",
        "import csv\n",
        "\n",
        "from sklearn.model_selection import train_test_split\n",
        "from sklearn.preprocessing import OneHotEncoder, StandardScaler\n",
        "from sklearn.impute import SimpleImputer\n",
        "from sklearn.base import BaseEstimator, TransformerMixin\n",
        "from sklearn.pipeline import Pipeline, make_pipeline\n",
        "from sklearn.compose import ColumnTransformer, make_column_transformer\n",
        "from sklearn.neural_network import MLPClassifier\n",
        "from sklearn import set_config\n",
        "\n",
        "from sklearn.feature_selection import SelectKBest, f_regression\n",
        "\n",
        "from sklearn import svm\n",
        "from sklearn.linear_model import LogisticRegression\n",
        "from sklearn.ensemble import RandomForestClassifier, AdaBoostClassifier\n",
        "from sklearn.tree import DecisionTreeClassifier\n",
        "from sklearn.neighbors import KNeighborsClassifier\n",
        "from sklearn.ensemble import GradientBoostingClassifier\n",
        "from sklearn import metrics\n",
        "from sklearn.metrics import accuracy_score\n",
        "from sklearn.model_selection import KFold, cross_val_score\n",
        "from sklearn.feature_selection import chi2\n",
        "from sklearn.feature_selection import SelectKBest\n",
        "from sklearn.feature_selection import SelectFromModel\n",
        "from sklearn.svm import LinearSVC\n",
        "from sklearn.ensemble import ExtraTreesClassifier\n",
        "from sklearn.ensemble import StackingClassifier\n",
        "from sklearn.naive_bayes import GaussianNB\n",
        "from sklearn.ensemble import RandomForestRegressor\n",
        "from sklearn.neural_network import MLPRegressor\n",
        "import seaborn as sns"
      ]
    },
    {
      "cell_type": "markdown",
      "metadata": {
        "id": "iQpRXGWz7uvu"
      },
      "source": [
        "---\n",
        "# Collecting data\n",
        "Our data is about Rolex watches which are sold on `chrono24.com`.\n",
        "\n",
        "Yes, He allows us to freely use the dataset.\n",
        "\n",
        "He collected this data by scraping with Selenium"
      ]
    },
    {
      "cell_type": "markdown",
      "metadata": {
        "id": "W9pUpPwV7uvw"
      },
      "source": [
        "---\n",
        "# Exploring data"
      ]
    },
    {
      "cell_type": "code",
      "execution_count": 2,
      "metadata": {
        "id": "tyWKIBpl7uvx"
      },
      "outputs": [],
      "source": [
        "rolex_df = pd.read_csv('rolex_scaper_clean.csv')"
      ]
    },
    {
      "cell_type": "markdown",
      "metadata": {
        "id": "d1bCiqNm7uvx"
      },
      "source": [
        "#### Number of rows and columns"
      ]
    },
    {
      "cell_type": "code",
      "execution_count": 3,
      "metadata": {
        "colab": {
          "base_uri": "https://localhost:8080/"
        },
        "id": "A1f3bBMK7uvy",
        "outputId": "3f236e5d-b1e2-449f-c308-5f64c634e83e"
      },
      "outputs": [
        {
          "data": {
            "text/plain": [
              "(87117, 12)"
            ]
          },
          "execution_count": 3,
          "metadata": {},
          "output_type": "execute_result"
        }
      ],
      "source": [
        "num_rows,num_cols = rolex_df.shape\n",
        "rolex_df.shape"
      ]
    },
    {
      "cell_type": "markdown",
      "metadata": {
        "id": "hr2hpIlh7uvz"
      },
      "source": [
        "#### Meaning of each row\n",
        "We can see that each row has information like model, price, ... about the watch."
      ]
    },
    {
      "cell_type": "code",
      "execution_count": 4,
      "metadata": {
        "colab": {
          "base_uri": "https://localhost:8080/",
          "height": 458
        },
        "id": "DvIfZY5s7uvz",
        "outputId": "f7b2152f-7226-46b2-f486-db4363260180"
      },
      "outputs": [
        {
          "data": {
            "text/html": [
              "<div>\n",
              "<style scoped>\n",
              "    .dataframe tbody tr th:only-of-type {\n",
              "        vertical-align: middle;\n",
              "    }\n",
              "\n",
              "    .dataframe tbody tr th {\n",
              "        vertical-align: top;\n",
              "    }\n",
              "\n",
              "    .dataframe thead th {\n",
              "        text-align: right;\n",
              "    }\n",
              "</style>\n",
              "<table border=\"1\" class=\"dataframe\">\n",
              "  <thead>\n",
              "    <tr style=\"text-align: right;\">\n",
              "      <th></th>\n",
              "      <th>model</th>\n",
              "      <th>reference number</th>\n",
              "      <th>price</th>\n",
              "      <th>aditional shipping price</th>\n",
              "      <th>ad name</th>\n",
              "      <th>movement</th>\n",
              "      <th>case material</th>\n",
              "      <th>case diameter</th>\n",
              "      <th>year of production</th>\n",
              "      <th>condition</th>\n",
              "      <th>scope of delivery</th>\n",
              "      <th>location</th>\n",
              "    </tr>\n",
              "  </thead>\n",
              "  <tbody>\n",
              "    <tr>\n",
              "      <th>0</th>\n",
              "      <td>Rolex Lady-Datejust</td>\n",
              "      <td>179161</td>\n",
              "      <td>9080.0</td>\n",
              "      <td>140.0</td>\n",
              "      <td>Steel Rose Gold Black Roman Dial Ladies Watch ...</td>\n",
              "      <td>Automatic</td>\n",
              "      <td>Steel</td>\n",
              "      <td>26 mm</td>\n",
              "      <td>2014.0</td>\n",
              "      <td>Very good</td>\n",
              "      <td>Original box, original papers</td>\n",
              "      <td>United States of America, Georgia</td>\n",
              "    </tr>\n",
              "    <tr>\n",
              "      <th>1</th>\n",
              "      <td>Rolex Chronograph</td>\n",
              "      <td>2917</td>\n",
              "      <td>16202.0</td>\n",
              "      <td>216.0</td>\n",
              "      <td>REF. 2917</td>\n",
              "      <td>Manual winding</td>\n",
              "      <td>Steel</td>\n",
              "      <td>33 mm</td>\n",
              "      <td>1934.0</td>\n",
              "      <td>Very good</td>\n",
              "      <td>Original box, no original papers</td>\n",
              "      <td>Italy, Roma</td>\n",
              "    </tr>\n",
              "    <tr>\n",
              "      <th>2</th>\n",
              "      <td>Rolex Daytona</td>\n",
              "      <td>116519G</td>\n",
              "      <td>41567.0</td>\n",
              "      <td>0.0</td>\n",
              "      <td>保証書付き ROLEX ロレックス デイトナ コスモグラフ K18WG 8Pダイヤ ランダム...</td>\n",
              "      <td>Automatic</td>\n",
              "      <td>White gold</td>\n",
              "      <td>39 mm</td>\n",
              "      <td>NaN</td>\n",
              "      <td>Fair</td>\n",
              "      <td>Original papers, no original box</td>\n",
              "      <td>Japan, Nagoya City</td>\n",
              "    </tr>\n",
              "    <tr>\n",
              "      <th>3</th>\n",
              "      <td>Rolex Submariner Date</td>\n",
              "      <td>116613</td>\n",
              "      <td>19795.0</td>\n",
              "      <td>235.0</td>\n",
              "      <td>New Submariner 116613 Yellow Steel Gold Cerami...</td>\n",
              "      <td>Automatic</td>\n",
              "      <td>Steel</td>\n",
              "      <td>40 mm</td>\n",
              "      <td>2020.0</td>\n",
              "      <td>Unworn</td>\n",
              "      <td>Original box, original papers</td>\n",
              "      <td>United States of America, Florida, Miami</td>\n",
              "    </tr>\n",
              "    <tr>\n",
              "      <th>4</th>\n",
              "      <td>Rolex Submariner Date</td>\n",
              "      <td>16610</td>\n",
              "      <td>10674.0</td>\n",
              "      <td>145.0</td>\n",
              "      <td>1990s ROLEX SUBMARINER 16610 Tritium vintage G...</td>\n",
              "      <td>Automatic</td>\n",
              "      <td>NaN</td>\n",
              "      <td>40 mm</td>\n",
              "      <td>1990.0</td>\n",
              "      <td>Good</td>\n",
              "      <td>Original box, original papers</td>\n",
              "      <td>Japan, Ehime yawatahama</td>\n",
              "    </tr>\n",
              "  </tbody>\n",
              "</table>\n",
              "</div>"
            ],
            "text/plain": [
              "                   model reference number    price  aditional shipping price  \\\n",
              "0    Rolex Lady-Datejust           179161   9080.0                     140.0   \n",
              "1      Rolex Chronograph             2917  16202.0                     216.0   \n",
              "2          Rolex Daytona          116519G  41567.0                       0.0   \n",
              "3  Rolex Submariner Date           116613  19795.0                     235.0   \n",
              "4  Rolex Submariner Date            16610  10674.0                     145.0   \n",
              "\n",
              "                                             ad name        movement  \\\n",
              "0  Steel Rose Gold Black Roman Dial Ladies Watch ...       Automatic   \n",
              "1                                          REF. 2917  Manual winding   \n",
              "2  保証書付き ROLEX ロレックス デイトナ コスモグラフ K18WG 8Pダイヤ ランダム...       Automatic   \n",
              "3  New Submariner 116613 Yellow Steel Gold Cerami...       Automatic   \n",
              "4  1990s ROLEX SUBMARINER 16610 Tritium vintage G...       Automatic   \n",
              "\n",
              "  case material case diameter  year of production  condition  \\\n",
              "0         Steel         26 mm              2014.0  Very good   \n",
              "1         Steel         33 mm              1934.0  Very good   \n",
              "2    White gold         39 mm                 NaN       Fair   \n",
              "3         Steel         40 mm              2020.0     Unworn   \n",
              "4           NaN         40 mm              1990.0       Good   \n",
              "\n",
              "                  scope of delivery                                  location  \n",
              "0     Original box, original papers         United States of America, Georgia  \n",
              "1  Original box, no original papers                               Italy, Roma  \n",
              "2  Original papers, no original box                        Japan, Nagoya City  \n",
              "3     Original box, original papers  United States of America, Florida, Miami  \n",
              "4     Original box, original papers                   Japan, Ehime yawatahama  "
            ]
          },
          "execution_count": 4,
          "metadata": {},
          "output_type": "execute_result"
        }
      ],
      "source": [
        "rolex_df.head()"
      ]
    },
    {
      "cell_type": "markdown",
      "metadata": {
        "id": "rbH0dHz-7uv0"
      },
      "source": [
        "#### Are there duplicated rows ?"
      ]
    },
    {
      "cell_type": "code",
      "execution_count": 5,
      "metadata": {
        "colab": {
          "base_uri": "https://localhost:8080/"
        },
        "id": "7PbV6D-I7uv0",
        "outputId": "5055004c-5f34-4266-dca8-662499c2663a"
      },
      "outputs": [
        {
          "data": {
            "text/plain": [
              "21898"
            ]
          },
          "execution_count": 5,
          "metadata": {},
          "output_type": "execute_result"
        }
      ],
      "source": [
        "rolex_df.duplicated(keep='first').sum()"
      ]
    },
    {
      "cell_type": "markdown",
      "metadata": {
        "id": "6vPtmwjl7uv1"
      },
      "source": [
        "Drop duplicated rows"
      ]
    },
    {
      "cell_type": "code",
      "execution_count": 6,
      "metadata": {
        "id": "jQT_GcPp7uv1"
      },
      "outputs": [],
      "source": [
        "rolex_df.drop_duplicates(inplace=True)"
      ]
    },
    {
      "cell_type": "markdown",
      "metadata": {
        "id": "CtXJFwn27uv1"
      },
      "source": [
        "#### Meaning of each columns ?\n",
        "\n",
        "model: the watch model name\n",
        "\n",
        "reference number: the number to identify the watch model as a whole\n",
        "\n",
        "price: the price on the listing (price made by the reseller)\n",
        "\n",
        "additional shipping price: the price for shipping (0 = free shipping)\n",
        "\n",
        "ad name: the name of the listing on the site\n",
        "\n",
        "movement: the engine of a watch to make the watch and its functions operate\n",
        "\n",
        "case material: the material of the external watch case\n",
        "\n",
        "case diameter: the dimensions of the watch\n",
        "\n",
        "year of production: the year when Rolex fabricate that particular watch\n",
        "\n",
        "condition: the general condition of the watch\n",
        "\n",
        "scope of delivery: the additional things like warranty, or box that could come with the watch\n",
        "\n",
        "location: the location of the reseller\n"
      ]
    },
    {
      "cell_type": "markdown",
      "metadata": {
        "id": "Z9x-sILE7uv2"
      },
      "source": [
        "#### Type of each colum \n",
        "Luckily, all columns are in their right data types except for year of production. It should be categorical (object) instead of float64."
      ]
    },
    {
      "cell_type": "code",
      "execution_count": 7,
      "metadata": {
        "colab": {
          "base_uri": "https://localhost:8080/"
        },
        "id": "2OjnvokD7uv2",
        "outputId": "fdcc413c-8874-4b0a-dc39-785317e8d8d9"
      },
      "outputs": [
        {
          "data": {
            "text/plain": [
              "model                        object\n",
              "reference number             object\n",
              "price                       float64\n",
              "aditional shipping price    float64\n",
              "ad name                      object\n",
              "movement                     object\n",
              "case material                object\n",
              "case diameter                object\n",
              "year of production          float64\n",
              "condition                    object\n",
              "scope of delivery            object\n",
              "location                     object\n",
              "dtype: object"
            ]
          },
          "execution_count": 7,
          "metadata": {},
          "output_type": "execute_result"
        }
      ],
      "source": [
        "rolex_df.dtypes "
      ]
    },
    {
      "cell_type": "markdown",
      "metadata": {
        "id": "MSH7zfQX7uv2"
      },
      "source": [
        "Change data types of year of production column"
      ]
    },
    {
      "cell_type": "code",
      "execution_count": 8,
      "metadata": {
        "colab": {
          "base_uri": "https://localhost:8080/"
        },
        "id": "D65_2jqz7uv3",
        "outputId": "078222fd-fbbf-44c8-9176-f164509830f5"
      },
      "outputs": [
        {
          "data": {
            "text/plain": [
              "model                        object\n",
              "reference number             object\n",
              "price                       float64\n",
              "aditional shipping price    float64\n",
              "ad name                      object\n",
              "movement                     object\n",
              "case material                object\n",
              "case diameter                object\n",
              "year of production           object\n",
              "condition                    object\n",
              "scope of delivery            object\n",
              "location                     object\n",
              "dtype: object"
            ]
          },
          "execution_count": 8,
          "metadata": {},
          "output_type": "execute_result"
        }
      ],
      "source": [
        "rolex_df['year of production'] = rolex_df['year of production'].astype('object')\n",
        "rolex_df.dtypes"
      ]
    },
    {
      "cell_type": "markdown",
      "metadata": {
        "id": "9kCWsaIO7uv3"
      },
      "source": [
        "#### With each numerical column, how are values distributed?"
      ]
    },
    {
      "cell_type": "code",
      "execution_count": 9,
      "metadata": {
        "colab": {
          "base_uri": "https://localhost:8080/",
          "height": 206
        },
        "id": "_r2zsoRi7uv3",
        "outputId": "54ebfc7e-20f0-4ba5-bbf6-95c2f2de23be"
      },
      "outputs": [
        {
          "data": {
            "text/html": [
              "<div>\n",
              "<style scoped>\n",
              "    .dataframe tbody tr th:only-of-type {\n",
              "        vertical-align: middle;\n",
              "    }\n",
              "\n",
              "    .dataframe tbody tr th {\n",
              "        vertical-align: top;\n",
              "    }\n",
              "\n",
              "    .dataframe thead th {\n",
              "        text-align: right;\n",
              "    }\n",
              "</style>\n",
              "<table border=\"1\" class=\"dataframe\">\n",
              "  <thead>\n",
              "    <tr style=\"text-align: right;\">\n",
              "      <th></th>\n",
              "      <th>price</th>\n",
              "      <th>aditional shipping price</th>\n",
              "    </tr>\n",
              "  </thead>\n",
              "  <tbody>\n",
              "    <tr>\n",
              "      <th>0</th>\n",
              "      <td>9080.0</td>\n",
              "      <td>140.0</td>\n",
              "    </tr>\n",
              "    <tr>\n",
              "      <th>1</th>\n",
              "      <td>16202.0</td>\n",
              "      <td>216.0</td>\n",
              "    </tr>\n",
              "    <tr>\n",
              "      <th>2</th>\n",
              "      <td>41567.0</td>\n",
              "      <td>0.0</td>\n",
              "    </tr>\n",
              "    <tr>\n",
              "      <th>3</th>\n",
              "      <td>19795.0</td>\n",
              "      <td>235.0</td>\n",
              "    </tr>\n",
              "    <tr>\n",
              "      <th>4</th>\n",
              "      <td>10674.0</td>\n",
              "      <td>145.0</td>\n",
              "    </tr>\n",
              "  </tbody>\n",
              "</table>\n",
              "</div>"
            ],
            "text/plain": [
              "     price  aditional shipping price\n",
              "0   9080.0                     140.0\n",
              "1  16202.0                     216.0\n",
              "2  41567.0                       0.0\n",
              "3  19795.0                     235.0\n",
              "4  10674.0                     145.0"
            ]
          },
          "execution_count": 9,
          "metadata": {},
          "output_type": "execute_result"
        }
      ],
      "source": [
        "numerical_cols = rolex_df.select_dtypes(include=np.number).copy()\n",
        "numerical_cols.head()"
      ]
    },
    {
      "cell_type": "markdown",
      "metadata": {
        "id": "i7TaLK3o7uv4"
      },
      "source": [
        "Proportion of missing values"
      ]
    },
    {
      "cell_type": "code",
      "execution_count": 10,
      "metadata": {
        "colab": {
          "base_uri": "https://localhost:8080/"
        },
        "id": "U5vxAM5M7uv4",
        "outputId": "07d38769-3839-4742-f3f3-96bbbe2b7f35"
      },
      "outputs": [
        {
          "data": {
            "text/plain": [
              "price                       6.271179\n",
              "aditional shipping price    0.000000\n",
              "dtype: float64"
            ]
          },
          "execution_count": 10,
          "metadata": {},
          "output_type": "execute_result"
        }
      ],
      "source": [
        "num_missing_percentages = (numerical_cols.isna()).sum() / rolex_df.shape[0] * 100\n",
        "num_missing_percentages"
      ]
    },
    {
      "attachments": {},
      "cell_type": "markdown",
      "metadata": {},
      "source": [
        "Describe numerical/categorical columns"
      ]
    },
    {
      "cell_type": "code",
      "execution_count": 11,
      "metadata": {},
      "outputs": [],
      "source": [
        "def describe__(df):\n",
        "    res_df = pd.DataFrame(columns=[df.columns])\n",
        "\n",
        "    try:\n",
        "        res_df.loc['missing_ratio'] = np.asarray(missing_percentages[df.columns])\n",
        "    except:\n",
        "        res_df.loc['missing_ratio'] = np.asarray((df.isna()).sum() / df.shape[0] * 100)\n",
        "        \n",
        "    res_df.loc['num_unique'] = np.asarray(df.nunique())\n",
        "    res_df.loc['unique'] = np.asarray([df[col].unique() for col in df], dtype=object)\n",
        "\n",
        "    return res_df"
      ]
    },
    {
      "cell_type": "markdown",
      "metadata": {
        "id": "ZcA7e5YI7uv4"
      },
      "source": [
        "Describe"
      ]
    },
    {
      "cell_type": "code",
      "execution_count": 12,
      "metadata": {
        "colab": {
          "base_uri": "https://localhost:8080/",
          "height": 300
        },
        "id": "hNCe1IBh7uv5",
        "outputId": "ffb1f69a-c404-4858-fa37-35db826b34f3"
      },
      "outputs": [
        {
          "data": {
            "text/html": [
              "<div>\n",
              "<style scoped>\n",
              "    .dataframe tbody tr th:only-of-type {\n",
              "        vertical-align: middle;\n",
              "    }\n",
              "\n",
              "    .dataframe tbody tr th {\n",
              "        vertical-align: top;\n",
              "    }\n",
              "\n",
              "    .dataframe thead th {\n",
              "        text-align: right;\n",
              "    }\n",
              "</style>\n",
              "<table border=\"1\" class=\"dataframe\">\n",
              "  <thead>\n",
              "    <tr style=\"text-align: right;\">\n",
              "      <th></th>\n",
              "      <th>price</th>\n",
              "      <th>aditional shipping price</th>\n",
              "    </tr>\n",
              "  </thead>\n",
              "  <tbody>\n",
              "    <tr>\n",
              "      <th>count</th>\n",
              "      <td>6.112900e+04</td>\n",
              "      <td>65219.000000</td>\n",
              "    </tr>\n",
              "    <tr>\n",
              "      <th>mean</th>\n",
              "      <td>2.276485e+04</td>\n",
              "      <td>134.830234</td>\n",
              "    </tr>\n",
              "    <tr>\n",
              "      <th>std</th>\n",
              "      <td>3.059692e+04</td>\n",
              "      <td>2580.042710</td>\n",
              "    </tr>\n",
              "    <tr>\n",
              "      <th>min</th>\n",
              "      <td>3.150000e+02</td>\n",
              "      <td>0.000000</td>\n",
              "    </tr>\n",
              "    <tr>\n",
              "      <th>25%</th>\n",
              "      <td>9.157000e+03</td>\n",
              "      <td>31.000000</td>\n",
              "    </tr>\n",
              "    <tr>\n",
              "      <th>50%</th>\n",
              "      <td>1.500000e+04</td>\n",
              "      <td>99.000000</td>\n",
              "    </tr>\n",
              "    <tr>\n",
              "      <th>75%</th>\n",
              "      <td>2.483300e+04</td>\n",
              "      <td>160.000000</td>\n",
              "    </tr>\n",
              "    <tr>\n",
              "      <th>max</th>\n",
              "      <td>1.152102e+06</td>\n",
              "      <td>656389.000000</td>\n",
              "    </tr>\n",
              "  </tbody>\n",
              "</table>\n",
              "</div>"
            ],
            "text/plain": [
              "              price  aditional shipping price\n",
              "count  6.112900e+04              65219.000000\n",
              "mean   2.276485e+04                134.830234\n",
              "std    3.059692e+04               2580.042710\n",
              "min    3.150000e+02                  0.000000\n",
              "25%    9.157000e+03                 31.000000\n",
              "50%    1.500000e+04                 99.000000\n",
              "75%    2.483300e+04                160.000000\n",
              "max    1.152102e+06             656389.000000"
            ]
          },
          "execution_count": 12,
          "metadata": {},
          "output_type": "execute_result"
        }
      ],
      "source": [
        "numerical_cols.describe()"
      ]
    },
    {
      "cell_type": "code",
      "execution_count": 13,
      "metadata": {},
      "outputs": [
        {
          "data": {
            "text/html": [
              "<div>\n",
              "<style scoped>\n",
              "    .dataframe tbody tr th:only-of-type {\n",
              "        vertical-align: middle;\n",
              "    }\n",
              "\n",
              "    .dataframe tbody tr th {\n",
              "        vertical-align: top;\n",
              "    }\n",
              "\n",
              "    .dataframe thead tr th {\n",
              "        text-align: left;\n",
              "    }\n",
              "</style>\n",
              "<table border=\"1\" class=\"dataframe\">\n",
              "  <thead>\n",
              "    <tr>\n",
              "      <th></th>\n",
              "      <th>price</th>\n",
              "      <th>aditional shipping price</th>\n",
              "    </tr>\n",
              "  </thead>\n",
              "  <tbody>\n",
              "    <tr>\n",
              "      <th>missing_ratio</th>\n",
              "      <td>6.271179</td>\n",
              "      <td>0.0</td>\n",
              "    </tr>\n",
              "    <tr>\n",
              "      <th>num_unique</th>\n",
              "      <td>15492.0</td>\n",
              "      <td>299.0</td>\n",
              "    </tr>\n",
              "    <tr>\n",
              "      <th>unique</th>\n",
              "      <td>[9080.0, 16202.0, 41567.0, 19795.0, 10674.0, 2...</td>\n",
              "      <td>[140.0, 216.0, 0.0, 235.0, 145.0, 75.0, 189.0,...</td>\n",
              "    </tr>\n",
              "  </tbody>\n",
              "</table>\n",
              "</div>"
            ],
            "text/plain": [
              "                                                           price  \\\n",
              "missing_ratio                                           6.271179   \n",
              "num_unique                                               15492.0   \n",
              "unique         [9080.0, 16202.0, 41567.0, 19795.0, 10674.0, 2...   \n",
              "\n",
              "                                        aditional shipping price  \n",
              "missing_ratio                                                0.0  \n",
              "num_unique                                                 299.0  \n",
              "unique         [140.0, 216.0, 0.0, 235.0, 145.0, 75.0, 189.0,...  "
            ]
          },
          "execution_count": 13,
          "metadata": {},
          "output_type": "execute_result"
        }
      ],
      "source": [
        "describe__(numerical_cols)"
      ]
    },
    {
      "cell_type": "markdown",
      "metadata": {
        "id": "WIz-j0aX7uv5"
      },
      "source": [
        "#### With each categorical column, how are values distributed?"
      ]
    },
    {
      "cell_type": "code",
      "execution_count": 14,
      "metadata": {},
      "outputs": [
        {
          "data": {
            "text/html": [
              "<div>\n",
              "<style scoped>\n",
              "    .dataframe tbody tr th:only-of-type {\n",
              "        vertical-align: middle;\n",
              "    }\n",
              "\n",
              "    .dataframe tbody tr th {\n",
              "        vertical-align: top;\n",
              "    }\n",
              "\n",
              "    .dataframe thead th {\n",
              "        text-align: right;\n",
              "    }\n",
              "</style>\n",
              "<table border=\"1\" class=\"dataframe\">\n",
              "  <thead>\n",
              "    <tr style=\"text-align: right;\">\n",
              "      <th></th>\n",
              "      <th>model</th>\n",
              "      <th>reference number</th>\n",
              "      <th>ad name</th>\n",
              "      <th>movement</th>\n",
              "      <th>case material</th>\n",
              "      <th>case diameter</th>\n",
              "      <th>year of production</th>\n",
              "      <th>condition</th>\n",
              "      <th>scope of delivery</th>\n",
              "      <th>location</th>\n",
              "    </tr>\n",
              "  </thead>\n",
              "  <tbody>\n",
              "    <tr>\n",
              "      <th>0</th>\n",
              "      <td>Rolex Lady-Datejust</td>\n",
              "      <td>179161</td>\n",
              "      <td>Steel Rose Gold Black Roman Dial Ladies Watch ...</td>\n",
              "      <td>Automatic</td>\n",
              "      <td>Steel</td>\n",
              "      <td>26 mm</td>\n",
              "      <td>2014.0</td>\n",
              "      <td>Very good</td>\n",
              "      <td>Original box, original papers</td>\n",
              "      <td>United States of America, Georgia</td>\n",
              "    </tr>\n",
              "    <tr>\n",
              "      <th>1</th>\n",
              "      <td>Rolex Chronograph</td>\n",
              "      <td>2917</td>\n",
              "      <td>REF. 2917</td>\n",
              "      <td>Manual winding</td>\n",
              "      <td>Steel</td>\n",
              "      <td>33 mm</td>\n",
              "      <td>1934.0</td>\n",
              "      <td>Very good</td>\n",
              "      <td>Original box, no original papers</td>\n",
              "      <td>Italy, Roma</td>\n",
              "    </tr>\n",
              "    <tr>\n",
              "      <th>2</th>\n",
              "      <td>Rolex Daytona</td>\n",
              "      <td>116519G</td>\n",
              "      <td>保証書付き ROLEX ロレックス デイトナ コスモグラフ K18WG 8Pダイヤ ランダム...</td>\n",
              "      <td>Automatic</td>\n",
              "      <td>White gold</td>\n",
              "      <td>39 mm</td>\n",
              "      <td>NaN</td>\n",
              "      <td>Fair</td>\n",
              "      <td>Original papers, no original box</td>\n",
              "      <td>Japan, Nagoya City</td>\n",
              "    </tr>\n",
              "    <tr>\n",
              "      <th>3</th>\n",
              "      <td>Rolex Submariner Date</td>\n",
              "      <td>116613</td>\n",
              "      <td>New Submariner 116613 Yellow Steel Gold Cerami...</td>\n",
              "      <td>Automatic</td>\n",
              "      <td>Steel</td>\n",
              "      <td>40 mm</td>\n",
              "      <td>2020.0</td>\n",
              "      <td>Unworn</td>\n",
              "      <td>Original box, original papers</td>\n",
              "      <td>United States of America, Florida, Miami</td>\n",
              "    </tr>\n",
              "    <tr>\n",
              "      <th>4</th>\n",
              "      <td>Rolex Submariner Date</td>\n",
              "      <td>16610</td>\n",
              "      <td>1990s ROLEX SUBMARINER 16610 Tritium vintage G...</td>\n",
              "      <td>Automatic</td>\n",
              "      <td>NaN</td>\n",
              "      <td>40 mm</td>\n",
              "      <td>1990.0</td>\n",
              "      <td>Good</td>\n",
              "      <td>Original box, original papers</td>\n",
              "      <td>Japan, Ehime yawatahama</td>\n",
              "    </tr>\n",
              "  </tbody>\n",
              "</table>\n",
              "</div>"
            ],
            "text/plain": [
              "                   model reference number  \\\n",
              "0    Rolex Lady-Datejust           179161   \n",
              "1      Rolex Chronograph             2917   \n",
              "2          Rolex Daytona          116519G   \n",
              "3  Rolex Submariner Date           116613   \n",
              "4  Rolex Submariner Date            16610   \n",
              "\n",
              "                                             ad name        movement  \\\n",
              "0  Steel Rose Gold Black Roman Dial Ladies Watch ...       Automatic   \n",
              "1                                          REF. 2917  Manual winding   \n",
              "2  保証書付き ROLEX ロレックス デイトナ コスモグラフ K18WG 8Pダイヤ ランダム...       Automatic   \n",
              "3  New Submariner 116613 Yellow Steel Gold Cerami...       Automatic   \n",
              "4  1990s ROLEX SUBMARINER 16610 Tritium vintage G...       Automatic   \n",
              "\n",
              "  case material case diameter year of production  condition  \\\n",
              "0         Steel         26 mm             2014.0  Very good   \n",
              "1         Steel         33 mm             1934.0  Very good   \n",
              "2    White gold         39 mm                NaN       Fair   \n",
              "3         Steel         40 mm             2020.0     Unworn   \n",
              "4           NaN         40 mm             1990.0       Good   \n",
              "\n",
              "                  scope of delivery                                  location  \n",
              "0     Original box, original papers         United States of America, Georgia  \n",
              "1  Original box, no original papers                               Italy, Roma  \n",
              "2  Original papers, no original box                        Japan, Nagoya City  \n",
              "3     Original box, original papers  United States of America, Florida, Miami  \n",
              "4     Original box, original papers                   Japan, Ehime yawatahama  "
            ]
          },
          "execution_count": 14,
          "metadata": {},
          "output_type": "execute_result"
        }
      ],
      "source": [
        "categorical_cols = rolex_df.select_dtypes(exclude=np.number).copy()\n",
        "categorical_cols.head()"
      ]
    },
    {
      "cell_type": "code",
      "execution_count": 15,
      "metadata": {},
      "outputs": [
        {
          "data": {
            "text/html": [
              "<div>\n",
              "<style scoped>\n",
              "    .dataframe tbody tr th:only-of-type {\n",
              "        vertical-align: middle;\n",
              "    }\n",
              "\n",
              "    .dataframe tbody tr th {\n",
              "        vertical-align: top;\n",
              "    }\n",
              "\n",
              "    .dataframe thead th {\n",
              "        text-align: right;\n",
              "    }\n",
              "</style>\n",
              "<table border=\"1\" class=\"dataframe\">\n",
              "  <thead>\n",
              "    <tr style=\"text-align: right;\">\n",
              "      <th></th>\n",
              "      <th>model</th>\n",
              "      <th>reference number</th>\n",
              "      <th>ad name</th>\n",
              "      <th>movement</th>\n",
              "      <th>case material</th>\n",
              "      <th>case diameter</th>\n",
              "      <th>year of production</th>\n",
              "      <th>condition</th>\n",
              "      <th>scope of delivery</th>\n",
              "      <th>location</th>\n",
              "    </tr>\n",
              "  </thead>\n",
              "  <tbody>\n",
              "    <tr>\n",
              "      <th>count</th>\n",
              "      <td>65219</td>\n",
              "      <td>63127</td>\n",
              "      <td>65161</td>\n",
              "      <td>62855</td>\n",
              "      <td>61721</td>\n",
              "      <td>62312</td>\n",
              "      <td>48335.0</td>\n",
              "      <td>64301</td>\n",
              "      <td>65219</td>\n",
              "      <td>65219</td>\n",
              "    </tr>\n",
              "    <tr>\n",
              "      <th>unique</th>\n",
              "      <td>58</td>\n",
              "      <td>4863</td>\n",
              "      <td>44292</td>\n",
              "      <td>3</td>\n",
              "      <td>13</td>\n",
              "      <td>643</td>\n",
              "      <td>111.0</td>\n",
              "      <td>7</td>\n",
              "      <td>4</td>\n",
              "      <td>4097</td>\n",
              "    </tr>\n",
              "    <tr>\n",
              "      <th>top</th>\n",
              "      <td>Rolex Datejust 36</td>\n",
              "      <td>126334</td>\n",
              "      <td>126334</td>\n",
              "      <td>Automatic</td>\n",
              "      <td>Steel</td>\n",
              "      <td>40 mm</td>\n",
              "      <td>2022.0</td>\n",
              "      <td>Very good</td>\n",
              "      <td>Original box, original papers</td>\n",
              "      <td>United States of America, New York, New York</td>\n",
              "    </tr>\n",
              "    <tr>\n",
              "      <th>freq</th>\n",
              "      <td>8026</td>\n",
              "      <td>1551</td>\n",
              "      <td>333</td>\n",
              "      <td>60696</td>\n",
              "      <td>35519</td>\n",
              "      <td>21627</td>\n",
              "      <td>12016.0</td>\n",
              "      <td>33768</td>\n",
              "      <td>41707</td>\n",
              "      <td>5303</td>\n",
              "    </tr>\n",
              "  </tbody>\n",
              "</table>\n",
              "</div>"
            ],
            "text/plain": [
              "                    model reference number ad name   movement case material  \\\n",
              "count               65219            63127   65161      62855         61721   \n",
              "unique                 58             4863   44292          3            13   \n",
              "top     Rolex Datejust 36           126334  126334  Automatic         Steel   \n",
              "freq                 8026             1551     333      60696         35519   \n",
              "\n",
              "       case diameter  year of production  condition  \\\n",
              "count          62312             48335.0      64301   \n",
              "unique           643               111.0          7   \n",
              "top            40 mm              2022.0  Very good   \n",
              "freq           21627             12016.0      33768   \n",
              "\n",
              "                    scope of delivery  \\\n",
              "count                           65219   \n",
              "unique                              4   \n",
              "top     Original box, original papers   \n",
              "freq                            41707   \n",
              "\n",
              "                                            location  \n",
              "count                                          65219  \n",
              "unique                                          4097  \n",
              "top     United States of America, New York, New York  \n",
              "freq                                            5303  "
            ]
          },
          "execution_count": 15,
          "metadata": {},
          "output_type": "execute_result"
        }
      ],
      "source": [
        "categorical_cols.describe()"
      ]
    },
    {
      "cell_type": "code",
      "execution_count": 16,
      "metadata": {},
      "outputs": [
        {
          "data": {
            "text/html": [
              "<div>\n",
              "<style scoped>\n",
              "    .dataframe tbody tr th:only-of-type {\n",
              "        vertical-align: middle;\n",
              "    }\n",
              "\n",
              "    .dataframe tbody tr th {\n",
              "        vertical-align: top;\n",
              "    }\n",
              "\n",
              "    .dataframe thead tr th {\n",
              "        text-align: left;\n",
              "    }\n",
              "</style>\n",
              "<table border=\"1\" class=\"dataframe\">\n",
              "  <thead>\n",
              "    <tr>\n",
              "      <th></th>\n",
              "      <th>model</th>\n",
              "      <th>reference number</th>\n",
              "      <th>ad name</th>\n",
              "      <th>movement</th>\n",
              "      <th>case material</th>\n",
              "      <th>case diameter</th>\n",
              "      <th>year of production</th>\n",
              "      <th>condition</th>\n",
              "      <th>scope of delivery</th>\n",
              "      <th>location</th>\n",
              "    </tr>\n",
              "  </thead>\n",
              "  <tbody>\n",
              "    <tr>\n",
              "      <th>missing_ratio</th>\n",
              "      <td>0.0</td>\n",
              "      <td>3.207654</td>\n",
              "      <td>0.088931</td>\n",
              "      <td>3.624711</td>\n",
              "      <td>5.363468</td>\n",
              "      <td>4.45729</td>\n",
              "      <td>25.888161</td>\n",
              "      <td>1.407565</td>\n",
              "      <td>0.0</td>\n",
              "      <td>0.0</td>\n",
              "    </tr>\n",
              "    <tr>\n",
              "      <th>num_unique</th>\n",
              "      <td>58.0</td>\n",
              "      <td>4863.0</td>\n",
              "      <td>44292.0</td>\n",
              "      <td>3.0</td>\n",
              "      <td>13.0</td>\n",
              "      <td>643.0</td>\n",
              "      <td>111.0</td>\n",
              "      <td>7.0</td>\n",
              "      <td>4.0</td>\n",
              "      <td>4097.0</td>\n",
              "    </tr>\n",
              "    <tr>\n",
              "      <th>unique</th>\n",
              "      <td>[Rolex Lady-Datejust, Rolex Chronograph, Rolex...</td>\n",
              "      <td>[179161, 2917, 116519G, 116613, 16610, 126331,...</td>\n",
              "      <td>[Steel Rose Gold Black Roman Dial Ladies Watch...</td>\n",
              "      <td>[Automatic, Manual winding, nan, Quartz]</td>\n",
              "      <td>[Steel, White gold, nan, Gold/Steel, Yellow go...</td>\n",
              "      <td>[26 mm, 33 mm, 39 mm, 40 mm, 41 mm, 36 mm, 31 ...</td>\n",
              "      <td>[2014.0, 1934.0, nan, 2020.0, 1990.0, 2022.0, ...</td>\n",
              "      <td>[Very good, Fair, Unworn, Good, New, nan, Poor...</td>\n",
              "      <td>[Original box, original papers, Original box, ...</td>\n",
              "      <td>[United States of America, Georgia, Italy, Rom...</td>\n",
              "    </tr>\n",
              "  </tbody>\n",
              "</table>\n",
              "</div>"
            ],
            "text/plain": [
              "                                                           model  \\\n",
              "missing_ratio                                                0.0   \n",
              "num_unique                                                  58.0   \n",
              "unique         [Rolex Lady-Datejust, Rolex Chronograph, Rolex...   \n",
              "\n",
              "                                                reference number  \\\n",
              "missing_ratio                                           3.207654   \n",
              "num_unique                                                4863.0   \n",
              "unique         [179161, 2917, 116519G, 116613, 16610, 126331,...   \n",
              "\n",
              "                                                         ad name  \\\n",
              "missing_ratio                                           0.088931   \n",
              "num_unique                                               44292.0   \n",
              "unique         [Steel Rose Gold Black Roman Dial Ladies Watch...   \n",
              "\n",
              "                                               movement  \\\n",
              "missing_ratio                                  3.624711   \n",
              "num_unique                                          3.0   \n",
              "unique         [Automatic, Manual winding, nan, Quartz]   \n",
              "\n",
              "                                                   case material  \\\n",
              "missing_ratio                                           5.363468   \n",
              "num_unique                                                  13.0   \n",
              "unique         [Steel, White gold, nan, Gold/Steel, Yellow go...   \n",
              "\n",
              "                                                   case diameter  \\\n",
              "missing_ratio                                            4.45729   \n",
              "num_unique                                                 643.0   \n",
              "unique         [26 mm, 33 mm, 39 mm, 40 mm, 41 mm, 36 mm, 31 ...   \n",
              "\n",
              "                                              year of production  \\\n",
              "missing_ratio                                          25.888161   \n",
              "num_unique                                                 111.0   \n",
              "unique         [2014.0, 1934.0, nan, 2020.0, 1990.0, 2022.0, ...   \n",
              "\n",
              "                                                       condition  \\\n",
              "missing_ratio                                           1.407565   \n",
              "num_unique                                                   7.0   \n",
              "unique         [Very good, Fair, Unworn, Good, New, nan, Poor...   \n",
              "\n",
              "                                               scope of delivery  \\\n",
              "missing_ratio                                                0.0   \n",
              "num_unique                                                   4.0   \n",
              "unique         [Original box, original papers, Original box, ...   \n",
              "\n",
              "                                                        location  \n",
              "missing_ratio                                                0.0  \n",
              "num_unique                                                4097.0  \n",
              "unique         [United States of America, Georgia, Italy, Rom...  "
            ]
          },
          "execution_count": 16,
          "metadata": {},
          "output_type": "execute_result"
        }
      ],
      "source": [
        "describe__(categorical_cols)"
      ]
    },
    {
      "cell_type": "markdown",
      "metadata": {
        "id": "nUe0_tAX7uv6"
      },
      "source": [
        "Percentage of missing values"
      ]
    },
    {
      "cell_type": "code",
      "execution_count": 17,
      "metadata": {
        "colab": {
          "base_uri": "https://localhost:8080/"
        },
        "id": "Jy9uLkl37uv6",
        "outputId": "c3239491-0040-4d68-b81c-a69f9fbee164"
      },
      "outputs": [
        {
          "data": {
            "text/plain": [
              "model                  0.000000\n",
              "reference number       3.207654\n",
              "ad name                0.088931\n",
              "movement               3.624711\n",
              "case material          5.363468\n",
              "case diameter          4.457290\n",
              "year of production    25.888161\n",
              "condition              1.407565\n",
              "scope of delivery      0.000000\n",
              "location               0.000000\n",
              "dtype: float64"
            ]
          },
          "execution_count": 17,
          "metadata": {},
          "output_type": "execute_result"
        }
      ],
      "source": [
        "cate_missing_percentages = (categorical_cols.isna()).sum() / rolex_df.shape[0] * 100\n",
        "cate_missing_percentages"
      ]
    },
    {
      "cell_type": "markdown",
      "metadata": {
        "id": "nP8UgtY57uv6"
      },
      "source": [
        "Number of different values"
      ]
    },
    {
      "cell_type": "code",
      "execution_count": 18,
      "metadata": {
        "colab": {
          "base_uri": "https://localhost:8080/"
        },
        "id": "RhmT5PBd7uv7",
        "outputId": "0cedd3d0-10d6-4e17-e402-7e64a831c69e"
      },
      "outputs": [
        {
          "data": {
            "text/plain": [
              "model                    58\n",
              "reference number       4863\n",
              "ad name               44292\n",
              "movement                  3\n",
              "case material            13\n",
              "case diameter           643\n",
              "year of production      111\n",
              "condition                 7\n",
              "scope of delivery         4\n",
              "location               4097\n",
              "dtype: int64"
            ]
          },
          "execution_count": 18,
          "metadata": {},
          "output_type": "execute_result"
        }
      ],
      "source": [
        "categorical_cols.nunique()"
      ]
    },
    {
      "cell_type": "markdown",
      "metadata": {
        "id": "1rR-FmoB7uv7"
      },
      "source": [
        "---"
      ]
    },
    {
      "cell_type": "markdown",
      "metadata": {
        "id": "XaZ6lexp7uv7"
      },
      "source": [
        "# Asking meaningful questions "
      ]
    },
    {
      "cell_type": "code",
      "execution_count": 19,
      "metadata": {
        "id": "FMo1Zlcj7uv7"
      },
      "outputs": [],
      "source": [
        "rolex_df.drop(columns = ['ad name'],inplace=True)\n",
        "rolex_df = rolex_df[rolex_df['model'] != 'Rolex']"
      ]
    },
    {
      "cell_type": "code",
      "execution_count": 20,
      "metadata": {
        "colab": {
          "base_uri": "https://localhost:8080/",
          "height": 354
        },
        "id": "oMus5hDl7uv8",
        "outputId": "1511b505-1003-4b60-b389-4bbdd94bd0aa"
      },
      "outputs": [
        {
          "data": {
            "text/html": [
              "<div>\n",
              "<style scoped>\n",
              "    .dataframe tbody tr th:only-of-type {\n",
              "        vertical-align: middle;\n",
              "    }\n",
              "\n",
              "    .dataframe tbody tr th {\n",
              "        vertical-align: top;\n",
              "    }\n",
              "\n",
              "    .dataframe thead th {\n",
              "        text-align: right;\n",
              "    }\n",
              "</style>\n",
              "<table border=\"1\" class=\"dataframe\">\n",
              "  <thead>\n",
              "    <tr style=\"text-align: right;\">\n",
              "      <th></th>\n",
              "      <th>model</th>\n",
              "      <th>reference number</th>\n",
              "      <th>price</th>\n",
              "      <th>aditional shipping price</th>\n",
              "      <th>movement</th>\n",
              "      <th>case material</th>\n",
              "      <th>case diameter</th>\n",
              "      <th>year of production</th>\n",
              "      <th>condition</th>\n",
              "      <th>scope of delivery</th>\n",
              "      <th>location</th>\n",
              "    </tr>\n",
              "  </thead>\n",
              "  <tbody>\n",
              "    <tr>\n",
              "      <th>0</th>\n",
              "      <td>Rolex Lady-Datejust</td>\n",
              "      <td>179161</td>\n",
              "      <td>9080.0</td>\n",
              "      <td>140.0</td>\n",
              "      <td>Automatic</td>\n",
              "      <td>Steel</td>\n",
              "      <td>26 mm</td>\n",
              "      <td>2014.0</td>\n",
              "      <td>Very good</td>\n",
              "      <td>Original box, original papers</td>\n",
              "      <td>United States of America, Georgia</td>\n",
              "    </tr>\n",
              "    <tr>\n",
              "      <th>1</th>\n",
              "      <td>Rolex Chronograph</td>\n",
              "      <td>2917</td>\n",
              "      <td>16202.0</td>\n",
              "      <td>216.0</td>\n",
              "      <td>Manual winding</td>\n",
              "      <td>Steel</td>\n",
              "      <td>33 mm</td>\n",
              "      <td>1934.0</td>\n",
              "      <td>Very good</td>\n",
              "      <td>Original box, no original papers</td>\n",
              "      <td>Italy, Roma</td>\n",
              "    </tr>\n",
              "    <tr>\n",
              "      <th>2</th>\n",
              "      <td>Rolex Daytona</td>\n",
              "      <td>116519G</td>\n",
              "      <td>41567.0</td>\n",
              "      <td>0.0</td>\n",
              "      <td>Automatic</td>\n",
              "      <td>White gold</td>\n",
              "      <td>39 mm</td>\n",
              "      <td>NaN</td>\n",
              "      <td>Fair</td>\n",
              "      <td>Original papers, no original box</td>\n",
              "      <td>Japan, Nagoya City</td>\n",
              "    </tr>\n",
              "    <tr>\n",
              "      <th>3</th>\n",
              "      <td>Rolex Submariner Date</td>\n",
              "      <td>116613</td>\n",
              "      <td>19795.0</td>\n",
              "      <td>235.0</td>\n",
              "      <td>Automatic</td>\n",
              "      <td>Steel</td>\n",
              "      <td>40 mm</td>\n",
              "      <td>2020.0</td>\n",
              "      <td>Unworn</td>\n",
              "      <td>Original box, original papers</td>\n",
              "      <td>United States of America, Florida, Miami</td>\n",
              "    </tr>\n",
              "    <tr>\n",
              "      <th>4</th>\n",
              "      <td>Rolex Submariner Date</td>\n",
              "      <td>16610</td>\n",
              "      <td>10674.0</td>\n",
              "      <td>145.0</td>\n",
              "      <td>Automatic</td>\n",
              "      <td>NaN</td>\n",
              "      <td>40 mm</td>\n",
              "      <td>1990.0</td>\n",
              "      <td>Good</td>\n",
              "      <td>Original box, original papers</td>\n",
              "      <td>Japan, Ehime yawatahama</td>\n",
              "    </tr>\n",
              "  </tbody>\n",
              "</table>\n",
              "</div>"
            ],
            "text/plain": [
              "                   model reference number    price  aditional shipping price  \\\n",
              "0    Rolex Lady-Datejust           179161   9080.0                     140.0   \n",
              "1      Rolex Chronograph             2917  16202.0                     216.0   \n",
              "2          Rolex Daytona          116519G  41567.0                       0.0   \n",
              "3  Rolex Submariner Date           116613  19795.0                     235.0   \n",
              "4  Rolex Submariner Date            16610  10674.0                     145.0   \n",
              "\n",
              "         movement case material case diameter year of production  condition  \\\n",
              "0       Automatic         Steel         26 mm             2014.0  Very good   \n",
              "1  Manual winding         Steel         33 mm             1934.0  Very good   \n",
              "2       Automatic    White gold         39 mm                NaN       Fair   \n",
              "3       Automatic         Steel         40 mm             2020.0     Unworn   \n",
              "4       Automatic           NaN         40 mm             1990.0       Good   \n",
              "\n",
              "                  scope of delivery                                  location  \n",
              "0     Original box, original papers         United States of America, Georgia  \n",
              "1  Original box, no original papers                               Italy, Roma  \n",
              "2  Original papers, no original box                        Japan, Nagoya City  \n",
              "3     Original box, original papers  United States of America, Florida, Miami  \n",
              "4     Original box, original papers                   Japan, Ehime yawatahama  "
            ]
          },
          "execution_count": 20,
          "metadata": {},
          "output_type": "execute_result"
        }
      ],
      "source": [
        "rolex_df.reset_index(drop=True,inplace = True)\n",
        "rolex_df.head()"
      ]
    },
    {
      "cell_type": "markdown",
      "metadata": {
        "id": "yD4Gm8Lv7uv9"
      },
      "source": [
        "Check if dataset still consists missing values"
      ]
    },
    {
      "cell_type": "code",
      "execution_count": 21,
      "metadata": {
        "colab": {
          "base_uri": "https://localhost:8080/"
        },
        "id": "RenkXnZj7uv9",
        "outputId": "2412bac6-d333-4def-ba00-a81e6f1b23c0"
      },
      "outputs": [
        {
          "data": {
            "text/plain": [
              "model                        0.000000\n",
              "reference number             2.672060\n",
              "price                        6.321740\n",
              "aditional shipping price     0.000000\n",
              "movement                     3.574719\n",
              "case material                5.241048\n",
              "case diameter                4.289975\n",
              "year of production          25.630534\n",
              "condition                    1.361798\n",
              "scope of delivery            0.000000\n",
              "location                     0.000000\n",
              "dtype: float64"
            ]
          },
          "execution_count": 21,
          "metadata": {},
          "output_type": "execute_result"
        }
      ],
      "source": [
        "missing_percentages = rolex_df.isna().sum()/rolex_df.shape[0]*100\n",
        "missing_percentages"
      ]
    },
    {
      "cell_type": "code",
      "execution_count": 22,
      "metadata": {},
      "outputs": [
        {
          "data": {
            "text/html": [
              "<div>\n",
              "<style scoped>\n",
              "    .dataframe tbody tr th:only-of-type {\n",
              "        vertical-align: middle;\n",
              "    }\n",
              "\n",
              "    .dataframe tbody tr th {\n",
              "        vertical-align: top;\n",
              "    }\n",
              "\n",
              "    .dataframe thead th {\n",
              "        text-align: right;\n",
              "    }\n",
              "</style>\n",
              "<table border=\"1\" class=\"dataframe\">\n",
              "  <thead>\n",
              "    <tr style=\"text-align: right;\">\n",
              "      <th></th>\n",
              "      <th>model</th>\n",
              "      <th>reference number</th>\n",
              "      <th>movement</th>\n",
              "      <th>case material</th>\n",
              "      <th>case diameter</th>\n",
              "      <th>year of production</th>\n",
              "      <th>condition</th>\n",
              "      <th>scope of delivery</th>\n",
              "      <th>location</th>\n",
              "    </tr>\n",
              "  </thead>\n",
              "  <tbody>\n",
              "    <tr>\n",
              "      <th>0</th>\n",
              "      <td>Rolex Lady-Datejust</td>\n",
              "      <td>179161</td>\n",
              "      <td>Automatic</td>\n",
              "      <td>Steel</td>\n",
              "      <td>26 mm</td>\n",
              "      <td>2014.0</td>\n",
              "      <td>Very good</td>\n",
              "      <td>Original box, original papers</td>\n",
              "      <td>United States of America, Georgia</td>\n",
              "    </tr>\n",
              "    <tr>\n",
              "      <th>1</th>\n",
              "      <td>Rolex Chronograph</td>\n",
              "      <td>2917</td>\n",
              "      <td>Manual winding</td>\n",
              "      <td>Steel</td>\n",
              "      <td>33 mm</td>\n",
              "      <td>1934.0</td>\n",
              "      <td>Very good</td>\n",
              "      <td>Original box, no original papers</td>\n",
              "      <td>Italy, Roma</td>\n",
              "    </tr>\n",
              "    <tr>\n",
              "      <th>2</th>\n",
              "      <td>Rolex Daytona</td>\n",
              "      <td>116519G</td>\n",
              "      <td>Automatic</td>\n",
              "      <td>White gold</td>\n",
              "      <td>39 mm</td>\n",
              "      <td>NaN</td>\n",
              "      <td>Fair</td>\n",
              "      <td>Original papers, no original box</td>\n",
              "      <td>Japan, Nagoya City</td>\n",
              "    </tr>\n",
              "  </tbody>\n",
              "</table>\n",
              "</div>"
            ],
            "text/plain": [
              "                 model reference number        movement case material  \\\n",
              "0  Rolex Lady-Datejust           179161       Automatic         Steel   \n",
              "1    Rolex Chronograph             2917  Manual winding         Steel   \n",
              "2        Rolex Daytona          116519G       Automatic    White gold   \n",
              "\n",
              "  case diameter year of production  condition  \\\n",
              "0         26 mm             2014.0  Very good   \n",
              "1         33 mm             1934.0  Very good   \n",
              "2         39 mm                NaN       Fair   \n",
              "\n",
              "                  scope of delivery                           location  \n",
              "0     Original box, original papers  United States of America, Georgia  \n",
              "1  Original box, no original papers                        Italy, Roma  \n",
              "2  Original papers, no original box                 Japan, Nagoya City  "
            ]
          },
          "execution_count": 22,
          "metadata": {},
          "output_type": "execute_result"
        }
      ],
      "source": [
        "# remove ad name from categorical columns\n",
        "new_cat_cols = pd.DataFrame(categorical_cols.drop(columns = ['ad name'],inplace=False))\n",
        "new_cat_cols.head(3)"
      ]
    },
    {
      "attachments": {},
      "cell_type": "markdown",
      "metadata": {},
      "source": [
        "Take a look at categorical/numerical columns missing ratio and unique values "
      ]
    },
    {
      "cell_type": "code",
      "execution_count": 23,
      "metadata": {},
      "outputs": [
        {
          "data": {
            "text/html": [
              "<div>\n",
              "<style scoped>\n",
              "    .dataframe tbody tr th:only-of-type {\n",
              "        vertical-align: middle;\n",
              "    }\n",
              "\n",
              "    .dataframe tbody tr th {\n",
              "        vertical-align: top;\n",
              "    }\n",
              "\n",
              "    .dataframe thead tr th {\n",
              "        text-align: left;\n",
              "    }\n",
              "</style>\n",
              "<table border=\"1\" class=\"dataframe\">\n",
              "  <thead>\n",
              "    <tr>\n",
              "      <th></th>\n",
              "      <th>price</th>\n",
              "      <th>aditional shipping price</th>\n",
              "    </tr>\n",
              "  </thead>\n",
              "  <tbody>\n",
              "    <tr>\n",
              "      <th>missing_ratio</th>\n",
              "      <td>6.32174</td>\n",
              "      <td>0.0</td>\n",
              "    </tr>\n",
              "    <tr>\n",
              "      <th>num_unique</th>\n",
              "      <td>15492.0</td>\n",
              "      <td>299.0</td>\n",
              "    </tr>\n",
              "    <tr>\n",
              "      <th>unique</th>\n",
              "      <td>[9080.0, 16202.0, 41567.0, 19795.0, 10674.0, 2...</td>\n",
              "      <td>[140.0, 216.0, 0.0, 235.0, 145.0, 75.0, 189.0,...</td>\n",
              "    </tr>\n",
              "  </tbody>\n",
              "</table>\n",
              "</div>"
            ],
            "text/plain": [
              "                                                           price  \\\n",
              "missing_ratio                                            6.32174   \n",
              "num_unique                                               15492.0   \n",
              "unique         [9080.0, 16202.0, 41567.0, 19795.0, 10674.0, 2...   \n",
              "\n",
              "                                        aditional shipping price  \n",
              "missing_ratio                                                0.0  \n",
              "num_unique                                                 299.0  \n",
              "unique         [140.0, 216.0, 0.0, 235.0, 145.0, 75.0, 189.0,...  "
            ]
          },
          "execution_count": 23,
          "metadata": {},
          "output_type": "execute_result"
        }
      ],
      "source": [
        "describe__(numerical_cols)"
      ]
    },
    {
      "cell_type": "code",
      "execution_count": 24,
      "metadata": {},
      "outputs": [
        {
          "data": {
            "text/html": [
              "<div>\n",
              "<style scoped>\n",
              "    .dataframe tbody tr th:only-of-type {\n",
              "        vertical-align: middle;\n",
              "    }\n",
              "\n",
              "    .dataframe tbody tr th {\n",
              "        vertical-align: top;\n",
              "    }\n",
              "\n",
              "    .dataframe thead tr th {\n",
              "        text-align: left;\n",
              "    }\n",
              "</style>\n",
              "<table border=\"1\" class=\"dataframe\">\n",
              "  <thead>\n",
              "    <tr>\n",
              "      <th></th>\n",
              "      <th>model</th>\n",
              "      <th>reference number</th>\n",
              "      <th>movement</th>\n",
              "      <th>case material</th>\n",
              "      <th>case diameter</th>\n",
              "      <th>year of production</th>\n",
              "      <th>condition</th>\n",
              "      <th>scope of delivery</th>\n",
              "      <th>location</th>\n",
              "    </tr>\n",
              "  </thead>\n",
              "  <tbody>\n",
              "    <tr>\n",
              "      <th>missing_ratio</th>\n",
              "      <td>0.0</td>\n",
              "      <td>2.67206</td>\n",
              "      <td>3.574719</td>\n",
              "      <td>5.241048</td>\n",
              "      <td>4.289975</td>\n",
              "      <td>25.630534</td>\n",
              "      <td>1.361798</td>\n",
              "      <td>0.0</td>\n",
              "      <td>0.0</td>\n",
              "    </tr>\n",
              "    <tr>\n",
              "      <th>num_unique</th>\n",
              "      <td>58.0</td>\n",
              "      <td>4863.0</td>\n",
              "      <td>3.0</td>\n",
              "      <td>13.0</td>\n",
              "      <td>643.0</td>\n",
              "      <td>111.0</td>\n",
              "      <td>7.0</td>\n",
              "      <td>4.0</td>\n",
              "      <td>4097.0</td>\n",
              "    </tr>\n",
              "    <tr>\n",
              "      <th>unique</th>\n",
              "      <td>[Rolex Lady-Datejust, Rolex Chronograph, Rolex...</td>\n",
              "      <td>[179161, 2917, 116519G, 116613, 16610, 126331,...</td>\n",
              "      <td>[Automatic, Manual winding, nan, Quartz]</td>\n",
              "      <td>[Steel, White gold, nan, Gold/Steel, Yellow go...</td>\n",
              "      <td>[26 mm, 33 mm, 39 mm, 40 mm, 41 mm, 36 mm, 31 ...</td>\n",
              "      <td>[2014.0, 1934.0, nan, 2020.0, 1990.0, 2022.0, ...</td>\n",
              "      <td>[Very good, Fair, Unworn, Good, New, nan, Poor...</td>\n",
              "      <td>[Original box, original papers, Original box, ...</td>\n",
              "      <td>[United States of America, Georgia, Italy, Rom...</td>\n",
              "    </tr>\n",
              "  </tbody>\n",
              "</table>\n",
              "</div>"
            ],
            "text/plain": [
              "                                                           model  \\\n",
              "missing_ratio                                                0.0   \n",
              "num_unique                                                  58.0   \n",
              "unique         [Rolex Lady-Datejust, Rolex Chronograph, Rolex...   \n",
              "\n",
              "                                                reference number  \\\n",
              "missing_ratio                                            2.67206   \n",
              "num_unique                                                4863.0   \n",
              "unique         [179161, 2917, 116519G, 116613, 16610, 126331,...   \n",
              "\n",
              "                                               movement  \\\n",
              "missing_ratio                                  3.574719   \n",
              "num_unique                                          3.0   \n",
              "unique         [Automatic, Manual winding, nan, Quartz]   \n",
              "\n",
              "                                                   case material  \\\n",
              "missing_ratio                                           5.241048   \n",
              "num_unique                                                  13.0   \n",
              "unique         [Steel, White gold, nan, Gold/Steel, Yellow go...   \n",
              "\n",
              "                                                   case diameter  \\\n",
              "missing_ratio                                           4.289975   \n",
              "num_unique                                                 643.0   \n",
              "unique         [26 mm, 33 mm, 39 mm, 40 mm, 41 mm, 36 mm, 31 ...   \n",
              "\n",
              "                                              year of production  \\\n",
              "missing_ratio                                          25.630534   \n",
              "num_unique                                                 111.0   \n",
              "unique         [2014.0, 1934.0, nan, 2020.0, 1990.0, 2022.0, ...   \n",
              "\n",
              "                                                       condition  \\\n",
              "missing_ratio                                           1.361798   \n",
              "num_unique                                                   7.0   \n",
              "unique         [Very good, Fair, Unworn, Good, New, nan, Poor...   \n",
              "\n",
              "                                               scope of delivery  \\\n",
              "missing_ratio                                                0.0   \n",
              "num_unique                                                   4.0   \n",
              "unique         [Original box, original papers, Original box, ...   \n",
              "\n",
              "                                                        location  \n",
              "missing_ratio                                                0.0  \n",
              "num_unique                                                4097.0  \n",
              "unique         [United States of America, Georgia, Italy, Rom...  "
            ]
          },
          "execution_count": 24,
          "metadata": {},
          "output_type": "execute_result"
        }
      ],
      "source": [
        "describe__(new_cat_cols)"
      ]
    }
  ],
  "metadata": {
    "kernelspec": {
      "display_name": "Python 3.9.12 ('base')",
      "language": "python",
      "name": "python3"
    },
    "language_info": {
      "codemirror_mode": {
        "name": "ipython",
        "version": 3
      },
      "file_extension": ".py",
      "mimetype": "text/x-python",
      "name": "python",
      "nbconvert_exporter": "python",
      "pygments_lexer": "ipython3",
      "version": "3.9.12"
    },
    "orig_nbformat": 4,
    "vscode": {
      "interpreter": {
        "hash": "f5051a862b211aa3ac754ed70592e90620d523e87b3b3d1f0d4bf9ecbd174644"
      }
    }
  },
  "nbformat": 4,
  "nbformat_minor": 2
}
