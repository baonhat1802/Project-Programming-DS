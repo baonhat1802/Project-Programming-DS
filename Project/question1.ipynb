{
 "cells": [
  {
   "cell_type": "code",
   "execution_count": null,
   "metadata": {},
   "outputs": [],
   "source": [
    "import matplotlib.pyplot as plt\n",
    "import seaborn as sns \n",
    "import pandas as pd\n",
    "import numpy as np\n",
    "import csv\n",
    "\n",
    "from sklearn.model_selection import train_test_split\n",
    "from sklearn.preprocessing import OneHotEncoder, StandardScaler\n",
    "from sklearn.impute import SimpleImputer\n",
    "from sklearn.base import BaseEstimator, TransformerMixin\n",
    "from sklearn.pipeline import Pipeline, make_pipeline\n",
    "from sklearn.compose import ColumnTransformer, make_column_transformer\n",
    "from sklearn.neural_network import MLPClassifier\n",
    "from sklearn import set_config\n",
    "\n",
    "from sklearn.feature_selection import SelectKBest, f_regression\n",
    "\n",
    "from sklearn import svm\n",
    "from sklearn.linear_model import LogisticRegression\n",
    "from sklearn.ensemble import RandomForestClassifier, AdaBoostClassifier\n",
    "from sklearn.tree import DecisionTreeClassifier\n",
    "from sklearn.neighbors import KNeighborsClassifier\n",
    "from sklearn.ensemble import GradientBoostingClassifier\n",
    "from sklearn import metrics\n",
    "from sklearn.metrics import accuracy_score\n",
    "from sklearn.model_selection import KFold, cross_val_score\n",
    "from sklearn.feature_selection import chi2\n",
    "from sklearn.feature_selection import SelectKBest\n",
    "from sklearn.feature_selection import SelectFromModel\n",
    "from sklearn.svm import LinearSVC\n",
    "from sklearn.ensemble import ExtraTreesClassifier\n",
    "from sklearn.ensemble import StackingClassifier\n",
    "from sklearn.naive_bayes import GaussianNB\n",
    "from sklearn.ensemble import RandomForestRegressor\n",
    "from sklearn.neural_network import MLPRegressor\n",
    "import seaborn as sns"
   ]
  },
  {
    "cell_type": "markdown",
    "metadata": {
      "id": "_TJ_0Joi7uv-"
    },
    "source": [
      "### Question 1 : How can we know if we had bought a great deal (Our team will create a model to predict price of watch) \n",
      "Have you ever wanted to buy a watch but you do not know that the price of the thing that you found is cheap or expensive. That is the reason why we want to ask this question is that our team was in this situations multiple times. We find that it is really time consuming when you have to find the things which we want to buy at a good price. Therefore, we will create a model that can help us and other people who want to buy Rolex save time from searching for a great deal. And if we can solve this problem, we can use this model to predict price of various things not only Rolex watches."
    ]
  },
  {
    "attachments": {},
    "cell_type": "markdown",
    "metadata": {},
    "source": [
      "Class to preprocess data"
    ]
  },
  {
    "cell_type": "code",
    "execution_count": 165,
    "metadata": {
      "id": "gnGZd2C27uv-"
    },
    "outputs": [],
    "source": [
      "class preprocess(BaseEstimator, TransformerMixin):\n",
      "    def fit(self, X_df, y=None):\n",
      "        return self\n",
      "        \n",
      "    def transform (self, X_df):\n",
      "        out_df = X_df.copy()\n",
      "    \n",
      "        #Remove watch's size in model name\n",
      "        out_df['model'].replace(regex = True,to_replace = r\"[0-9]\",value = '',inplace= True)\n",
      "\n",
      "        # #Get true size of case\n",
      "        out_df['case diameter'] = out_df['case diameter'].str.extract(r'(^[\\d][\\d])')\n",
      "\n",
      "        #Preprocess ref number because some ref num are in wrong format (including characters,etc) \n",
      "\n",
      "        tmp = out_df['reference number'].str.extract(r'(\\d+[-]\\d+)|(\\d+)')\n",
      "        tmp[0].fillna(tmp[1],inplace=True)\n",
      "        out_df['reference number'] = tmp[0]\n",
      "\n",
      "        #Replace all Nan with Unknown\n",
      "        out_df['reference number'].replace(regex = True,to_replace = \"\",value = 'Unknown',inplace= True)\n",
      "\n",
      "        out_df['year of production'] = out_df['year of production'].astype(np.number)\n",
      "        out_df.loc[out_df['year of production'] < 1905, 'year of production' ] = np.nan\n",
      "        out_df['year of production'] = out_df['year of production'].astype('object')\n",
      "\n",
      "        model_list = out_df['model'].unique()\n",
      "        for i in model_list:\n",
      "            try:\n",
      "                out_df[out_df['model'] == i]['price'].fillna(value = out_df[out_df['model'] == i]['price'].mean())\n",
      "            except:\n",
      "                pass\n",
      "            try :\n",
      "                out_df[out_df['model'] == i] = out_df[out_df['model'] == i].fillna(out_df[out_df['model'] == i].mode().iloc[0])\n",
      "            except:\n",
      "                pass\n",
      "        return out_df"
    ]
  },
  {
    "cell_type": "markdown",
    "metadata": {
      "id": "g2MvBQss7uv-"
    },
    "source": [
      "Split data"
    ]
  },
  {
    "cell_type": "code",
    "execution_count": 120,
    "metadata": {
      "id": "KSlz62DV7uv_"
    },
    "outputs": [],
    "source": [
      "tmp  = rolex_df[['model', 'reference number', 'price',\n",
      "       'movement', 'case material', 'case diameter', 'year of production',\n",
      "       'condition', 'scope of delivery']].copy()\n",
      "\n",
      "X_train, X_test= train_test_split(tmp, test_size=0.2, random_state=0)\n",
      "X_train = preprocess().transform(X_train)\n",
      "Y_train = X_train['price']\n",
      "X_train.drop(\"price\", axis=1,inplace=True)\n",
      "\n",
      "X_test = preprocess().transform(X_test)\n",
      "Y_test = X_test['price']\n",
      "X_test.drop(\"price\", axis=1,inplace=True)"
    ]
  },
  {
    "attachments": {},
    "cell_type": "markdown",
    "metadata": {},
    "source": [
      "Create pipleline "
    ]
  },
  {
    "cell_type": "code",
    "execution_count": 173,
    "metadata": {
      "id": "9nJpxiEj7uv_"
    },
    "outputs": [],
    "source": [
      "categorical_cols = X_train.select_dtypes(exclude=np.number).columns\n",
      "numerical_cols = X_train.select_dtypes(include = np.number).columns\n",
      "\n",
      "ohe = OneHotEncoder(handle_unknown='ignore',sparse_output=False)\n",
      "scaler = StandardScaler()\n",
      "\n",
      "numerics_pipeline = make_pipeline(scaler)\n",
      "categorical_pipeline = make_pipeline(ohe,scaler)\n",
      "\n",
      "col_transformer = make_column_transformer(\n",
      "    (numerics_pipeline,numerical_cols),\n",
      "    (categorical_pipeline,categorical_cols),\n",
      "    remainder='passthrough')\n",
      "preprocess_pipeline = make_pipeline(preprocess(), col_transformer)\n"
    ]
  },
  {
    "cell_type": "markdown",
    "metadata": {
      "id": "bWibPIE67uv_"
    },
    "source": [
      "Predict"
    ]
  },
  {
    "cell_type": "code",
    "execution_count": 123,
    "metadata": {
      "colab": {
        "base_uri": "https://localhost:8080/"
      },
      "id": "1GwAKBWq7uwA",
      "outputId": "ad6f26ca-a000-4ed2-a593-8e3b253b8677"
    },
    "outputs": [
      {
        "name": "stderr",
        "output_type": "stream",
        "text": [
          "[Parallel(n_jobs=-1)]: Using backend ThreadingBackend with 12 concurrent workers.\n",
          "[Parallel(n_jobs=-1)]: Done  26 tasks      | elapsed:  1.9min\n",
          "[Parallel(n_jobs=-1)]: Done 100 out of 100 | elapsed:  6.5min finished\n",
          "[Parallel(n_jobs=12)]: Using backend ThreadingBackend with 12 concurrent workers.\n",
          "[Parallel(n_jobs=12)]: Done  26 tasks      | elapsed:    0.0s\n",
          "[Parallel(n_jobs=12)]: Done 100 out of 100 | elapsed:    0.1s finished\n"
        ]
      }
    ],
    "source": [
      "full_pipeline = make_pipeline(preprocess_pipeline,RandomForestRegressor(n_jobs = -1,verbose = True))\n",
      "clf = full_pipeline.fit(X_train,Y_train)\n",
      "predict_y = clf.predict(X_test)"
    ]
  },
  {
    "attachments": {},
    "cell_type": "markdown",
    "metadata": {},
    "source": [
      "Accuracy"
    ]
  },
  {
    "attachments": {},
    "cell_type": "markdown",
    "metadata": {},
    "source": [
      "RMSE"
    ]
  },
  {
    "cell_type": "code",
    "execution_count": 124,
    "metadata": {
      "colab": {
        "base_uri": "https://localhost:8080/"
      },
      "id": "b5bcdtIl7uwA",
      "outputId": "a1f70df3-77b3-4333-8d7e-9d4a4d2c2392"
    },
    "outputs": [
      {
        "data": {
          "text/plain": [
            "17937.516284287634"
          ]
        },
        "execution_count": 124,
        "metadata": {},
        "output_type": "execute_result"
      }
    ],
    "source": [
      "from sklearn.metrics import mean_squared_error,r2_score\n",
      "from math import sqrt\n",
      "sqrt(mean_squared_error(predict_y, Y_test))"
    ]
  },
  {
    "attachments": {},
    "cell_type": "markdown",
    "metadata": {},
    "source": [
      "R^2 score"
    ]
  },
  {
    "cell_type": "code",
    "execution_count": 125,
    "metadata": {
      "colab": {
        "base_uri": "https://localhost:8080/"
      },
      "id": "P_T6m4e6yFY3",
      "outputId": "16eba952-0209-4b55-c305-8ec3e4d69a2f"
    },
    "outputs": [
      {
        "data": {
          "text/plain": [
            "0.6503166163593237"
          ]
        },
        "execution_count": 125,
        "metadata": {},
        "output_type": "execute_result"
      }
    ],
    "source": [
      "r2_score(Y_test,predict_y)\n"
    ]
  },
  {
    "attachments": {},
    "cell_type": "markdown",
    "metadata": {},
    "source": [
      "Test accuracy"
    ]
  },
  {
    "cell_type": "code",
    "execution_count": 126,
    "metadata": {
      "colab": {
        "base_uri": "https://localhost:8080/"
      },
      "id": "Pt53RuJn28AS",
      "outputId": "04c18a99-b762-4f1c-94e5-7fd2f01b9ff3"
    },
    "outputs": [
      {
        "name": "stderr",
        "output_type": "stream",
        "text": [
          "[Parallel(n_jobs=12)]: Using backend ThreadingBackend with 12 concurrent workers.\n",
          "[Parallel(n_jobs=12)]: Done  26 tasks      | elapsed:    0.0s\n",
          "[Parallel(n_jobs=12)]: Done 100 out of 100 | elapsed:    0.2s finished\n"
        ]
      },
      {
        "data": {
          "text/plain": [
            "0.6503166163593237"
          ]
        },
        "execution_count": 126,
        "metadata": {},
        "output_type": "execute_result"
      }
    ],
    "source": [
      "clf.score(X_test,Y_test)"
    ]
  },
  {
    "attachments": {},
    "cell_type": "markdown",
    "metadata": {},
    "source": [
      "Train accuracy"
    ]
  },
  {
    "cell_type": "code",
    "execution_count": 127,
    "metadata": {
      "colab": {
        "base_uri": "https://localhost:8080/"
      },
      "id": "UXZt7Ct28LRQ",
      "outputId": "92ea5909-220a-4985-d95e-b5915970890f"
    },
    "outputs": [
      {
        "name": "stderr",
        "output_type": "stream",
        "text": [
          "[Parallel(n_jobs=12)]: Using backend ThreadingBackend with 12 concurrent workers.\n",
          "[Parallel(n_jobs=12)]: Done  26 tasks      | elapsed:    0.2s\n",
          "[Parallel(n_jobs=12)]: Done 100 out of 100 | elapsed:    1.0s finished\n"
        ]
      },
      {
        "data": {
          "text/plain": [
            "0.8683035147997937"
          ]
        },
        "execution_count": 127,
        "metadata": {},
        "output_type": "execute_result"
      }
    ],
    "source": [
      "clf.score(X_train,Y_train)"
    ]
  },
  {
    "attachments": {},
    "cell_type": "markdown",
    "metadata": {},
    "source": [
      "Test model"
    ]
  },
  {
    "attachments": {},
    "cell_type": "markdown",
    "metadata": {},
    "source": [
      "Price of this watch is 12825$"
    ]
  },
  {
    "cell_type": "code",
    "execution_count": 205,
    "metadata": {},
    "outputs": [],
    "source": [
      "Rolex_test = pd.read_csv('test_model.csv')\n"
    ]
  },
  {
    "cell_type": "code",
    "execution_count": 206,
    "metadata": {},
    "outputs": [],
    "source": [
      "df3 = pd.concat([Rolex_test, X_test], ignore_index = True)"
    ]
  },
  {
    "cell_type": "code",
    "execution_count": 207,
    "metadata": {},
    "outputs": [
      {
        "name": "stderr",
        "output_type": "stream",
        "text": [
          "[Parallel(n_jobs=12)]: Using backend ThreadingBackend with 12 concurrent workers.\n",
          "[Parallel(n_jobs=12)]: Done  26 tasks      | elapsed:    0.0s\n",
          "[Parallel(n_jobs=12)]: Done 100 out of 100 | elapsed:    0.2s finished\n"
        ]
      },
      {
        "data": {
          "text/plain": [
            "13352.536412916244"
          ]
        },
        "execution_count": 207,
        "metadata": {},
        "output_type": "execute_result"
      }
    ],
    "source": [
      "clf.predict(df3)[0]"
    ]
  },
  {
    "attachments": {},
    "cell_type": "markdown",
    "metadata": {},
    "source": [
      "#### Conclusion"
    ]
  },
  {
    "attachments": {},
    "cell_type": "markdown",
    "metadata": {},
    "source": [
      "- The accuracy on test set is about **65% and on the training set is approximately 87%**. The model still gives an acceptable prediction on the price of the test watch,although the accuracy of our model on test set is not really high. The true price is 12825$ and the predicted price is about 13352$, i think we can count on this model for the next time when we want to but a new Rolex. \n",
      "- We also tried to stack various models in order to increase the accuracy, but it only enhanced about 2-3% and took too long to run (about 2-3 hours running on Google Colab). That is the reason why on this report we only use the RandomForestRegressor.\n"
    ]
  }
 ],
 "metadata": {
  "kernelspec": {
   "display_name": "Python 3.9.12 ('base')",
   "language": "python",
   "name": "python3"
  },
  "language_info": {
   "name": "python",
   "version": "3.9.12"
  },
  "orig_nbformat": 4,
  "vscode": {
   "interpreter": {
    "hash": "f5051a862b211aa3ac754ed70592e90620d523e87b3b3d1f0d4bf9ecbd174644"
   }
  }
 },
 "nbformat": 4,
 "nbformat_minor": 2
}
