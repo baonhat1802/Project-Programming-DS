{
  "cells": [
    {
      "cell_type": "code",
      "execution_count": 5,
      "metadata": {},
      "outputs": [],
      "source": [
        "import matplotlib.pyplot as plt\n",
        "import seaborn as sns \n",
        "import pandas as pd\n",
        "import numpy as np\n",
        "import csv\n",
        "\n",
        "from sklearn.model_selection import train_test_split\n",
        "from sklearn.preprocessing import OneHotEncoder, StandardScaler\n",
        "from sklearn.impute import SimpleImputer\n",
        "from sklearn.base import BaseEstimator, TransformerMixin\n",
        "from sklearn.pipeline import Pipeline, make_pipeline\n",
        "from sklearn.compose import ColumnTransformer, make_column_transformer\n",
        "from sklearn.neural_network import MLPClassifier\n",
        "from sklearn import set_config\n",
        "\n",
        "from sklearn.feature_selection import SelectKBest, f_regression\n",
        "\n",
        "from sklearn import svm\n",
        "from sklearn.linear_model import LogisticRegression\n",
        "from sklearn.ensemble import RandomForestClassifier, AdaBoostClassifier\n",
        "from sklearn.tree import DecisionTreeClassifier\n",
        "from sklearn.neighbors import KNeighborsClassifier\n",
        "from sklearn.ensemble import GradientBoostingClassifier\n",
        "from sklearn import metrics\n",
        "from sklearn.metrics import accuracy_score\n",
        "from sklearn.model_selection import KFold, cross_val_score\n",
        "from sklearn.feature_selection import chi2\n",
        "from sklearn.feature_selection import SelectKBest\n",
        "from sklearn.feature_selection import SelectFromModel\n",
        "from sklearn.svm import LinearSVC\n",
        "from sklearn.ensemble import ExtraTreesClassifier\n",
        "from sklearn.ensemble import StackingClassifier\n",
        "from sklearn.naive_bayes import GaussianNB\n",
        "from sklearn.ensemble import RandomForestRegressor\n",
        "from sklearn.neural_network import MLPRegressor\n",
        "import seaborn as sns"
      ]
    },
    {
      "attachments": {},
      "cell_type": "markdown",
      "metadata": {},
      "source": [
        "## Preprocess class"
      ]
    },
    {
      "cell_type": "code",
      "execution_count": 6,
      "metadata": {},
      "outputs": [],
      "source": [
        "class preprocess(BaseEstimator, TransformerMixin):\n",
        "    def fit(self, X_df, y=None):\n",
        "        return self\n",
        "        \n",
        "    def transform (self, X_df):\n",
        "        out_df = X_df.copy()\n",
        "    \n",
        "        #Remove watch's size in model name\n",
        "        out_df['model'].replace(regex = True,to_replace = r\"[0-9]\",value = '',inplace= True)\n",
        "\n",
        "        # #Get true size of case\n",
        "        out_df['case diameter'] = out_df['case diameter'].str.extract(r'(^[\\d][\\d])')\n",
        "\n",
        "        #Preprocess ref number because some ref num are in wrong format (including characters,etc) \n",
        "\n",
        "        tmp = out_df['reference number'].str.extract(r'(\\d+[-]\\d+)|(\\d+)')\n",
        "        tmp[0].fillna(tmp[1],inplace=True)\n",
        "        out_df['reference number'] = tmp[0]\n",
        "\n",
        "        #Replace all Nan with Unknown\n",
        "        out_df['reference number'].replace(regex = True,to_replace = \"\",value = 'Unknown',inplace= True)\n",
        "\n",
        "        out_df['year of production'] = out_df['year of production'].astype(np.number)\n",
        "        out_df.loc[out_df['year of production'] < 1905, 'year of production' ] = np.nan\n",
        "        out_df['year of production'] = out_df['year of production'].astype('object')\n",
        "\n",
        "        model_list = out_df['model'].unique()\n",
        "        for i in model_list:\n",
        "            try:\n",
        "                out_df[out_df['model'] == i]['price'].fillna(value = out_df[out_df['model'] == i]['price'].mean())\n",
        "            except:\n",
        "                pass\n",
        "            try :\n",
        "                out_df[out_df['model'] == i] = out_df[out_df['model'] == i].fillna(out_df[out_df['model'] == i].mode().iloc[0])\n",
        "            except:\n",
        "                pass\n",
        "        return out_df"
      ]
    },
    {
      "attachments": {},
      "cell_type": "markdown",
      "metadata": {},
      "source": [
        "## Question 2\n",
        "- How Rolex manufacture their watches over the years (movement, case material) ?\n",
        "- By answering this question, we will know a bit more about how Rolex manufacture their watches to satisfy the needs or their customers over the years"
      ]
    },
    {
      "attachments": {},
      "cell_type": "markdown",
      "metadata": {},
      "source": [
        "### Double check if there are any abnormal values"
      ]
    },
    {
      "attachments": {},
      "cell_type": "markdown",
      "metadata": {},
      "source": [
        "- Get a copy of original data"
      ]
    },
    {
      "cell_type": "code",
      "execution_count": 7,
      "metadata": {},
      "outputs": [],
      "source": [
        "rolex_df = pd.read_csv('rolex_scaper_clean.csv')"
      ]
    },
    {
      "cell_type": "code",
      "execution_count": 8,
      "metadata": {},
      "outputs": [],
      "source": [
        "tt=rolex_df.copy()"
      ]
    },
    {
      "attachments": {},
      "cell_type": "markdown",
      "metadata": {},
      "source": [
        "- Extract features that is needed for answering this question and store to a new dataframe `q2df`"
      ]
    },
    {
      "cell_type": "code",
      "execution_count": 9,
      "metadata": {},
      "outputs": [
        {
          "data": {
            "text/html": [
              "<div>\n",
              "<style scoped>\n",
              "    .dataframe tbody tr th:only-of-type {\n",
              "        vertical-align: middle;\n",
              "    }\n",
              "\n",
              "    .dataframe tbody tr th {\n",
              "        vertical-align: top;\n",
              "    }\n",
              "\n",
              "    .dataframe thead th {\n",
              "        text-align: right;\n",
              "    }\n",
              "</style>\n",
              "<table border=\"1\" class=\"dataframe\">\n",
              "  <thead>\n",
              "    <tr style=\"text-align: right;\">\n",
              "      <th></th>\n",
              "      <th>model</th>\n",
              "      <th>movement</th>\n",
              "      <th>case material</th>\n",
              "      <th>case diameter</th>\n",
              "      <th>year of production</th>\n",
              "    </tr>\n",
              "  </thead>\n",
              "  <tbody>\n",
              "    <tr>\n",
              "      <th>27942</th>\n",
              "      <td>Rolex Datejust</td>\n",
              "      <td>Automatic</td>\n",
              "      <td>Steel</td>\n",
              "      <td>31</td>\n",
              "      <td>20052004.0</td>\n",
              "    </tr>\n",
              "    <tr>\n",
              "      <th>27698</th>\n",
              "      <td>Rolex GMT-Master II</td>\n",
              "      <td>Automatic</td>\n",
              "      <td>Steel</td>\n",
              "      <td>40</td>\n",
              "      <td>2023.0</td>\n",
              "    </tr>\n",
              "    <tr>\n",
              "      <th>2944</th>\n",
              "      <td>Rolex GMT-Master II</td>\n",
              "      <td>Automatic</td>\n",
              "      <td>Steel</td>\n",
              "      <td>40</td>\n",
              "      <td>2023.0</td>\n",
              "    </tr>\n",
              "    <tr>\n",
              "      <th>10094</th>\n",
              "      <td>Rolex Milgauss</td>\n",
              "      <td>Automatic</td>\n",
              "      <td>Steel</td>\n",
              "      <td>40</td>\n",
              "      <td>2023.0</td>\n",
              "    </tr>\n",
              "    <tr>\n",
              "      <th>72665</th>\n",
              "      <td>Rolex Datejust</td>\n",
              "      <td>Automatic</td>\n",
              "      <td>Steel</td>\n",
              "      <td>41</td>\n",
              "      <td>2022.0</td>\n",
              "    </tr>\n",
              "    <tr>\n",
              "      <th>...</th>\n",
              "      <td>...</td>\n",
              "      <td>...</td>\n",
              "      <td>...</td>\n",
              "      <td>...</td>\n",
              "      <td>...</td>\n",
              "    </tr>\n",
              "    <tr>\n",
              "      <th>67147</th>\n",
              "      <td>Rolex</td>\n",
              "      <td>Manual winding</td>\n",
              "      <td>Silver</td>\n",
              "      <td>34</td>\n",
              "      <td>1914.0</td>\n",
              "    </tr>\n",
              "    <tr>\n",
              "      <th>60685</th>\n",
              "      <td>Rolex</td>\n",
              "      <td>Manual winding</td>\n",
              "      <td>Silver</td>\n",
              "      <td>32</td>\n",
              "      <td>1914.0</td>\n",
              "    </tr>\n",
              "    <tr>\n",
              "      <th>3369</th>\n",
              "      <td>Rolex</td>\n",
              "      <td>Manual winding</td>\n",
              "      <td>Silver</td>\n",
              "      <td>34</td>\n",
              "      <td>1914.0</td>\n",
              "    </tr>\n",
              "    <tr>\n",
              "      <th>4729</th>\n",
              "      <td>Rolex</td>\n",
              "      <td>Manual winding</td>\n",
              "      <td>Silver</td>\n",
              "      <td>32</td>\n",
              "      <td>1914.0</td>\n",
              "    </tr>\n",
              "    <tr>\n",
              "      <th>23390</th>\n",
              "      <td>Rolex</td>\n",
              "      <td>Automatic</td>\n",
              "      <td>Steel</td>\n",
              "      <td>29</td>\n",
              "      <td>1910.0</td>\n",
              "    </tr>\n",
              "  </tbody>\n",
              "</table>\n",
              "<p>87117 rows × 5 columns</p>\n",
              "</div>"
            ],
            "text/plain": [
              "                     model        movement case material case diameter  \\\n",
              "27942      Rolex Datejust        Automatic         Steel            31   \n",
              "27698  Rolex GMT-Master II       Automatic         Steel            40   \n",
              "2944   Rolex GMT-Master II       Automatic         Steel            40   \n",
              "10094       Rolex Milgauss       Automatic         Steel            40   \n",
              "72665      Rolex Datejust        Automatic         Steel            41   \n",
              "...                    ...             ...           ...           ...   \n",
              "67147                Rolex  Manual winding        Silver            34   \n",
              "60685                Rolex  Manual winding        Silver            32   \n",
              "3369                 Rolex  Manual winding        Silver            34   \n",
              "4729                 Rolex  Manual winding        Silver            32   \n",
              "23390                Rolex       Automatic         Steel            29   \n",
              "\n",
              "      year of production  \n",
              "27942         20052004.0  \n",
              "27698             2023.0  \n",
              "2944              2023.0  \n",
              "10094             2023.0  \n",
              "72665             2022.0  \n",
              "...                  ...  \n",
              "67147             1914.0  \n",
              "60685             1914.0  \n",
              "3369              1914.0  \n",
              "4729              1914.0  \n",
              "23390             1910.0  \n",
              "\n",
              "[87117 rows x 5 columns]"
            ]
          },
          "execution_count": 9,
          "metadata": {},
          "output_type": "execute_result"
        }
      ],
      "source": [
        "tt=preprocess().transform(tt)\n",
        "q2df=tt[['model', 'movement', 'case material', 'case diameter', 'year of production']]\n",
        "q2df.sort_values(by=['year of production'], ascending=False)"
      ]
    },
    {
      "attachments": {},
      "cell_type": "markdown",
      "metadata": {},
      "source": [
        "- By observing we can see there are some abnormal values in `year of product` column like `20052004` and `2023`\n",
        "- We will drop these rows"
      ]
    },
    {
      "cell_type": "code",
      "execution_count": 10,
      "metadata": {},
      "outputs": [
        {
          "data": {
            "text/html": [
              "<div>\n",
              "<style scoped>\n",
              "    .dataframe tbody tr th:only-of-type {\n",
              "        vertical-align: middle;\n",
              "    }\n",
              "\n",
              "    .dataframe tbody tr th {\n",
              "        vertical-align: top;\n",
              "    }\n",
              "\n",
              "    .dataframe thead th {\n",
              "        text-align: right;\n",
              "    }\n",
              "</style>\n",
              "<table border=\"1\" class=\"dataframe\">\n",
              "  <thead>\n",
              "    <tr style=\"text-align: right;\">\n",
              "      <th></th>\n",
              "      <th>model</th>\n",
              "      <th>movement</th>\n",
              "      <th>case material</th>\n",
              "      <th>case diameter</th>\n",
              "      <th>year of production</th>\n",
              "    </tr>\n",
              "  </thead>\n",
              "  <tbody>\n",
              "    <tr>\n",
              "      <th>43560</th>\n",
              "      <td>Rolex Datejust</td>\n",
              "      <td>Automatic</td>\n",
              "      <td>White gold</td>\n",
              "      <td>36</td>\n",
              "      <td>2022.0</td>\n",
              "    </tr>\n",
              "    <tr>\n",
              "      <th>33261</th>\n",
              "      <td>Rolex Yacht-Master</td>\n",
              "      <td>Automatic</td>\n",
              "      <td>Steel</td>\n",
              "      <td>40</td>\n",
              "      <td>2022.0</td>\n",
              "    </tr>\n",
              "    <tr>\n",
              "      <th>33245</th>\n",
              "      <td>Rolex Oyster Perpetual</td>\n",
              "      <td>Automatic</td>\n",
              "      <td>Steel</td>\n",
              "      <td>33</td>\n",
              "      <td>2022.0</td>\n",
              "    </tr>\n",
              "    <tr>\n",
              "      <th>33246</th>\n",
              "      <td>Rolex GMT-Master II</td>\n",
              "      <td>Automatic</td>\n",
              "      <td>Steel</td>\n",
              "      <td>40</td>\n",
              "      <td>2022.0</td>\n",
              "    </tr>\n",
              "    <tr>\n",
              "      <th>67751</th>\n",
              "      <td>Rolex Oyster Perpetual</td>\n",
              "      <td>Automatic</td>\n",
              "      <td>Steel</td>\n",
              "      <td>36</td>\n",
              "      <td>2022.0</td>\n",
              "    </tr>\n",
              "    <tr>\n",
              "      <th>...</th>\n",
              "      <td>...</td>\n",
              "      <td>...</td>\n",
              "      <td>...</td>\n",
              "      <td>...</td>\n",
              "      <td>...</td>\n",
              "    </tr>\n",
              "    <tr>\n",
              "      <th>67147</th>\n",
              "      <td>Rolex</td>\n",
              "      <td>Manual winding</td>\n",
              "      <td>Silver</td>\n",
              "      <td>34</td>\n",
              "      <td>1914.0</td>\n",
              "    </tr>\n",
              "    <tr>\n",
              "      <th>3369</th>\n",
              "      <td>Rolex</td>\n",
              "      <td>Manual winding</td>\n",
              "      <td>Silver</td>\n",
              "      <td>34</td>\n",
              "      <td>1914.0</td>\n",
              "    </tr>\n",
              "    <tr>\n",
              "      <th>4729</th>\n",
              "      <td>Rolex</td>\n",
              "      <td>Manual winding</td>\n",
              "      <td>Silver</td>\n",
              "      <td>32</td>\n",
              "      <td>1914.0</td>\n",
              "    </tr>\n",
              "    <tr>\n",
              "      <th>60685</th>\n",
              "      <td>Rolex</td>\n",
              "      <td>Manual winding</td>\n",
              "      <td>Silver</td>\n",
              "      <td>32</td>\n",
              "      <td>1914.0</td>\n",
              "    </tr>\n",
              "    <tr>\n",
              "      <th>23390</th>\n",
              "      <td>Rolex</td>\n",
              "      <td>Automatic</td>\n",
              "      <td>Steel</td>\n",
              "      <td>29</td>\n",
              "      <td>1910.0</td>\n",
              "    </tr>\n",
              "  </tbody>\n",
              "</table>\n",
              "<p>87113 rows × 5 columns</p>\n",
              "</div>"
            ],
            "text/plain": [
              "                         model        movement case material case diameter  \\\n",
              "43560          Rolex Datejust        Automatic    White gold            36   \n",
              "33261      Rolex Yacht-Master        Automatic         Steel            40   \n",
              "33245  Rolex Oyster Perpetual        Automatic         Steel            33   \n",
              "33246      Rolex GMT-Master II       Automatic         Steel            40   \n",
              "67751  Rolex Oyster Perpetual        Automatic         Steel            36   \n",
              "...                        ...             ...           ...           ...   \n",
              "67147                    Rolex  Manual winding        Silver            34   \n",
              "3369                     Rolex  Manual winding        Silver            34   \n",
              "4729                     Rolex  Manual winding        Silver            32   \n",
              "60685                    Rolex  Manual winding        Silver            32   \n",
              "23390                    Rolex       Automatic         Steel            29   \n",
              "\n",
              "      year of production  \n",
              "43560             2022.0  \n",
              "33261             2022.0  \n",
              "33245             2022.0  \n",
              "33246             2022.0  \n",
              "67751             2022.0  \n",
              "...                  ...  \n",
              "67147             1914.0  \n",
              "3369              1914.0  \n",
              "4729              1914.0  \n",
              "60685             1914.0  \n",
              "23390             1910.0  \n",
              "\n",
              "[87113 rows x 5 columns]"
            ]
          },
          "execution_count": 10,
          "metadata": {},
          "output_type": "execute_result"
        }
      ],
      "source": [
        "q2df=q2df[q2df['year of production'] <= 2022]\n",
        "q2df.sort_values(by=['year of production'], ascending=False)"
      ]
    },
    {
      "attachments": {},
      "cell_type": "markdown",
      "metadata": {},
      "source": [
        "- All good, now the data is ready "
      ]
    },
    {
      "attachments": {},
      "cell_type": "markdown",
      "metadata": {},
      "source": [
        "### a. How Rolex `movement` changes ?"
      ]
    },
    {
      "attachments": {},
      "cell_type": "markdown",
      "metadata": {},
      "source": [
        "- Count how many time each movement appears in the data"
      ]
    },
    {
      "cell_type": "code",
      "execution_count": 11,
      "metadata": {},
      "outputs": [
        {
          "data": {
            "text/html": [
              "<div>\n",
              "<style scoped>\n",
              "    .dataframe tbody tr th:only-of-type {\n",
              "        vertical-align: middle;\n",
              "    }\n",
              "\n",
              "    .dataframe tbody tr th {\n",
              "        vertical-align: top;\n",
              "    }\n",
              "\n",
              "    .dataframe thead th {\n",
              "        text-align: right;\n",
              "    }\n",
              "</style>\n",
              "<table border=\"1\" class=\"dataframe\">\n",
              "  <thead>\n",
              "    <tr style=\"text-align: right;\">\n",
              "      <th></th>\n",
              "      <th></th>\n",
              "      <th>model</th>\n",
              "      <th>case material</th>\n",
              "      <th>case diameter</th>\n",
              "    </tr>\n",
              "    <tr>\n",
              "      <th>year of production</th>\n",
              "      <th>movement</th>\n",
              "      <th></th>\n",
              "      <th></th>\n",
              "      <th></th>\n",
              "    </tr>\n",
              "  </thead>\n",
              "  <tbody>\n",
              "    <tr>\n",
              "      <th>1910.0</th>\n",
              "      <th>Automatic</th>\n",
              "      <td>1</td>\n",
              "      <td>1</td>\n",
              "      <td>1</td>\n",
              "    </tr>\n",
              "    <tr>\n",
              "      <th>1914.0</th>\n",
              "      <th>Manual winding</th>\n",
              "      <td>4</td>\n",
              "      <td>4</td>\n",
              "      <td>4</td>\n",
              "    </tr>\n",
              "    <tr>\n",
              "      <th>1915.0</th>\n",
              "      <th>Manual winding</th>\n",
              "      <td>5</td>\n",
              "      <td>5</td>\n",
              "      <td>5</td>\n",
              "    </tr>\n",
              "    <tr>\n",
              "      <th>1917.0</th>\n",
              "      <th>Manual winding</th>\n",
              "      <td>4</td>\n",
              "      <td>4</td>\n",
              "      <td>4</td>\n",
              "    </tr>\n",
              "    <tr>\n",
              "      <th>1920.0</th>\n",
              "      <th>Automatic</th>\n",
              "      <td>2</td>\n",
              "      <td>2</td>\n",
              "      <td>2</td>\n",
              "    </tr>\n",
              "    <tr>\n",
              "      <th>...</th>\n",
              "      <th>...</th>\n",
              "      <td>...</td>\n",
              "      <td>...</td>\n",
              "      <td>...</td>\n",
              "    </tr>\n",
              "    <tr>\n",
              "      <th rowspan=\"2\" valign=\"top\">2021.0</th>\n",
              "      <th>Manual winding</th>\n",
              "      <td>9</td>\n",
              "      <td>9</td>\n",
              "      <td>9</td>\n",
              "    </tr>\n",
              "    <tr>\n",
              "      <th>Quartz</th>\n",
              "      <td>1</td>\n",
              "      <td>1</td>\n",
              "      <td>1</td>\n",
              "    </tr>\n",
              "    <tr>\n",
              "      <th rowspan=\"3\" valign=\"top\">2022.0</th>\n",
              "      <th>Automatic</th>\n",
              "      <td>36807</td>\n",
              "      <td>36807</td>\n",
              "      <td>36807</td>\n",
              "    </tr>\n",
              "    <tr>\n",
              "      <th>Manual winding</th>\n",
              "      <td>321</td>\n",
              "      <td>321</td>\n",
              "      <td>321</td>\n",
              "    </tr>\n",
              "    <tr>\n",
              "      <th>Quartz</th>\n",
              "      <td>23</td>\n",
              "      <td>23</td>\n",
              "      <td>23</td>\n",
              "    </tr>\n",
              "  </tbody>\n",
              "</table>\n",
              "<p>233 rows × 3 columns</p>\n",
              "</div>"
            ],
            "text/plain": [
              "                                   model  case material  case diameter\n",
              "year of production movement                                           \n",
              "1910.0             Automatic           1              1              1\n",
              "1914.0             Manual winding      4              4              4\n",
              "1915.0             Manual winding      5              5              5\n",
              "1917.0             Manual winding      4              4              4\n",
              "1920.0             Automatic           2              2              2\n",
              "...                                  ...            ...            ...\n",
              "2021.0             Manual winding      9              9              9\n",
              "                   Quartz              1              1              1\n",
              "2022.0             Automatic       36807          36807          36807\n",
              "                   Manual winding    321            321            321\n",
              "                   Quartz             23             23             23\n",
              "\n",
              "[233 rows x 3 columns]"
            ]
          },
          "execution_count": 11,
          "metadata": {},
          "output_type": "execute_result"
        }
      ],
      "source": [
        "mmgb=q2df.groupby(['year of production', 'movement']).count()\n",
        "mmgb"
      ]
    },
    {
      "attachments": {},
      "cell_type": "markdown",
      "metadata": {},
      "source": [
        "- Reset index and extract and rename the columns that we need"
      ]
    },
    {
      "cell_type": "code",
      "execution_count": 12,
      "metadata": {},
      "outputs": [],
      "source": [
        "# reset index\n",
        "mmgb = mmgb.reset_index()\n",
        "mmgb = mmgb[['year of production', 'movement', 'model']]\n",
        "mmgb = mmgb.rename(columns={'model': 'count'})"
      ]
    },
    {
      "attachments": {},
      "cell_type": "markdown",
      "metadata": {},
      "source": [
        "- Pivot the data to get the number of each movement in each year"
      ]
    },
    {
      "cell_type": "code",
      "execution_count": 13,
      "metadata": {},
      "outputs": [
        {
          "data": {
            "text/html": [
              "<div>\n",
              "<style scoped>\n",
              "    .dataframe tbody tr th:only-of-type {\n",
              "        vertical-align: middle;\n",
              "    }\n",
              "\n",
              "    .dataframe tbody tr th {\n",
              "        vertical-align: top;\n",
              "    }\n",
              "\n",
              "    .dataframe thead th {\n",
              "        text-align: right;\n",
              "    }\n",
              "</style>\n",
              "<table border=\"1\" class=\"dataframe\">\n",
              "  <thead>\n",
              "    <tr style=\"text-align: right;\">\n",
              "      <th>movement</th>\n",
              "      <th>Automatic</th>\n",
              "      <th>Manual winding</th>\n",
              "      <th>Quartz</th>\n",
              "    </tr>\n",
              "    <tr>\n",
              "      <th>year of production</th>\n",
              "      <th></th>\n",
              "      <th></th>\n",
              "      <th></th>\n",
              "    </tr>\n",
              "  </thead>\n",
              "  <tbody>\n",
              "    <tr>\n",
              "      <th>1910.0</th>\n",
              "      <td>1.0</td>\n",
              "      <td>0.0</td>\n",
              "      <td>0.0</td>\n",
              "    </tr>\n",
              "    <tr>\n",
              "      <th>1914.0</th>\n",
              "      <td>0.0</td>\n",
              "      <td>4.0</td>\n",
              "      <td>0.0</td>\n",
              "    </tr>\n",
              "    <tr>\n",
              "      <th>1915.0</th>\n",
              "      <td>0.0</td>\n",
              "      <td>5.0</td>\n",
              "      <td>0.0</td>\n",
              "    </tr>\n",
              "    <tr>\n",
              "      <th>1917.0</th>\n",
              "      <td>0.0</td>\n",
              "      <td>4.0</td>\n",
              "      <td>0.0</td>\n",
              "    </tr>\n",
              "    <tr>\n",
              "      <th>1920.0</th>\n",
              "      <td>2.0</td>\n",
              "      <td>14.0</td>\n",
              "      <td>0.0</td>\n",
              "    </tr>\n",
              "    <tr>\n",
              "      <th>...</th>\n",
              "      <td>...</td>\n",
              "      <td>...</td>\n",
              "      <td>...</td>\n",
              "    </tr>\n",
              "    <tr>\n",
              "      <th>2018.0</th>\n",
              "      <td>1695.0</td>\n",
              "      <td>4.0</td>\n",
              "      <td>0.0</td>\n",
              "    </tr>\n",
              "    <tr>\n",
              "      <th>2019.0</th>\n",
              "      <td>2176.0</td>\n",
              "      <td>3.0</td>\n",
              "      <td>0.0</td>\n",
              "    </tr>\n",
              "    <tr>\n",
              "      <th>2020.0</th>\n",
              "      <td>3116.0</td>\n",
              "      <td>7.0</td>\n",
              "      <td>0.0</td>\n",
              "    </tr>\n",
              "    <tr>\n",
              "      <th>2021.0</th>\n",
              "      <td>6787.0</td>\n",
              "      <td>9.0</td>\n",
              "      <td>1.0</td>\n",
              "    </tr>\n",
              "    <tr>\n",
              "      <th>2022.0</th>\n",
              "      <td>36807.0</td>\n",
              "      <td>321.0</td>\n",
              "      <td>23.0</td>\n",
              "    </tr>\n",
              "  </tbody>\n",
              "</table>\n",
              "<p>102 rows × 3 columns</p>\n",
              "</div>"
            ],
            "text/plain": [
              "movement            Automatic  Manual winding  Quartz\n",
              "year of production                                   \n",
              "1910.0                    1.0             0.0     0.0\n",
              "1914.0                    0.0             4.0     0.0\n",
              "1915.0                    0.0             5.0     0.0\n",
              "1917.0                    0.0             4.0     0.0\n",
              "1920.0                    2.0            14.0     0.0\n",
              "...                       ...             ...     ...\n",
              "2018.0                 1695.0             4.0     0.0\n",
              "2019.0                 2176.0             3.0     0.0\n",
              "2020.0                 3116.0             7.0     0.0\n",
              "2021.0                 6787.0             9.0     1.0\n",
              "2022.0                36807.0           321.0    23.0\n",
              "\n",
              "[102 rows x 3 columns]"
            ]
          },
          "execution_count": 13,
          "metadata": {},
          "output_type": "execute_result"
        }
      ],
      "source": [
        "res_mm = mmgb.pivot(index='year of production', columns='movement', values='count')\n",
        "res_mm = res_mm.fillna(0)\n",
        "res_mm"
      ]
    },
    {
      "attachments": {},
      "cell_type": "markdown",
      "metadata": {},
      "source": [
        "- Get the most common movement in each year"
      ]
    },
    {
      "cell_type": "code",
      "execution_count": 14,
      "metadata": {},
      "outputs": [
        {
          "data": {
            "text/html": [
              "<div>\n",
              "<style scoped>\n",
              "    .dataframe tbody tr th:only-of-type {\n",
              "        vertical-align: middle;\n",
              "    }\n",
              "\n",
              "    .dataframe tbody tr th {\n",
              "        vertical-align: top;\n",
              "    }\n",
              "\n",
              "    .dataframe thead th {\n",
              "        text-align: right;\n",
              "    }\n",
              "</style>\n",
              "<table border=\"1\" class=\"dataframe\">\n",
              "  <thead>\n",
              "    <tr style=\"text-align: right;\">\n",
              "      <th></th>\n",
              "      <th>year of production</th>\n",
              "      <th>movement</th>\n",
              "    </tr>\n",
              "  </thead>\n",
              "  <tbody>\n",
              "    <tr>\n",
              "      <th>0</th>\n",
              "      <td>1910.0</td>\n",
              "      <td>Automatic</td>\n",
              "    </tr>\n",
              "    <tr>\n",
              "      <th>1</th>\n",
              "      <td>1914.0</td>\n",
              "      <td>Manual winding</td>\n",
              "    </tr>\n",
              "    <tr>\n",
              "      <th>2</th>\n",
              "      <td>1915.0</td>\n",
              "      <td>Manual winding</td>\n",
              "    </tr>\n",
              "    <tr>\n",
              "      <th>3</th>\n",
              "      <td>1917.0</td>\n",
              "      <td>Manual winding</td>\n",
              "    </tr>\n",
              "    <tr>\n",
              "      <th>4</th>\n",
              "      <td>1920.0</td>\n",
              "      <td>Manual winding</td>\n",
              "    </tr>\n",
              "    <tr>\n",
              "      <th>...</th>\n",
              "      <td>...</td>\n",
              "      <td>...</td>\n",
              "    </tr>\n",
              "    <tr>\n",
              "      <th>97</th>\n",
              "      <td>2018.0</td>\n",
              "      <td>Automatic</td>\n",
              "    </tr>\n",
              "    <tr>\n",
              "      <th>98</th>\n",
              "      <td>2019.0</td>\n",
              "      <td>Automatic</td>\n",
              "    </tr>\n",
              "    <tr>\n",
              "      <th>99</th>\n",
              "      <td>2020.0</td>\n",
              "      <td>Automatic</td>\n",
              "    </tr>\n",
              "    <tr>\n",
              "      <th>100</th>\n",
              "      <td>2021.0</td>\n",
              "      <td>Automatic</td>\n",
              "    </tr>\n",
              "    <tr>\n",
              "      <th>101</th>\n",
              "      <td>2022.0</td>\n",
              "      <td>Automatic</td>\n",
              "    </tr>\n",
              "  </tbody>\n",
              "</table>\n",
              "<p>102 rows × 2 columns</p>\n",
              "</div>"
            ],
            "text/plain": [
              "     year of production        movement\n",
              "0                1910.0       Automatic\n",
              "1                1914.0  Manual winding\n",
              "2                1915.0  Manual winding\n",
              "3                1917.0  Manual winding\n",
              "4                1920.0  Manual winding\n",
              "..                  ...             ...\n",
              "97               2018.0       Automatic\n",
              "98               2019.0       Automatic\n",
              "99               2020.0       Automatic\n",
              "100              2021.0       Automatic\n",
              "101              2022.0       Automatic\n",
              "\n",
              "[102 rows x 2 columns]"
            ]
          },
          "execution_count": 14,
          "metadata": {},
          "output_type": "execute_result"
        }
      ],
      "source": [
        "res_mmdf = pd.DataFrame(res_mm.idxmax(axis=1), columns=['movement']).reset_index()\n",
        "res_mmdf"
      ]
    },
    {
      "attachments": {},
      "cell_type": "markdown",
      "metadata": {},
      "source": [
        "- Create a list to store all the movements available"
      ]
    },
    {
      "cell_type": "code",
      "execution_count": 15,
      "metadata": {},
      "outputs": [
        {
          "data": {
            "text/plain": [
              "array(['Automatic', 'Manual winding', 'Quartz'], dtype=object)"
            ]
          },
          "execution_count": 15,
          "metadata": {},
          "output_type": "execute_result"
        }
      ],
      "source": [
        "mm_list = tt['movement'].unique()\n",
        "mm_list"
      ]
    },
    {
      "attachments": {},
      "cell_type": "markdown",
      "metadata": {},
      "source": [
        "Select all years that have Automatic as the most common movement"
      ]
    },
    {
      "cell_type": "code",
      "execution_count": 16,
      "metadata": {},
      "outputs": [
        {
          "data": {
            "text/html": [
              "<div>\n",
              "<style scoped>\n",
              "    .dataframe tbody tr th:only-of-type {\n",
              "        vertical-align: middle;\n",
              "    }\n",
              "\n",
              "    .dataframe tbody tr th {\n",
              "        vertical-align: top;\n",
              "    }\n",
              "\n",
              "    .dataframe thead th {\n",
              "        text-align: right;\n",
              "    }\n",
              "</style>\n",
              "<table border=\"1\" class=\"dataframe\">\n",
              "  <thead>\n",
              "    <tr style=\"text-align: right;\">\n",
              "      <th></th>\n",
              "      <th>year of production</th>\n",
              "      <th>movement</th>\n",
              "    </tr>\n",
              "  </thead>\n",
              "  <tbody>\n",
              "    <tr>\n",
              "      <th>0</th>\n",
              "      <td>1910.0</td>\n",
              "      <td>Automatic</td>\n",
              "    </tr>\n",
              "    <tr>\n",
              "      <th>24</th>\n",
              "      <td>1945.0</td>\n",
              "      <td>Automatic</td>\n",
              "    </tr>\n",
              "    <tr>\n",
              "      <th>27</th>\n",
              "      <td>1948.0</td>\n",
              "      <td>Automatic</td>\n",
              "    </tr>\n",
              "    <tr>\n",
              "      <th>28</th>\n",
              "      <td>1949.0</td>\n",
              "      <td>Automatic</td>\n",
              "    </tr>\n",
              "    <tr>\n",
              "      <th>30</th>\n",
              "      <td>1951.0</td>\n",
              "      <td>Automatic</td>\n",
              "    </tr>\n",
              "    <tr>\n",
              "      <th>...</th>\n",
              "      <td>...</td>\n",
              "      <td>...</td>\n",
              "    </tr>\n",
              "    <tr>\n",
              "      <th>97</th>\n",
              "      <td>2018.0</td>\n",
              "      <td>Automatic</td>\n",
              "    </tr>\n",
              "    <tr>\n",
              "      <th>98</th>\n",
              "      <td>2019.0</td>\n",
              "      <td>Automatic</td>\n",
              "    </tr>\n",
              "    <tr>\n",
              "      <th>99</th>\n",
              "      <td>2020.0</td>\n",
              "      <td>Automatic</td>\n",
              "    </tr>\n",
              "    <tr>\n",
              "      <th>100</th>\n",
              "      <td>2021.0</td>\n",
              "      <td>Automatic</td>\n",
              "    </tr>\n",
              "    <tr>\n",
              "      <th>101</th>\n",
              "      <td>2022.0</td>\n",
              "      <td>Automatic</td>\n",
              "    </tr>\n",
              "  </tbody>\n",
              "</table>\n",
              "<p>75 rows × 2 columns</p>\n",
              "</div>"
            ],
            "text/plain": [
              "     year of production   movement\n",
              "0                1910.0  Automatic\n",
              "24               1945.0  Automatic\n",
              "27               1948.0  Automatic\n",
              "28               1949.0  Automatic\n",
              "30               1951.0  Automatic\n",
              "..                  ...        ...\n",
              "97               2018.0  Automatic\n",
              "98               2019.0  Automatic\n",
              "99               2020.0  Automatic\n",
              "100              2021.0  Automatic\n",
              "101              2022.0  Automatic\n",
              "\n",
              "[75 rows x 2 columns]"
            ]
          },
          "execution_count": 16,
          "metadata": {},
          "output_type": "execute_result"
        }
      ],
      "source": [
        "# Automatic\n",
        "res_mmdf.loc[res_mmdf['movement'] == mm_list[0]]"
      ]
    },
    {
      "attachments": {},
      "cell_type": "markdown",
      "metadata": {},
      "source": [
        "Manual winding"
      ]
    },
    {
      "cell_type": "code",
      "execution_count": 17,
      "metadata": {},
      "outputs": [
        {
          "data": {
            "text/html": [
              "<div>\n",
              "<style scoped>\n",
              "    .dataframe tbody tr th:only-of-type {\n",
              "        vertical-align: middle;\n",
              "    }\n",
              "\n",
              "    .dataframe tbody tr th {\n",
              "        vertical-align: top;\n",
              "    }\n",
              "\n",
              "    .dataframe thead th {\n",
              "        text-align: right;\n",
              "    }\n",
              "</style>\n",
              "<table border=\"1\" class=\"dataframe\">\n",
              "  <thead>\n",
              "    <tr style=\"text-align: right;\">\n",
              "      <th></th>\n",
              "      <th>year of production</th>\n",
              "      <th>movement</th>\n",
              "    </tr>\n",
              "  </thead>\n",
              "  <tbody>\n",
              "    <tr>\n",
              "      <th>1</th>\n",
              "      <td>1914.0</td>\n",
              "      <td>Manual winding</td>\n",
              "    </tr>\n",
              "    <tr>\n",
              "      <th>2</th>\n",
              "      <td>1915.0</td>\n",
              "      <td>Manual winding</td>\n",
              "    </tr>\n",
              "    <tr>\n",
              "      <th>3</th>\n",
              "      <td>1917.0</td>\n",
              "      <td>Manual winding</td>\n",
              "    </tr>\n",
              "    <tr>\n",
              "      <th>4</th>\n",
              "      <td>1920.0</td>\n",
              "      <td>Manual winding</td>\n",
              "    </tr>\n",
              "    <tr>\n",
              "      <th>5</th>\n",
              "      <td>1922.0</td>\n",
              "      <td>Manual winding</td>\n",
              "    </tr>\n",
              "    <tr>\n",
              "      <th>6</th>\n",
              "      <td>1924.0</td>\n",
              "      <td>Manual winding</td>\n",
              "    </tr>\n",
              "    <tr>\n",
              "      <th>7</th>\n",
              "      <td>1925.0</td>\n",
              "      <td>Manual winding</td>\n",
              "    </tr>\n",
              "    <tr>\n",
              "      <th>8</th>\n",
              "      <td>1927.0</td>\n",
              "      <td>Manual winding</td>\n",
              "    </tr>\n",
              "    <tr>\n",
              "      <th>9</th>\n",
              "      <td>1928.0</td>\n",
              "      <td>Manual winding</td>\n",
              "    </tr>\n",
              "    <tr>\n",
              "      <th>10</th>\n",
              "      <td>1930.0</td>\n",
              "      <td>Manual winding</td>\n",
              "    </tr>\n",
              "    <tr>\n",
              "      <th>11</th>\n",
              "      <td>1932.0</td>\n",
              "      <td>Manual winding</td>\n",
              "    </tr>\n",
              "    <tr>\n",
              "      <th>12</th>\n",
              "      <td>1933.0</td>\n",
              "      <td>Manual winding</td>\n",
              "    </tr>\n",
              "    <tr>\n",
              "      <th>13</th>\n",
              "      <td>1934.0</td>\n",
              "      <td>Manual winding</td>\n",
              "    </tr>\n",
              "    <tr>\n",
              "      <th>14</th>\n",
              "      <td>1935.0</td>\n",
              "      <td>Manual winding</td>\n",
              "    </tr>\n",
              "    <tr>\n",
              "      <th>15</th>\n",
              "      <td>1936.0</td>\n",
              "      <td>Manual winding</td>\n",
              "    </tr>\n",
              "    <tr>\n",
              "      <th>16</th>\n",
              "      <td>1937.0</td>\n",
              "      <td>Manual winding</td>\n",
              "    </tr>\n",
              "    <tr>\n",
              "      <th>17</th>\n",
              "      <td>1938.0</td>\n",
              "      <td>Manual winding</td>\n",
              "    </tr>\n",
              "    <tr>\n",
              "      <th>18</th>\n",
              "      <td>1939.0</td>\n",
              "      <td>Manual winding</td>\n",
              "    </tr>\n",
              "    <tr>\n",
              "      <th>19</th>\n",
              "      <td>1940.0</td>\n",
              "      <td>Manual winding</td>\n",
              "    </tr>\n",
              "    <tr>\n",
              "      <th>20</th>\n",
              "      <td>1941.0</td>\n",
              "      <td>Manual winding</td>\n",
              "    </tr>\n",
              "    <tr>\n",
              "      <th>21</th>\n",
              "      <td>1942.0</td>\n",
              "      <td>Manual winding</td>\n",
              "    </tr>\n",
              "    <tr>\n",
              "      <th>22</th>\n",
              "      <td>1943.0</td>\n",
              "      <td>Manual winding</td>\n",
              "    </tr>\n",
              "    <tr>\n",
              "      <th>23</th>\n",
              "      <td>1944.0</td>\n",
              "      <td>Manual winding</td>\n",
              "    </tr>\n",
              "    <tr>\n",
              "      <th>25</th>\n",
              "      <td>1946.0</td>\n",
              "      <td>Manual winding</td>\n",
              "    </tr>\n",
              "    <tr>\n",
              "      <th>26</th>\n",
              "      <td>1947.0</td>\n",
              "      <td>Manual winding</td>\n",
              "    </tr>\n",
              "    <tr>\n",
              "      <th>29</th>\n",
              "      <td>1950.0</td>\n",
              "      <td>Manual winding</td>\n",
              "    </tr>\n",
              "    <tr>\n",
              "      <th>31</th>\n",
              "      <td>1952.0</td>\n",
              "      <td>Manual winding</td>\n",
              "    </tr>\n",
              "  </tbody>\n",
              "</table>\n",
              "</div>"
            ],
            "text/plain": [
              "    year of production        movement\n",
              "1               1914.0  Manual winding\n",
              "2               1915.0  Manual winding\n",
              "3               1917.0  Manual winding\n",
              "4               1920.0  Manual winding\n",
              "5               1922.0  Manual winding\n",
              "6               1924.0  Manual winding\n",
              "7               1925.0  Manual winding\n",
              "8               1927.0  Manual winding\n",
              "9               1928.0  Manual winding\n",
              "10              1930.0  Manual winding\n",
              "11              1932.0  Manual winding\n",
              "12              1933.0  Manual winding\n",
              "13              1934.0  Manual winding\n",
              "14              1935.0  Manual winding\n",
              "15              1936.0  Manual winding\n",
              "16              1937.0  Manual winding\n",
              "17              1938.0  Manual winding\n",
              "18              1939.0  Manual winding\n",
              "19              1940.0  Manual winding\n",
              "20              1941.0  Manual winding\n",
              "21              1942.0  Manual winding\n",
              "22              1943.0  Manual winding\n",
              "23              1944.0  Manual winding\n",
              "25              1946.0  Manual winding\n",
              "26              1947.0  Manual winding\n",
              "29              1950.0  Manual winding\n",
              "31              1952.0  Manual winding"
            ]
          },
          "execution_count": 17,
          "metadata": {},
          "output_type": "execute_result"
        }
      ],
      "source": [
        "# Manual winding\n",
        "res_mmdf.loc[res_mmdf['movement'] == mm_list[1]]"
      ]
    },
    {
      "attachments": {},
      "cell_type": "markdown",
      "metadata": {},
      "source": [
        "It looks like Quartz has never been common in Rolex watches"
      ]
    },
    {
      "cell_type": "code",
      "execution_count": 18,
      "metadata": {},
      "outputs": [
        {
          "data": {
            "text/plain": [
              "0"
            ]
          },
          "execution_count": 18,
          "metadata": {},
          "output_type": "execute_result"
        }
      ],
      "source": [
        "# Quartz\n",
        "res_mmdf.loc[res_mmdf['movement'] == mm_list[2]].shape[0]"
      ]
    },
    {
      "attachments": {},
      "cell_type": "markdown",
      "metadata": {},
      "source": [
        "##### Prepare the dataframe for visualization\n",
        "- We going to replace the movements with number to make it easier to visualize"
      ]
    },
    {
      "cell_type": "code",
      "execution_count": 19,
      "metadata": {},
      "outputs": [],
      "source": [
        "res_mmdf_plot = res_mmdf.copy()\n",
        "res_mmdf_plot['movement'] = res_mmdf_plot['movement'].replace(mm_list[0], 0)\n",
        "res_mmdf_plot['movement'] = res_mmdf_plot['movement'].replace(mm_list[1], 1)\n",
        "# res_mmdf_plot['movement'] = res_mmdf_plot['movement'].replace(mm_list[2], 2)\n",
        "\n",
        "res_mmdf_plot1 = res_mmdf_plot[res_mmdf_plot['movement'] == 0]\n",
        "res_mmdf_plot2 = res_mmdf_plot[res_mmdf_plot['movement'] == 1]"
      ]
    },
    {
      "attachments": {},
      "cell_type": "markdown",
      "metadata": {},
      "source": [
        "##### Visualize the data"
      ]
    },
    {
      "cell_type": "code",
      "execution_count": 20,
      "metadata": {},
      "outputs": [
        {
          "data": {
            "image/png": "[encoded data removed]",
            "text/plain": [
              "<Figure size 1584x216 with 1 Axes>"
            ]
          },
          "metadata": {
            "needs_background": "light"
          },
          "output_type": "display_data"
        }
      ],
      "source": [
        "ax = plt.subplots(figsize=(22, 3))\n",
        "scp1 = plt.scatter(res_mmdf_plot1['year of production'], res_mmdf_plot1['movement'], s=40, c='red', label='Automatic')\n",
        "scp2 = plt.scatter(res_mmdf_plot2['year of production'], res_mmdf_plot2['movement'], s=40, c='blue', label='Manual winding')\n",
        "\n",
        "plt.legend(handles=[scp1, scp2])\n",
        "plt.title('Most common Rolex watch movement made by year of production')\n",
        "plt.xlabel('Year of production')\n",
        "plt.ylabel('Movement')\n",
        "\n",
        "# two vertical lines to make it easier to see \n",
        "plt.axvline(x=1945, color='b', linestyle='--')\n",
        "plt.axvline(x=1953, color='r', linestyle='--')\n",
        "plt.axvspan(1945, 1953, alpha=0.2, color='grey')\n",
        "\n",
        "plt.xticks(np.arange(1920, 2022, 5))\n",
        "\n",
        "plt.show()"
      ]
    },
    {
      "attachments": {},
      "cell_type": "markdown",
      "metadata": {},
      "source": [
        "- We decide to use scatter plot to visualize the data as each every dot represents a movement (0 is Automatic, 1 is Manual winding, 2 is supposed to be Quatz but according to the data, it has never been common in Rolex watches)\n",
        "- We will draw two lines to show the change of trend in Rolex watches movement (1945 - 1953) - the period of time show that the customers and Rolex were starting to change from Manual to Automatic.\n",
        "  \n",
        "  - The blue line is when trend starts to change from Manual to Automatic\n",
        "  - The red line is when Automatic becomes the most common movement"
      ]
    },
    {
      "attachments": {},
      "cell_type": "markdown",
      "metadata": {},
      "source": [
        "So how the movement change in 1945 - 1953 ?\n",
        " - We will visualize that interval in details for better understanding"
      ]
    },
    {
      "attachments": {},
      "cell_type": "markdown",
      "metadata": {},
      "source": [
        "Prepare the data from 1940 to 1960 to visualize"
      ]
    },
    {
      "cell_type": "code",
      "execution_count": 21,
      "metadata": {},
      "outputs": [],
      "source": [
        "ptc = mmgb.copy()\n",
        "ptca = ptc[(ptc['year of production'] <= 1960) & (ptc['year of production'] >= 1940) & (ptc['movement'] == 'Automatic')]\n",
        "ptcm = ptc[(ptc['year of production'] <= 1960) & (ptc['year of production'] >= 1940) & (ptc['movement'] == 'Manual winding')]\n",
        "ptcq = ptc[(ptc['year of production'] <= 1960) & (ptc['year of production'] >= 1940) & (ptc['movement'] == 'Quartz')]"
      ]
    },
    {
      "attachments": {},
      "cell_type": "markdown",
      "metadata": {},
      "source": [
        "Visualize the data"
      ]
    },
    {
      "cell_type": "code",
      "execution_count": 22,
      "metadata": {},
      "outputs": [
        {
          "data": {
            "image/png": "[encoded data removed]",
            "text/plain": [
              "<Figure size 1080x216 with 1 Axes>"
            ]
          },
          "metadata": {
            "needs_background": "light"
          },
          "output_type": "display_data"
        }
      ],
      "source": [
        "ax = ptca.plot(x='year of production', y='count', label='Automatic', figsize=(15, 3), color='red')\n",
        "ptcm.plot(x='year of production', y='count', label='Manual winding', color='blue', ax=ax)\n",
        "ptcq.plot(x='year of production', y='count', label='Quartz', ax=ax)\n",
        "plt.title('Rolex watches in 1940 - 1960')\n",
        "plt.xlabel('Year of production')\n",
        "plt.ylabel('Count')\n",
        "\n",
        "plt.axvline(x=1945, color='b', linestyle='--')\n",
        "plt.axvline(x=1953, color='r', linestyle='--')\n",
        "plt.axvspan(1945, 1953, alpha=0.2, color='grey')\n",
        "\n",
        "plt.xticks(np.arange(1940, 1960, 2))\n",
        "\n",
        "plt.show()"
      ]
    },
    {
      "attachments": {},
      "cell_type": "markdown",
      "metadata": {},
      "source": [
        "- We can see that in that interval, the number of Manual winding (blue) watches is decreasing and the number of Automatic (red) watches is increasing (of course, there are still up and down in the mean time but in the end - 1953 they decided to go with Automatic)"
      ]
    },
    {
      "attachments": {},
      "cell_type": "markdown",
      "metadata": {},
      "source": [
        "#### Conclusion a\n",
        ". 1920 - 1945 : Manual winding is the most common movement in Rolex watches \\\n",
        ". 1945 - 1953 : Bovement changing from Manual to Automatic \\\n",
        ". 1953 - now : Automatic is the most common movement in Rolex watches"
      ]
    },
    {
      "attachments": {},
      "cell_type": "markdown",
      "metadata": {},
      "source": [
        "### b. How Rolex `case material` changes ?"
      ]
    },
    {
      "attachments": {},
      "cell_type": "markdown",
      "metadata": {},
      "source": [
        "A quick preview of the data before we start"
      ]
    },
    {
      "cell_type": "code",
      "execution_count": 23,
      "metadata": {},
      "outputs": [
        {
          "data": {
            "text/html": [
              "<div>\n",
              "<style scoped>\n",
              "    .dataframe tbody tr th:only-of-type {\n",
              "        vertical-align: middle;\n",
              "    }\n",
              "\n",
              "    .dataframe tbody tr th {\n",
              "        vertical-align: top;\n",
              "    }\n",
              "\n",
              "    .dataframe thead th {\n",
              "        text-align: right;\n",
              "    }\n",
              "</style>\n",
              "<table border=\"1\" class=\"dataframe\">\n",
              "  <thead>\n",
              "    <tr style=\"text-align: right;\">\n",
              "      <th></th>\n",
              "      <th>model</th>\n",
              "      <th>movement</th>\n",
              "      <th>case material</th>\n",
              "      <th>case diameter</th>\n",
              "      <th>year of production</th>\n",
              "    </tr>\n",
              "  </thead>\n",
              "  <tbody>\n",
              "    <tr>\n",
              "      <th>43560</th>\n",
              "      <td>Rolex Datejust</td>\n",
              "      <td>Automatic</td>\n",
              "      <td>White gold</td>\n",
              "      <td>36</td>\n",
              "      <td>2022.0</td>\n",
              "    </tr>\n",
              "    <tr>\n",
              "      <th>33261</th>\n",
              "      <td>Rolex Yacht-Master</td>\n",
              "      <td>Automatic</td>\n",
              "      <td>Steel</td>\n",
              "      <td>40</td>\n",
              "      <td>2022.0</td>\n",
              "    </tr>\n",
              "    <tr>\n",
              "      <th>33245</th>\n",
              "      <td>Rolex Oyster Perpetual</td>\n",
              "      <td>Automatic</td>\n",
              "      <td>Steel</td>\n",
              "      <td>33</td>\n",
              "      <td>2022.0</td>\n",
              "    </tr>\n",
              "    <tr>\n",
              "      <th>33246</th>\n",
              "      <td>Rolex GMT-Master II</td>\n",
              "      <td>Automatic</td>\n",
              "      <td>Steel</td>\n",
              "      <td>40</td>\n",
              "      <td>2022.0</td>\n",
              "    </tr>\n",
              "    <tr>\n",
              "      <th>67751</th>\n",
              "      <td>Rolex Oyster Perpetual</td>\n",
              "      <td>Automatic</td>\n",
              "      <td>Steel</td>\n",
              "      <td>36</td>\n",
              "      <td>2022.0</td>\n",
              "    </tr>\n",
              "    <tr>\n",
              "      <th>...</th>\n",
              "      <td>...</td>\n",
              "      <td>...</td>\n",
              "      <td>...</td>\n",
              "      <td>...</td>\n",
              "      <td>...</td>\n",
              "    </tr>\n",
              "    <tr>\n",
              "      <th>67147</th>\n",
              "      <td>Rolex</td>\n",
              "      <td>Manual winding</td>\n",
              "      <td>Silver</td>\n",
              "      <td>34</td>\n",
              "      <td>1914.0</td>\n",
              "    </tr>\n",
              "    <tr>\n",
              "      <th>3369</th>\n",
              "      <td>Rolex</td>\n",
              "      <td>Manual winding</td>\n",
              "      <td>Silver</td>\n",
              "      <td>34</td>\n",
              "      <td>1914.0</td>\n",
              "    </tr>\n",
              "    <tr>\n",
              "      <th>4729</th>\n",
              "      <td>Rolex</td>\n",
              "      <td>Manual winding</td>\n",
              "      <td>Silver</td>\n",
              "      <td>32</td>\n",
              "      <td>1914.0</td>\n",
              "    </tr>\n",
              "    <tr>\n",
              "      <th>60685</th>\n",
              "      <td>Rolex</td>\n",
              "      <td>Manual winding</td>\n",
              "      <td>Silver</td>\n",
              "      <td>32</td>\n",
              "      <td>1914.0</td>\n",
              "    </tr>\n",
              "    <tr>\n",
              "      <th>23390</th>\n",
              "      <td>Rolex</td>\n",
              "      <td>Automatic</td>\n",
              "      <td>Steel</td>\n",
              "      <td>29</td>\n",
              "      <td>1910.0</td>\n",
              "    </tr>\n",
              "  </tbody>\n",
              "</table>\n",
              "<p>87113 rows × 5 columns</p>\n",
              "</div>"
            ],
            "text/plain": [
              "                         model        movement case material case diameter  \\\n",
              "43560          Rolex Datejust        Automatic    White gold            36   \n",
              "33261      Rolex Yacht-Master        Automatic         Steel            40   \n",
              "33245  Rolex Oyster Perpetual        Automatic         Steel            33   \n",
              "33246      Rolex GMT-Master II       Automatic         Steel            40   \n",
              "67751  Rolex Oyster Perpetual        Automatic         Steel            36   \n",
              "...                        ...             ...           ...           ...   \n",
              "67147                    Rolex  Manual winding        Silver            34   \n",
              "3369                     Rolex  Manual winding        Silver            34   \n",
              "4729                     Rolex  Manual winding        Silver            32   \n",
              "60685                    Rolex  Manual winding        Silver            32   \n",
              "23390                    Rolex       Automatic         Steel            29   \n",
              "\n",
              "      year of production  \n",
              "43560             2022.0  \n",
              "33261             2022.0  \n",
              "33245             2022.0  \n",
              "33246             2022.0  \n",
              "67751             2022.0  \n",
              "...                  ...  \n",
              "67147             1914.0  \n",
              "3369              1914.0  \n",
              "4729              1914.0  \n",
              "60685             1914.0  \n",
              "23390             1910.0  \n",
              "\n",
              "[87113 rows x 5 columns]"
            ]
          },
          "execution_count": 23,
          "metadata": {},
          "output_type": "execute_result"
        }
      ],
      "source": [
        "q2df.sort_values(by=['year of production'], ascending=False)"
      ]
    },
    {
      "attachments": {},
      "cell_type": "markdown",
      "metadata": {},
      "source": [
        "Group by year and case material to get the number of each case material in each year"
      ]
    },
    {
      "cell_type": "code",
      "execution_count": 24,
      "metadata": {},
      "outputs": [
        {
          "data": {
            "text/html": [
              "<div>\n",
              "<style scoped>\n",
              "    .dataframe tbody tr th:only-of-type {\n",
              "        vertical-align: middle;\n",
              "    }\n",
              "\n",
              "    .dataframe tbody tr th {\n",
              "        vertical-align: top;\n",
              "    }\n",
              "\n",
              "    .dataframe thead th {\n",
              "        text-align: right;\n",
              "    }\n",
              "</style>\n",
              "<table border=\"1\" class=\"dataframe\">\n",
              "  <thead>\n",
              "    <tr style=\"text-align: right;\">\n",
              "      <th></th>\n",
              "      <th></th>\n",
              "      <th>model</th>\n",
              "      <th>movement</th>\n",
              "      <th>case diameter</th>\n",
              "    </tr>\n",
              "    <tr>\n",
              "      <th>year of production</th>\n",
              "      <th>case material</th>\n",
              "      <th></th>\n",
              "      <th></th>\n",
              "      <th></th>\n",
              "    </tr>\n",
              "  </thead>\n",
              "  <tbody>\n",
              "    <tr>\n",
              "      <th>1910.0</th>\n",
              "      <th>Steel</th>\n",
              "      <td>1</td>\n",
              "      <td>1</td>\n",
              "      <td>1</td>\n",
              "    </tr>\n",
              "    <tr>\n",
              "      <th>1914.0</th>\n",
              "      <th>Silver</th>\n",
              "      <td>4</td>\n",
              "      <td>4</td>\n",
              "      <td>4</td>\n",
              "    </tr>\n",
              "    <tr>\n",
              "      <th rowspan=\"2\" valign=\"top\">1915.0</th>\n",
              "      <th>Rose gold</th>\n",
              "      <td>3</td>\n",
              "      <td>3</td>\n",
              "      <td>3</td>\n",
              "    </tr>\n",
              "    <tr>\n",
              "      <th>Silver</th>\n",
              "      <td>2</td>\n",
              "      <td>2</td>\n",
              "      <td>2</td>\n",
              "    </tr>\n",
              "    <tr>\n",
              "      <th>1917.0</th>\n",
              "      <th>Silver</th>\n",
              "      <td>2</td>\n",
              "      <td>2</td>\n",
              "      <td>2</td>\n",
              "    </tr>\n",
              "    <tr>\n",
              "      <th>...</th>\n",
              "      <th>...</th>\n",
              "      <td>...</td>\n",
              "      <td>...</td>\n",
              "      <td>...</td>\n",
              "    </tr>\n",
              "    <tr>\n",
              "      <th rowspan=\"5\" valign=\"top\">2022.0</th>\n",
              "      <th>Silver</th>\n",
              "      <td>55</td>\n",
              "      <td>55</td>\n",
              "      <td>55</td>\n",
              "    </tr>\n",
              "    <tr>\n",
              "      <th>Steel</th>\n",
              "      <td>21240</td>\n",
              "      <td>21240</td>\n",
              "      <td>21240</td>\n",
              "    </tr>\n",
              "    <tr>\n",
              "      <th>Titanium</th>\n",
              "      <td>7</td>\n",
              "      <td>7</td>\n",
              "      <td>7</td>\n",
              "    </tr>\n",
              "    <tr>\n",
              "      <th>White gold</th>\n",
              "      <td>2332</td>\n",
              "      <td>2332</td>\n",
              "      <td>2332</td>\n",
              "    </tr>\n",
              "    <tr>\n",
              "      <th>Yellow gold</th>\n",
              "      <td>4028</td>\n",
              "      <td>4028</td>\n",
              "      <td>4028</td>\n",
              "    </tr>\n",
              "  </tbody>\n",
              "</table>\n",
              "<p>535 rows × 3 columns</p>\n",
              "</div>"
            ],
            "text/plain": [
              "                                  model  movement  case diameter\n",
              "year of production case material                                \n",
              "1910.0             Steel              1         1              1\n",
              "1914.0             Silver             4         4              4\n",
              "1915.0             Rose gold          3         3              3\n",
              "                   Silver             2         2              2\n",
              "1917.0             Silver             2         2              2\n",
              "...                                 ...       ...            ...\n",
              "2022.0             Silver            55        55             55\n",
              "                   Steel          21240     21240          21240\n",
              "                   Titanium           7         7              7\n",
              "                   White gold      2332      2332           2332\n",
              "                   Yellow gold     4028      4028           4028\n",
              "\n",
              "[535 rows x 3 columns]"
            ]
          },
          "execution_count": 24,
          "metadata": {},
          "output_type": "execute_result"
        }
      ],
      "source": [
        "cmgb = q2df.groupby(\n",
        "    ['year of production', 'case material']).count()\n",
        "cmgb"
      ]
    },
    {
      "attachments": {},
      "cell_type": "markdown",
      "metadata": {},
      "source": [
        "Extract the features and rename the columns"
      ]
    },
    {
      "cell_type": "code",
      "execution_count": 25,
      "metadata": {},
      "outputs": [],
      "source": [
        "cmgb=cmgb.reset_index()\n",
        "cmgb=cmgb.loc[:, ['year of production', 'case material', 'model']].rename(columns={'model': 'count'})"
      ]
    },
    {
      "cell_type": "markdown",
      "metadata": {},
      "source": [
        "Get the most common case material for each year of production"
      ]
    },
    {
      "cell_type": "code",
      "execution_count": 26,
      "metadata": {},
      "outputs": [],
      "source": [
        "res_cm = cmgb.sort_values(\n",
        "    by=['year of production', 'count'],\n",
        "    ascending=[True, False]).drop_duplicates(\n",
        "        subset=['year of production'],\n",
        "        keep='first')"
      ]
    },
    {
      "attachments": {},
      "cell_type": "markdown",
      "metadata": {},
      "source": [
        "Get a list to store all the case materials"
      ]
    },
    {
      "cell_type": "code",
      "execution_count": 27,
      "metadata": {},
      "outputs": [
        {
          "data": {
            "text/plain": [
              "array(['Steel', 'White gold', 'Gold/Steel', 'Yellow gold', 'Rose gold',\n",
              "       'Platinum', 'Silver', 'Red gold', 'Ceramic', 'Bronze', 'Carbon',\n",
              "       'Titanium', 'Aluminum'], dtype=object)"
            ]
          },
          "execution_count": 27,
          "metadata": {},
          "output_type": "execute_result"
        }
      ],
      "source": [
        "material_list = tt['case material'].unique()\n",
        "material_list"
      ]
    },
    {
      "attachments": {},
      "cell_type": "markdown",
      "metadata": {},
      "source": [
        "Get all available case materials appeared in res_cm (Most common case materials for each year)"
      ]
    },
    {
      "cell_type": "code",
      "execution_count": 28,
      "metadata": {},
      "outputs": [
        {
          "data": {
            "text/plain": [
              "['Steel', 'Gold/Steel', 'Yellow gold', 'Rose gold', 'Silver']"
            ]
          },
          "execution_count": 28,
          "metadata": {},
          "output_type": "execute_result"
        }
      ],
      "source": [
        "a_material_list = [m for m in material_list if res_cm.loc[res_cm['case material'] == m].shape[0] != 0]\n",
        "a_material_list"
      ]
    },
    {
      "attachments": {},
      "cell_type": "markdown",
      "metadata": {},
      "source": [
        "Prepare the data for visualizing"
      ]
    },
    {
      "cell_type": "code",
      "execution_count": 29,
      "metadata": {},
      "outputs": [],
      "source": [
        "res_cm_plot = res_cm.copy()\n",
        "for m in a_material_list:\n",
        "    res_cm_plot['case material'] = res_cm_plot['case material'].replace(m, a_material_list.index(m))\n",
        "\n",
        "res_cm_plot1 = res_cm_plot[res_cm_plot['case material'] == 0]\n",
        "res_cm_plot2 = res_cm_plot[res_cm_plot['case material'] == 1]\n",
        "res_cm_plot3 = res_cm_plot[res_cm_plot['case material'] == 2]\n"
      ]
    },
    {
      "attachments": {},
      "cell_type": "markdown",
      "metadata": {},
      "source": [
        "#### How many watches of each case material made in each year to be the most common ?"
      ]
    },
    {
      "attachments": {},
      "cell_type": "markdown",
      "metadata": {},
      "source": [
        "As the Steel material appears to be the most common case material of all time, so this bar plot should be a very long one so we will be visualized in a different way"
      ]
    },
    {
      "cell_type": "code",
      "execution_count": 30,
      "metadata": {},
      "outputs": [
        {
          "data": {
            "image/png": "[encoded data removed]",
            "text/plain": [
              "<Figure size 1080x360 with 1 Axes>"
            ]
          },
          "metadata": {
            "needs_background": "light"
          },
          "output_type": "display_data"
        }
      ],
      "source": [
        "# Steel\n",
        "res_cm_plot1.plot(x = 'year of production', y = 'count', label='watches sold', title='Steel', figsize=(15, 5))\n",
        "plt.legend()\n",
        "plt.show()"
      ]
    },
    {
      "cell_type": "code",
      "execution_count": 31,
      "metadata": {},
      "outputs": [
        {
          "data": {
            "image/png": "[encoded data removed]",
            "text/plain": [
              "<Figure size 432x288 with 1 Axes>"
            ]
          },
          "metadata": {
            "needs_background": "light"
          },
          "output_type": "display_data"
        }
      ],
      "source": [
        "# Gold/steel\n",
        "res_cm_plot2.plot(x = 'year of production', y = 'count', kind='barh', label='watches sold', title='Gold/steel')\n",
        "plt.show()"
      ]
    },
    {
      "cell_type": "code",
      "execution_count": 32,
      "metadata": {},
      "outputs": [
        {
          "data": {
            "image/png": "[encoded data removed]",
            "text/plain": [
              "<Figure size 432x288 with 1 Axes>"
            ]
          },
          "metadata": {
            "needs_background": "light"
          },
          "output_type": "display_data"
        }
      ],
      "source": [
        "# Yellow gold\n",
        "res_cm_plot3.plot(x = 'year of production', y = 'count', kind='barh', label='watches sold', title='Yellow gold')\n",
        "plt.show()"
      ]
    },
    {
      "attachments": {},
      "cell_type": "markdown",
      "metadata": {},
      "source": [
        "#### Visualize the data"
      ]
    },
    {
      "cell_type": "code",
      "execution_count": 33,
      "metadata": {},
      "outputs": [
        {
          "data": {
            "image/png": "[encoded data removed]",
            "text/plain": [
              "<Figure size 1584x216 with 1 Axes>"
            ]
          },
          "metadata": {
            "needs_background": "light"
          },
          "output_type": "display_data"
        }
      ],
      "source": [
        "ax = plt.subplots(figsize=(22, 3))\n",
        "scp1 = plt.scatter(res_cm_plot1['year of production'], res_cm_plot1['case material'], s=40, c='red', label='Steel')\n",
        "scp2 = plt.scatter(res_cm_plot2['year of production'], res_cm_plot2['case material'], s=40, c='blue', label='Gold/Steel')\n",
        "scp3 = plt.scatter(res_cm_plot3['year of production'], res_cm_plot3['case material'], s=40, c='green', label='Yellow gold')\n",
        "\n",
        "plt.legend(handles=[scp1, scp2, scp3])\n",
        "plt.title('Most common Rolex watch case material made by year of production')\n",
        "plt.xlabel('Year of production')\n",
        "plt.ylabel('Case material')\n",
        "\n",
        "plt.xticks(np.arange(1920, 2022, 5))\n",
        "plt.show()"
      ]
    },
    {
      "attachments": {},
      "cell_type": "markdown",
      "metadata": {},
      "source": [
        "#### Conclusion b\n",
        "- Steel is the most common case material in Rolex watches from 1920 to now\n",
        "- There were some changes in the case material of Rolex watches in the past but it is not significant enough to be noticed"
      ]
    },
    {
      "attachments": {},
      "cell_type": "markdown",
      "metadata": {},
      "source": [
        "### Conclusion\n",
        "- The most common case material of Rolex watches is Steel from 1920 to now\n",
        "- Rolex changed their strategy to satisfy the needs of their customers\n",
        "  - In this case, they have to change their movement from Manual to Automatic to satisfy the needs of their customers\n",
        "- So if there's nothing changes in the future like Rolex come up a very inovative watches movement or case material, We can assume that in the next years, the majority of Rolex watches sold on the market will be made of Steel and have Automatic movement."
      ]
    },
    {
      "attachments": {},
      "cell_type": "markdown",
      "metadata": {},
      "source": [
        "- By answering this question\n",
        "  - We can know that Rolex is similar to any other business, they have to change their strategy to satisfy the needs of their customers. Before this we thought that Rolex is very much of a traditional company and they would never change their strategy\n",
        "  - We can know that in the future, the majority of Rolex watches sold on the market will be made of Steel and have Automatic movement."
      ]
    }
  ],
  "metadata": {
    "kernelspec": {
      "display_name": "Python 3.9.12 ('base')",
      "language": "python",
      "name": "python3"
    },
    "language_info": {
      "codemirror_mode": {
        "name": "ipython",
        "version": 3
      },
      "file_extension": ".py",
      "mimetype": "text/x-python",
      "name": "python",
      "nbconvert_exporter": "python",
      "pygments_lexer": "ipython3",
      "version": "3.9.12"
    },
    "orig_nbformat": 4,
    "vscode": {
      "interpreter": {
        "hash": "f5051a862b211aa3ac754ed70592e90620d523e87b3b3d1f0d4bf9ecbd174644"
      }
    }
  },
  "nbformat": 4,
  "nbformat_minor": 2
}
