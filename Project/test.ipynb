{
  "cells": [
    {
      "cell_type": "code",
      "execution_count": 29,
      "metadata": {
        "id": "6lkBBj_d7uvr"
      },
      "outputs": [],
      "source": [
        "import matplotlib.pyplot as plt\n",
        "import seaborn as sns \n",
        "import pandas as pd\n",
        "import numpy as np\n",
        "import csv\n",
        "\n",
        "from sklearn.model_selection import train_test_split\n",
        "from sklearn.preprocessing import OneHotEncoder, StandardScaler\n",
        "from sklearn.impute import SimpleImputer\n",
        "from sklearn.base import BaseEstimator, TransformerMixin\n",
        "from sklearn.pipeline import Pipeline, make_pipeline\n",
        "from sklearn.compose import ColumnTransformer, make_column_transformer\n",
        "from sklearn.neural_network import MLPClassifier\n",
        "from sklearn import set_config\n",
        "\n",
        "from sklearn.feature_selection import SelectKBest, f_regression\n",
        "\n",
        "from sklearn import svm\n",
        "from sklearn.linear_model import LogisticRegression\n",
        "from sklearn.ensemble import RandomForestClassifier, AdaBoostClassifier\n",
        "from sklearn.tree import DecisionTreeClassifier\n",
        "from sklearn.neighbors import KNeighborsClassifier\n",
        "from sklearn.ensemble import GradientBoostingClassifier\n",
        "from sklearn import metrics\n",
        "from sklearn.metrics import accuracy_score\n",
        "from sklearn.model_selection import KFold, cross_val_score\n",
        "from sklearn.feature_selection import chi2\n",
        "from sklearn.feature_selection import SelectKBest\n",
        "from sklearn.feature_selection import SelectFromModel\n",
        "from sklearn.svm import LinearSVC\n",
        "from sklearn.ensemble import ExtraTreesClassifier\n",
        "from sklearn.ensemble import StackingClassifier\n",
        "from sklearn.naive_bayes import GaussianNB\n",
        "from sklearn.ensemble import RandomForestRegressor\n",
        "from sklearn.neural_network import MLPRegressor\n",
        "import seaborn as sns\n"
      ]
    },
    {
      "cell_type": "markdown",
      "metadata": {
        "id": "iQpRXGWz7uvu"
      },
      "source": [
        "---\n",
        "# Collecting data\n",
        "Our data is about Rolex watches which are sold on `chrono24.com`.\n",
        "\n",
        "Yes, He allows us to freely use the dataset.\n",
        "\n",
        "He collected this data by scraping with Selenium"
      ]
    },
    {
      "cell_type": "markdown",
      "metadata": {
        "id": "W9pUpPwV7uvw"
      },
      "source": [
        "---\n",
        "# Exploring data"
      ]
    },
    {
      "cell_type": "code",
      "execution_count": 30,
      "metadata": {
        "id": "tyWKIBpl7uvx"
      },
      "outputs": [],
      "source": [
        "rolex_df = pd.read_csv('rolex_scaper_clean.csv')"
      ]
    },
    {
      "cell_type": "markdown",
      "metadata": {
        "id": "d1bCiqNm7uvx"
      },
      "source": [
        "#### Number of rows and columns"
      ]
    },
    {
      "cell_type": "code",
      "execution_count": 31,
      "metadata": {
        "colab": {
          "base_uri": "https://localhost:8080/"
        },
        "id": "A1f3bBMK7uvy",
        "outputId": "3f236e5d-b1e2-449f-c308-5f64c634e83e"
      },
      "outputs": [
        {
          "data": {
            "text/plain": [
              "(87117, 12)"
            ]
          },
          "execution_count": 31,
          "metadata": {},
          "output_type": "execute_result"
        }
      ],
      "source": [
        "num_rows,num_cols = rolex_df.shape\n",
        "rolex_df.shape"
      ]
    },
    {
      "cell_type": "markdown",
      "metadata": {
        "id": "hr2hpIlh7uvz"
      },
      "source": [
        "#### Meaning of each row\n",
        "We can see that each row has information like model, price, ... about the watch."
      ]
    },
    {
      "cell_type": "code",
      "execution_count": 32,
      "metadata": {
        "colab": {
          "base_uri": "https://localhost:8080/",
          "height": 458
        },
        "id": "DvIfZY5s7uvz",
        "outputId": "f7b2152f-7226-46b2-f486-db4363260180"
      },
      "outputs": [
        {
          "data": {
            "text/html": [
              "<div>\n",
              "<style scoped>\n",
              "    .dataframe tbody tr th:only-of-type {\n",
              "        vertical-align: middle;\n",
              "    }\n",
              "\n",
              "    .dataframe tbody tr th {\n",
              "        vertical-align: top;\n",
              "    }\n",
              "\n",
              "    .dataframe thead th {\n",
              "        text-align: right;\n",
              "    }\n",
              "</style>\n",
              "<table border=\"1\" class=\"dataframe\">\n",
              "  <thead>\n",
              "    <tr style=\"text-align: right;\">\n",
              "      <th></th>\n",
              "      <th>model</th>\n",
              "      <th>reference number</th>\n",
              "      <th>price</th>\n",
              "      <th>aditional shipping price</th>\n",
              "      <th>ad name</th>\n",
              "      <th>movement</th>\n",
              "      <th>case material</th>\n",
              "      <th>case diameter</th>\n",
              "      <th>year of production</th>\n",
              "      <th>condition</th>\n",
              "      <th>scope of delivery</th>\n",
              "      <th>location</th>\n",
              "    </tr>\n",
              "  </thead>\n",
              "  <tbody>\n",
              "    <tr>\n",
              "      <th>0</th>\n",
              "      <td>Rolex Lady-Datejust</td>\n",
              "      <td>179161</td>\n",
              "      <td>9080.0</td>\n",
              "      <td>140.0</td>\n",
              "      <td>Steel Rose Gold Black Roman Dial Ladies Watch ...</td>\n",
              "      <td>Automatic</td>\n",
              "      <td>Steel</td>\n",
              "      <td>26 mm</td>\n",
              "      <td>2014.0</td>\n",
              "      <td>Very good</td>\n",
              "      <td>Original box, original papers</td>\n",
              "      <td>United States of America, Georgia</td>\n",
              "    </tr>\n",
              "    <tr>\n",
              "      <th>1</th>\n",
              "      <td>Rolex Chronograph</td>\n",
              "      <td>2917</td>\n",
              "      <td>16202.0</td>\n",
              "      <td>216.0</td>\n",
              "      <td>REF. 2917</td>\n",
              "      <td>Manual winding</td>\n",
              "      <td>Steel</td>\n",
              "      <td>33 mm</td>\n",
              "      <td>1934.0</td>\n",
              "      <td>Very good</td>\n",
              "      <td>Original box, no original papers</td>\n",
              "      <td>Italy, Roma</td>\n",
              "    </tr>\n",
              "    <tr>\n",
              "      <th>2</th>\n",
              "      <td>Rolex Daytona</td>\n",
              "      <td>116519G</td>\n",
              "      <td>41567.0</td>\n",
              "      <td>0.0</td>\n",
              "      <td>保証書付き ROLEX ロレックス デイトナ コスモグラフ K18WG 8Pダイヤ ランダム...</td>\n",
              "      <td>Automatic</td>\n",
              "      <td>White gold</td>\n",
              "      <td>39 mm</td>\n",
              "      <td>NaN</td>\n",
              "      <td>Fair</td>\n",
              "      <td>Original papers, no original box</td>\n",
              "      <td>Japan, Nagoya City</td>\n",
              "    </tr>\n",
              "    <tr>\n",
              "      <th>3</th>\n",
              "      <td>Rolex Submariner Date</td>\n",
              "      <td>116613</td>\n",
              "      <td>19795.0</td>\n",
              "      <td>235.0</td>\n",
              "      <td>New Submariner 116613 Yellow Steel Gold Cerami...</td>\n",
              "      <td>Automatic</td>\n",
              "      <td>Steel</td>\n",
              "      <td>40 mm</td>\n",
              "      <td>2020.0</td>\n",
              "      <td>Unworn</td>\n",
              "      <td>Original box, original papers</td>\n",
              "      <td>United States of America, Florida, Miami</td>\n",
              "    </tr>\n",
              "    <tr>\n",
              "      <th>4</th>\n",
              "      <td>Rolex Submariner Date</td>\n",
              "      <td>16610</td>\n",
              "      <td>10674.0</td>\n",
              "      <td>145.0</td>\n",
              "      <td>1990s ROLEX SUBMARINER 16610 Tritium vintage G...</td>\n",
              "      <td>Automatic</td>\n",
              "      <td>NaN</td>\n",
              "      <td>40 mm</td>\n",
              "      <td>1990.0</td>\n",
              "      <td>Good</td>\n",
              "      <td>Original box, original papers</td>\n",
              "      <td>Japan, Ehime yawatahama</td>\n",
              "    </tr>\n",
              "  </tbody>\n",
              "</table>\n",
              "</div>"
            ],
            "text/plain": [
              "                   model reference number    price  aditional shipping price  \\\n",
              "0    Rolex Lady-Datejust           179161   9080.0                     140.0   \n",
              "1      Rolex Chronograph             2917  16202.0                     216.0   \n",
              "2          Rolex Daytona          116519G  41567.0                       0.0   \n",
              "3  Rolex Submariner Date           116613  19795.0                     235.0   \n",
              "4  Rolex Submariner Date            16610  10674.0                     145.0   \n",
              "\n",
              "                                             ad name        movement  \\\n",
              "0  Steel Rose Gold Black Roman Dial Ladies Watch ...       Automatic   \n",
              "1                                          REF. 2917  Manual winding   \n",
              "2  保証書付き ROLEX ロレックス デイトナ コスモグラフ K18WG 8Pダイヤ ランダム...       Automatic   \n",
              "3  New Submariner 116613 Yellow Steel Gold Cerami...       Automatic   \n",
              "4  1990s ROLEX SUBMARINER 16610 Tritium vintage G...       Automatic   \n",
              "\n",
              "  case material case diameter  year of production  condition  \\\n",
              "0         Steel         26 mm              2014.0  Very good   \n",
              "1         Steel         33 mm              1934.0  Very good   \n",
              "2    White gold         39 mm                 NaN       Fair   \n",
              "3         Steel         40 mm              2020.0     Unworn   \n",
              "4           NaN         40 mm              1990.0       Good   \n",
              "\n",
              "                  scope of delivery                                  location  \n",
              "0     Original box, original papers         United States of America, Georgia  \n",
              "1  Original box, no original papers                               Italy, Roma  \n",
              "2  Original papers, no original box                        Japan, Nagoya City  \n",
              "3     Original box, original papers  United States of America, Florida, Miami  \n",
              "4     Original box, original papers                   Japan, Ehime yawatahama  "
            ]
          },
          "execution_count": 32,
          "metadata": {},
          "output_type": "execute_result"
        }
      ],
      "source": [
        "rolex_df.head()"
      ]
    },
    {
      "cell_type": "markdown",
      "metadata": {
        "id": "rbH0dHz-7uv0"
      },
      "source": [
        "#### Are there duplicated rows ?"
      ]
    },
    {
      "cell_type": "code",
      "execution_count": 33,
      "metadata": {
        "colab": {
          "base_uri": "https://localhost:8080/"
        },
        "id": "7PbV6D-I7uv0",
        "outputId": "5055004c-5f34-4266-dca8-662499c2663a"
      },
      "outputs": [
        {
          "data": {
            "text/plain": [
              "21898"
            ]
          },
          "execution_count": 33,
          "metadata": {},
          "output_type": "execute_result"
        }
      ],
      "source": [
        "rolex_df.duplicated(keep='first').sum()"
      ]
    },
    {
      "cell_type": "markdown",
      "metadata": {
        "id": "6vPtmwjl7uv1"
      },
      "source": [
        "Drop duplicated rows"
      ]
    },
    {
      "cell_type": "code",
      "execution_count": 34,
      "metadata": {
        "id": "jQT_GcPp7uv1"
      },
      "outputs": [],
      "source": [
        "rolex_df.drop_duplicates(inplace=True)"
      ]
    },
    {
      "cell_type": "markdown",
      "metadata": {
        "id": "CtXJFwn27uv1"
      },
      "source": [
        "#### Meaning of each columns ?\n",
        "\n",
        "model: the watch model name\n",
        "\n",
        "reference number: the number to identify the watch model as a whole\n",
        "\n",
        "price: the price on the listing (price made by the reseller)\n",
        "\n",
        "additional shipping price: the price for shipping (0 = free shipping)\n",
        "\n",
        "ad name: the name of the listing on the site\n",
        "\n",
        "movement: the engine of a watch to make the watch and its functions operate\n",
        "\n",
        "case material: the material of the external watch case\n",
        "\n",
        "case diameter: the dimensions of the watch\n",
        "\n",
        "year of production: the year when Rolex fabricate that particular watch\n",
        "\n",
        "condition: the general condition of the watch\n",
        "\n",
        "scope of delivery: the additional things like warranty, or box that could come with the watch\n",
        "\n",
        "location: the location of the reseller\n"
      ]
    },
    {
      "cell_type": "markdown",
      "metadata": {
        "id": "Z9x-sILE7uv2"
      },
      "source": [
        "#### Type of each colum \n",
        "Luckily, all columns are in their right data types except for year of production. It should be categorical (object) instead of float64."
      ]
    },
    {
      "cell_type": "code",
      "execution_count": 35,
      "metadata": {
        "colab": {
          "base_uri": "https://localhost:8080/"
        },
        "id": "2OjnvokD7uv2",
        "outputId": "fdcc413c-8874-4b0a-dc39-785317e8d8d9"
      },
      "outputs": [
        {
          "data": {
            "text/plain": [
              "model                        object\n",
              "reference number             object\n",
              "price                       float64\n",
              "aditional shipping price    float64\n",
              "ad name                      object\n",
              "movement                     object\n",
              "case material                object\n",
              "case diameter                object\n",
              "year of production          float64\n",
              "condition                    object\n",
              "scope of delivery            object\n",
              "location                     object\n",
              "dtype: object"
            ]
          },
          "execution_count": 35,
          "metadata": {},
          "output_type": "execute_result"
        }
      ],
      "source": [
        "rolex_df.dtypes "
      ]
    },
    {
      "cell_type": "markdown",
      "metadata": {
        "id": "MSH7zfQX7uv2"
      },
      "source": [
        "Change data types of year of production column"
      ]
    },
    {
      "cell_type": "code",
      "execution_count": 36,
      "metadata": {
        "colab": {
          "base_uri": "https://localhost:8080/"
        },
        "id": "D65_2jqz7uv3",
        "outputId": "078222fd-fbbf-44c8-9176-f164509830f5"
      },
      "outputs": [
        {
          "data": {
            "text/plain": [
              "model                        object\n",
              "reference number             object\n",
              "price                       float64\n",
              "aditional shipping price    float64\n",
              "ad name                      object\n",
              "movement                     object\n",
              "case material                object\n",
              "case diameter                object\n",
              "year of production           object\n",
              "condition                    object\n",
              "scope of delivery            object\n",
              "location                     object\n",
              "dtype: object"
            ]
          },
          "execution_count": 36,
          "metadata": {},
          "output_type": "execute_result"
        }
      ],
      "source": [
        "rolex_df['year of production'] = rolex_df['year of production'].astype('object')\n",
        "rolex_df.dtypes"
      ]
    },
    {
      "cell_type": "markdown",
      "metadata": {
        "id": "9kCWsaIO7uv3"
      },
      "source": [
        "#### With each numerical column, how are values distributed?"
      ]
    },
    {
      "cell_type": "code",
      "execution_count": 37,
      "metadata": {
        "colab": {
          "base_uri": "https://localhost:8080/",
          "height": 206
        },
        "id": "_r2zsoRi7uv3",
        "outputId": "54ebfc7e-20f0-4ba5-bbf6-95c2f2de23be"
      },
      "outputs": [
        {
          "data": {
            "text/html": [
              "<div>\n",
              "<style scoped>\n",
              "    .dataframe tbody tr th:only-of-type {\n",
              "        vertical-align: middle;\n",
              "    }\n",
              "\n",
              "    .dataframe tbody tr th {\n",
              "        vertical-align: top;\n",
              "    }\n",
              "\n",
              "    .dataframe thead th {\n",
              "        text-align: right;\n",
              "    }\n",
              "</style>\n",
              "<table border=\"1\" class=\"dataframe\">\n",
              "  <thead>\n",
              "    <tr style=\"text-align: right;\">\n",
              "      <th></th>\n",
              "      <th>price</th>\n",
              "      <th>aditional shipping price</th>\n",
              "    </tr>\n",
              "  </thead>\n",
              "  <tbody>\n",
              "    <tr>\n",
              "      <th>0</th>\n",
              "      <td>9080.0</td>\n",
              "      <td>140.0</td>\n",
              "    </tr>\n",
              "    <tr>\n",
              "      <th>1</th>\n",
              "      <td>16202.0</td>\n",
              "      <td>216.0</td>\n",
              "    </tr>\n",
              "    <tr>\n",
              "      <th>2</th>\n",
              "      <td>41567.0</td>\n",
              "      <td>0.0</td>\n",
              "    </tr>\n",
              "    <tr>\n",
              "      <th>3</th>\n",
              "      <td>19795.0</td>\n",
              "      <td>235.0</td>\n",
              "    </tr>\n",
              "    <tr>\n",
              "      <th>4</th>\n",
              "      <td>10674.0</td>\n",
              "      <td>145.0</td>\n",
              "    </tr>\n",
              "  </tbody>\n",
              "</table>\n",
              "</div>"
            ],
            "text/plain": [
              "     price  aditional shipping price\n",
              "0   9080.0                     140.0\n",
              "1  16202.0                     216.0\n",
              "2  41567.0                       0.0\n",
              "3  19795.0                     235.0\n",
              "4  10674.0                     145.0"
            ]
          },
          "execution_count": 37,
          "metadata": {},
          "output_type": "execute_result"
        }
      ],
      "source": [
        "numerical_cols = rolex_df.select_dtypes(include=np.number).copy()\n",
        "numerical_cols.head()"
      ]
    },
    {
      "cell_type": "markdown",
      "metadata": {
        "id": "i7TaLK3o7uv4"
      },
      "source": [
        "Proportion of missing values"
      ]
    },
    {
      "cell_type": "code",
      "execution_count": 38,
      "metadata": {
        "colab": {
          "base_uri": "https://localhost:8080/"
        },
        "id": "U5vxAM5M7uv4",
        "outputId": "07d38769-3839-4742-f3f3-96bbbe2b7f35"
      },
      "outputs": [
        {
          "data": {
            "text/plain": [
              "price                       6.271179\n",
              "aditional shipping price    0.000000\n",
              "dtype: float64"
            ]
          },
          "execution_count": 38,
          "metadata": {},
          "output_type": "execute_result"
        }
      ],
      "source": [
        "num_missing_percentages = (numerical_cols.isna()).sum() / rolex_df.shape[0] * 100\n",
        "num_missing_percentages"
      ]
    },
    {
      "cell_type": "markdown",
      "metadata": {
        "id": "ZcA7e5YI7uv4"
      },
      "source": [
        "Describe"
      ]
    },
    {
      "cell_type": "code",
      "execution_count": 39,
      "metadata": {
        "colab": {
          "base_uri": "https://localhost:8080/",
          "height": 300
        },
        "id": "hNCe1IBh7uv5",
        "outputId": "ffb1f69a-c404-4858-fa37-35db826b34f3"
      },
      "outputs": [
        {
          "data": {
            "text/html": [
              "<div>\n",
              "<style scoped>\n",
              "    .dataframe tbody tr th:only-of-type {\n",
              "        vertical-align: middle;\n",
              "    }\n",
              "\n",
              "    .dataframe tbody tr th {\n",
              "        vertical-align: top;\n",
              "    }\n",
              "\n",
              "    .dataframe thead th {\n",
              "        text-align: right;\n",
              "    }\n",
              "</style>\n",
              "<table border=\"1\" class=\"dataframe\">\n",
              "  <thead>\n",
              "    <tr style=\"text-align: right;\">\n",
              "      <th></th>\n",
              "      <th>price</th>\n",
              "      <th>aditional shipping price</th>\n",
              "    </tr>\n",
              "  </thead>\n",
              "  <tbody>\n",
              "    <tr>\n",
              "      <th>count</th>\n",
              "      <td>6.112900e+04</td>\n",
              "      <td>65219.000000</td>\n",
              "    </tr>\n",
              "    <tr>\n",
              "      <th>mean</th>\n",
              "      <td>2.276485e+04</td>\n",
              "      <td>134.830234</td>\n",
              "    </tr>\n",
              "    <tr>\n",
              "      <th>std</th>\n",
              "      <td>3.059692e+04</td>\n",
              "      <td>2580.042710</td>\n",
              "    </tr>\n",
              "    <tr>\n",
              "      <th>min</th>\n",
              "      <td>3.150000e+02</td>\n",
              "      <td>0.000000</td>\n",
              "    </tr>\n",
              "    <tr>\n",
              "      <th>25%</th>\n",
              "      <td>9.157000e+03</td>\n",
              "      <td>31.000000</td>\n",
              "    </tr>\n",
              "    <tr>\n",
              "      <th>50%</th>\n",
              "      <td>1.500000e+04</td>\n",
              "      <td>99.000000</td>\n",
              "    </tr>\n",
              "    <tr>\n",
              "      <th>75%</th>\n",
              "      <td>2.483300e+04</td>\n",
              "      <td>160.000000</td>\n",
              "    </tr>\n",
              "    <tr>\n",
              "      <th>max</th>\n",
              "      <td>1.152102e+06</td>\n",
              "      <td>656389.000000</td>\n",
              "    </tr>\n",
              "  </tbody>\n",
              "</table>\n",
              "</div>"
            ],
            "text/plain": [
              "              price  aditional shipping price\n",
              "count  6.112900e+04              65219.000000\n",
              "mean   2.276485e+04                134.830234\n",
              "std    3.059692e+04               2580.042710\n",
              "min    3.150000e+02                  0.000000\n",
              "25%    9.157000e+03                 31.000000\n",
              "50%    1.500000e+04                 99.000000\n",
              "75%    2.483300e+04                160.000000\n",
              "max    1.152102e+06             656389.000000"
            ]
          },
          "execution_count": 39,
          "metadata": {},
          "output_type": "execute_result"
        }
      ],
      "source": [
        "numerical_cols.describe()"
      ]
    },
    {
      "cell_type": "markdown",
      "metadata": {
        "id": "WIz-j0aX7uv5"
      },
      "source": [
        "#### With each categorical column, how are values distributed?"
      ]
    },
    {
      "cell_type": "code",
      "execution_count": 40,
      "metadata": {
        "colab": {
          "base_uri": "https://localhost:8080/",
          "height": 389
        },
        "id": "q1Qe2YIk7uv5",
        "outputId": "3d7c1f80-9ab9-4c89-d8f2-0c873598adbf"
      },
      "outputs": [
        {
          "data": {
            "text/html": [
              "<div>\n",
              "<style scoped>\n",
              "    .dataframe tbody tr th:only-of-type {\n",
              "        vertical-align: middle;\n",
              "    }\n",
              "\n",
              "    .dataframe tbody tr th {\n",
              "        vertical-align: top;\n",
              "    }\n",
              "\n",
              "    .dataframe thead th {\n",
              "        text-align: right;\n",
              "    }\n",
              "</style>\n",
              "<table border=\"1\" class=\"dataframe\">\n",
              "  <thead>\n",
              "    <tr style=\"text-align: right;\">\n",
              "      <th></th>\n",
              "      <th>model</th>\n",
              "      <th>reference number</th>\n",
              "      <th>ad name</th>\n",
              "      <th>movement</th>\n",
              "      <th>case material</th>\n",
              "      <th>case diameter</th>\n",
              "      <th>year of production</th>\n",
              "      <th>condition</th>\n",
              "      <th>scope of delivery</th>\n",
              "      <th>location</th>\n",
              "    </tr>\n",
              "  </thead>\n",
              "  <tbody>\n",
              "    <tr>\n",
              "      <th>0</th>\n",
              "      <td>Rolex Lady-Datejust</td>\n",
              "      <td>179161</td>\n",
              "      <td>Steel Rose Gold Black Roman Dial Ladies Watch ...</td>\n",
              "      <td>Automatic</td>\n",
              "      <td>Steel</td>\n",
              "      <td>26 mm</td>\n",
              "      <td>2014.0</td>\n",
              "      <td>Very good</td>\n",
              "      <td>Original box, original papers</td>\n",
              "      <td>United States of America, Georgia</td>\n",
              "    </tr>\n",
              "    <tr>\n",
              "      <th>1</th>\n",
              "      <td>Rolex Chronograph</td>\n",
              "      <td>2917</td>\n",
              "      <td>REF. 2917</td>\n",
              "      <td>Manual winding</td>\n",
              "      <td>Steel</td>\n",
              "      <td>33 mm</td>\n",
              "      <td>1934.0</td>\n",
              "      <td>Very good</td>\n",
              "      <td>Original box, no original papers</td>\n",
              "      <td>Italy, Roma</td>\n",
              "    </tr>\n",
              "    <tr>\n",
              "      <th>2</th>\n",
              "      <td>Rolex Daytona</td>\n",
              "      <td>116519G</td>\n",
              "      <td>保証書付き ROLEX ロレックス デイトナ コスモグラフ K18WG 8Pダイヤ ランダム...</td>\n",
              "      <td>Automatic</td>\n",
              "      <td>White gold</td>\n",
              "      <td>39 mm</td>\n",
              "      <td>NaN</td>\n",
              "      <td>Fair</td>\n",
              "      <td>Original papers, no original box</td>\n",
              "      <td>Japan, Nagoya City</td>\n",
              "    </tr>\n",
              "    <tr>\n",
              "      <th>3</th>\n",
              "      <td>Rolex Submariner Date</td>\n",
              "      <td>116613</td>\n",
              "      <td>New Submariner 116613 Yellow Steel Gold Cerami...</td>\n",
              "      <td>Automatic</td>\n",
              "      <td>Steel</td>\n",
              "      <td>40 mm</td>\n",
              "      <td>2020.0</td>\n",
              "      <td>Unworn</td>\n",
              "      <td>Original box, original papers</td>\n",
              "      <td>United States of America, Florida, Miami</td>\n",
              "    </tr>\n",
              "    <tr>\n",
              "      <th>4</th>\n",
              "      <td>Rolex Submariner Date</td>\n",
              "      <td>16610</td>\n",
              "      <td>1990s ROLEX SUBMARINER 16610 Tritium vintage G...</td>\n",
              "      <td>Automatic</td>\n",
              "      <td>NaN</td>\n",
              "      <td>40 mm</td>\n",
              "      <td>1990.0</td>\n",
              "      <td>Good</td>\n",
              "      <td>Original box, original papers</td>\n",
              "      <td>Japan, Ehime yawatahama</td>\n",
              "    </tr>\n",
              "  </tbody>\n",
              "</table>\n",
              "</div>"
            ],
            "text/plain": [
              "                   model reference number  \\\n",
              "0    Rolex Lady-Datejust           179161   \n",
              "1      Rolex Chronograph             2917   \n",
              "2          Rolex Daytona          116519G   \n",
              "3  Rolex Submariner Date           116613   \n",
              "4  Rolex Submariner Date            16610   \n",
              "\n",
              "                                             ad name        movement  \\\n",
              "0  Steel Rose Gold Black Roman Dial Ladies Watch ...       Automatic   \n",
              "1                                          REF. 2917  Manual winding   \n",
              "2  保証書付き ROLEX ロレックス デイトナ コスモグラフ K18WG 8Pダイヤ ランダム...       Automatic   \n",
              "3  New Submariner 116613 Yellow Steel Gold Cerami...       Automatic   \n",
              "4  1990s ROLEX SUBMARINER 16610 Tritium vintage G...       Automatic   \n",
              "\n",
              "  case material case diameter year of production  condition  \\\n",
              "0         Steel         26 mm             2014.0  Very good   \n",
              "1         Steel         33 mm             1934.0  Very good   \n",
              "2    White gold         39 mm                NaN       Fair   \n",
              "3         Steel         40 mm             2020.0     Unworn   \n",
              "4           NaN         40 mm             1990.0       Good   \n",
              "\n",
              "                  scope of delivery                                  location  \n",
              "0     Original box, original papers         United States of America, Georgia  \n",
              "1  Original box, no original papers                               Italy, Roma  \n",
              "2  Original papers, no original box                        Japan, Nagoya City  \n",
              "3     Original box, original papers  United States of America, Florida, Miami  \n",
              "4     Original box, original papers                   Japan, Ehime yawatahama  "
            ]
          },
          "execution_count": 40,
          "metadata": {},
          "output_type": "execute_result"
        }
      ],
      "source": [
        "categorical_cols = rolex_df.select_dtypes(exclude=np.number).copy()\n",
        "categorical_cols.head()"
      ]
    },
    {
      "cell_type": "markdown",
      "metadata": {
        "id": "nUe0_tAX7uv6"
      },
      "source": [
        "Percentage of missing values"
      ]
    },
    {
      "cell_type": "code",
      "execution_count": 41,
      "metadata": {
        "colab": {
          "base_uri": "https://localhost:8080/"
        },
        "id": "Jy9uLkl37uv6",
        "outputId": "c3239491-0040-4d68-b81c-a69f9fbee164"
      },
      "outputs": [
        {
          "data": {
            "text/plain": [
              "model                  0.000000\n",
              "reference number       3.207654\n",
              "ad name                0.088931\n",
              "movement               3.624711\n",
              "case material          5.363468\n",
              "case diameter          4.457290\n",
              "year of production    25.888161\n",
              "condition              1.407565\n",
              "scope of delivery      0.000000\n",
              "location               0.000000\n",
              "dtype: float64"
            ]
          },
          "execution_count": 41,
          "metadata": {},
          "output_type": "execute_result"
        }
      ],
      "source": [
        "cate_missing_percentages = (categorical_cols.isna()).sum() / rolex_df.shape[0] * 100\n",
        "cate_missing_percentages"
      ]
    },
    {
      "cell_type": "markdown",
      "metadata": {
        "id": "nP8UgtY57uv6"
      },
      "source": [
        "Number of different values"
      ]
    },
    {
      "cell_type": "code",
      "execution_count": 42,
      "metadata": {
        "colab": {
          "base_uri": "https://localhost:8080/"
        },
        "id": "RhmT5PBd7uv7",
        "outputId": "0cedd3d0-10d6-4e17-e402-7e64a831c69e"
      },
      "outputs": [
        {
          "data": {
            "text/plain": [
              "model                    58\n",
              "reference number       4863\n",
              "ad name               44292\n",
              "movement                  3\n",
              "case material            13\n",
              "case diameter           643\n",
              "year of production      111\n",
              "condition                 7\n",
              "scope of delivery         4\n",
              "location               4097\n",
              "dtype: int64"
            ]
          },
          "execution_count": 42,
          "metadata": {},
          "output_type": "execute_result"
        }
      ],
      "source": [
        "categorical_cols.nunique()"
      ]
    },
    {
      "cell_type": "markdown",
      "metadata": {
        "id": "1rR-FmoB7uv7"
      },
      "source": [
        "---"
      ]
    },
    {
      "cell_type": "markdown",
      "metadata": {
        "id": "XaZ6lexp7uv7"
      },
      "source": [
        "# Asking meaningful questions "
      ]
    },
    {
      "cell_type": "code",
      "execution_count": 43,
      "metadata": {
        "id": "FMo1Zlcj7uv7"
      },
      "outputs": [],
      "source": [
        "rolex_df.drop(columns = ['ad name'],inplace=True)\n",
        "rolex_df = rolex_df[rolex_df['model'] != 'Rolex']"
      ]
    },
    {
      "cell_type": "code",
      "execution_count": 44,
      "metadata": {
        "id": "6G9oIvl77uv8"
      },
      "outputs": [],
      "source": [
        "# #Remove watch's size in model name\n",
        "# rolex_df['model'].replace(regex = True,to_replace = r\"[0-9]\",value = '',inplace= True)\n",
        "\n",
        "# # #Get true size of case\n",
        "# rolex_df['case diameter'] = rolex_df['case diameter'].str.extract(r'(^[\\d][\\d])')\n",
        "\n",
        "# #Preprocess ref number because some ref num are in wrong format (including characters,etc) \n",
        "\n",
        "# tmp = rolex_df['reference number'].str.extract(r'(\\d+[-]\\d+)|(\\d+)')\n",
        "# tmp[0].fillna(tmp[1],inplace=True)\n",
        "# rolex_df['reference number'] = tmp[0]\n",
        "\n",
        "# #Replace all Nan with Unknown\n",
        "# rolex_df['reference number'].replace(regex = True,to_replace = \"\",value = 'Unknown',inplace= True)"
      ]
    },
    {
      "cell_type": "code",
      "execution_count": 45,
      "metadata": {
        "colab": {
          "base_uri": "https://localhost:8080/",
          "height": 354
        },
        "id": "oMus5hDl7uv8",
        "outputId": "1511b505-1003-4b60-b389-4bbdd94bd0aa"
      },
      "outputs": [
        {
          "data": {
            "text/html": [
              "<div>\n",
              "<style scoped>\n",
              "    .dataframe tbody tr th:only-of-type {\n",
              "        vertical-align: middle;\n",
              "    }\n",
              "\n",
              "    .dataframe tbody tr th {\n",
              "        vertical-align: top;\n",
              "    }\n",
              "\n",
              "    .dataframe thead th {\n",
              "        text-align: right;\n",
              "    }\n",
              "</style>\n",
              "<table border=\"1\" class=\"dataframe\">\n",
              "  <thead>\n",
              "    <tr style=\"text-align: right;\">\n",
              "      <th></th>\n",
              "      <th>model</th>\n",
              "      <th>reference number</th>\n",
              "      <th>price</th>\n",
              "      <th>aditional shipping price</th>\n",
              "      <th>movement</th>\n",
              "      <th>case material</th>\n",
              "      <th>case diameter</th>\n",
              "      <th>year of production</th>\n",
              "      <th>condition</th>\n",
              "      <th>scope of delivery</th>\n",
              "      <th>location</th>\n",
              "    </tr>\n",
              "  </thead>\n",
              "  <tbody>\n",
              "    <tr>\n",
              "      <th>0</th>\n",
              "      <td>Rolex Lady-Datejust</td>\n",
              "      <td>179161</td>\n",
              "      <td>9080.0</td>\n",
              "      <td>140.0</td>\n",
              "      <td>Automatic</td>\n",
              "      <td>Steel</td>\n",
              "      <td>26 mm</td>\n",
              "      <td>2014.0</td>\n",
              "      <td>Very good</td>\n",
              "      <td>Original box, original papers</td>\n",
              "      <td>United States of America, Georgia</td>\n",
              "    </tr>\n",
              "    <tr>\n",
              "      <th>1</th>\n",
              "      <td>Rolex Chronograph</td>\n",
              "      <td>2917</td>\n",
              "      <td>16202.0</td>\n",
              "      <td>216.0</td>\n",
              "      <td>Manual winding</td>\n",
              "      <td>Steel</td>\n",
              "      <td>33 mm</td>\n",
              "      <td>1934.0</td>\n",
              "      <td>Very good</td>\n",
              "      <td>Original box, no original papers</td>\n",
              "      <td>Italy, Roma</td>\n",
              "    </tr>\n",
              "    <tr>\n",
              "      <th>2</th>\n",
              "      <td>Rolex Daytona</td>\n",
              "      <td>116519G</td>\n",
              "      <td>41567.0</td>\n",
              "      <td>0.0</td>\n",
              "      <td>Automatic</td>\n",
              "      <td>White gold</td>\n",
              "      <td>39 mm</td>\n",
              "      <td>NaN</td>\n",
              "      <td>Fair</td>\n",
              "      <td>Original papers, no original box</td>\n",
              "      <td>Japan, Nagoya City</td>\n",
              "    </tr>\n",
              "    <tr>\n",
              "      <th>3</th>\n",
              "      <td>Rolex Submariner Date</td>\n",
              "      <td>116613</td>\n",
              "      <td>19795.0</td>\n",
              "      <td>235.0</td>\n",
              "      <td>Automatic</td>\n",
              "      <td>Steel</td>\n",
              "      <td>40 mm</td>\n",
              "      <td>2020.0</td>\n",
              "      <td>Unworn</td>\n",
              "      <td>Original box, original papers</td>\n",
              "      <td>United States of America, Florida, Miami</td>\n",
              "    </tr>\n",
              "    <tr>\n",
              "      <th>4</th>\n",
              "      <td>Rolex Submariner Date</td>\n",
              "      <td>16610</td>\n",
              "      <td>10674.0</td>\n",
              "      <td>145.0</td>\n",
              "      <td>Automatic</td>\n",
              "      <td>NaN</td>\n",
              "      <td>40 mm</td>\n",
              "      <td>1990.0</td>\n",
              "      <td>Good</td>\n",
              "      <td>Original box, original papers</td>\n",
              "      <td>Japan, Ehime yawatahama</td>\n",
              "    </tr>\n",
              "  </tbody>\n",
              "</table>\n",
              "</div>"
            ],
            "text/plain": [
              "                   model reference number    price  aditional shipping price  \\\n",
              "0    Rolex Lady-Datejust           179161   9080.0                     140.0   \n",
              "1      Rolex Chronograph             2917  16202.0                     216.0   \n",
              "2          Rolex Daytona          116519G  41567.0                       0.0   \n",
              "3  Rolex Submariner Date           116613  19795.0                     235.0   \n",
              "4  Rolex Submariner Date            16610  10674.0                     145.0   \n",
              "\n",
              "         movement case material case diameter year of production  condition  \\\n",
              "0       Automatic         Steel         26 mm             2014.0  Very good   \n",
              "1  Manual winding         Steel         33 mm             1934.0  Very good   \n",
              "2       Automatic    White gold         39 mm                NaN       Fair   \n",
              "3       Automatic         Steel         40 mm             2020.0     Unworn   \n",
              "4       Automatic           NaN         40 mm             1990.0       Good   \n",
              "\n",
              "                  scope of delivery                                  location  \n",
              "0     Original box, original papers         United States of America, Georgia  \n",
              "1  Original box, no original papers                               Italy, Roma  \n",
              "2  Original papers, no original box                        Japan, Nagoya City  \n",
              "3     Original box, original papers  United States of America, Florida, Miami  \n",
              "4     Original box, original papers                   Japan, Ehime yawatahama  "
            ]
          },
          "execution_count": 45,
          "metadata": {},
          "output_type": "execute_result"
        }
      ],
      "source": [
        "rolex_df.reset_index(drop=True,inplace = True)\n",
        "rolex_df.head()"
      ]
    },
    {
      "cell_type": "markdown",
      "metadata": {
        "id": "X7UNfEa67uv8"
      },
      "source": [
        "Fill ref num movement case material and year of production with the mode of their model.  "
      ]
    },
    {
      "cell_type": "code",
      "execution_count": 46,
      "metadata": {
        "id": "XHDyzKKp7uv9"
      },
      "outputs": [],
      "source": [
        "# rolex_df['year of production'] = rolex_df['year of production'].astype(np.number)\n",
        "# rolex_df.loc[rolex_df['year of production'] < 1905, 'year of production' ] = np.nan\n",
        "# rolex_df['year of production'] = rolex_df['year of production'].astype('object')\n",
        "\n",
        "# model_list = rolex_df['model'].unique()\n",
        "# for i in model_list:\n",
        "#     rolex_df[rolex_df['model'] == i] = rolex_df[rolex_df['model'] == i].fillna(rolex_df[rolex_df['model'] == i].mode().iloc[0])\n"
      ]
    },
    {
      "cell_type": "markdown",
      "metadata": {
        "id": "yD4Gm8Lv7uv9"
      },
      "source": [
        "Check if dataset still consists missing values"
      ]
    },
    {
      "cell_type": "code",
      "execution_count": 47,
      "metadata": {
        "colab": {
          "base_uri": "https://localhost:8080/"
        },
        "id": "RenkXnZj7uv9",
        "outputId": "2412bac6-d333-4def-ba00-a81e6f1b23c0"
      },
      "outputs": [
        {
          "data": {
            "text/plain": [
              "model                        0.000000\n",
              "reference number             2.672060\n",
              "price                        6.321740\n",
              "aditional shipping price     0.000000\n",
              "movement                     3.574719\n",
              "case material                5.241048\n",
              "case diameter                4.289975\n",
              "year of production          25.630534\n",
              "condition                    1.361798\n",
              "scope of delivery            0.000000\n",
              "location                     0.000000\n",
              "dtype: float64"
            ]
          },
          "execution_count": 47,
          "metadata": {},
          "output_type": "execute_result"
        }
      ],
      "source": [
        "missing_percentages = rolex_df.isna().sum()/rolex_df.shape[0]*100\n",
        "missing_percentages"
      ]
    },
    {
      "cell_type": "markdown",
      "metadata": {
        "id": "_TJ_0Joi7uv-"
      },
      "source": [
        "### Question 1 : How can we know if we had bought a great deal (Our team will create a model to predict price of watch) \n",
        "Have you ever wanted to buy a watch but you do not know that the price of the thing that you found is cheap or expensive. That is the reason why we want to ask this question is that our team was in this situations multiple times. We find that it is really time consuming when you have to find the things which we want to buy at a good price. Therefore, we will create a model that can help us and other people who want to buy Rolex save time from searching for a great deal. And if we can solve this problem, we can use this model to predict price of various things not only Rolex watches."
      ]
    },
    {
      "cell_type": "code",
      "execution_count": 48,
      "metadata": {
        "id": "gnGZd2C27uv-"
      },
      "outputs": [],
      "source": [
        "class preprocess(BaseEstimator, TransformerMixin):\n",
        "    def fit(self, X_df, y=None):\n",
        "        return self\n",
        "        \n",
        "    def transform (self, X_df):\n",
        "        out_df = X_df.copy()\n",
        "    \n",
        "        #Remove watch's size in model name\n",
        "        out_df['model'].replace(regex = True,to_replace = r\"[0-9]\",value = '',inplace= True)\n",
        "\n",
        "        # #Get true size of case\n",
        "        out_df['case diameter'] = out_df['case diameter'].str.extract(r'(^[\\d][\\d])')\n",
        "\n",
        "        #Preprocess ref number because some ref num are in wrong format (including characters,etc) \n",
        "\n",
        "        tmp = out_df['reference number'].str.extract(r'(\\d+[-]\\d+)|(\\d+)')\n",
        "        tmp[0].fillna(tmp[1],inplace=True)\n",
        "        out_df['reference number'] = tmp[0]\n",
        "\n",
        "        #Replace all Nan with Unknown\n",
        "        out_df['reference number'].replace(regex = True,to_replace = \"\",value = 'Unknown',inplace= True)\n",
        "\n",
        "        out_df['year of production'] = out_df['year of production'].astype(np.number)\n",
        "        out_df.loc[out_df['year of production'] < 1905, 'year of production' ] = np.nan\n",
        "        out_df['year of production'] = out_df['year of production'].astype('object')\n",
        "\n",
        "        model_list = out_df['model'].unique()\n",
        "        for i in model_list:\n",
        "            out_df[out_df['model'] == i] = out_df[out_df['model'] == i].fillna(out_df[out_df['model'] == i].mode().iloc[0])\n",
        "        \n",
        "        return out_df"
      ]
    },
    {
      "cell_type": "markdown",
      "metadata": {
        "id": "g2MvBQss7uv-"
      },
      "source": [
        "Split data"
      ]
    },
    {
      "cell_type": "code",
      "execution_count": 49,
      "metadata": {
        "id": "KSlz62DV7uv_"
      },
      "outputs": [],
      "source": [
        "# X_df = rolex_df.drop(columns=['price'])\n",
        "# y_df = rolex_df['price']\n",
        "tmp  = rolex_df[['model', 'reference number', 'price',\n",
        "       'movement', 'case material', 'case diameter', 'year of production',\n",
        "       'condition', 'scope of delivery']].copy()\n",
        "\n",
        "X_train, X_test= train_test_split(tmp, test_size=0.2, random_state=0)\n",
        "X_train = preprocess().transform(X_train)\n",
        "Y_train = X_train['price']\n",
        "\n",
        "X_test = preprocess().transform(X_test)\n",
        "Y_test = X_test['price']"
      ]
    },
    {
      "cell_type": "code",
      "execution_count": 50,
      "metadata": {
        "id": "ic2Iwj987uv_"
      },
      "outputs": [],
      "source": [
        "preprocess_data =  preprocess().transform(X_train)"
      ]
    },
    {
      "cell_type": "code",
      "execution_count": 51,
      "metadata": {
        "id": "9nJpxiEj7uv_"
      },
      "outputs": [],
      "source": [
        "categorical_cols = preprocess_data.select_dtypes(exclude=np.number).columns\n",
        "numerical_cols = preprocess_data.select_dtypes(include = np.number).columns\n",
        "\n",
        "ohe = OneHotEncoder(handle_unknown='ignore',sparse=False)\n",
        "scaler = StandardScaler()\n",
        "\n",
        "numerics_pipeline = make_pipeline(scaler)\n",
        "categorical_pipeline = make_pipeline(ohe,scaler)\n",
        "\n",
        "col_transformer = make_column_transformer(\n",
        "    (numerics_pipeline,numerical_cols),\n",
        "    (categorical_pipeline,categorical_cols),\n",
        "    remainder='passthrough')\n",
        "\n",
        "preprocess_pipeline = make_pipeline(preprocess(), col_transformer)\n",
        "# preprocessed_train_X = preprocess_pipeline.fit_transform(X_train)"
      ]
    },
    {
      "cell_type": "markdown",
      "metadata": {
        "id": "bWibPIE67uv_"
      },
      "source": [
        "Predict"
      ]
    },
    {
      "cell_type": "code",
      "execution_count": 52,
      "metadata": {
        "colab": {
          "base_uri": "https://localhost:8080/"
        },
        "id": "1GwAKBWq7uwA",
        "outputId": "ad6f26ca-a000-4ed2-a593-8e3b253b8677"
      },
      "outputs": [
        {
          "name": "stderr",
          "output_type": "stream",
          "text": [
            "c:\\Python311\\Lib\\site-packages\\sklearn\\preprocessing\\_encoders.py:808: FutureWarning: `sparse` was renamed to `sparse_output` in version 1.2 and will be removed in 1.4. `sparse_output` is ignored unless you leave `sparse` to its default value.\n",
            "  warnings.warn(\n",
            "[Parallel(n_jobs=-1)]: Using backend ThreadingBackend with 12 concurrent workers.\n",
            "[Parallel(n_jobs=-1)]: Done  26 tasks      | elapsed:   47.9s\n",
            "[Parallel(n_jobs=-1)]: Done 100 out of 100 | elapsed:  2.5min finished\n",
            "[Parallel(n_jobs=12)]: Using backend ThreadingBackend with 12 concurrent workers.\n",
            "[Parallel(n_jobs=12)]: Done  26 tasks      | elapsed:    0.0s\n",
            "[Parallel(n_jobs=12)]: Done 100 out of 100 | elapsed:    0.0s finished\n"
          ]
        }
      ],
      "source": [
        "full_pipeline = make_pipeline(preprocess_pipeline,RandomForestRegressor(n_jobs = -1,verbose = True))\n",
        "\n",
        "# Experiment with different values of hyperparameters (the whole process can take 2-3 minutes) and choose the best values\n",
        "# val_accs = []\n",
        "# for alpha in alphas:\n",
        "#     for num_top_cp_values in num_top_cp_values_s:\n",
        "     \n",
        "\n",
        "clf = full_pipeline.fit(X_train,Y_train)\n",
        "\n",
        "# val_accs.append(clf.score(X_test,Y_test)*100)\n",
        "\n",
        "# val_accs\n",
        "predict_y = clf.predict(X_test)\n",
        "# clf.shape"
      ]
    },
    {
      "cell_type": "code",
      "execution_count": 53,
      "metadata": {
        "colab": {
          "base_uri": "https://localhost:8080/"
        },
        "id": "b5bcdtIl7uwA",
        "outputId": "a1f70df3-77b3-4333-8d7e-9d4a4d2c2392"
      },
      "outputs": [
        {
          "data": {
            "text/plain": [
              "314.8829677336264"
            ]
          },
          "execution_count": 53,
          "metadata": {},
          "output_type": "execute_result"
        }
      ],
      "source": [
        "from sklearn.metrics import mean_squared_error,r2_score\n",
        "from math import sqrt\n",
        "sqrt(mean_squared_error(predict_y, Y_test))"
      ]
    },
    {
      "cell_type": "code",
      "execution_count": 54,
      "metadata": {
        "colab": {
          "base_uri": "https://localhost:8080/"
        },
        "id": "P_T6m4e6yFY3",
        "outputId": "16eba952-0209-4b55-c305-8ec3e4d69a2f"
      },
      "outputs": [
        {
          "data": {
            "text/plain": [
              "0.9998922421992859"
            ]
          },
          "execution_count": 54,
          "metadata": {},
          "output_type": "execute_result"
        }
      ],
      "source": [
        "r2_score(Y_test,predict_y)\n"
      ]
    },
    {
      "cell_type": "code",
      "execution_count": 55,
      "metadata": {
        "colab": {
          "base_uri": "https://localhost:8080/"
        },
        "id": "Pt53RuJn28AS",
        "outputId": "04c18a99-b762-4f1c-94e5-7fd2f01b9ff3"
      },
      "outputs": [
        {
          "name": "stderr",
          "output_type": "stream",
          "text": [
            "[Parallel(n_jobs=12)]: Using backend ThreadingBackend with 12 concurrent workers.\n",
            "[Parallel(n_jobs=12)]: Done  26 tasks      | elapsed:    0.0s\n",
            "[Parallel(n_jobs=12)]: Done 100 out of 100 | elapsed:    0.0s finished\n"
          ]
        },
        {
          "data": {
            "text/plain": [
              "0.9998922421992859"
            ]
          },
          "execution_count": 55,
          "metadata": {},
          "output_type": "execute_result"
        }
      ],
      "source": [
        "clf.score(X_test,Y_test)"
      ]
    },
    {
      "cell_type": "code",
      "execution_count": 56,
      "metadata": {
        "colab": {
          "base_uri": "https://localhost:8080/"
        },
        "id": "UXZt7Ct28LRQ",
        "outputId": "92ea5909-220a-4985-d95e-b5915970890f"
      },
      "outputs": [
        {
          "name": "stderr",
          "output_type": "stream",
          "text": [
            "[Parallel(n_jobs=12)]: Using backend ThreadingBackend with 12 concurrent workers.\n",
            "[Parallel(n_jobs=12)]: Done  26 tasks      | elapsed:    0.0s\n",
            "[Parallel(n_jobs=12)]: Done 100 out of 100 | elapsed:    0.2s finished\n"
          ]
        },
        {
          "data": {
            "text/plain": [
              "0.9998497337837975"
            ]
          },
          "execution_count": 56,
          "metadata": {},
          "output_type": "execute_result"
        }
      ],
      "source": [
        "clf.score(X_train,Y_train)"
      ]
    }
  ],
  "metadata": {
    "colab": {
      "provenance": []
    },
    "kernelspec": {
      "display_name": "Python 3",
      "language": "python",
      "name": "python3"
    },
    "language_info": {
      "codemirror_mode": {
        "name": "ipython",
        "version": 3
      },
      "file_extension": ".py",
      "mimetype": "text/x-python",
      "name": "python",
      "nbconvert_exporter": "python",
      "pygments_lexer": "ipython3",
      "version": "3.11.0"
    },
    "orig_nbformat": 4,
    "vscode": {
      "interpreter": {
        "hash": "c261aea317cc0286b3b3261fbba9abdec21eaa57589985bb7a274bf54d6cc0a7"
      }
    }
  },
  "nbformat": 4,
  "nbformat_minor": 0
}
