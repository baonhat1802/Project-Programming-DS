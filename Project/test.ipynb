{
 "cells": [
  {
   "cell_type": "code",
   "execution_count": 96,
   "metadata": {},
   "outputs": [],
   "source": [
    "import pandas as pd\n",
    "import matplotlib.pyplot as plt\n",
    "import numpy as np\n",
    "from sklearn.neural_network import MLPClassifier\n",
    "import re"
   ]
  },
  {
   "attachments": {},
   "cell_type": "markdown",
   "metadata": {},
   "source": [
    "---\n",
    "# Collecting data\n",
    "Our data is about Rolex watches which are sold on `chrono24.com`.\n",
    "\n",
    "Yes, He allows us to freely use the dataset.\n",
    "\n",
    "He collected this data by scraping with Selenium"
   ]
  },
  {
   "attachments": {},
   "cell_type": "markdown",
   "metadata": {},
   "source": [
    "---\n",
    "# Exploring data"
   ]
  },
  {
   "cell_type": "code",
   "execution_count": 97,
   "metadata": {},
   "outputs": [],
   "source": [
    "rolex_df = pd.read_csv('rolex_scaper_clean.csv')"
   ]
  },
  {
   "attachments": {},
   "cell_type": "markdown",
   "metadata": {},
   "source": [
    "#### Number of rows and columns"
   ]
  },
  {
   "cell_type": "code",
   "execution_count": 98,
   "metadata": {},
   "outputs": [
    {
     "data": {
      "text/plain": [
       "(87117, 12)"
      ]
     },
     "execution_count": 98,
     "metadata": {},
     "output_type": "execute_result"
    }
   ],
   "source": [
    "num_rows,num_cols = rolex_df.shape\n",
    "rolex_df.shape"
   ]
  },
  {
   "attachments": {},
   "cell_type": "markdown",
   "metadata": {},
   "source": [
    "#### Meaning of each row\n",
    "We can see that each row has information like model, price, ... about the watch."
   ]
  },
  {
   "cell_type": "code",
   "execution_count": 99,
   "metadata": {},
   "outputs": [
    {
     "data": {
      "text/html": [
       "<div>\n",
       "<style scoped>\n",
       "    .dataframe tbody tr th:only-of-type {\n",
       "        vertical-align: middle;\n",
       "    }\n",
       "\n",
       "    .dataframe tbody tr th {\n",
       "        vertical-align: top;\n",
       "    }\n",
       "\n",
       "    .dataframe thead th {\n",
       "        text-align: right;\n",
       "    }\n",
       "</style>\n",
       "<table border=\"1\" class=\"dataframe\">\n",
       "  <thead>\n",
       "    <tr style=\"text-align: right;\">\n",
       "      <th></th>\n",
       "      <th>model</th>\n",
       "      <th>reference number</th>\n",
       "      <th>price</th>\n",
       "      <th>aditional shipping price</th>\n",
       "      <th>ad name</th>\n",
       "      <th>movement</th>\n",
       "      <th>case material</th>\n",
       "      <th>case diameter</th>\n",
       "      <th>year of production</th>\n",
       "      <th>condition</th>\n",
       "      <th>scope of delivery</th>\n",
       "      <th>location</th>\n",
       "    </tr>\n",
       "  </thead>\n",
       "  <tbody>\n",
       "    <tr>\n",
       "      <th>0</th>\n",
       "      <td>Rolex Lady-Datejust</td>\n",
       "      <td>179161</td>\n",
       "      <td>9080.0</td>\n",
       "      <td>140.0</td>\n",
       "      <td>Steel Rose Gold Black Roman Dial Ladies Watch ...</td>\n",
       "      <td>Automatic</td>\n",
       "      <td>Steel</td>\n",
       "      <td>26 mm</td>\n",
       "      <td>2014.0</td>\n",
       "      <td>Very good</td>\n",
       "      <td>Original box, original papers</td>\n",
       "      <td>United States of America, Georgia</td>\n",
       "    </tr>\n",
       "    <tr>\n",
       "      <th>1</th>\n",
       "      <td>Rolex Chronograph</td>\n",
       "      <td>2917</td>\n",
       "      <td>16202.0</td>\n",
       "      <td>216.0</td>\n",
       "      <td>REF. 2917</td>\n",
       "      <td>Manual winding</td>\n",
       "      <td>Steel</td>\n",
       "      <td>33 mm</td>\n",
       "      <td>1934.0</td>\n",
       "      <td>Very good</td>\n",
       "      <td>Original box, no original papers</td>\n",
       "      <td>Italy, Roma</td>\n",
       "    </tr>\n",
       "    <tr>\n",
       "      <th>2</th>\n",
       "      <td>Rolex Daytona</td>\n",
       "      <td>116519G</td>\n",
       "      <td>41567.0</td>\n",
       "      <td>0.0</td>\n",
       "      <td>保証書付き ROLEX ロレックス デイトナ コスモグラフ K18WG 8Pダイヤ ランダム...</td>\n",
       "      <td>Automatic</td>\n",
       "      <td>White gold</td>\n",
       "      <td>39 mm</td>\n",
       "      <td>NaN</td>\n",
       "      <td>Fair</td>\n",
       "      <td>Original papers, no original box</td>\n",
       "      <td>Japan, Nagoya City</td>\n",
       "    </tr>\n",
       "    <tr>\n",
       "      <th>3</th>\n",
       "      <td>Rolex Submariner Date</td>\n",
       "      <td>116613</td>\n",
       "      <td>19795.0</td>\n",
       "      <td>235.0</td>\n",
       "      <td>New Submariner 116613 Yellow Steel Gold Cerami...</td>\n",
       "      <td>Automatic</td>\n",
       "      <td>Steel</td>\n",
       "      <td>40 mm</td>\n",
       "      <td>2020.0</td>\n",
       "      <td>Unworn</td>\n",
       "      <td>Original box, original papers</td>\n",
       "      <td>United States of America, Florida, Miami</td>\n",
       "    </tr>\n",
       "    <tr>\n",
       "      <th>4</th>\n",
       "      <td>Rolex Submariner Date</td>\n",
       "      <td>16610</td>\n",
       "      <td>10674.0</td>\n",
       "      <td>145.0</td>\n",
       "      <td>1990s ROLEX SUBMARINER 16610 Tritium vintage G...</td>\n",
       "      <td>Automatic</td>\n",
       "      <td>NaN</td>\n",
       "      <td>40 mm</td>\n",
       "      <td>1990.0</td>\n",
       "      <td>Good</td>\n",
       "      <td>Original box, original papers</td>\n",
       "      <td>Japan, Ehime yawatahama</td>\n",
       "    </tr>\n",
       "  </tbody>\n",
       "</table>\n",
       "</div>"
      ],
      "text/plain": [
       "                   model reference number    price  aditional shipping price  \\\n",
       "0    Rolex Lady-Datejust           179161   9080.0                     140.0   \n",
       "1      Rolex Chronograph             2917  16202.0                     216.0   \n",
       "2          Rolex Daytona          116519G  41567.0                       0.0   \n",
       "3  Rolex Submariner Date           116613  19795.0                     235.0   \n",
       "4  Rolex Submariner Date            16610  10674.0                     145.0   \n",
       "\n",
       "                                             ad name        movement  \\\n",
       "0  Steel Rose Gold Black Roman Dial Ladies Watch ...       Automatic   \n",
       "1                                          REF. 2917  Manual winding   \n",
       "2  保証書付き ROLEX ロレックス デイトナ コスモグラフ K18WG 8Pダイヤ ランダム...       Automatic   \n",
       "3  New Submariner 116613 Yellow Steel Gold Cerami...       Automatic   \n",
       "4  1990s ROLEX SUBMARINER 16610 Tritium vintage G...       Automatic   \n",
       "\n",
       "  case material case diameter  year of production  condition  \\\n",
       "0         Steel         26 mm              2014.0  Very good   \n",
       "1         Steel         33 mm              1934.0  Very good   \n",
       "2    White gold         39 mm                 NaN       Fair   \n",
       "3         Steel         40 mm              2020.0     Unworn   \n",
       "4           NaN         40 mm              1990.0       Good   \n",
       "\n",
       "                  scope of delivery                                  location  \n",
       "0     Original box, original papers         United States of America, Georgia  \n",
       "1  Original box, no original papers                               Italy, Roma  \n",
       "2  Original papers, no original box                        Japan, Nagoya City  \n",
       "3     Original box, original papers  United States of America, Florida, Miami  \n",
       "4     Original box, original papers                   Japan, Ehime yawatahama  "
      ]
     },
     "execution_count": 99,
     "metadata": {},
     "output_type": "execute_result"
    }
   ],
   "source": [
    "rolex_df.head()"
   ]
  },
  {
   "attachments": {},
   "cell_type": "markdown",
   "metadata": {},
   "source": [
    "#### Are there duplicated rows ?"
   ]
  },
  {
   "cell_type": "code",
   "execution_count": 100,
   "metadata": {},
   "outputs": [
    {
     "data": {
      "text/plain": [
       "21898"
      ]
     },
     "execution_count": 100,
     "metadata": {},
     "output_type": "execute_result"
    }
   ],
   "source": [
    "rolex_df.duplicated(keep='first').sum()"
   ]
  },
  {
   "attachments": {},
   "cell_type": "markdown",
   "metadata": {},
   "source": [
    "Drop duplicated rows"
   ]
  },
  {
   "cell_type": "code",
   "execution_count": 101,
   "metadata": {},
   "outputs": [],
   "source": [
    "rolex_df.drop_duplicates(inplace=True)"
   ]
  },
  {
   "attachments": {},
   "cell_type": "markdown",
   "metadata": {},
   "source": [
    "#### Meaning of each columns ?\n",
    "\n",
    "model: the watch model name\n",
    "\n",
    "reference number: the number to identify the watch model as a whole\n",
    "\n",
    "price: the price on the listing (price made by the reseller)\n",
    "\n",
    "additional shipping price: the price for shipping (0 = free shipping)\n",
    "\n",
    "ad name: the name of the listing on the site\n",
    "\n",
    "movement: the engine of a watch to make the watch and its functions operate\n",
    "\n",
    "case material: the material of the external watch case\n",
    "\n",
    "case diameter: the dimensions of the watch\n",
    "\n",
    "year of production: the year when Rolex fabricate that particular watch\n",
    "\n",
    "condition: the general condition of the watch\n",
    "\n",
    "scope of delivery: the additional things like warranty, or box that could come with the watch\n",
    "\n",
    "location: the location of the reseller\n"
   ]
  },
  {
   "attachments": {},
   "cell_type": "markdown",
   "metadata": {},
   "source": [
    "#### Type of each colum \n",
    "Luckily, all columns are in their right data types except for year of production. It should be categorical (object) instead of float64."
   ]
  },
  {
   "cell_type": "code",
   "execution_count": 102,
   "metadata": {},
   "outputs": [
    {
     "data": {
      "text/plain": [
       "model                        object\n",
       "reference number             object\n",
       "price                       float64\n",
       "aditional shipping price    float64\n",
       "ad name                      object\n",
       "movement                     object\n",
       "case material                object\n",
       "case diameter                object\n",
       "year of production          float64\n",
       "condition                    object\n",
       "scope of delivery            object\n",
       "location                     object\n",
       "dtype: object"
      ]
     },
     "execution_count": 102,
     "metadata": {},
     "output_type": "execute_result"
    }
   ],
   "source": [
    "rolex_df.dtypes "
   ]
  },
  {
   "attachments": {},
   "cell_type": "markdown",
   "metadata": {},
   "source": [
    "Change data types of year of production column"
   ]
  },
  {
   "cell_type": "code",
   "execution_count": 103,
   "metadata": {},
   "outputs": [
    {
     "data": {
      "text/plain": [
       "model                        object\n",
       "reference number             object\n",
       "price                       float64\n",
       "aditional shipping price    float64\n",
       "ad name                      object\n",
       "movement                     object\n",
       "case material                object\n",
       "case diameter                object\n",
       "year of production           object\n",
       "condition                    object\n",
       "scope of delivery            object\n",
       "location                     object\n",
       "dtype: object"
      ]
     },
     "execution_count": 103,
     "metadata": {},
     "output_type": "execute_result"
    }
   ],
   "source": [
    "rolex_df['year of production'] = rolex_df['year of production'].astype('object')\n",
    "rolex_df.dtypes"
   ]
  },
  {
   "attachments": {},
   "cell_type": "markdown",
   "metadata": {},
   "source": [
    "#### With each numerical column, how are values distributed?"
   ]
  },
  {
   "cell_type": "code",
   "execution_count": 104,
   "metadata": {},
   "outputs": [
    {
     "data": {
      "text/html": [
       "<div>\n",
       "<style scoped>\n",
       "    .dataframe tbody tr th:only-of-type {\n",
       "        vertical-align: middle;\n",
       "    }\n",
       "\n",
       "    .dataframe tbody tr th {\n",
       "        vertical-align: top;\n",
       "    }\n",
       "\n",
       "    .dataframe thead th {\n",
       "        text-align: right;\n",
       "    }\n",
       "</style>\n",
       "<table border=\"1\" class=\"dataframe\">\n",
       "  <thead>\n",
       "    <tr style=\"text-align: right;\">\n",
       "      <th></th>\n",
       "      <th>price</th>\n",
       "      <th>aditional shipping price</th>\n",
       "    </tr>\n",
       "  </thead>\n",
       "  <tbody>\n",
       "    <tr>\n",
       "      <th>0</th>\n",
       "      <td>9080.0</td>\n",
       "      <td>140.0</td>\n",
       "    </tr>\n",
       "    <tr>\n",
       "      <th>1</th>\n",
       "      <td>16202.0</td>\n",
       "      <td>216.0</td>\n",
       "    </tr>\n",
       "    <tr>\n",
       "      <th>2</th>\n",
       "      <td>41567.0</td>\n",
       "      <td>0.0</td>\n",
       "    </tr>\n",
       "    <tr>\n",
       "      <th>3</th>\n",
       "      <td>19795.0</td>\n",
       "      <td>235.0</td>\n",
       "    </tr>\n",
       "    <tr>\n",
       "      <th>4</th>\n",
       "      <td>10674.0</td>\n",
       "      <td>145.0</td>\n",
       "    </tr>\n",
       "  </tbody>\n",
       "</table>\n",
       "</div>"
      ],
      "text/plain": [
       "     price  aditional shipping price\n",
       "0   9080.0                     140.0\n",
       "1  16202.0                     216.0\n",
       "2  41567.0                       0.0\n",
       "3  19795.0                     235.0\n",
       "4  10674.0                     145.0"
      ]
     },
     "execution_count": 104,
     "metadata": {},
     "output_type": "execute_result"
    }
   ],
   "source": [
    "numerical_cols = rolex_df.select_dtypes(include=np.number).copy()\n",
    "numerical_cols.head()"
   ]
  },
  {
   "attachments": {},
   "cell_type": "markdown",
   "metadata": {},
   "source": [
    "Proportion of missing values"
   ]
  },
  {
   "cell_type": "code",
   "execution_count": 105,
   "metadata": {},
   "outputs": [
    {
     "data": {
      "text/plain": [
       "price                       6.271179\n",
       "aditional shipping price    0.000000\n",
       "dtype: float64"
      ]
     },
     "execution_count": 105,
     "metadata": {},
     "output_type": "execute_result"
    }
   ],
   "source": [
    "num_missing_percentages = (numerical_cols.isna()).sum() / rolex_df.shape[0] * 100\n",
    "num_missing_percentages"
   ]
  },
  {
   "attachments": {},
   "cell_type": "markdown",
   "metadata": {},
   "source": [
    "Describe"
   ]
  },
  {
   "cell_type": "code",
   "execution_count": 106,
   "metadata": {},
   "outputs": [
    {
     "data": {
      "text/html": [
       "<div>\n",
       "<style scoped>\n",
       "    .dataframe tbody tr th:only-of-type {\n",
       "        vertical-align: middle;\n",
       "    }\n",
       "\n",
       "    .dataframe tbody tr th {\n",
       "        vertical-align: top;\n",
       "    }\n",
       "\n",
       "    .dataframe thead th {\n",
       "        text-align: right;\n",
       "    }\n",
       "</style>\n",
       "<table border=\"1\" class=\"dataframe\">\n",
       "  <thead>\n",
       "    <tr style=\"text-align: right;\">\n",
       "      <th></th>\n",
       "      <th>price</th>\n",
       "      <th>aditional shipping price</th>\n",
       "    </tr>\n",
       "  </thead>\n",
       "  <tbody>\n",
       "    <tr>\n",
       "      <th>count</th>\n",
       "      <td>6.112900e+04</td>\n",
       "      <td>65219.000000</td>\n",
       "    </tr>\n",
       "    <tr>\n",
       "      <th>mean</th>\n",
       "      <td>2.276485e+04</td>\n",
       "      <td>134.830234</td>\n",
       "    </tr>\n",
       "    <tr>\n",
       "      <th>std</th>\n",
       "      <td>3.059692e+04</td>\n",
       "      <td>2580.042710</td>\n",
       "    </tr>\n",
       "    <tr>\n",
       "      <th>min</th>\n",
       "      <td>3.150000e+02</td>\n",
       "      <td>0.000000</td>\n",
       "    </tr>\n",
       "    <tr>\n",
       "      <th>25%</th>\n",
       "      <td>9.157000e+03</td>\n",
       "      <td>31.000000</td>\n",
       "    </tr>\n",
       "    <tr>\n",
       "      <th>50%</th>\n",
       "      <td>1.500000e+04</td>\n",
       "      <td>99.000000</td>\n",
       "    </tr>\n",
       "    <tr>\n",
       "      <th>75%</th>\n",
       "      <td>2.483300e+04</td>\n",
       "      <td>160.000000</td>\n",
       "    </tr>\n",
       "    <tr>\n",
       "      <th>max</th>\n",
       "      <td>1.152102e+06</td>\n",
       "      <td>656389.000000</td>\n",
       "    </tr>\n",
       "  </tbody>\n",
       "</table>\n",
       "</div>"
      ],
      "text/plain": [
       "              price  aditional shipping price\n",
       "count  6.112900e+04              65219.000000\n",
       "mean   2.276485e+04                134.830234\n",
       "std    3.059692e+04               2580.042710\n",
       "min    3.150000e+02                  0.000000\n",
       "25%    9.157000e+03                 31.000000\n",
       "50%    1.500000e+04                 99.000000\n",
       "75%    2.483300e+04                160.000000\n",
       "max    1.152102e+06             656389.000000"
      ]
     },
     "execution_count": 106,
     "metadata": {},
     "output_type": "execute_result"
    }
   ],
   "source": [
    "numerical_cols.describe()"
   ]
  },
  {
   "attachments": {},
   "cell_type": "markdown",
   "metadata": {},
   "source": [
    "#### With each categorical column, how are values distributed?"
   ]
  },
  {
   "cell_type": "code",
   "execution_count": 107,
   "metadata": {},
   "outputs": [
    {
     "data": {
      "text/html": [
       "<div>\n",
       "<style scoped>\n",
       "    .dataframe tbody tr th:only-of-type {\n",
       "        vertical-align: middle;\n",
       "    }\n",
       "\n",
       "    .dataframe tbody tr th {\n",
       "        vertical-align: top;\n",
       "    }\n",
       "\n",
       "    .dataframe thead th {\n",
       "        text-align: right;\n",
       "    }\n",
       "</style>\n",
       "<table border=\"1\" class=\"dataframe\">\n",
       "  <thead>\n",
       "    <tr style=\"text-align: right;\">\n",
       "      <th></th>\n",
       "      <th>model</th>\n",
       "      <th>reference number</th>\n",
       "      <th>ad name</th>\n",
       "      <th>movement</th>\n",
       "      <th>case material</th>\n",
       "      <th>case diameter</th>\n",
       "      <th>year of production</th>\n",
       "      <th>condition</th>\n",
       "      <th>scope of delivery</th>\n",
       "      <th>location</th>\n",
       "    </tr>\n",
       "  </thead>\n",
       "  <tbody>\n",
       "    <tr>\n",
       "      <th>0</th>\n",
       "      <td>Rolex Lady-Datejust</td>\n",
       "      <td>179161</td>\n",
       "      <td>Steel Rose Gold Black Roman Dial Ladies Watch ...</td>\n",
       "      <td>Automatic</td>\n",
       "      <td>Steel</td>\n",
       "      <td>26 mm</td>\n",
       "      <td>2014.0</td>\n",
       "      <td>Very good</td>\n",
       "      <td>Original box, original papers</td>\n",
       "      <td>United States of America, Georgia</td>\n",
       "    </tr>\n",
       "    <tr>\n",
       "      <th>1</th>\n",
       "      <td>Rolex Chronograph</td>\n",
       "      <td>2917</td>\n",
       "      <td>REF. 2917</td>\n",
       "      <td>Manual winding</td>\n",
       "      <td>Steel</td>\n",
       "      <td>33 mm</td>\n",
       "      <td>1934.0</td>\n",
       "      <td>Very good</td>\n",
       "      <td>Original box, no original papers</td>\n",
       "      <td>Italy, Roma</td>\n",
       "    </tr>\n",
       "    <tr>\n",
       "      <th>2</th>\n",
       "      <td>Rolex Daytona</td>\n",
       "      <td>116519G</td>\n",
       "      <td>保証書付き ROLEX ロレックス デイトナ コスモグラフ K18WG 8Pダイヤ ランダム...</td>\n",
       "      <td>Automatic</td>\n",
       "      <td>White gold</td>\n",
       "      <td>39 mm</td>\n",
       "      <td>NaN</td>\n",
       "      <td>Fair</td>\n",
       "      <td>Original papers, no original box</td>\n",
       "      <td>Japan, Nagoya City</td>\n",
       "    </tr>\n",
       "    <tr>\n",
       "      <th>3</th>\n",
       "      <td>Rolex Submariner Date</td>\n",
       "      <td>116613</td>\n",
       "      <td>New Submariner 116613 Yellow Steel Gold Cerami...</td>\n",
       "      <td>Automatic</td>\n",
       "      <td>Steel</td>\n",
       "      <td>40 mm</td>\n",
       "      <td>2020.0</td>\n",
       "      <td>Unworn</td>\n",
       "      <td>Original box, original papers</td>\n",
       "      <td>United States of America, Florida, Miami</td>\n",
       "    </tr>\n",
       "    <tr>\n",
       "      <th>4</th>\n",
       "      <td>Rolex Submariner Date</td>\n",
       "      <td>16610</td>\n",
       "      <td>1990s ROLEX SUBMARINER 16610 Tritium vintage G...</td>\n",
       "      <td>Automatic</td>\n",
       "      <td>NaN</td>\n",
       "      <td>40 mm</td>\n",
       "      <td>1990.0</td>\n",
       "      <td>Good</td>\n",
       "      <td>Original box, original papers</td>\n",
       "      <td>Japan, Ehime yawatahama</td>\n",
       "    </tr>\n",
       "  </tbody>\n",
       "</table>\n",
       "</div>"
      ],
      "text/plain": [
       "                   model reference number  \\\n",
       "0    Rolex Lady-Datejust           179161   \n",
       "1      Rolex Chronograph             2917   \n",
       "2          Rolex Daytona          116519G   \n",
       "3  Rolex Submariner Date           116613   \n",
       "4  Rolex Submariner Date            16610   \n",
       "\n",
       "                                             ad name        movement  \\\n",
       "0  Steel Rose Gold Black Roman Dial Ladies Watch ...       Automatic   \n",
       "1                                          REF. 2917  Manual winding   \n",
       "2  保証書付き ROLEX ロレックス デイトナ コスモグラフ K18WG 8Pダイヤ ランダム...       Automatic   \n",
       "3  New Submariner 116613 Yellow Steel Gold Cerami...       Automatic   \n",
       "4  1990s ROLEX SUBMARINER 16610 Tritium vintage G...       Automatic   \n",
       "\n",
       "  case material case diameter year of production  condition  \\\n",
       "0         Steel         26 mm             2014.0  Very good   \n",
       "1         Steel         33 mm             1934.0  Very good   \n",
       "2    White gold         39 mm                NaN       Fair   \n",
       "3         Steel         40 mm             2020.0     Unworn   \n",
       "4           NaN         40 mm             1990.0       Good   \n",
       "\n",
       "                  scope of delivery                                  location  \n",
       "0     Original box, original papers         United States of America, Georgia  \n",
       "1  Original box, no original papers                               Italy, Roma  \n",
       "2  Original papers, no original box                        Japan, Nagoya City  \n",
       "3     Original box, original papers  United States of America, Florida, Miami  \n",
       "4     Original box, original papers                   Japan, Ehime yawatahama  "
      ]
     },
     "execution_count": 107,
     "metadata": {},
     "output_type": "execute_result"
    }
   ],
   "source": [
    "categorical_cols = rolex_df.select_dtypes(exclude=np.number).copy()\n",
    "categorical_cols.head()"
   ]
  },
  {
   "attachments": {},
   "cell_type": "markdown",
   "metadata": {},
   "source": [
    "Percentage of missing values"
   ]
  },
  {
   "cell_type": "code",
   "execution_count": 108,
   "metadata": {},
   "outputs": [
    {
     "data": {
      "text/plain": [
       "model                  0.000000\n",
       "reference number       3.207654\n",
       "ad name                0.088931\n",
       "movement               3.624711\n",
       "case material          5.363468\n",
       "case diameter          4.457290\n",
       "year of production    25.888161\n",
       "condition              1.407565\n",
       "scope of delivery      0.000000\n",
       "location               0.000000\n",
       "dtype: float64"
      ]
     },
     "execution_count": 108,
     "metadata": {},
     "output_type": "execute_result"
    }
   ],
   "source": [
    "cate_missing_percentages = (categorical_cols.isna()).sum() / rolex_df.shape[0] * 100\n",
    "cate_missing_percentages"
   ]
  },
  {
   "attachments": {},
   "cell_type": "markdown",
   "metadata": {},
   "source": [
    "Number of different values"
   ]
  },
  {
   "cell_type": "code",
   "execution_count": 109,
   "metadata": {},
   "outputs": [
    {
     "data": {
      "text/plain": [
       "model                    58\n",
       "reference number       4863\n",
       "ad name               44292\n",
       "movement                  3\n",
       "case material            13\n",
       "case diameter           643\n",
       "year of production      111\n",
       "condition                 7\n",
       "scope of delivery         4\n",
       "location               4097\n",
       "dtype: int64"
      ]
     },
     "execution_count": 109,
     "metadata": {},
     "output_type": "execute_result"
    }
   ],
   "source": [
    "categorical_cols.nunique()"
   ]
  },
  {
   "attachments": {},
   "cell_type": "markdown",
   "metadata": {},
   "source": [
    "---"
   ]
  },
  {
   "attachments": {},
   "cell_type": "markdown",
   "metadata": {},
   "source": [
    "# Asking meaningful questions "
   ]
  },
  {
   "cell_type": "code",
   "execution_count": 110,
   "metadata": {},
   "outputs": [],
   "source": [
    "rolex_df.drop(columns = ['ad name'],inplace=True)\n",
    "rolex_df = rolex_df[rolex_df['model'] != 'Rolex']"
   ]
  },
  {
   "cell_type": "code",
   "execution_count": 111,
   "metadata": {},
   "outputs": [],
   "source": [
    "#Remove watch's size in model name\n",
    "rolex_df['model'].replace(regex = True,to_replace = r\"[0-9]\",value = '',inplace= True)\n",
    "\n",
    "# #Get true size of case\n",
    "rolex_df['case diameter'] = rolex_df['case diameter'].str.extract(r'(^[\\d][\\d])')\n",
    "\n",
    "#Preprocess ref number because some ref num are in wrong format (including characters,etc) \n",
    "\n",
    "tmp = rolex_df['reference number'].str.extract(r'(\\d+[-]\\d+)|(\\d+)')\n",
    "tmp[0].fillna(tmp[1],inplace=True)\n",
    "rolex_df['reference number'] = tmp[0]\n",
    "\n",
    "#Replace all Nan with Unknown\n",
    "rolex_df['reference number'].replace(regex = True,to_replace = \"\",value = 'Unknown',inplace= True)"
   ]
  },
  {
   "cell_type": "code",
   "execution_count": 112,
   "metadata": {},
   "outputs": [
    {
     "data": {
      "text/html": [
       "<div>\n",
       "<style scoped>\n",
       "    .dataframe tbody tr th:only-of-type {\n",
       "        vertical-align: middle;\n",
       "    }\n",
       "\n",
       "    .dataframe tbody tr th {\n",
       "        vertical-align: top;\n",
       "    }\n",
       "\n",
       "    .dataframe thead th {\n",
       "        text-align: right;\n",
       "    }\n",
       "</style>\n",
       "<table border=\"1\" class=\"dataframe\">\n",
       "  <thead>\n",
       "    <tr style=\"text-align: right;\">\n",
       "      <th></th>\n",
       "      <th>model</th>\n",
       "      <th>reference number</th>\n",
       "      <th>price</th>\n",
       "      <th>aditional shipping price</th>\n",
       "      <th>movement</th>\n",
       "      <th>case material</th>\n",
       "      <th>case diameter</th>\n",
       "      <th>year of production</th>\n",
       "      <th>condition</th>\n",
       "      <th>scope of delivery</th>\n",
       "      <th>location</th>\n",
       "    </tr>\n",
       "  </thead>\n",
       "  <tbody>\n",
       "    <tr>\n",
       "      <th>0</th>\n",
       "      <td>Rolex Lady-Datejust</td>\n",
       "      <td>179161</td>\n",
       "      <td>9080.0</td>\n",
       "      <td>140.0</td>\n",
       "      <td>Automatic</td>\n",
       "      <td>Steel</td>\n",
       "      <td>26</td>\n",
       "      <td>2014.0</td>\n",
       "      <td>Very good</td>\n",
       "      <td>Original box, original papers</td>\n",
       "      <td>United States of America, Georgia</td>\n",
       "    </tr>\n",
       "    <tr>\n",
       "      <th>1</th>\n",
       "      <td>Rolex Chronograph</td>\n",
       "      <td>2917</td>\n",
       "      <td>16202.0</td>\n",
       "      <td>216.0</td>\n",
       "      <td>Manual winding</td>\n",
       "      <td>Steel</td>\n",
       "      <td>33</td>\n",
       "      <td>1934.0</td>\n",
       "      <td>Very good</td>\n",
       "      <td>Original box, no original papers</td>\n",
       "      <td>Italy, Roma</td>\n",
       "    </tr>\n",
       "    <tr>\n",
       "      <th>2</th>\n",
       "      <td>Rolex Daytona</td>\n",
       "      <td>116519</td>\n",
       "      <td>41567.0</td>\n",
       "      <td>0.0</td>\n",
       "      <td>Automatic</td>\n",
       "      <td>White gold</td>\n",
       "      <td>39</td>\n",
       "      <td>NaN</td>\n",
       "      <td>Fair</td>\n",
       "      <td>Original papers, no original box</td>\n",
       "      <td>Japan, Nagoya City</td>\n",
       "    </tr>\n",
       "    <tr>\n",
       "      <th>3</th>\n",
       "      <td>Rolex Submariner Date</td>\n",
       "      <td>116613</td>\n",
       "      <td>19795.0</td>\n",
       "      <td>235.0</td>\n",
       "      <td>Automatic</td>\n",
       "      <td>Steel</td>\n",
       "      <td>40</td>\n",
       "      <td>2020.0</td>\n",
       "      <td>Unworn</td>\n",
       "      <td>Original box, original papers</td>\n",
       "      <td>United States of America, Florida, Miami</td>\n",
       "    </tr>\n",
       "    <tr>\n",
       "      <th>4</th>\n",
       "      <td>Rolex Submariner Date</td>\n",
       "      <td>16610</td>\n",
       "      <td>10674.0</td>\n",
       "      <td>145.0</td>\n",
       "      <td>Automatic</td>\n",
       "      <td>NaN</td>\n",
       "      <td>40</td>\n",
       "      <td>1990.0</td>\n",
       "      <td>Good</td>\n",
       "      <td>Original box, original papers</td>\n",
       "      <td>Japan, Ehime yawatahama</td>\n",
       "    </tr>\n",
       "  </tbody>\n",
       "</table>\n",
       "</div>"
      ],
      "text/plain": [
       "                   model reference number    price  aditional shipping price  \\\n",
       "0    Rolex Lady-Datejust           179161   9080.0                     140.0   \n",
       "1      Rolex Chronograph             2917  16202.0                     216.0   \n",
       "2          Rolex Daytona           116519  41567.0                       0.0   \n",
       "3  Rolex Submariner Date           116613  19795.0                     235.0   \n",
       "4  Rolex Submariner Date            16610  10674.0                     145.0   \n",
       "\n",
       "         movement case material case diameter year of production  condition  \\\n",
       "0       Automatic         Steel            26             2014.0  Very good   \n",
       "1  Manual winding         Steel            33             1934.0  Very good   \n",
       "2       Automatic    White gold            39                NaN       Fair   \n",
       "3       Automatic         Steel            40             2020.0     Unworn   \n",
       "4       Automatic           NaN            40             1990.0       Good   \n",
       "\n",
       "                  scope of delivery                                  location  \n",
       "0     Original box, original papers         United States of America, Georgia  \n",
       "1  Original box, no original papers                               Italy, Roma  \n",
       "2  Original papers, no original box                        Japan, Nagoya City  \n",
       "3     Original box, original papers  United States of America, Florida, Miami  \n",
       "4     Original box, original papers                   Japan, Ehime yawatahama  "
      ]
     },
     "execution_count": 112,
     "metadata": {},
     "output_type": "execute_result"
    }
   ],
   "source": [
    "rolex_df.reset_index(drop=True,inplace = True)\n",
    "rolex_df.head()"
   ]
  },
  {
   "attachments": {},
   "cell_type": "markdown",
   "metadata": {},
   "source": [
    "Fill ref num movement case material and year of production with the mode of their model"
   ]
  },
  {
   "cell_type": "code",
   "execution_count": 113,
   "metadata": {},
   "outputs": [
    {
     "data": {
      "text/html": [
       "<div>\n",
       "<style scoped>\n",
       "    .dataframe tbody tr th:only-of-type {\n",
       "        vertical-align: middle;\n",
       "    }\n",
       "\n",
       "    .dataframe tbody tr th {\n",
       "        vertical-align: top;\n",
       "    }\n",
       "\n",
       "    .dataframe thead th {\n",
       "        text-align: right;\n",
       "    }\n",
       "</style>\n",
       "<table border=\"1\" class=\"dataframe\">\n",
       "  <thead>\n",
       "    <tr style=\"text-align: right;\">\n",
       "      <th></th>\n",
       "      <th>model</th>\n",
       "      <th>reference number</th>\n",
       "      <th>price</th>\n",
       "      <th>aditional shipping price</th>\n",
       "      <th>movement</th>\n",
       "      <th>case material</th>\n",
       "      <th>case diameter</th>\n",
       "      <th>year of production</th>\n",
       "      <th>condition</th>\n",
       "      <th>scope of delivery</th>\n",
       "      <th>location</th>\n",
       "    </tr>\n",
       "  </thead>\n",
       "  <tbody>\n",
       "    <tr>\n",
       "      <th>0</th>\n",
       "      <td>Rolex Lady-Datejust</td>\n",
       "      <td>179161</td>\n",
       "      <td>9080.0</td>\n",
       "      <td>140.0</td>\n",
       "      <td>Automatic</td>\n",
       "      <td>Steel</td>\n",
       "      <td>26</td>\n",
       "      <td>2014.0</td>\n",
       "      <td>Very good</td>\n",
       "      <td>Original box, original papers</td>\n",
       "      <td>United States of America, Georgia</td>\n",
       "    </tr>\n",
       "    <tr>\n",
       "      <th>1</th>\n",
       "      <td>Rolex Chronograph</td>\n",
       "      <td>2917</td>\n",
       "      <td>16202.0</td>\n",
       "      <td>216.0</td>\n",
       "      <td>Manual winding</td>\n",
       "      <td>Steel</td>\n",
       "      <td>33</td>\n",
       "      <td>1934.0</td>\n",
       "      <td>Very good</td>\n",
       "      <td>Original box, no original papers</td>\n",
       "      <td>Italy, Roma</td>\n",
       "    </tr>\n",
       "    <tr>\n",
       "      <th>2</th>\n",
       "      <td>Rolex Daytona</td>\n",
       "      <td>116519</td>\n",
       "      <td>41567.0</td>\n",
       "      <td>0.0</td>\n",
       "      <td>Automatic</td>\n",
       "      <td>White gold</td>\n",
       "      <td>39</td>\n",
       "      <td>2022.0</td>\n",
       "      <td>Fair</td>\n",
       "      <td>Original papers, no original box</td>\n",
       "      <td>Japan, Nagoya City</td>\n",
       "    </tr>\n",
       "    <tr>\n",
       "      <th>3</th>\n",
       "      <td>Rolex Submariner Date</td>\n",
       "      <td>116613</td>\n",
       "      <td>19795.0</td>\n",
       "      <td>235.0</td>\n",
       "      <td>Automatic</td>\n",
       "      <td>Steel</td>\n",
       "      <td>40</td>\n",
       "      <td>2020.0</td>\n",
       "      <td>Unworn</td>\n",
       "      <td>Original box, original papers</td>\n",
       "      <td>United States of America, Florida, Miami</td>\n",
       "    </tr>\n",
       "    <tr>\n",
       "      <th>4</th>\n",
       "      <td>Rolex Submariner Date</td>\n",
       "      <td>16610</td>\n",
       "      <td>10674.0</td>\n",
       "      <td>145.0</td>\n",
       "      <td>Automatic</td>\n",
       "      <td>Steel</td>\n",
       "      <td>40</td>\n",
       "      <td>1990.0</td>\n",
       "      <td>Good</td>\n",
       "      <td>Original box, original papers</td>\n",
       "      <td>Japan, Ehime yawatahama</td>\n",
       "    </tr>\n",
       "    <tr>\n",
       "      <th>...</th>\n",
       "      <td>...</td>\n",
       "      <td>...</td>\n",
       "      <td>...</td>\n",
       "      <td>...</td>\n",
       "      <td>...</td>\n",
       "      <td>...</td>\n",
       "      <td>...</td>\n",
       "      <td>...</td>\n",
       "      <td>...</td>\n",
       "      <td>...</td>\n",
       "      <td>...</td>\n",
       "    </tr>\n",
       "    <tr>\n",
       "      <th>64028</th>\n",
       "      <td>Rolex Datejust</td>\n",
       "      <td>126300</td>\n",
       "      <td>14000.0</td>\n",
       "      <td>99.0</td>\n",
       "      <td>Automatic</td>\n",
       "      <td>Steel</td>\n",
       "      <td>41</td>\n",
       "      <td>2022.0</td>\n",
       "      <td>Very good</td>\n",
       "      <td>Original box, original papers</td>\n",
       "      <td>United States of America, New York, NewYork</td>\n",
       "    </tr>\n",
       "    <tr>\n",
       "      <th>64029</th>\n",
       "      <td>Rolex Day-Date</td>\n",
       "      <td>228235</td>\n",
       "      <td>59300.0</td>\n",
       "      <td>107.0</td>\n",
       "      <td>Automatic</td>\n",
       "      <td>Rose gold</td>\n",
       "      <td>40</td>\n",
       "      <td>2021.0</td>\n",
       "      <td>Very good</td>\n",
       "      <td>Original box, original papers</td>\n",
       "      <td>Italy, Prato</td>\n",
       "    </tr>\n",
       "    <tr>\n",
       "      <th>64030</th>\n",
       "      <td>Rolex Datejust</td>\n",
       "      <td>6917</td>\n",
       "      <td>13495.0</td>\n",
       "      <td>395.0</td>\n",
       "      <td>Automatic</td>\n",
       "      <td>Steel</td>\n",
       "      <td>36</td>\n",
       "      <td>2022.0</td>\n",
       "      <td>Very good</td>\n",
       "      <td>Original box, no original papers</td>\n",
       "      <td>United States of America, California, La Canada</td>\n",
       "    </tr>\n",
       "    <tr>\n",
       "      <th>64031</th>\n",
       "      <td>Rolex GMT-Master II</td>\n",
       "      <td>116718</td>\n",
       "      <td>52777.0</td>\n",
       "      <td>0.0</td>\n",
       "      <td>Automatic</td>\n",
       "      <td>Yellow gold</td>\n",
       "      <td>40</td>\n",
       "      <td>2008.0</td>\n",
       "      <td>Very good</td>\n",
       "      <td>Original box, no original papers</td>\n",
       "      <td>United Kingdom, Littlewick Green</td>\n",
       "    </tr>\n",
       "    <tr>\n",
       "      <th>64032</th>\n",
       "      <td>Rolex Oyster Perpetual Lady Date</td>\n",
       "      <td>79190</td>\n",
       "      <td>3990.0</td>\n",
       "      <td>68.0</td>\n",
       "      <td>Automatic</td>\n",
       "      <td>Steel</td>\n",
       "      <td>26</td>\n",
       "      <td>2003.0</td>\n",
       "      <td>Good</td>\n",
       "      <td>No original box, no original papers</td>\n",
       "      <td>Singapore, Singapore</td>\n",
       "    </tr>\n",
       "  </tbody>\n",
       "</table>\n",
       "<p>64033 rows × 11 columns</p>\n",
       "</div>"
      ],
      "text/plain": [
       "                                  model reference number    price  \\\n",
       "0                   Rolex Lady-Datejust           179161   9080.0   \n",
       "1                     Rolex Chronograph             2917  16202.0   \n",
       "2                         Rolex Daytona           116519  41567.0   \n",
       "3                 Rolex Submariner Date           116613  19795.0   \n",
       "4                 Rolex Submariner Date            16610  10674.0   \n",
       "...                                 ...              ...      ...   \n",
       "64028                   Rolex Datejust            126300  14000.0   \n",
       "64029                   Rolex Day-Date            228235  59300.0   \n",
       "64030                    Rolex Datejust             6917  13495.0   \n",
       "64031               Rolex GMT-Master II           116718  52777.0   \n",
       "64032  Rolex Oyster Perpetual Lady Date            79190   3990.0   \n",
       "\n",
       "       aditional shipping price        movement case material case diameter  \\\n",
       "0                         140.0       Automatic         Steel            26   \n",
       "1                         216.0  Manual winding         Steel            33   \n",
       "2                           0.0       Automatic    White gold            39   \n",
       "3                         235.0       Automatic         Steel            40   \n",
       "4                         145.0       Automatic         Steel            40   \n",
       "...                         ...             ...           ...           ...   \n",
       "64028                      99.0       Automatic         Steel            41   \n",
       "64029                     107.0       Automatic     Rose gold            40   \n",
       "64030                     395.0       Automatic         Steel            36   \n",
       "64031                       0.0       Automatic   Yellow gold            40   \n",
       "64032                      68.0       Automatic         Steel            26   \n",
       "\n",
       "      year of production  condition                    scope of delivery  \\\n",
       "0                 2014.0  Very good        Original box, original papers   \n",
       "1                 1934.0  Very good     Original box, no original papers   \n",
       "2                 2022.0       Fair     Original papers, no original box   \n",
       "3                 2020.0     Unworn        Original box, original papers   \n",
       "4                 1990.0       Good        Original box, original papers   \n",
       "...                  ...        ...                                  ...   \n",
       "64028             2022.0  Very good        Original box, original papers   \n",
       "64029             2021.0  Very good        Original box, original papers   \n",
       "64030             2022.0  Very good     Original box, no original papers   \n",
       "64031             2008.0  Very good     Original box, no original papers   \n",
       "64032             2003.0       Good  No original box, no original papers   \n",
       "\n",
       "                                              location  \n",
       "0                    United States of America, Georgia  \n",
       "1                                          Italy, Roma  \n",
       "2                                   Japan, Nagoya City  \n",
       "3             United States of America, Florida, Miami  \n",
       "4                              Japan, Ehime yawatahama  \n",
       "...                                                ...  \n",
       "64028      United States of America, New York, NewYork  \n",
       "64029                                     Italy, Prato  \n",
       "64030  United States of America, California, La Canada  \n",
       "64031                 United Kingdom, Littlewick Green  \n",
       "64032                             Singapore, Singapore  \n",
       "\n",
       "[64033 rows x 11 columns]"
      ]
     },
     "execution_count": 113,
     "metadata": {},
     "output_type": "execute_result"
    }
   ],
   "source": [
    "model_list = rolex_df['model'].unique()\n",
    "for i in model_list:\n",
    "    rolex_df[rolex_df['model'] == i] = rolex_df[rolex_df['model'] == i].fillna(rolex_df[rolex_df['model'] == i].mode().iloc[0])\n",
    "\n",
    "\n",
    "rolex_df\n"
   ]
  }
 ],
 "metadata": {
  "kernelspec": {
   "display_name": "Python 3",
   "language": "python",
   "name": "python3"
  },
  "language_info": {
   "codemirror_mode": {
    "name": "ipython",
    "version": 3
   },
   "file_extension": ".py",
   "mimetype": "text/x-python",
   "name": "python",
   "nbconvert_exporter": "python",
   "pygments_lexer": "ipython3",
   "version": "3.11.0"
  },
  "orig_nbformat": 4,
  "vscode": {
   "interpreter": {
    "hash": "c261aea317cc0286b3b3261fbba9abdec21eaa57589985bb7a274bf54d6cc0a7"
   }
  }
 },
 "nbformat": 4,
 "nbformat_minor": 2
}
