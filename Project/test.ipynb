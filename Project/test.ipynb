{
 "cells": [
  {
   "cell_type": "code",
   "execution_count": 1,
   "metadata": {},
   "outputs": [],
   "source": [
    "import matplotlib.pyplot as plt\n",
    "import seaborn as sns \n",
    "import pandas as pd\n",
    "import numpy as np\n",
    "import csv\n",
    "\n",
    "from sklearn.model_selection import train_test_split\n",
    "from sklearn.preprocessing import OneHotEncoder, StandardScaler\n",
    "from sklearn.impute import SimpleImputer\n",
    "from sklearn.base import BaseEstimator, TransformerMixin\n",
    "from sklearn.pipeline import Pipeline, make_pipeline\n",
    "from sklearn.compose import ColumnTransformer, make_column_transformer\n",
    "from sklearn.neural_network import MLPClassifier\n",
    "from sklearn import set_config"
   ]
  },
  {
   "attachments": {},
   "cell_type": "markdown",
   "metadata": {},
   "source": [
    "---\n",
    "# Collecting data\n",
    "Our data is about Rolex watches which are sold on `chrono24.com`.\n",
    "\n",
    "Yes, He allows us to freely use the dataset.\n",
    "\n",
    "He collected this data by scraping with Selenium"
   ]
  },
  {
   "attachments": {},
   "cell_type": "markdown",
   "metadata": {},
   "source": [
    "---\n",
    "# Exploring data"
   ]
  },
  {
   "cell_type": "code",
   "execution_count": 2,
   "metadata": {},
   "outputs": [],
   "source": [
    "rolex_df = pd.read_csv('rolex_scaper_clean.csv')"
   ]
  },
  {
   "attachments": {},
   "cell_type": "markdown",
   "metadata": {},
   "source": [
    "#### Number of rows and columns"
   ]
  },
  {
   "cell_type": "code",
   "execution_count": 3,
   "metadata": {},
   "outputs": [
    {
     "data": {
      "text/plain": [
       "(87117, 12)"
      ]
     },
     "execution_count": 3,
     "metadata": {},
     "output_type": "execute_result"
    }
   ],
   "source": [
    "num_rows,num_cols = rolex_df.shape\n",
    "rolex_df.shape"
   ]
  },
  {
   "attachments": {},
   "cell_type": "markdown",
   "metadata": {},
   "source": [
    "#### Meaning of each row\n",
    "We can see that each row has information like model, price, ... about the watch."
   ]
  },
  {
   "cell_type": "code",
   "execution_count": 4,
   "metadata": {},
   "outputs": [
    {
     "data": {
      "text/html": [
       "<div>\n",
       "<style scoped>\n",
       "    .dataframe tbody tr th:only-of-type {\n",
       "        vertical-align: middle;\n",
       "    }\n",
       "\n",
       "    .dataframe tbody tr th {\n",
       "        vertical-align: top;\n",
       "    }\n",
       "\n",
       "    .dataframe thead th {\n",
       "        text-align: right;\n",
       "    }\n",
       "</style>\n",
       "<table border=\"1\" class=\"dataframe\">\n",
       "  <thead>\n",
       "    <tr style=\"text-align: right;\">\n",
       "      <th></th>\n",
       "      <th>model</th>\n",
       "      <th>reference number</th>\n",
       "      <th>price</th>\n",
       "      <th>aditional shipping price</th>\n",
       "      <th>ad name</th>\n",
       "      <th>movement</th>\n",
       "      <th>case material</th>\n",
       "      <th>case diameter</th>\n",
       "      <th>year of production</th>\n",
       "      <th>condition</th>\n",
       "      <th>scope of delivery</th>\n",
       "      <th>location</th>\n",
       "    </tr>\n",
       "  </thead>\n",
       "  <tbody>\n",
       "    <tr>\n",
       "      <th>0</th>\n",
       "      <td>Rolex Lady-Datejust</td>\n",
       "      <td>179161</td>\n",
       "      <td>9080.0</td>\n",
       "      <td>140.0</td>\n",
       "      <td>Steel Rose Gold Black Roman Dial Ladies Watch ...</td>\n",
       "      <td>Automatic</td>\n",
       "      <td>Steel</td>\n",
       "      <td>26 mm</td>\n",
       "      <td>2014.0</td>\n",
       "      <td>Very good</td>\n",
       "      <td>Original box, original papers</td>\n",
       "      <td>United States of America, Georgia</td>\n",
       "    </tr>\n",
       "    <tr>\n",
       "      <th>1</th>\n",
       "      <td>Rolex Chronograph</td>\n",
       "      <td>2917</td>\n",
       "      <td>16202.0</td>\n",
       "      <td>216.0</td>\n",
       "      <td>REF. 2917</td>\n",
       "      <td>Manual winding</td>\n",
       "      <td>Steel</td>\n",
       "      <td>33 mm</td>\n",
       "      <td>1934.0</td>\n",
       "      <td>Very good</td>\n",
       "      <td>Original box, no original papers</td>\n",
       "      <td>Italy, Roma</td>\n",
       "    </tr>\n",
       "    <tr>\n",
       "      <th>2</th>\n",
       "      <td>Rolex Daytona</td>\n",
       "      <td>116519G</td>\n",
       "      <td>41567.0</td>\n",
       "      <td>0.0</td>\n",
       "      <td>保証書付き ROLEX ロレックス デイトナ コスモグラフ K18WG 8Pダイヤ ランダム...</td>\n",
       "      <td>Automatic</td>\n",
       "      <td>White gold</td>\n",
       "      <td>39 mm</td>\n",
       "      <td>NaN</td>\n",
       "      <td>Fair</td>\n",
       "      <td>Original papers, no original box</td>\n",
       "      <td>Japan, Nagoya City</td>\n",
       "    </tr>\n",
       "    <tr>\n",
       "      <th>3</th>\n",
       "      <td>Rolex Submariner Date</td>\n",
       "      <td>116613</td>\n",
       "      <td>19795.0</td>\n",
       "      <td>235.0</td>\n",
       "      <td>New Submariner 116613 Yellow Steel Gold Cerami...</td>\n",
       "      <td>Automatic</td>\n",
       "      <td>Steel</td>\n",
       "      <td>40 mm</td>\n",
       "      <td>2020.0</td>\n",
       "      <td>Unworn</td>\n",
       "      <td>Original box, original papers</td>\n",
       "      <td>United States of America, Florida, Miami</td>\n",
       "    </tr>\n",
       "    <tr>\n",
       "      <th>4</th>\n",
       "      <td>Rolex Submariner Date</td>\n",
       "      <td>16610</td>\n",
       "      <td>10674.0</td>\n",
       "      <td>145.0</td>\n",
       "      <td>1990s ROLEX SUBMARINER 16610 Tritium vintage G...</td>\n",
       "      <td>Automatic</td>\n",
       "      <td>NaN</td>\n",
       "      <td>40 mm</td>\n",
       "      <td>1990.0</td>\n",
       "      <td>Good</td>\n",
       "      <td>Original box, original papers</td>\n",
       "      <td>Japan, Ehime yawatahama</td>\n",
       "    </tr>\n",
       "  </tbody>\n",
       "</table>\n",
       "</div>"
      ],
      "text/plain": [
       "                   model reference number    price  aditional shipping price  \\\n",
       "0    Rolex Lady-Datejust           179161   9080.0                     140.0   \n",
       "1      Rolex Chronograph             2917  16202.0                     216.0   \n",
       "2          Rolex Daytona          116519G  41567.0                       0.0   \n",
       "3  Rolex Submariner Date           116613  19795.0                     235.0   \n",
       "4  Rolex Submariner Date            16610  10674.0                     145.0   \n",
       "\n",
       "                                             ad name        movement  \\\n",
       "0  Steel Rose Gold Black Roman Dial Ladies Watch ...       Automatic   \n",
       "1                                          REF. 2917  Manual winding   \n",
       "2  保証書付き ROLEX ロレックス デイトナ コスモグラフ K18WG 8Pダイヤ ランダム...       Automatic   \n",
       "3  New Submariner 116613 Yellow Steel Gold Cerami...       Automatic   \n",
       "4  1990s ROLEX SUBMARINER 16610 Tritium vintage G...       Automatic   \n",
       "\n",
       "  case material case diameter  year of production  condition  \\\n",
       "0         Steel         26 mm              2014.0  Very good   \n",
       "1         Steel         33 mm              1934.0  Very good   \n",
       "2    White gold         39 mm                 NaN       Fair   \n",
       "3         Steel         40 mm              2020.0     Unworn   \n",
       "4           NaN         40 mm              1990.0       Good   \n",
       "\n",
       "                  scope of delivery                                  location  \n",
       "0     Original box, original papers         United States of America, Georgia  \n",
       "1  Original box, no original papers                               Italy, Roma  \n",
       "2  Original papers, no original box                        Japan, Nagoya City  \n",
       "3     Original box, original papers  United States of America, Florida, Miami  \n",
       "4     Original box, original papers                   Japan, Ehime yawatahama  "
      ]
     },
     "execution_count": 4,
     "metadata": {},
     "output_type": "execute_result"
    }
   ],
   "source": [
    "rolex_df.head()"
   ]
  },
  {
   "attachments": {},
   "cell_type": "markdown",
   "metadata": {},
   "source": [
    "#### Are there duplicated rows ?"
   ]
  },
  {
   "cell_type": "code",
   "execution_count": 5,
   "metadata": {},
   "outputs": [
    {
     "data": {
      "text/plain": [
       "21898"
      ]
     },
     "execution_count": 5,
     "metadata": {},
     "output_type": "execute_result"
    }
   ],
   "source": [
    "rolex_df.duplicated(keep='first').sum()"
   ]
  },
  {
   "attachments": {},
   "cell_type": "markdown",
   "metadata": {},
   "source": [
    "Drop duplicated rows"
   ]
  },
  {
   "cell_type": "code",
   "execution_count": 6,
   "metadata": {},
   "outputs": [],
   "source": [
    "rolex_df.drop_duplicates(inplace=True)"
   ]
  },
  {
   "attachments": {},
   "cell_type": "markdown",
   "metadata": {},
   "source": [
    "#### Meaning of each columns ?\n",
    "\n",
    "model: the watch model name\n",
    "\n",
    "reference number: the number to identify the watch model as a whole\n",
    "\n",
    "price: the price on the listing (price made by the reseller)\n",
    "\n",
    "additional shipping price: the price for shipping (0 = free shipping)\n",
    "\n",
    "ad name: the name of the listing on the site\n",
    "\n",
    "movement: the engine of a watch to make the watch and its functions operate\n",
    "\n",
    "case material: the material of the external watch case\n",
    "\n",
    "case diameter: the dimensions of the watch\n",
    "\n",
    "year of production: the year when Rolex fabricate that particular watch\n",
    "\n",
    "condition: the general condition of the watch\n",
    "\n",
    "scope of delivery: the additional things like warranty, or box that could come with the watch\n",
    "\n",
    "location: the location of the reseller\n"
   ]
  },
  {
   "attachments": {},
   "cell_type": "markdown",
   "metadata": {},
   "source": [
    "#### Type of each colum \n",
    "Luckily, all columns are in their right data types except for year of production. It should be categorical (object) instead of float64."
   ]
  },
  {
   "cell_type": "code",
   "execution_count": 7,
   "metadata": {},
   "outputs": [
    {
     "data": {
      "text/plain": [
       "model                        object\n",
       "reference number             object\n",
       "price                       float64\n",
       "aditional shipping price    float64\n",
       "ad name                      object\n",
       "movement                     object\n",
       "case material                object\n",
       "case diameter                object\n",
       "year of production          float64\n",
       "condition                    object\n",
       "scope of delivery            object\n",
       "location                     object\n",
       "dtype: object"
      ]
     },
     "execution_count": 7,
     "metadata": {},
     "output_type": "execute_result"
    }
   ],
   "source": [
    "rolex_df.dtypes "
   ]
  },
  {
   "attachments": {},
   "cell_type": "markdown",
   "metadata": {},
   "source": [
    "Change data types of year of production column"
   ]
  },
  {
   "cell_type": "code",
   "execution_count": 8,
   "metadata": {},
   "outputs": [
    {
     "data": {
      "text/plain": [
       "model                        object\n",
       "reference number             object\n",
       "price                       float64\n",
       "aditional shipping price    float64\n",
       "ad name                      object\n",
       "movement                     object\n",
       "case material                object\n",
       "case diameter                object\n",
       "year of production           object\n",
       "condition                    object\n",
       "scope of delivery            object\n",
       "location                     object\n",
       "dtype: object"
      ]
     },
     "execution_count": 8,
     "metadata": {},
     "output_type": "execute_result"
    }
   ],
   "source": [
    "rolex_df['year of production'] = rolex_df['year of production'].astype('object')\n",
    "rolex_df.dtypes"
   ]
  },
  {
   "attachments": {},
   "cell_type": "markdown",
   "metadata": {},
   "source": [
    "#### With each numerical column, how are values distributed?"
   ]
  },
  {
   "cell_type": "code",
   "execution_count": 9,
   "metadata": {},
   "outputs": [
    {
     "data": {
      "text/html": [
       "<div>\n",
       "<style scoped>\n",
       "    .dataframe tbody tr th:only-of-type {\n",
       "        vertical-align: middle;\n",
       "    }\n",
       "\n",
       "    .dataframe tbody tr th {\n",
       "        vertical-align: top;\n",
       "    }\n",
       "\n",
       "    .dataframe thead th {\n",
       "        text-align: right;\n",
       "    }\n",
       "</style>\n",
       "<table border=\"1\" class=\"dataframe\">\n",
       "  <thead>\n",
       "    <tr style=\"text-align: right;\">\n",
       "      <th></th>\n",
       "      <th>price</th>\n",
       "      <th>aditional shipping price</th>\n",
       "    </tr>\n",
       "  </thead>\n",
       "  <tbody>\n",
       "    <tr>\n",
       "      <th>0</th>\n",
       "      <td>9080.0</td>\n",
       "      <td>140.0</td>\n",
       "    </tr>\n",
       "    <tr>\n",
       "      <th>1</th>\n",
       "      <td>16202.0</td>\n",
       "      <td>216.0</td>\n",
       "    </tr>\n",
       "    <tr>\n",
       "      <th>2</th>\n",
       "      <td>41567.0</td>\n",
       "      <td>0.0</td>\n",
       "    </tr>\n",
       "    <tr>\n",
       "      <th>3</th>\n",
       "      <td>19795.0</td>\n",
       "      <td>235.0</td>\n",
       "    </tr>\n",
       "    <tr>\n",
       "      <th>4</th>\n",
       "      <td>10674.0</td>\n",
       "      <td>145.0</td>\n",
       "    </tr>\n",
       "  </tbody>\n",
       "</table>\n",
       "</div>"
      ],
      "text/plain": [
       "     price  aditional shipping price\n",
       "0   9080.0                     140.0\n",
       "1  16202.0                     216.0\n",
       "2  41567.0                       0.0\n",
       "3  19795.0                     235.0\n",
       "4  10674.0                     145.0"
      ]
     },
     "execution_count": 9,
     "metadata": {},
     "output_type": "execute_result"
    }
   ],
   "source": [
    "numerical_cols = rolex_df.select_dtypes(include=np.number).copy()\n",
    "numerical_cols.head()"
   ]
  },
  {
   "attachments": {},
   "cell_type": "markdown",
   "metadata": {},
   "source": [
    "Proportion of missing values"
   ]
  },
  {
   "cell_type": "code",
   "execution_count": 10,
   "metadata": {},
   "outputs": [
    {
     "data": {
      "text/plain": [
       "price                       6.271179\n",
       "aditional shipping price    0.000000\n",
       "dtype: float64"
      ]
     },
     "execution_count": 10,
     "metadata": {},
     "output_type": "execute_result"
    }
   ],
   "source": [
    "num_missing_percentages = (numerical_cols.isna()).sum() / rolex_df.shape[0] * 100\n",
    "num_missing_percentages"
   ]
  },
  {
   "attachments": {},
   "cell_type": "markdown",
   "metadata": {},
   "source": [
    "Describe"
   ]
  },
  {
   "cell_type": "code",
   "execution_count": 11,
   "metadata": {},
   "outputs": [
    {
     "data": {
      "text/html": [
       "<div>\n",
       "<style scoped>\n",
       "    .dataframe tbody tr th:only-of-type {\n",
       "        vertical-align: middle;\n",
       "    }\n",
       "\n",
       "    .dataframe tbody tr th {\n",
       "        vertical-align: top;\n",
       "    }\n",
       "\n",
       "    .dataframe thead th {\n",
       "        text-align: right;\n",
       "    }\n",
       "</style>\n",
       "<table border=\"1\" class=\"dataframe\">\n",
       "  <thead>\n",
       "    <tr style=\"text-align: right;\">\n",
       "      <th></th>\n",
       "      <th>price</th>\n",
       "      <th>aditional shipping price</th>\n",
       "    </tr>\n",
       "  </thead>\n",
       "  <tbody>\n",
       "    <tr>\n",
       "      <th>count</th>\n",
       "      <td>6.112900e+04</td>\n",
       "      <td>65219.000000</td>\n",
       "    </tr>\n",
       "    <tr>\n",
       "      <th>mean</th>\n",
       "      <td>2.276485e+04</td>\n",
       "      <td>134.830234</td>\n",
       "    </tr>\n",
       "    <tr>\n",
       "      <th>std</th>\n",
       "      <td>3.059692e+04</td>\n",
       "      <td>2580.042710</td>\n",
       "    </tr>\n",
       "    <tr>\n",
       "      <th>min</th>\n",
       "      <td>3.150000e+02</td>\n",
       "      <td>0.000000</td>\n",
       "    </tr>\n",
       "    <tr>\n",
       "      <th>25%</th>\n",
       "      <td>9.157000e+03</td>\n",
       "      <td>31.000000</td>\n",
       "    </tr>\n",
       "    <tr>\n",
       "      <th>50%</th>\n",
       "      <td>1.500000e+04</td>\n",
       "      <td>99.000000</td>\n",
       "    </tr>\n",
       "    <tr>\n",
       "      <th>75%</th>\n",
       "      <td>2.483300e+04</td>\n",
       "      <td>160.000000</td>\n",
       "    </tr>\n",
       "    <tr>\n",
       "      <th>max</th>\n",
       "      <td>1.152102e+06</td>\n",
       "      <td>656389.000000</td>\n",
       "    </tr>\n",
       "  </tbody>\n",
       "</table>\n",
       "</div>"
      ],
      "text/plain": [
       "              price  aditional shipping price\n",
       "count  6.112900e+04              65219.000000\n",
       "mean   2.276485e+04                134.830234\n",
       "std    3.059692e+04               2580.042710\n",
       "min    3.150000e+02                  0.000000\n",
       "25%    9.157000e+03                 31.000000\n",
       "50%    1.500000e+04                 99.000000\n",
       "75%    2.483300e+04                160.000000\n",
       "max    1.152102e+06             656389.000000"
      ]
     },
     "execution_count": 11,
     "metadata": {},
     "output_type": "execute_result"
    }
   ],
   "source": [
    "numerical_cols.describe()"
   ]
  },
  {
   "attachments": {},
   "cell_type": "markdown",
   "metadata": {},
   "source": [
    "#### With each categorical column, how are values distributed?"
   ]
  },
  {
   "cell_type": "code",
   "execution_count": 12,
   "metadata": {},
   "outputs": [
    {
     "data": {
      "text/html": [
       "<div>\n",
       "<style scoped>\n",
       "    .dataframe tbody tr th:only-of-type {\n",
       "        vertical-align: middle;\n",
       "    }\n",
       "\n",
       "    .dataframe tbody tr th {\n",
       "        vertical-align: top;\n",
       "    }\n",
       "\n",
       "    .dataframe thead th {\n",
       "        text-align: right;\n",
       "    }\n",
       "</style>\n",
       "<table border=\"1\" class=\"dataframe\">\n",
       "  <thead>\n",
       "    <tr style=\"text-align: right;\">\n",
       "      <th></th>\n",
       "      <th>model</th>\n",
       "      <th>reference number</th>\n",
       "      <th>ad name</th>\n",
       "      <th>movement</th>\n",
       "      <th>case material</th>\n",
       "      <th>case diameter</th>\n",
       "      <th>year of production</th>\n",
       "      <th>condition</th>\n",
       "      <th>scope of delivery</th>\n",
       "      <th>location</th>\n",
       "    </tr>\n",
       "  </thead>\n",
       "  <tbody>\n",
       "    <tr>\n",
       "      <th>0</th>\n",
       "      <td>Rolex Lady-Datejust</td>\n",
       "      <td>179161</td>\n",
       "      <td>Steel Rose Gold Black Roman Dial Ladies Watch ...</td>\n",
       "      <td>Automatic</td>\n",
       "      <td>Steel</td>\n",
       "      <td>26 mm</td>\n",
       "      <td>2014.0</td>\n",
       "      <td>Very good</td>\n",
       "      <td>Original box, original papers</td>\n",
       "      <td>United States of America, Georgia</td>\n",
       "    </tr>\n",
       "    <tr>\n",
       "      <th>1</th>\n",
       "      <td>Rolex Chronograph</td>\n",
       "      <td>2917</td>\n",
       "      <td>REF. 2917</td>\n",
       "      <td>Manual winding</td>\n",
       "      <td>Steel</td>\n",
       "      <td>33 mm</td>\n",
       "      <td>1934.0</td>\n",
       "      <td>Very good</td>\n",
       "      <td>Original box, no original papers</td>\n",
       "      <td>Italy, Roma</td>\n",
       "    </tr>\n",
       "    <tr>\n",
       "      <th>2</th>\n",
       "      <td>Rolex Daytona</td>\n",
       "      <td>116519G</td>\n",
       "      <td>保証書付き ROLEX ロレックス デイトナ コスモグラフ K18WG 8Pダイヤ ランダム...</td>\n",
       "      <td>Automatic</td>\n",
       "      <td>White gold</td>\n",
       "      <td>39 mm</td>\n",
       "      <td>NaN</td>\n",
       "      <td>Fair</td>\n",
       "      <td>Original papers, no original box</td>\n",
       "      <td>Japan, Nagoya City</td>\n",
       "    </tr>\n",
       "    <tr>\n",
       "      <th>3</th>\n",
       "      <td>Rolex Submariner Date</td>\n",
       "      <td>116613</td>\n",
       "      <td>New Submariner 116613 Yellow Steel Gold Cerami...</td>\n",
       "      <td>Automatic</td>\n",
       "      <td>Steel</td>\n",
       "      <td>40 mm</td>\n",
       "      <td>2020.0</td>\n",
       "      <td>Unworn</td>\n",
       "      <td>Original box, original papers</td>\n",
       "      <td>United States of America, Florida, Miami</td>\n",
       "    </tr>\n",
       "    <tr>\n",
       "      <th>4</th>\n",
       "      <td>Rolex Submariner Date</td>\n",
       "      <td>16610</td>\n",
       "      <td>1990s ROLEX SUBMARINER 16610 Tritium vintage G...</td>\n",
       "      <td>Automatic</td>\n",
       "      <td>NaN</td>\n",
       "      <td>40 mm</td>\n",
       "      <td>1990.0</td>\n",
       "      <td>Good</td>\n",
       "      <td>Original box, original papers</td>\n",
       "      <td>Japan, Ehime yawatahama</td>\n",
       "    </tr>\n",
       "  </tbody>\n",
       "</table>\n",
       "</div>"
      ],
      "text/plain": [
       "                   model reference number  \\\n",
       "0    Rolex Lady-Datejust           179161   \n",
       "1      Rolex Chronograph             2917   \n",
       "2          Rolex Daytona          116519G   \n",
       "3  Rolex Submariner Date           116613   \n",
       "4  Rolex Submariner Date            16610   \n",
       "\n",
       "                                             ad name        movement  \\\n",
       "0  Steel Rose Gold Black Roman Dial Ladies Watch ...       Automatic   \n",
       "1                                          REF. 2917  Manual winding   \n",
       "2  保証書付き ROLEX ロレックス デイトナ コスモグラフ K18WG 8Pダイヤ ランダム...       Automatic   \n",
       "3  New Submariner 116613 Yellow Steel Gold Cerami...       Automatic   \n",
       "4  1990s ROLEX SUBMARINER 16610 Tritium vintage G...       Automatic   \n",
       "\n",
       "  case material case diameter year of production  condition  \\\n",
       "0         Steel         26 mm             2014.0  Very good   \n",
       "1         Steel         33 mm             1934.0  Very good   \n",
       "2    White gold         39 mm                NaN       Fair   \n",
       "3         Steel         40 mm             2020.0     Unworn   \n",
       "4           NaN         40 mm             1990.0       Good   \n",
       "\n",
       "                  scope of delivery                                  location  \n",
       "0     Original box, original papers         United States of America, Georgia  \n",
       "1  Original box, no original papers                               Italy, Roma  \n",
       "2  Original papers, no original box                        Japan, Nagoya City  \n",
       "3     Original box, original papers  United States of America, Florida, Miami  \n",
       "4     Original box, original papers                   Japan, Ehime yawatahama  "
      ]
     },
     "execution_count": 12,
     "metadata": {},
     "output_type": "execute_result"
    }
   ],
   "source": [
    "categorical_cols = rolex_df.select_dtypes(exclude=np.number).copy()\n",
    "categorical_cols.head()"
   ]
  },
  {
   "attachments": {},
   "cell_type": "markdown",
   "metadata": {},
   "source": [
    "Percentage of missing values"
   ]
  },
  {
   "cell_type": "code",
   "execution_count": 13,
   "metadata": {},
   "outputs": [
    {
     "data": {
      "text/plain": [
       "model                  0.000000\n",
       "reference number       3.207654\n",
       "ad name                0.088931\n",
       "movement               3.624711\n",
       "case material          5.363468\n",
       "case diameter          4.457290\n",
       "year of production    25.888161\n",
       "condition              1.407565\n",
       "scope of delivery      0.000000\n",
       "location               0.000000\n",
       "dtype: float64"
      ]
     },
     "execution_count": 13,
     "metadata": {},
     "output_type": "execute_result"
    }
   ],
   "source": [
    "cate_missing_percentages = (categorical_cols.isna()).sum() / rolex_df.shape[0] * 100\n",
    "cate_missing_percentages"
   ]
  },
  {
   "attachments": {},
   "cell_type": "markdown",
   "metadata": {},
   "source": [
    "Number of different values"
   ]
  },
  {
   "cell_type": "code",
   "execution_count": 14,
   "metadata": {},
   "outputs": [
    {
     "data": {
      "text/plain": [
       "model                    58\n",
       "reference number       4863\n",
       "ad name               44292\n",
       "movement                  3\n",
       "case material            13\n",
       "case diameter           643\n",
       "year of production      111\n",
       "condition                 7\n",
       "scope of delivery         4\n",
       "location               4097\n",
       "dtype: int64"
      ]
     },
     "execution_count": 14,
     "metadata": {},
     "output_type": "execute_result"
    }
   ],
   "source": [
    "categorical_cols.nunique()"
   ]
  },
  {
   "attachments": {},
   "cell_type": "markdown",
   "metadata": {},
   "source": [
    "---"
   ]
  },
  {
   "attachments": {},
   "cell_type": "markdown",
   "metadata": {},
   "source": [
    "# Asking meaningful questions "
   ]
  },
  {
   "cell_type": "code",
   "execution_count": 15,
   "metadata": {},
   "outputs": [],
   "source": [
    "rolex_df.drop(columns = ['ad name'],inplace=True)\n",
    "rolex_df = rolex_df[rolex_df['model'] != 'Rolex']"
   ]
  },
  {
   "cell_type": "code",
   "execution_count": 16,
   "metadata": {},
   "outputs": [],
   "source": [
    "# #Remove watch's size in model name\n",
    "# rolex_df['model'].replace(regex = True,to_replace = r\"[0-9]\",value = '',inplace= True)\n",
    "\n",
    "# # #Get true size of case\n",
    "# rolex_df['case diameter'] = rolex_df['case diameter'].str.extract(r'(^[\\d][\\d])')\n",
    "\n",
    "# #Preprocess ref number because some ref num are in wrong format (including characters,etc) \n",
    "\n",
    "# tmp = rolex_df['reference number'].str.extract(r'(\\d+[-]\\d+)|(\\d+)')\n",
    "# tmp[0].fillna(tmp[1],inplace=True)\n",
    "# rolex_df['reference number'] = tmp[0]\n",
    "\n",
    "# #Replace all Nan with Unknown\n",
    "# rolex_df['reference number'].replace(regex = True,to_replace = \"\",value = 'Unknown',inplace= True)"
   ]
  },
  {
   "cell_type": "code",
   "execution_count": 17,
   "metadata": {},
   "outputs": [
    {
     "data": {
      "text/html": [
       "<div>\n",
       "<style scoped>\n",
       "    .dataframe tbody tr th:only-of-type {\n",
       "        vertical-align: middle;\n",
       "    }\n",
       "\n",
       "    .dataframe tbody tr th {\n",
       "        vertical-align: top;\n",
       "    }\n",
       "\n",
       "    .dataframe thead th {\n",
       "        text-align: right;\n",
       "    }\n",
       "</style>\n",
       "<table border=\"1\" class=\"dataframe\">\n",
       "  <thead>\n",
       "    <tr style=\"text-align: right;\">\n",
       "      <th></th>\n",
       "      <th>model</th>\n",
       "      <th>reference number</th>\n",
       "      <th>price</th>\n",
       "      <th>aditional shipping price</th>\n",
       "      <th>movement</th>\n",
       "      <th>case material</th>\n",
       "      <th>case diameter</th>\n",
       "      <th>year of production</th>\n",
       "      <th>condition</th>\n",
       "      <th>scope of delivery</th>\n",
       "      <th>location</th>\n",
       "    </tr>\n",
       "  </thead>\n",
       "  <tbody>\n",
       "    <tr>\n",
       "      <th>0</th>\n",
       "      <td>Rolex Lady-Datejust</td>\n",
       "      <td>179161</td>\n",
       "      <td>9080.0</td>\n",
       "      <td>140.0</td>\n",
       "      <td>Automatic</td>\n",
       "      <td>Steel</td>\n",
       "      <td>26 mm</td>\n",
       "      <td>2014.0</td>\n",
       "      <td>Very good</td>\n",
       "      <td>Original box, original papers</td>\n",
       "      <td>United States of America, Georgia</td>\n",
       "    </tr>\n",
       "    <tr>\n",
       "      <th>1</th>\n",
       "      <td>Rolex Chronograph</td>\n",
       "      <td>2917</td>\n",
       "      <td>16202.0</td>\n",
       "      <td>216.0</td>\n",
       "      <td>Manual winding</td>\n",
       "      <td>Steel</td>\n",
       "      <td>33 mm</td>\n",
       "      <td>1934.0</td>\n",
       "      <td>Very good</td>\n",
       "      <td>Original box, no original papers</td>\n",
       "      <td>Italy, Roma</td>\n",
       "    </tr>\n",
       "    <tr>\n",
       "      <th>2</th>\n",
       "      <td>Rolex Daytona</td>\n",
       "      <td>116519G</td>\n",
       "      <td>41567.0</td>\n",
       "      <td>0.0</td>\n",
       "      <td>Automatic</td>\n",
       "      <td>White gold</td>\n",
       "      <td>39 mm</td>\n",
       "      <td>NaN</td>\n",
       "      <td>Fair</td>\n",
       "      <td>Original papers, no original box</td>\n",
       "      <td>Japan, Nagoya City</td>\n",
       "    </tr>\n",
       "    <tr>\n",
       "      <th>3</th>\n",
       "      <td>Rolex Submariner Date</td>\n",
       "      <td>116613</td>\n",
       "      <td>19795.0</td>\n",
       "      <td>235.0</td>\n",
       "      <td>Automatic</td>\n",
       "      <td>Steel</td>\n",
       "      <td>40 mm</td>\n",
       "      <td>2020.0</td>\n",
       "      <td>Unworn</td>\n",
       "      <td>Original box, original papers</td>\n",
       "      <td>United States of America, Florida, Miami</td>\n",
       "    </tr>\n",
       "    <tr>\n",
       "      <th>4</th>\n",
       "      <td>Rolex Submariner Date</td>\n",
       "      <td>16610</td>\n",
       "      <td>10674.0</td>\n",
       "      <td>145.0</td>\n",
       "      <td>Automatic</td>\n",
       "      <td>NaN</td>\n",
       "      <td>40 mm</td>\n",
       "      <td>1990.0</td>\n",
       "      <td>Good</td>\n",
       "      <td>Original box, original papers</td>\n",
       "      <td>Japan, Ehime yawatahama</td>\n",
       "    </tr>\n",
       "  </tbody>\n",
       "</table>\n",
       "</div>"
      ],
      "text/plain": [
       "                   model reference number    price  aditional shipping price  \\\n",
       "0    Rolex Lady-Datejust           179161   9080.0                     140.0   \n",
       "1      Rolex Chronograph             2917  16202.0                     216.0   \n",
       "2          Rolex Daytona          116519G  41567.0                       0.0   \n",
       "3  Rolex Submariner Date           116613  19795.0                     235.0   \n",
       "4  Rolex Submariner Date            16610  10674.0                     145.0   \n",
       "\n",
       "         movement case material case diameter year of production  condition  \\\n",
       "0       Automatic         Steel         26 mm             2014.0  Very good   \n",
       "1  Manual winding         Steel         33 mm             1934.0  Very good   \n",
       "2       Automatic    White gold         39 mm                NaN       Fair   \n",
       "3       Automatic         Steel         40 mm             2020.0     Unworn   \n",
       "4       Automatic           NaN         40 mm             1990.0       Good   \n",
       "\n",
       "                  scope of delivery                                  location  \n",
       "0     Original box, original papers         United States of America, Georgia  \n",
       "1  Original box, no original papers                               Italy, Roma  \n",
       "2  Original papers, no original box                        Japan, Nagoya City  \n",
       "3     Original box, original papers  United States of America, Florida, Miami  \n",
       "4     Original box, original papers                   Japan, Ehime yawatahama  "
      ]
     },
     "execution_count": 17,
     "metadata": {},
     "output_type": "execute_result"
    }
   ],
   "source": [
    "rolex_df.reset_index(drop=True,inplace = True)\n",
    "rolex_df.head()"
   ]
  },
  {
   "attachments": {},
   "cell_type": "markdown",
   "metadata": {},
   "source": [
    "Fill ref num movement case material and year of production with the mode of their model.  "
   ]
  },
  {
   "cell_type": "code",
   "execution_count": 18,
   "metadata": {},
   "outputs": [],
   "source": [
    "# rolex_df['year of production'] = rolex_df['year of production'].astype(np.number)\n",
    "# rolex_df.loc[rolex_df['year of production'] < 1905, 'year of production' ] = np.nan\n",
    "# rolex_df['year of production'] = rolex_df['year of production'].astype('object')\n",
    "\n",
    "# model_list = rolex_df['model'].unique()\n",
    "# for i in model_list:\n",
    "#     rolex_df[rolex_df['model'] == i] = rolex_df[rolex_df['model'] == i].fillna(rolex_df[rolex_df['model'] == i].mode().iloc[0])\n"
   ]
  },
  {
   "attachments": {},
   "cell_type": "markdown",
   "metadata": {},
   "source": [
    "Check if dataset still consists missing values"
   ]
  },
  {
   "cell_type": "code",
   "execution_count": 19,
   "metadata": {},
   "outputs": [
    {
     "data": {
      "text/plain": [
       "model                        0.000000\n",
       "reference number             2.672060\n",
       "price                        6.321740\n",
       "aditional shipping price     0.000000\n",
       "movement                     3.574719\n",
       "case material                5.241048\n",
       "case diameter                4.289975\n",
       "year of production          25.630534\n",
       "condition                    1.361798\n",
       "scope of delivery            0.000000\n",
       "location                     0.000000\n",
       "dtype: float64"
      ]
     },
     "execution_count": 19,
     "metadata": {},
     "output_type": "execute_result"
    }
   ],
   "source": [
    "missing_percentages = rolex_df.isna().sum()/rolex_df.shape[0]*100\n",
    "missing_percentages"
   ]
  },
  {
   "attachments": {},
   "cell_type": "markdown",
   "metadata": {},
   "source": [
    "### Question 1 : How can we know if we had bought a great deal (Our team will create a model to predict price of watch) \n",
    "Have you ever wanted to buy a watch but you do not know that the price of the thing that you found is cheap or expensive. That is the reason why we want to ask this question is that our team was in this situations multiple times. We find that it is really time consuming when you have to find the things which we want to buy at a good price. Therefore, we will create a model that can help us and other people who want to buy Rolex save time from searching for a great deal. And if we can solve this problem, we can use this model to predict price of various things not only Rolex watches."
   ]
  },
  {
   "cell_type": "code",
   "execution_count": 20,
   "metadata": {},
   "outputs": [],
   "source": [
    "class preprocess(BaseEstimator, TransformerMixin):\n",
    "    def fit(self, X_df, y=None):\n",
    "        return self\n",
    "        \n",
    "    def transform (self, X_df):\n",
    "        out_df = X_df.copy()\n",
    "    \n",
    "        #Remove watch's size in model name\n",
    "        out_df['model'].replace(regex = True,to_replace = r\"[0-9]\",value = '',inplace= True)\n",
    "\n",
    "        # #Get true size of case\n",
    "        out_df['case diameter'] = out_df['case diameter'].str.extract(r'(^[\\d][\\d])')\n",
    "\n",
    "        #Preprocess ref number because some ref num are in wrong format (including characters,etc) \n",
    "\n",
    "        tmp = out_df['reference number'].str.extract(r'(\\d+[-]\\d+)|(\\d+)')\n",
    "        tmp[0].fillna(tmp[1],inplace=True)\n",
    "        out_df['reference number'] = tmp[0]\n",
    "\n",
    "        #Replace all Nan with Unknown\n",
    "        out_df['reference number'].replace(regex = True,to_replace = \"\",value = 'Unknown',inplace= True)\n",
    "\n",
    "        out_df['year of production'] = out_df['year of production'].astype(np.number)\n",
    "        out_df.loc[out_df['year of production'] < 1905, 'year of production' ] = np.nan\n",
    "        out_df['year of production'] = out_df['year of production'].astype('object')\n",
    "\n",
    "        model_list = out_df['model'].unique()\n",
    "        for i in model_list:\n",
    "            out_df[out_df['model'] == i] = out_df[out_df['model'] == i].fillna(out_df[out_df['model'] == i].mode().iloc[0])\n",
    "        \n",
    "        return out_df"
   ]
  },
  {
   "attachments": {},
   "cell_type": "markdown",
   "metadata": {},
   "source": [
    "Split data"
   ]
  },
  {
   "cell_type": "code",
   "execution_count": 21,
   "metadata": {},
   "outputs": [],
   "source": [
    "# X_df = rolex_df.drop(columns=['price'])\n",
    "# y_df = rolex_df['price']\n",
    "\n",
    "X_train, X_test= train_test_split(rolex_df, test_size=0.2, random_state=0)\n",
    "X_train = preprocess().transform(X_train)\n",
    "Y_train = X_train['price']\n",
    "\n",
    "X_test = preprocess().transform(X_test)\n",
    "Y_test = X_test['price']"
   ]
  },
  {
   "cell_type": "code",
   "execution_count": 22,
   "metadata": {},
   "outputs": [],
   "source": [
    "preprocess_data =  preprocess().transform(X_train)"
   ]
  },
  {
   "cell_type": "code",
   "execution_count": null,
   "metadata": {},
   "outputs": [],
   "source": [
    "categorical_cols = preprocess_data.select_dtypes(exclude=np.number).columns\n",
    "numerical_cols = preprocess_data.select_dtypes(include = np.number).columns\n",
    "\n",
    "ohe = OneHotEncoder(handle_unknown='ignore',sparse_output=False)\n",
    "scaler = StandardScaler()\n",
    "\n",
    "numerics_pipeline = make_pipeline(scaler)\n",
    "categorical_pipeline = make_pipeline(ohe,scaler)\n",
    "\n",
    "col_transformer = make_column_transformer(\n",
    "    (numerics_pipeline,numerical_cols),\n",
    "    (categorical_pipeline,categorical_cols),\n",
    "    remainder='passthrough')\n",
    "\n",
    "preprocess_pipeline = make_pipeline(preprocess(), col_transformer)\n",
    "preprocessed_train_X = preprocess_pipeline.fit_transform(X_train)"
   ]
  },
  {
   "attachments": {},
   "cell_type": "markdown",
   "metadata": {},
   "source": [
    "Predict"
   ]
  },
  {
   "cell_type": "code",
   "execution_count": null,
   "metadata": {},
   "outputs": [],
   "source": [
    "full_pipeline = make_pipeline(preprocess_pipeline,MLPClassifier(hidden_layer_sizes=(50),activation='relu',solver = 'lbfgs',random_state=0,max_iter=10000))\n",
    "\n",
    "# Experiment with different values of hyperparameters (the whole process can take 2-3 minutes) and choose the best values\n",
    "val_accs = []\n",
    "alphas = [0,0.01,0.1, 1, 10, 100]\n",
    "num_top_cp_values_s = [1, 3, 5, 7,9]\n",
    "best_val_acc = 0\n",
    "best_alpha = None\n",
    "best_num_top_cp_values = None\n",
    "for alpha in alphas:\n",
    "    for num_top_cp_values in num_top_cp_values_s:\n",
    "     \n",
    "        clf = full_pipeline.fit(X_train,Y_train)\n",
    "  \n",
    "        val_accs.append(clf.score(X_test,Y_test)*100)\n",
    "\n",
    "val_accs"
   ]
  },
  {
   "attachments": {},
   "cell_type": "markdown",
   "metadata": {},
   "source": [
    "## Question 2"
   ]
  },
  {
   "cell_type": "code",
   "execution_count": 27,
   "metadata": {},
   "outputs": [],
   "source": [
    "t=rolex_df.copy()"
   ]
  },
  {
   "cell_type": "code",
   "execution_count": 30,
   "metadata": {},
   "outputs": [
    {
     "data": {
      "text/html": [
       "<div>\n",
       "<style scoped>\n",
       "    .dataframe tbody tr th:only-of-type {\n",
       "        vertical-align: middle;\n",
       "    }\n",
       "\n",
       "    .dataframe tbody tr th {\n",
       "        vertical-align: top;\n",
       "    }\n",
       "\n",
       "    .dataframe thead th {\n",
       "        text-align: right;\n",
       "    }\n",
       "</style>\n",
       "<table border=\"1\" class=\"dataframe\">\n",
       "  <thead>\n",
       "    <tr style=\"text-align: right;\">\n",
       "      <th></th>\n",
       "      <th>model</th>\n",
       "      <th>movement</th>\n",
       "      <th>case material</th>\n",
       "      <th>case diameter</th>\n",
       "      <th>year of production</th>\n",
       "    </tr>\n",
       "  </thead>\n",
       "  <tbody>\n",
       "    <tr>\n",
       "      <th>25029</th>\n",
       "      <td>Rolex Datejust</td>\n",
       "      <td>Automatic</td>\n",
       "      <td>Steel</td>\n",
       "      <td>31</td>\n",
       "      <td>20052004.0</td>\n",
       "    </tr>\n",
       "    <tr>\n",
       "      <th>2865</th>\n",
       "      <td>Rolex GMT-Master II</td>\n",
       "      <td>Automatic</td>\n",
       "      <td>Steel</td>\n",
       "      <td>40</td>\n",
       "      <td>2023.0</td>\n",
       "    </tr>\n",
       "    <tr>\n",
       "      <th>9570</th>\n",
       "      <td>Rolex Milgauss</td>\n",
       "      <td>Automatic</td>\n",
       "      <td>Steel</td>\n",
       "      <td>40</td>\n",
       "      <td>2023.0</td>\n",
       "    </tr>\n",
       "    <tr>\n",
       "      <th>32016</th>\n",
       "      <td>Rolex Oyster Perpetual</td>\n",
       "      <td>Automatic</td>\n",
       "      <td>Steel</td>\n",
       "      <td>36</td>\n",
       "      <td>2022.0</td>\n",
       "    </tr>\n",
       "    <tr>\n",
       "      <th>24120</th>\n",
       "      <td>Rolex GMT-Master II</td>\n",
       "      <td>Automatic</td>\n",
       "      <td>Rose gold</td>\n",
       "      <td>40</td>\n",
       "      <td>2022.0</td>\n",
       "    </tr>\n",
       "    <tr>\n",
       "      <th>...</th>\n",
       "      <td>...</td>\n",
       "      <td>...</td>\n",
       "      <td>...</td>\n",
       "      <td>...</td>\n",
       "      <td>...</td>\n",
       "    </tr>\n",
       "    <tr>\n",
       "      <th>31323</th>\n",
       "      <td>Rolex Precision</td>\n",
       "      <td>Manual winding</td>\n",
       "      <td>Steel</td>\n",
       "      <td>18</td>\n",
       "      <td>1922.0</td>\n",
       "    </tr>\n",
       "    <tr>\n",
       "      <th>17954</th>\n",
       "      <td>Rolex Prince</td>\n",
       "      <td>Manual winding</td>\n",
       "      <td>Silver</td>\n",
       "      <td>23</td>\n",
       "      <td>1920.0</td>\n",
       "    </tr>\n",
       "    <tr>\n",
       "      <th>44918</th>\n",
       "      <td>Rolex Prince</td>\n",
       "      <td>Manual winding</td>\n",
       "      <td>White gold</td>\n",
       "      <td>12</td>\n",
       "      <td>1920.0</td>\n",
       "    </tr>\n",
       "    <tr>\n",
       "      <th>30293</th>\n",
       "      <td>Rolex Prince</td>\n",
       "      <td>Manual winding</td>\n",
       "      <td>Yellow gold</td>\n",
       "      <td>10</td>\n",
       "      <td>1920.0</td>\n",
       "    </tr>\n",
       "    <tr>\n",
       "      <th>10272</th>\n",
       "      <td>Rolex Prince</td>\n",
       "      <td>Manual winding</td>\n",
       "      <td>Yellow gold</td>\n",
       "      <td>38</td>\n",
       "      <td>1920.0</td>\n",
       "    </tr>\n",
       "  </tbody>\n",
       "</table>\n",
       "<p>64033 rows × 5 columns</p>\n",
       "</div>"
      ],
      "text/plain": [
       "                         model        movement case material case diameter  \\\n",
       "25029          Rolex Datejust        Automatic         Steel            31   \n",
       "2865       Rolex GMT-Master II       Automatic         Steel            40   \n",
       "9570            Rolex Milgauss       Automatic         Steel            40   \n",
       "32016  Rolex Oyster Perpetual        Automatic         Steel            36   \n",
       "24120      Rolex GMT-Master II       Automatic     Rose gold            40   \n",
       "...                        ...             ...           ...           ...   \n",
       "31323          Rolex Precision  Manual winding         Steel            18   \n",
       "17954             Rolex Prince  Manual winding        Silver            23   \n",
       "44918             Rolex Prince  Manual winding    White gold            12   \n",
       "30293             Rolex Prince  Manual winding   Yellow gold            10   \n",
       "10272             Rolex Prince  Manual winding   Yellow gold            38   \n",
       "\n",
       "      year of production  \n",
       "25029         20052004.0  \n",
       "2865              2023.0  \n",
       "9570              2023.0  \n",
       "32016             2022.0  \n",
       "24120             2022.0  \n",
       "...                  ...  \n",
       "31323             1922.0  \n",
       "17954             1920.0  \n",
       "44918             1920.0  \n",
       "30293             1920.0  \n",
       "10272             1920.0  \n",
       "\n",
       "[64033 rows x 5 columns]"
      ]
     },
     "execution_count": 30,
     "metadata": {},
     "output_type": "execute_result"
    }
   ],
   "source": [
    "tt=preprocess().transform(t)\n",
    "q2df=tt[['model', 'movement', 'case material', 'case diameter', 'year of production']]\n",
    "q2df.sort_values(by=['year of production'], ascending=False)"
   ]
  },
  {
   "cell_type": "code",
   "execution_count": 31,
   "metadata": {},
   "outputs": [
    {
     "data": {
      "text/html": [
       "<div>\n",
       "<style scoped>\n",
       "    .dataframe tbody tr th:only-of-type {\n",
       "        vertical-align: middle;\n",
       "    }\n",
       "\n",
       "    .dataframe tbody tr th {\n",
       "        vertical-align: top;\n",
       "    }\n",
       "\n",
       "    .dataframe thead th {\n",
       "        text-align: right;\n",
       "    }\n",
       "</style>\n",
       "<table border=\"1\" class=\"dataframe\">\n",
       "  <thead>\n",
       "    <tr style=\"text-align: right;\">\n",
       "      <th></th>\n",
       "      <th>model</th>\n",
       "      <th>movement</th>\n",
       "      <th>case material</th>\n",
       "      <th>case diameter</th>\n",
       "      <th>year of production</th>\n",
       "    </tr>\n",
       "  </thead>\n",
       "  <tbody>\n",
       "    <tr>\n",
       "      <th>32018</th>\n",
       "      <td>Rolex Submariner Date</td>\n",
       "      <td>Automatic</td>\n",
       "      <td>Steel</td>\n",
       "      <td>41</td>\n",
       "      <td>2022.0</td>\n",
       "    </tr>\n",
       "    <tr>\n",
       "      <th>49965</th>\n",
       "      <td>Rolex Oyster Perpetual</td>\n",
       "      <td>Automatic</td>\n",
       "      <td>Steel</td>\n",
       "      <td>41</td>\n",
       "      <td>2022.0</td>\n",
       "    </tr>\n",
       "    <tr>\n",
       "      <th>49949</th>\n",
       "      <td>Rolex Sea-Dweller</td>\n",
       "      <td>Automatic</td>\n",
       "      <td>Gold/Steel</td>\n",
       "      <td>43</td>\n",
       "      <td>2022.0</td>\n",
       "    </tr>\n",
       "    <tr>\n",
       "      <th>24134</th>\n",
       "      <td>Rolex Datejust</td>\n",
       "      <td>Automatic</td>\n",
       "      <td>Gold/Steel</td>\n",
       "      <td>41</td>\n",
       "      <td>2022.0</td>\n",
       "    </tr>\n",
       "    <tr>\n",
       "      <th>24132</th>\n",
       "      <td>Rolex Day-Date</td>\n",
       "      <td>Automatic</td>\n",
       "      <td>Yellow gold</td>\n",
       "      <td>40</td>\n",
       "      <td>2022.0</td>\n",
       "    </tr>\n",
       "    <tr>\n",
       "      <th>...</th>\n",
       "      <td>...</td>\n",
       "      <td>...</td>\n",
       "      <td>...</td>\n",
       "      <td>...</td>\n",
       "      <td>...</td>\n",
       "    </tr>\n",
       "    <tr>\n",
       "      <th>31323</th>\n",
       "      <td>Rolex Precision</td>\n",
       "      <td>Manual winding</td>\n",
       "      <td>Steel</td>\n",
       "      <td>18</td>\n",
       "      <td>1922.0</td>\n",
       "    </tr>\n",
       "    <tr>\n",
       "      <th>17954</th>\n",
       "      <td>Rolex Prince</td>\n",
       "      <td>Manual winding</td>\n",
       "      <td>Silver</td>\n",
       "      <td>23</td>\n",
       "      <td>1920.0</td>\n",
       "    </tr>\n",
       "    <tr>\n",
       "      <th>44918</th>\n",
       "      <td>Rolex Prince</td>\n",
       "      <td>Manual winding</td>\n",
       "      <td>White gold</td>\n",
       "      <td>12</td>\n",
       "      <td>1920.0</td>\n",
       "    </tr>\n",
       "    <tr>\n",
       "      <th>30293</th>\n",
       "      <td>Rolex Prince</td>\n",
       "      <td>Manual winding</td>\n",
       "      <td>Yellow gold</td>\n",
       "      <td>10</td>\n",
       "      <td>1920.0</td>\n",
       "    </tr>\n",
       "    <tr>\n",
       "      <th>10272</th>\n",
       "      <td>Rolex Prince</td>\n",
       "      <td>Manual winding</td>\n",
       "      <td>Yellow gold</td>\n",
       "      <td>38</td>\n",
       "      <td>1920.0</td>\n",
       "    </tr>\n",
       "  </tbody>\n",
       "</table>\n",
       "<p>64030 rows × 5 columns</p>\n",
       "</div>"
      ],
      "text/plain": [
       "                         model        movement case material case diameter  \\\n",
       "32018    Rolex Submariner Date       Automatic         Steel            41   \n",
       "49965  Rolex Oyster Perpetual        Automatic         Steel            41   \n",
       "49949        Rolex Sea-Dweller       Automatic    Gold/Steel            43   \n",
       "24134          Rolex Datejust        Automatic    Gold/Steel            41   \n",
       "24132          Rolex Day-Date        Automatic   Yellow gold            40   \n",
       "...                        ...             ...           ...           ...   \n",
       "31323          Rolex Precision  Manual winding         Steel            18   \n",
       "17954             Rolex Prince  Manual winding        Silver            23   \n",
       "44918             Rolex Prince  Manual winding    White gold            12   \n",
       "30293             Rolex Prince  Manual winding   Yellow gold            10   \n",
       "10272             Rolex Prince  Manual winding   Yellow gold            38   \n",
       "\n",
       "      year of production  \n",
       "32018             2022.0  \n",
       "49965             2022.0  \n",
       "49949             2022.0  \n",
       "24134             2022.0  \n",
       "24132             2022.0  \n",
       "...                  ...  \n",
       "31323             1922.0  \n",
       "17954             1920.0  \n",
       "44918             1920.0  \n",
       "30293             1920.0  \n",
       "10272             1920.0  \n",
       "\n",
       "[64030 rows x 5 columns]"
      ]
     },
     "execution_count": 31,
     "metadata": {},
     "output_type": "execute_result"
    }
   ],
   "source": [
    "q2df=q2df[q2df['year of production'] <= 2022]\n",
    "q2df.sort_values(by=['year of production'], ascending=False)"
   ]
  },
  {
   "attachments": {},
   "cell_type": "markdown",
   "metadata": {},
   "source": [
    "### a. Movement - pivot table"
   ]
  },
  {
   "cell_type": "code",
   "execution_count": 32,
   "metadata": {},
   "outputs": [
    {
     "data": {
      "text/html": [
       "<div>\n",
       "<style scoped>\n",
       "    .dataframe tbody tr th:only-of-type {\n",
       "        vertical-align: middle;\n",
       "    }\n",
       "\n",
       "    .dataframe tbody tr th {\n",
       "        vertical-align: top;\n",
       "    }\n",
       "\n",
       "    .dataframe thead th {\n",
       "        text-align: right;\n",
       "    }\n",
       "</style>\n",
       "<table border=\"1\" class=\"dataframe\">\n",
       "  <thead>\n",
       "    <tr style=\"text-align: right;\">\n",
       "      <th></th>\n",
       "      <th></th>\n",
       "      <th>model</th>\n",
       "      <th>case material</th>\n",
       "      <th>case diameter</th>\n",
       "    </tr>\n",
       "    <tr>\n",
       "      <th>year of production</th>\n",
       "      <th>movement</th>\n",
       "      <th></th>\n",
       "      <th></th>\n",
       "      <th></th>\n",
       "    </tr>\n",
       "  </thead>\n",
       "  <tbody>\n",
       "    <tr>\n",
       "      <th>1920.0</th>\n",
       "      <th>Manual winding</th>\n",
       "      <td>4</td>\n",
       "      <td>4</td>\n",
       "      <td>4</td>\n",
       "    </tr>\n",
       "    <tr>\n",
       "      <th>1922.0</th>\n",
       "      <th>Manual winding</th>\n",
       "      <td>1</td>\n",
       "      <td>1</td>\n",
       "      <td>1</td>\n",
       "    </tr>\n",
       "    <tr>\n",
       "      <th>1925.0</th>\n",
       "      <th>Manual winding</th>\n",
       "      <td>1</td>\n",
       "      <td>1</td>\n",
       "      <td>1</td>\n",
       "    </tr>\n",
       "    <tr>\n",
       "      <th>1928.0</th>\n",
       "      <th>Manual winding</th>\n",
       "      <td>2</td>\n",
       "      <td>2</td>\n",
       "      <td>2</td>\n",
       "    </tr>\n",
       "    <tr>\n",
       "      <th>1930.0</th>\n",
       "      <th>Automatic</th>\n",
       "      <td>1</td>\n",
       "      <td>1</td>\n",
       "      <td>1</td>\n",
       "    </tr>\n",
       "    <tr>\n",
       "      <th>...</th>\n",
       "      <th>...</th>\n",
       "      <td>...</td>\n",
       "      <td>...</td>\n",
       "      <td>...</td>\n",
       "    </tr>\n",
       "    <tr>\n",
       "      <th rowspan=\"3\" valign=\"top\">2021.0</th>\n",
       "      <th>Automatic</th>\n",
       "      <td>5182</td>\n",
       "      <td>5182</td>\n",
       "      <td>5182</td>\n",
       "    </tr>\n",
       "    <tr>\n",
       "      <th>Manual winding</th>\n",
       "      <td>7</td>\n",
       "      <td>7</td>\n",
       "      <td>7</td>\n",
       "    </tr>\n",
       "    <tr>\n",
       "      <th>Quartz</th>\n",
       "      <td>1</td>\n",
       "      <td>1</td>\n",
       "      <td>1</td>\n",
       "    </tr>\n",
       "    <tr>\n",
       "      <th rowspan=\"2\" valign=\"top\">2022.0</th>\n",
       "      <th>Automatic</th>\n",
       "      <td>26484</td>\n",
       "      <td>26484</td>\n",
       "      <td>26484</td>\n",
       "    </tr>\n",
       "    <tr>\n",
       "      <th>Manual winding</th>\n",
       "      <td>35</td>\n",
       "      <td>35</td>\n",
       "      <td>35</td>\n",
       "    </tr>\n",
       "  </tbody>\n",
       "</table>\n",
       "<p>220 rows × 3 columns</p>\n",
       "</div>"
      ],
      "text/plain": [
       "                                   model  case material  case diameter\n",
       "year of production movement                                           \n",
       "1920.0             Manual winding      4              4              4\n",
       "1922.0             Manual winding      1              1              1\n",
       "1925.0             Manual winding      1              1              1\n",
       "1928.0             Manual winding      2              2              2\n",
       "1930.0             Automatic           1              1              1\n",
       "...                                  ...            ...            ...\n",
       "2021.0             Automatic        5182           5182           5182\n",
       "                   Manual winding      7              7              7\n",
       "                   Quartz              1              1              1\n",
       "2022.0             Automatic       26484          26484          26484\n",
       "                   Manual winding     35             35             35\n",
       "\n",
       "[220 rows x 3 columns]"
      ]
     },
     "execution_count": 32,
     "metadata": {},
     "output_type": "execute_result"
    }
   ],
   "source": [
    "mmgb=q2df.groupby(['year of production', 'movement']).count()\n",
    "mmgb"
   ]
  },
  {
   "cell_type": "code",
   "execution_count": 33,
   "metadata": {},
   "outputs": [],
   "source": [
    "# reset index\n",
    "mmgb = mmgb.reset_index()"
   ]
  },
  {
   "cell_type": "code",
   "execution_count": 34,
   "metadata": {},
   "outputs": [
    {
     "data": {
      "text/html": [
       "<div>\n",
       "<style scoped>\n",
       "    .dataframe tbody tr th:only-of-type {\n",
       "        vertical-align: middle;\n",
       "    }\n",
       "\n",
       "    .dataframe tbody tr th {\n",
       "        vertical-align: top;\n",
       "    }\n",
       "\n",
       "    .dataframe thead th {\n",
       "        text-align: right;\n",
       "    }\n",
       "</style>\n",
       "<table border=\"1\" class=\"dataframe\">\n",
       "  <thead>\n",
       "    <tr style=\"text-align: right;\">\n",
       "      <th>movement</th>\n",
       "      <th>Automatic</th>\n",
       "      <th>Manual winding</th>\n",
       "      <th>Quartz</th>\n",
       "    </tr>\n",
       "    <tr>\n",
       "      <th>year of production</th>\n",
       "      <th></th>\n",
       "      <th></th>\n",
       "      <th></th>\n",
       "    </tr>\n",
       "  </thead>\n",
       "  <tbody>\n",
       "    <tr>\n",
       "      <th>1920.0</th>\n",
       "      <td>0.0</td>\n",
       "      <td>4.0</td>\n",
       "      <td>0.0</td>\n",
       "    </tr>\n",
       "    <tr>\n",
       "      <th>1922.0</th>\n",
       "      <td>0.0</td>\n",
       "      <td>1.0</td>\n",
       "      <td>0.0</td>\n",
       "    </tr>\n",
       "    <tr>\n",
       "      <th>1925.0</th>\n",
       "      <td>0.0</td>\n",
       "      <td>1.0</td>\n",
       "      <td>0.0</td>\n",
       "    </tr>\n",
       "    <tr>\n",
       "      <th>1928.0</th>\n",
       "      <td>0.0</td>\n",
       "      <td>2.0</td>\n",
       "      <td>0.0</td>\n",
       "    </tr>\n",
       "    <tr>\n",
       "      <th>1930.0</th>\n",
       "      <td>1.0</td>\n",
       "      <td>35.0</td>\n",
       "      <td>0.0</td>\n",
       "    </tr>\n",
       "    <tr>\n",
       "      <th>...</th>\n",
       "      <td>...</td>\n",
       "      <td>...</td>\n",
       "      <td>...</td>\n",
       "    </tr>\n",
       "    <tr>\n",
       "      <th>2018.0</th>\n",
       "      <td>1317.0</td>\n",
       "      <td>3.0</td>\n",
       "      <td>0.0</td>\n",
       "    </tr>\n",
       "    <tr>\n",
       "      <th>2019.0</th>\n",
       "      <td>1738.0</td>\n",
       "      <td>2.0</td>\n",
       "      <td>0.0</td>\n",
       "    </tr>\n",
       "    <tr>\n",
       "      <th>2020.0</th>\n",
       "      <td>2371.0</td>\n",
       "      <td>3.0</td>\n",
       "      <td>0.0</td>\n",
       "    </tr>\n",
       "    <tr>\n",
       "      <th>2021.0</th>\n",
       "      <td>5182.0</td>\n",
       "      <td>7.0</td>\n",
       "      <td>1.0</td>\n",
       "    </tr>\n",
       "    <tr>\n",
       "      <th>2022.0</th>\n",
       "      <td>26484.0</td>\n",
       "      <td>35.0</td>\n",
       "      <td>0.0</td>\n",
       "    </tr>\n",
       "  </tbody>\n",
       "</table>\n",
       "<p>94 rows × 3 columns</p>\n",
       "</div>"
      ],
      "text/plain": [
       "movement            Automatic  Manual winding  Quartz\n",
       "year of production                                   \n",
       "1920.0                    0.0             4.0     0.0\n",
       "1922.0                    0.0             1.0     0.0\n",
       "1925.0                    0.0             1.0     0.0\n",
       "1928.0                    0.0             2.0     0.0\n",
       "1930.0                    1.0            35.0     0.0\n",
       "...                       ...             ...     ...\n",
       "2018.0                 1317.0             3.0     0.0\n",
       "2019.0                 1738.0             2.0     0.0\n",
       "2020.0                 2371.0             3.0     0.0\n",
       "2021.0                 5182.0             7.0     1.0\n",
       "2022.0                26484.0            35.0     0.0\n",
       "\n",
       "[94 rows x 3 columns]"
      ]
     },
     "execution_count": 34,
     "metadata": {},
     "output_type": "execute_result"
    }
   ],
   "source": [
    "res_mm = mmgb.pivot(index='year of production', columns='movement', values='model')\n",
    "res_mm = res_mm.fillna(0)\n",
    "res_mm"
   ]
  },
  {
   "cell_type": "code",
   "execution_count": 35,
   "metadata": {},
   "outputs": [
    {
     "data": {
      "text/html": [
       "<div>\n",
       "<style scoped>\n",
       "    .dataframe tbody tr th:only-of-type {\n",
       "        vertical-align: middle;\n",
       "    }\n",
       "\n",
       "    .dataframe tbody tr th {\n",
       "        vertical-align: top;\n",
       "    }\n",
       "\n",
       "    .dataframe thead th {\n",
       "        text-align: right;\n",
       "    }\n",
       "</style>\n",
       "<table border=\"1\" class=\"dataframe\">\n",
       "  <thead>\n",
       "    <tr style=\"text-align: right;\">\n",
       "      <th></th>\n",
       "      <th>year of production</th>\n",
       "      <th>movement</th>\n",
       "    </tr>\n",
       "  </thead>\n",
       "  <tbody>\n",
       "    <tr>\n",
       "      <th>0</th>\n",
       "      <td>1920.0</td>\n",
       "      <td>Manual winding</td>\n",
       "    </tr>\n",
       "    <tr>\n",
       "      <th>1</th>\n",
       "      <td>1922.0</td>\n",
       "      <td>Manual winding</td>\n",
       "    </tr>\n",
       "    <tr>\n",
       "      <th>2</th>\n",
       "      <td>1925.0</td>\n",
       "      <td>Manual winding</td>\n",
       "    </tr>\n",
       "    <tr>\n",
       "      <th>3</th>\n",
       "      <td>1928.0</td>\n",
       "      <td>Manual winding</td>\n",
       "    </tr>\n",
       "    <tr>\n",
       "      <th>4</th>\n",
       "      <td>1930.0</td>\n",
       "      <td>Manual winding</td>\n",
       "    </tr>\n",
       "    <tr>\n",
       "      <th>...</th>\n",
       "      <td>...</td>\n",
       "      <td>...</td>\n",
       "    </tr>\n",
       "    <tr>\n",
       "      <th>89</th>\n",
       "      <td>2018.0</td>\n",
       "      <td>Automatic</td>\n",
       "    </tr>\n",
       "    <tr>\n",
       "      <th>90</th>\n",
       "      <td>2019.0</td>\n",
       "      <td>Automatic</td>\n",
       "    </tr>\n",
       "    <tr>\n",
       "      <th>91</th>\n",
       "      <td>2020.0</td>\n",
       "      <td>Automatic</td>\n",
       "    </tr>\n",
       "    <tr>\n",
       "      <th>92</th>\n",
       "      <td>2021.0</td>\n",
       "      <td>Automatic</td>\n",
       "    </tr>\n",
       "    <tr>\n",
       "      <th>93</th>\n",
       "      <td>2022.0</td>\n",
       "      <td>Automatic</td>\n",
       "    </tr>\n",
       "  </tbody>\n",
       "</table>\n",
       "<p>94 rows × 2 columns</p>\n",
       "</div>"
      ],
      "text/plain": [
       "    year of production        movement\n",
       "0               1920.0  Manual winding\n",
       "1               1922.0  Manual winding\n",
       "2               1925.0  Manual winding\n",
       "3               1928.0  Manual winding\n",
       "4               1930.0  Manual winding\n",
       "..                 ...             ...\n",
       "89              2018.0       Automatic\n",
       "90              2019.0       Automatic\n",
       "91              2020.0       Automatic\n",
       "92              2021.0       Automatic\n",
       "93              2022.0       Automatic\n",
       "\n",
       "[94 rows x 2 columns]"
      ]
     },
     "execution_count": 35,
     "metadata": {},
     "output_type": "execute_result"
    }
   ],
   "source": [
    "res_mmdf = pd.DataFrame(res_mm.idxmax(axis=1), columns=['movement']).reset_index()\n",
    "res_mmdf"
   ]
  },
  {
   "cell_type": "code",
   "execution_count": 36,
   "metadata": {},
   "outputs": [
    {
     "data": {
      "text/plain": [
       "array(['Automatic', 'Manual winding', 'Quartz'], dtype=object)"
      ]
     },
     "execution_count": 36,
     "metadata": {},
     "output_type": "execute_result"
    }
   ],
   "source": [
    "mm_list = tt['movement'].unique()\n",
    "mm_list"
   ]
  },
  {
   "cell_type": "code",
   "execution_count": 37,
   "metadata": {},
   "outputs": [
    {
     "data": {
      "text/html": [
       "<div>\n",
       "<style scoped>\n",
       "    .dataframe tbody tr th:only-of-type {\n",
       "        vertical-align: middle;\n",
       "    }\n",
       "\n",
       "    .dataframe tbody tr th {\n",
       "        vertical-align: top;\n",
       "    }\n",
       "\n",
       "    .dataframe thead th {\n",
       "        text-align: right;\n",
       "    }\n",
       "</style>\n",
       "<table border=\"1\" class=\"dataframe\">\n",
       "  <thead>\n",
       "    <tr style=\"text-align: right;\">\n",
       "      <th></th>\n",
       "      <th>year of production</th>\n",
       "      <th>movement</th>\n",
       "    </tr>\n",
       "  </thead>\n",
       "  <tbody>\n",
       "    <tr>\n",
       "      <th>7</th>\n",
       "      <td>1936.0</td>\n",
       "      <td>Automatic</td>\n",
       "    </tr>\n",
       "    <tr>\n",
       "      <th>16</th>\n",
       "      <td>1945.0</td>\n",
       "      <td>Automatic</td>\n",
       "    </tr>\n",
       "    <tr>\n",
       "      <th>19</th>\n",
       "      <td>1948.0</td>\n",
       "      <td>Automatic</td>\n",
       "    </tr>\n",
       "    <tr>\n",
       "      <th>20</th>\n",
       "      <td>1949.0</td>\n",
       "      <td>Automatic</td>\n",
       "    </tr>\n",
       "    <tr>\n",
       "      <th>22</th>\n",
       "      <td>1951.0</td>\n",
       "      <td>Automatic</td>\n",
       "    </tr>\n",
       "    <tr>\n",
       "      <th>...</th>\n",
       "      <td>...</td>\n",
       "      <td>...</td>\n",
       "    </tr>\n",
       "    <tr>\n",
       "      <th>89</th>\n",
       "      <td>2018.0</td>\n",
       "      <td>Automatic</td>\n",
       "    </tr>\n",
       "    <tr>\n",
       "      <th>90</th>\n",
       "      <td>2019.0</td>\n",
       "      <td>Automatic</td>\n",
       "    </tr>\n",
       "    <tr>\n",
       "      <th>91</th>\n",
       "      <td>2020.0</td>\n",
       "      <td>Automatic</td>\n",
       "    </tr>\n",
       "    <tr>\n",
       "      <th>92</th>\n",
       "      <td>2021.0</td>\n",
       "      <td>Automatic</td>\n",
       "    </tr>\n",
       "    <tr>\n",
       "      <th>93</th>\n",
       "      <td>2022.0</td>\n",
       "      <td>Automatic</td>\n",
       "    </tr>\n",
       "  </tbody>\n",
       "</table>\n",
       "<p>75 rows × 2 columns</p>\n",
       "</div>"
      ],
      "text/plain": [
       "    year of production   movement\n",
       "7               1936.0  Automatic\n",
       "16              1945.0  Automatic\n",
       "19              1948.0  Automatic\n",
       "20              1949.0  Automatic\n",
       "22              1951.0  Automatic\n",
       "..                 ...        ...\n",
       "89              2018.0  Automatic\n",
       "90              2019.0  Automatic\n",
       "91              2020.0  Automatic\n",
       "92              2021.0  Automatic\n",
       "93              2022.0  Automatic\n",
       "\n",
       "[75 rows x 2 columns]"
      ]
     },
     "execution_count": 37,
     "metadata": {},
     "output_type": "execute_result"
    }
   ],
   "source": [
    "# Automatic\n",
    "res_mmdf.loc[res_mmdf['movement'] == mm_list[0]]"
   ]
  },
  {
   "cell_type": "code",
   "execution_count": 38,
   "metadata": {},
   "outputs": [
    {
     "data": {
      "text/html": [
       "<div>\n",
       "<style scoped>\n",
       "    .dataframe tbody tr th:only-of-type {\n",
       "        vertical-align: middle;\n",
       "    }\n",
       "\n",
       "    .dataframe tbody tr th {\n",
       "        vertical-align: top;\n",
       "    }\n",
       "\n",
       "    .dataframe thead th {\n",
       "        text-align: right;\n",
       "    }\n",
       "</style>\n",
       "<table border=\"1\" class=\"dataframe\">\n",
       "  <thead>\n",
       "    <tr style=\"text-align: right;\">\n",
       "      <th></th>\n",
       "      <th>year of production</th>\n",
       "      <th>movement</th>\n",
       "    </tr>\n",
       "  </thead>\n",
       "  <tbody>\n",
       "    <tr>\n",
       "      <th>0</th>\n",
       "      <td>1920.0</td>\n",
       "      <td>Manual winding</td>\n",
       "    </tr>\n",
       "    <tr>\n",
       "      <th>1</th>\n",
       "      <td>1922.0</td>\n",
       "      <td>Manual winding</td>\n",
       "    </tr>\n",
       "    <tr>\n",
       "      <th>2</th>\n",
       "      <td>1925.0</td>\n",
       "      <td>Manual winding</td>\n",
       "    </tr>\n",
       "    <tr>\n",
       "      <th>3</th>\n",
       "      <td>1928.0</td>\n",
       "      <td>Manual winding</td>\n",
       "    </tr>\n",
       "    <tr>\n",
       "      <th>4</th>\n",
       "      <td>1930.0</td>\n",
       "      <td>Manual winding</td>\n",
       "    </tr>\n",
       "    <tr>\n",
       "      <th>5</th>\n",
       "      <td>1934.0</td>\n",
       "      <td>Manual winding</td>\n",
       "    </tr>\n",
       "    <tr>\n",
       "      <th>6</th>\n",
       "      <td>1935.0</td>\n",
       "      <td>Manual winding</td>\n",
       "    </tr>\n",
       "    <tr>\n",
       "      <th>8</th>\n",
       "      <td>1937.0</td>\n",
       "      <td>Manual winding</td>\n",
       "    </tr>\n",
       "    <tr>\n",
       "      <th>9</th>\n",
       "      <td>1938.0</td>\n",
       "      <td>Manual winding</td>\n",
       "    </tr>\n",
       "    <tr>\n",
       "      <th>10</th>\n",
       "      <td>1939.0</td>\n",
       "      <td>Manual winding</td>\n",
       "    </tr>\n",
       "    <tr>\n",
       "      <th>11</th>\n",
       "      <td>1940.0</td>\n",
       "      <td>Manual winding</td>\n",
       "    </tr>\n",
       "    <tr>\n",
       "      <th>12</th>\n",
       "      <td>1941.0</td>\n",
       "      <td>Manual winding</td>\n",
       "    </tr>\n",
       "    <tr>\n",
       "      <th>13</th>\n",
       "      <td>1942.0</td>\n",
       "      <td>Manual winding</td>\n",
       "    </tr>\n",
       "    <tr>\n",
       "      <th>14</th>\n",
       "      <td>1943.0</td>\n",
       "      <td>Manual winding</td>\n",
       "    </tr>\n",
       "    <tr>\n",
       "      <th>15</th>\n",
       "      <td>1944.0</td>\n",
       "      <td>Manual winding</td>\n",
       "    </tr>\n",
       "    <tr>\n",
       "      <th>17</th>\n",
       "      <td>1946.0</td>\n",
       "      <td>Manual winding</td>\n",
       "    </tr>\n",
       "    <tr>\n",
       "      <th>18</th>\n",
       "      <td>1947.0</td>\n",
       "      <td>Manual winding</td>\n",
       "    </tr>\n",
       "    <tr>\n",
       "      <th>21</th>\n",
       "      <td>1950.0</td>\n",
       "      <td>Manual winding</td>\n",
       "    </tr>\n",
       "    <tr>\n",
       "      <th>23</th>\n",
       "      <td>1952.0</td>\n",
       "      <td>Manual winding</td>\n",
       "    </tr>\n",
       "  </tbody>\n",
       "</table>\n",
       "</div>"
      ],
      "text/plain": [
       "    year of production        movement\n",
       "0               1920.0  Manual winding\n",
       "1               1922.0  Manual winding\n",
       "2               1925.0  Manual winding\n",
       "3               1928.0  Manual winding\n",
       "4               1930.0  Manual winding\n",
       "5               1934.0  Manual winding\n",
       "6               1935.0  Manual winding\n",
       "8               1937.0  Manual winding\n",
       "9               1938.0  Manual winding\n",
       "10              1939.0  Manual winding\n",
       "11              1940.0  Manual winding\n",
       "12              1941.0  Manual winding\n",
       "13              1942.0  Manual winding\n",
       "14              1943.0  Manual winding\n",
       "15              1944.0  Manual winding\n",
       "17              1946.0  Manual winding\n",
       "18              1947.0  Manual winding\n",
       "21              1950.0  Manual winding\n",
       "23              1952.0  Manual winding"
      ]
     },
     "execution_count": 38,
     "metadata": {},
     "output_type": "execute_result"
    }
   ],
   "source": [
    "# Manual winding\n",
    "res_mmdf.loc[res_mmdf['movement'] == mm_list[1]]"
   ]
  },
  {
   "cell_type": "code",
   "execution_count": 39,
   "metadata": {},
   "outputs": [
    {
     "data": {
      "text/plain": [
       "0"
      ]
     },
     "execution_count": 39,
     "metadata": {},
     "output_type": "execute_result"
    }
   ],
   "source": [
    "# Quartz\n",
    "res_mmdf.loc[res_mmdf['movement'] == mm_list[2]].shape[0]"
   ]
  },
  {
   "cell_type": "code",
   "execution_count": 40,
   "metadata": {},
   "outputs": [],
   "source": [
    "res_mmdf_plot = res_mmdf.copy()\n",
    "res_mmdf_plot['movement'] = res_mmdf_plot['movement'].replace(mm_list[0], 0)\n",
    "res_mmdf_plot['movement'] = res_mmdf_plot['movement'].replace(mm_list[1], 1)\n",
    "# res_mmdf_plot['movement'] = res_mmdf_plot['movement'].replace(mm_list[2], 2)\n",
    "\n",
    "res_mmdf_plot1 = res_mmdf_plot[res_mmdf_plot['movement'] == 0]\n",
    "res_mmdf_plot2 = res_mmdf_plot[res_mmdf_plot['movement'] == 1]"
   ]
  },
  {
   "cell_type": "code",
   "execution_count": 41,
   "metadata": {},
   "outputs": [
    {
     "data": {
      "image/png": "[encoded data removed]",
      "text/plain": [
       "<Figure size 2200x300 with 1 Axes>"
      ]
     },
     "metadata": {},
     "output_type": "display_data"
    }
   ],
   "source": [
    "ax = plt.subplots(figsize=(22, 3))\n",
    "scp1 = plt.scatter(res_mmdf_plot1['year of production'], res_mmdf_plot1['movement'], s=40, c='red', label='Automatic')\n",
    "scp2 = plt.scatter(res_mmdf_plot2['year of production'], res_mmdf_plot2['movement'], s=40, c='blue', label='Manual winding')\n",
    "plt.legend(handles=[scp1, scp2])\n",
    "plt.title('Most common Rolex watch movement made by year of production')\n",
    "plt.xlabel('Year of production')\n",
    "plt.ylabel('Movement')\n",
    "\n",
    "plt.axvline(x=1945, color='b', linestyle='--')\n",
    "plt.axvline(x=1953, color='r', linestyle='--')\n",
    "plt.axvspan(1945, 1953, alpha=0.2, color='grey')\n",
    "\n",
    "plt.xticks(np.arange(1910, 2022, 5))\n",
    "\n",
    "plt.show()"
   ]
  },
  {
   "cell_type": "markdown",
   "metadata": {},
   "source": [
    "- 1910 - 1945: Manual winding movement \n",
    "- 1945 - 1953:  Confused ooga booga\n",
    "- 1953 - now: Automatic movement"
   ]
  },
  {
   "attachments": {},
   "cell_type": "markdown",
   "metadata": {},
   "source": [
    "### Case material - group by"
   ]
  },
  {
   "cell_type": "code",
   "execution_count": 405,
   "metadata": {},
   "outputs": [],
   "source": [
    "cmgb = tt2.groupby(\n",
    "    ['year of production', 'case material']).count()"
   ]
  },
  {
   "cell_type": "code",
   "execution_count": 422,
   "metadata": {},
   "outputs": [],
   "source": [
    "cmgb=cmgb.reset_index()\n",
    "cmgb=cmgb.loc[:, ['year of production', 'case material', 'model']].rename(columns={'model': 'count'})"
   ]
  },
  {
   "cell_type": "code",
   "execution_count": 426,
   "metadata": {},
   "outputs": [],
   "source": [
    "res_cm = cmgb.sort_values(\n",
    "    by=['year of production', 'count'],\n",
    "    ascending=[True, False]).drop_duplicates(\n",
    "        subset=['year of production'],\n",
    "        keep='first')"
   ]
  },
  {
   "cell_type": "code",
   "execution_count": 429,
   "metadata": {},
   "outputs": [
    {
     "data": {
      "text/plain": [
       "array(['Steel', 'White gold', 'Gold/Steel', 'Yellow gold', 'Rose gold',\n",
       "       'Platinum', 'Silver', 'Red gold', 'Ceramic', 'Bronze', 'Carbon',\n",
       "       'Titanium', 'Aluminum'], dtype=object)"
      ]
     },
     "execution_count": 429,
     "metadata": {},
     "output_type": "execute_result"
    }
   ],
   "source": [
    "material_list = tt['case material'].unique()\n",
    "material_list"
   ]
  },
  {
   "cell_type": "code",
   "execution_count": 430,
   "metadata": {},
   "outputs": [
    {
     "data": {
      "text/plain": [
       "['Steel', 'Gold/Steel', 'Yellow gold', 'Rose gold', 'Silver']"
      ]
     },
     "execution_count": 430,
     "metadata": {},
     "output_type": "execute_result"
    }
   ],
   "source": [
    "a_material_list = [m for m in material_list if res_cm.loc[res_cm['case material'] == m].shape[0] != 0]\n",
    "a_material_list"
   ]
  },
  {
   "cell_type": "code",
   "execution_count": 432,
   "metadata": {},
   "outputs": [],
   "source": [
    "res_cm_plot = res_cm.copy()\n",
    "for m in a_material_list:\n",
    "    res_cm_plot['case material'] = res_cm_plot['case material'].replace(m, a_material_list.index(m))\n",
    "\n",
    "res_cm_plot1 = res_cm_plot[res_cm_plot['case material'] == 0]\n",
    "res_cm_plot2 = res_cm_plot[res_cm_plot['case material'] == 1]\n",
    "res_cm_plot3 = res_cm_plot[res_cm_plot['case material'] == 2]\n",
    "res_cm_plot4 = res_cm_plot[res_cm_plot['case material'] == 3]\n",
    "res_cm_plot5 = res_cm_plot[res_cm_plot['case material'] == 4]\n"
   ]
  },
  {
   "cell_type": "code",
   "execution_count": 468,
   "metadata": {},
   "outputs": [
    {
     "data": {
      "image/png": "[encoded data removed]",
      "text/plain": [
       "<Figure size 640x480 with 1 Axes>"
      ]
     },
     "metadata": {},
     "output_type": "display_data"
    }
   ],
   "source": [
    "# Steel\n",
    "# plot count\n",
    "res_cm_plot1.plot(x = 'year of production', y = 'count', label='watches sold', title='Steel')\n",
    "plt.legend()\n",
    "plt.show()"
   ]
  },
  {
   "cell_type": "code",
   "execution_count": 466,
   "metadata": {},
   "outputs": [
    {
     "data": {
      "image/png": "[encoded data removed]",
      "text/plain": [
       "<Figure size 640x480 with 1 Axes>"
      ]
     },
     "metadata": {},
     "output_type": "display_data"
    }
   ],
   "source": [
    "# Gold/steel\n",
    "res_cm_plot2.plot(x = 'year of production', y = 'count', kind='bar', label='watches sold', title='Gold/steel')\n",
    "plt.show()"
   ]
  },
  {
   "cell_type": "code",
   "execution_count": 458,
   "metadata": {},
   "outputs": [
    {
     "data": {
      "image/png": "[encoded data removed]",
      "text/plain": [
       "<Figure size 640x480 with 1 Axes>"
      ]
     },
     "metadata": {},
     "output_type": "display_data"
    }
   ],
   "source": [
    "# Yellow gold\n",
    "res_cm_plot3.plot(x = 'year of production', y = 'count', kind='bar', label='watches sold', title='Yellow gold')\n",
    "plt.show()"
   ]
  },
  {
   "cell_type": "code",
   "execution_count": 459,
   "metadata": {},
   "outputs": [
    {
     "data": {
      "image/png": "[encoded data removed]",
      "text/plain": [
       "<Figure size 640x480 with 1 Axes>"
      ]
     },
     "metadata": {},
     "output_type": "display_data"
    }
   ],
   "source": [
    "# Rose gold\n",
    "res_cm_plot4.plot(x = 'year of production', y = 'count', kind='bar', label='watches sold', title='Rose gold')\n",
    "plt.show()"
   ]
  },
  {
   "cell_type": "code",
   "execution_count": 460,
   "metadata": {},
   "outputs": [
    {
     "data": {
      "image/png": "[encoded data removed]",
      "text/plain": [
       "<Figure size 640x480 with 1 Axes>"
      ]
     },
     "metadata": {},
     "output_type": "display_data"
    }
   ],
   "source": [
    "# Silver\n",
    "res_cm_plot5.plot(x = 'year of production', y = 'count', kind='bar', label='watches sold', title='Silver')\n",
    "plt.show()"
   ]
  },
  {
   "cell_type": "code",
   "execution_count": 440,
   "metadata": {},
   "outputs": [
    {
     "data": {
      "text/plain": [
       "['Steel', 'Gold/Steel', 'Yellow gold', 'Rose gold', 'Silver']"
      ]
     },
     "execution_count": 440,
     "metadata": {},
     "output_type": "execute_result"
    }
   ],
   "source": [
    "a_material_list"
   ]
  },
  {
   "cell_type": "code",
   "execution_count": 441,
   "metadata": {},
   "outputs": [
    {
     "data": {
      "image/png": "[encoded data removed]",
      "text/plain": [
       "<Figure size 2200x300 with 1 Axes>"
      ]
     },
     "metadata": {},
     "output_type": "display_data"
    }
   ],
   "source": [
    "ax = plt.subplots(figsize=(22, 3))\n",
    "scp1 = plt.scatter(res_cm_plot1['year of production'], res_cm_plot1['case material'], s=40, c='red', label='Steel')\n",
    "scp2 = plt.scatter(res_cm_plot2['year of production'], res_cm_plot2['case material'], s=40, c='blue', label='Gold/Steel')\n",
    "scp3 = plt.scatter(res_cm_plot3['year of production'], res_cm_plot3['case material'], s=40, c='green', label='Yellow gold')\n",
    "scp4 = plt.scatter(res_cm_plot4['year of production'], res_cm_plot4['case material'], s=40, c='black', label='Rose gold')\n",
    "scp5 = plt.scatter(res_cm_plot5['year of production'], res_cm_plot5['case material'], s=40, c='orange', label='Silver')\n",
    "\n",
    "plt.legend(handles=[scp1, scp2, scp3, scp4, scp5])\n",
    "plt.title('Most common Rolex watch case material made by year of production')\n",
    "plt.xlabel('Year of production')\n",
    "plt.ylabel('Case material')\n",
    "\n",
    "plt.xticks(np.arange(1910, 2022, 5))\n",
    "plt.show()"
   ]
  },
  {
   "attachments": {},
   "cell_type": "markdown",
   "metadata": {},
   "source": [
    "## Question 3: "
   ]
  }
 ],
 "metadata": {
  "kernelspec": {
   "display_name": "Python 3.8.8 ('min_ds-env')",
   "language": "python",
   "name": "python3"
  },
  "language_info": {
   "codemirror_mode": {
    "name": "ipython",
    "version": 3
   },
   "file_extension": ".py",
   "mimetype": "text/x-python",
   "name": "python",
   "nbconvert_exporter": "python",
   "pygments_lexer": "ipython3",
   "version": "3.8.8"
  },
  "orig_nbformat": 4,
  "vscode": {
   "interpreter": {
    "hash": "29152f32b696e88688ca134027de37900a1f6ab9cc9c49a6b6f96b34c0652453"
   }
  }
 },
 "nbformat": 4,
 "nbformat_minor": 2
}
