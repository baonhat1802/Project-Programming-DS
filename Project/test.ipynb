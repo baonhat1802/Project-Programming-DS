{
 "cells": [
  {
   "cell_type": "code",
   "execution_count": 378,
   "metadata": {},
   "outputs": [],
   "source": [
    "import pandas as pd\n",
    "import matplotlib.pyplot as plt\n",
    "import numpy as np\n",
    "from sklearn.neural_network import MLPClassifier\n",
    "import re"
   ]
  },
  {
   "attachments": {},
   "cell_type": "markdown",
   "metadata": {},
   "source": [
    "---\n",
    "# Collecting data\n",
    "Our data is about Rolex watches which are sold on `chrono24.com`.\n",
    "\n",
    "Yes, He allows us to freely use the dataset.\n",
    "\n",
    "He collected this data by scraping with Selenium"
   ]
  },
  {
   "attachments": {},
   "cell_type": "markdown",
   "metadata": {},
   "source": [
    "---\n",
    "# Exploring data"
   ]
  },
  {
   "cell_type": "code",
   "execution_count": 379,
   "metadata": {},
   "outputs": [],
   "source": [
    "rolex_df = pd.read_csv('rolex_scaper_clean.csv')"
   ]
  },
  {
   "attachments": {},
   "cell_type": "markdown",
   "metadata": {},
   "source": [
    "#### Number of rows and columns"
   ]
  },
  {
   "cell_type": "code",
   "execution_count": 380,
   "metadata": {},
   "outputs": [
    {
     "data": {
      "text/plain": [
       "(87117, 12)"
      ]
     },
     "execution_count": 380,
     "metadata": {},
     "output_type": "execute_result"
    }
   ],
   "source": [
    "num_rows,num_cols = rolex_df.shape\n",
    "rolex_df.shape"
   ]
  },
  {
   "attachments": {},
   "cell_type": "markdown",
   "metadata": {},
   "source": [
    "#### Meaning of each row\n",
    "We can see that each row has information like model, price, ... about the watch."
   ]
  },
  {
   "cell_type": "code",
   "execution_count": 381,
   "metadata": {},
   "outputs": [
    {
     "data": {
      "text/html": [
       "<div>\n",
       "<style scoped>\n",
       "    .dataframe tbody tr th:only-of-type {\n",
       "        vertical-align: middle;\n",
       "    }\n",
       "\n",
       "    .dataframe tbody tr th {\n",
       "        vertical-align: top;\n",
       "    }\n",
       "\n",
       "    .dataframe thead th {\n",
       "        text-align: right;\n",
       "    }\n",
       "</style>\n",
       "<table border=\"1\" class=\"dataframe\">\n",
       "  <thead>\n",
       "    <tr style=\"text-align: right;\">\n",
       "      <th></th>\n",
       "      <th>model</th>\n",
       "      <th>reference number</th>\n",
       "      <th>price</th>\n",
       "      <th>aditional shipping price</th>\n",
       "      <th>ad name</th>\n",
       "      <th>movement</th>\n",
       "      <th>case material</th>\n",
       "      <th>case diameter</th>\n",
       "      <th>year of production</th>\n",
       "      <th>condition</th>\n",
       "      <th>scope of delivery</th>\n",
       "      <th>location</th>\n",
       "    </tr>\n",
       "  </thead>\n",
       "  <tbody>\n",
       "    <tr>\n",
       "      <th>0</th>\n",
       "      <td>Rolex Lady-Datejust</td>\n",
       "      <td>179161</td>\n",
       "      <td>9080.0</td>\n",
       "      <td>140.0</td>\n",
       "      <td>Steel Rose Gold Black Roman Dial Ladies Watch ...</td>\n",
       "      <td>Automatic</td>\n",
       "      <td>Steel</td>\n",
       "      <td>26 mm</td>\n",
       "      <td>2014.0</td>\n",
       "      <td>Very good</td>\n",
       "      <td>Original box, original papers</td>\n",
       "      <td>United States of America, Georgia</td>\n",
       "    </tr>\n",
       "    <tr>\n",
       "      <th>1</th>\n",
       "      <td>Rolex Chronograph</td>\n",
       "      <td>2917</td>\n",
       "      <td>16202.0</td>\n",
       "      <td>216.0</td>\n",
       "      <td>REF. 2917</td>\n",
       "      <td>Manual winding</td>\n",
       "      <td>Steel</td>\n",
       "      <td>33 mm</td>\n",
       "      <td>1934.0</td>\n",
       "      <td>Very good</td>\n",
       "      <td>Original box, no original papers</td>\n",
       "      <td>Italy, Roma</td>\n",
       "    </tr>\n",
       "    <tr>\n",
       "      <th>2</th>\n",
       "      <td>Rolex Daytona</td>\n",
       "      <td>116519G</td>\n",
       "      <td>41567.0</td>\n",
       "      <td>0.0</td>\n",
       "      <td>保証書付き ROLEX ロレックス デイトナ コスモグラフ K18WG 8Pダイヤ ランダム...</td>\n",
       "      <td>Automatic</td>\n",
       "      <td>White gold</td>\n",
       "      <td>39 mm</td>\n",
       "      <td>NaN</td>\n",
       "      <td>Fair</td>\n",
       "      <td>Original papers, no original box</td>\n",
       "      <td>Japan, Nagoya City</td>\n",
       "    </tr>\n",
       "    <tr>\n",
       "      <th>3</th>\n",
       "      <td>Rolex Submariner Date</td>\n",
       "      <td>116613</td>\n",
       "      <td>19795.0</td>\n",
       "      <td>235.0</td>\n",
       "      <td>New Submariner 116613 Yellow Steel Gold Cerami...</td>\n",
       "      <td>Automatic</td>\n",
       "      <td>Steel</td>\n",
       "      <td>40 mm</td>\n",
       "      <td>2020.0</td>\n",
       "      <td>Unworn</td>\n",
       "      <td>Original box, original papers</td>\n",
       "      <td>United States of America, Florida, Miami</td>\n",
       "    </tr>\n",
       "    <tr>\n",
       "      <th>4</th>\n",
       "      <td>Rolex Submariner Date</td>\n",
       "      <td>16610</td>\n",
       "      <td>10674.0</td>\n",
       "      <td>145.0</td>\n",
       "      <td>1990s ROLEX SUBMARINER 16610 Tritium vintage G...</td>\n",
       "      <td>Automatic</td>\n",
       "      <td>NaN</td>\n",
       "      <td>40 mm</td>\n",
       "      <td>1990.0</td>\n",
       "      <td>Good</td>\n",
       "      <td>Original box, original papers</td>\n",
       "      <td>Japan, Ehime yawatahama</td>\n",
       "    </tr>\n",
       "  </tbody>\n",
       "</table>\n",
       "</div>"
      ],
      "text/plain": [
       "                   model reference number    price  aditional shipping price  \\\n",
       "0    Rolex Lady-Datejust           179161   9080.0                     140.0   \n",
       "1      Rolex Chronograph             2917  16202.0                     216.0   \n",
       "2          Rolex Daytona          116519G  41567.0                       0.0   \n",
       "3  Rolex Submariner Date           116613  19795.0                     235.0   \n",
       "4  Rolex Submariner Date            16610  10674.0                     145.0   \n",
       "\n",
       "                                             ad name        movement  \\\n",
       "0  Steel Rose Gold Black Roman Dial Ladies Watch ...       Automatic   \n",
       "1                                          REF. 2917  Manual winding   \n",
       "2  保証書付き ROLEX ロレックス デイトナ コスモグラフ K18WG 8Pダイヤ ランダム...       Automatic   \n",
       "3  New Submariner 116613 Yellow Steel Gold Cerami...       Automatic   \n",
       "4  1990s ROLEX SUBMARINER 16610 Tritium vintage G...       Automatic   \n",
       "\n",
       "  case material case diameter  year of production  condition  \\\n",
       "0         Steel         26 mm              2014.0  Very good   \n",
       "1         Steel         33 mm              1934.0  Very good   \n",
       "2    White gold         39 mm                 NaN       Fair   \n",
       "3         Steel         40 mm              2020.0     Unworn   \n",
       "4           NaN         40 mm              1990.0       Good   \n",
       "\n",
       "                  scope of delivery                                  location  \n",
       "0     Original box, original papers         United States of America, Georgia  \n",
       "1  Original box, no original papers                               Italy, Roma  \n",
       "2  Original papers, no original box                        Japan, Nagoya City  \n",
       "3     Original box, original papers  United States of America, Florida, Miami  \n",
       "4     Original box, original papers                   Japan, Ehime yawatahama  "
      ]
     },
     "execution_count": 381,
     "metadata": {},
     "output_type": "execute_result"
    }
   ],
   "source": [
    "rolex_df.head()"
   ]
  },
  {
   "attachments": {},
   "cell_type": "markdown",
   "metadata": {},
   "source": [
    "#### Are there duplicated rows ?"
   ]
  },
  {
   "cell_type": "code",
   "execution_count": 382,
   "metadata": {},
   "outputs": [
    {
     "data": {
      "text/plain": [
       "21898"
      ]
     },
     "execution_count": 382,
     "metadata": {},
     "output_type": "execute_result"
    }
   ],
   "source": [
    "rolex_df.duplicated(keep='first').sum()"
   ]
  },
  {
   "attachments": {},
   "cell_type": "markdown",
   "metadata": {},
   "source": [
    "Drop duplicated rows"
   ]
  },
  {
   "cell_type": "code",
   "execution_count": 383,
   "metadata": {},
   "outputs": [],
   "source": [
    "rolex_df.drop_duplicates(inplace=True)"
   ]
  },
  {
   "attachments": {},
   "cell_type": "markdown",
   "metadata": {},
   "source": [
    "#### Meaning of each columns ?\n",
    "\n",
    "model: the watch model name\n",
    "\n",
    "reference number: the number to identify the watch model as a whole\n",
    "\n",
    "price: the price on the listing (price made by the reseller)\n",
    "\n",
    "additional shipping price: the price for shipping (0 = free shipping)\n",
    "\n",
    "ad name: the name of the listing on the site\n",
    "\n",
    "movement: the engine of a watch to make the watch and its functions operate\n",
    "\n",
    "case material: the material of the external watch case\n",
    "\n",
    "case diameter: the dimensions of the watch\n",
    "\n",
    "year of production: the year when Rolex fabricate that particular watch\n",
    "\n",
    "condition: the general condition of the watch\n",
    "\n",
    "scope of delivery: the additional things like warranty, or box that could come with the watch\n",
    "\n",
    "location: the location of the reseller\n"
   ]
  },
  {
   "attachments": {},
   "cell_type": "markdown",
   "metadata": {},
   "source": [
    "#### Type of each colum \n",
    "Luckily, all columns are in their right data types except for year of production. It should be categorical (object) instead of float64."
   ]
  },
  {
   "cell_type": "code",
   "execution_count": 384,
   "metadata": {},
   "outputs": [
    {
     "data": {
      "text/plain": [
       "model                        object\n",
       "reference number             object\n",
       "price                       float64\n",
       "aditional shipping price    float64\n",
       "ad name                      object\n",
       "movement                     object\n",
       "case material                object\n",
       "case diameter                object\n",
       "year of production          float64\n",
       "condition                    object\n",
       "scope of delivery            object\n",
       "location                     object\n",
       "dtype: object"
      ]
     },
     "execution_count": 384,
     "metadata": {},
     "output_type": "execute_result"
    }
   ],
   "source": [
    "rolex_df.dtypes "
   ]
  },
  {
   "attachments": {},
   "cell_type": "markdown",
   "metadata": {},
   "source": [
    "Change data types of year of production column"
   ]
  },
  {
   "cell_type": "code",
   "execution_count": 385,
   "metadata": {},
   "outputs": [
    {
     "data": {
      "text/plain": [
       "model                        object\n",
       "reference number             object\n",
       "price                       float64\n",
       "aditional shipping price    float64\n",
       "ad name                      object\n",
       "movement                     object\n",
       "case material                object\n",
       "case diameter                object\n",
       "year of production           object\n",
       "condition                    object\n",
       "scope of delivery            object\n",
       "location                     object\n",
       "dtype: object"
      ]
     },
     "execution_count": 385,
     "metadata": {},
     "output_type": "execute_result"
    }
   ],
   "source": [
    "rolex_df['year of production'] = rolex_df['year of production'].astype('object')\n",
    "rolex_df.dtypes"
   ]
  },
  {
   "attachments": {},
   "cell_type": "markdown",
   "metadata": {},
   "source": [
    "#### With each numerical column, how are values distributed?"
   ]
  },
  {
   "cell_type": "code",
   "execution_count": 386,
   "metadata": {},
   "outputs": [
    {
     "data": {
      "text/html": [
       "<div>\n",
       "<style scoped>\n",
       "    .dataframe tbody tr th:only-of-type {\n",
       "        vertical-align: middle;\n",
       "    }\n",
       "\n",
       "    .dataframe tbody tr th {\n",
       "        vertical-align: top;\n",
       "    }\n",
       "\n",
       "    .dataframe thead th {\n",
       "        text-align: right;\n",
       "    }\n",
       "</style>\n",
       "<table border=\"1\" class=\"dataframe\">\n",
       "  <thead>\n",
       "    <tr style=\"text-align: right;\">\n",
       "      <th></th>\n",
       "      <th>price</th>\n",
       "      <th>aditional shipping price</th>\n",
       "    </tr>\n",
       "  </thead>\n",
       "  <tbody>\n",
       "    <tr>\n",
       "      <th>0</th>\n",
       "      <td>9080.0</td>\n",
       "      <td>140.0</td>\n",
       "    </tr>\n",
       "    <tr>\n",
       "      <th>1</th>\n",
       "      <td>16202.0</td>\n",
       "      <td>216.0</td>\n",
       "    </tr>\n",
       "    <tr>\n",
       "      <th>2</th>\n",
       "      <td>41567.0</td>\n",
       "      <td>0.0</td>\n",
       "    </tr>\n",
       "    <tr>\n",
       "      <th>3</th>\n",
       "      <td>19795.0</td>\n",
       "      <td>235.0</td>\n",
       "    </tr>\n",
       "    <tr>\n",
       "      <th>4</th>\n",
       "      <td>10674.0</td>\n",
       "      <td>145.0</td>\n",
       "    </tr>\n",
       "  </tbody>\n",
       "</table>\n",
       "</div>"
      ],
      "text/plain": [
       "     price  aditional shipping price\n",
       "0   9080.0                     140.0\n",
       "1  16202.0                     216.0\n",
       "2  41567.0                       0.0\n",
       "3  19795.0                     235.0\n",
       "4  10674.0                     145.0"
      ]
     },
     "execution_count": 386,
     "metadata": {},
     "output_type": "execute_result"
    }
   ],
   "source": [
    "numerical_cols = rolex_df.select_dtypes(include=np.number).copy()\n",
    "numerical_cols.head()"
   ]
  },
  {
   "attachments": {},
   "cell_type": "markdown",
   "metadata": {},
   "source": [
    "Proportion of missing values"
   ]
  },
  {
   "cell_type": "code",
   "execution_count": 387,
   "metadata": {},
   "outputs": [
    {
     "data": {
      "text/plain": [
       "price                       6.271179\n",
       "aditional shipping price    0.000000\n",
       "dtype: float64"
      ]
     },
     "execution_count": 387,
     "metadata": {},
     "output_type": "execute_result"
    }
   ],
   "source": [
    "num_missing_percentages = (numerical_cols.isna()).sum() / rolex_df.shape[0] * 100\n",
    "num_missing_percentages"
   ]
  },
  {
   "attachments": {},
   "cell_type": "markdown",
   "metadata": {},
   "source": [
    "Describe"
   ]
  },
  {
   "cell_type": "code",
   "execution_count": 388,
   "metadata": {},
   "outputs": [
    {
     "data": {
      "text/html": [
       "<div>\n",
       "<style scoped>\n",
       "    .dataframe tbody tr th:only-of-type {\n",
       "        vertical-align: middle;\n",
       "    }\n",
       "\n",
       "    .dataframe tbody tr th {\n",
       "        vertical-align: top;\n",
       "    }\n",
       "\n",
       "    .dataframe thead th {\n",
       "        text-align: right;\n",
       "    }\n",
       "</style>\n",
       "<table border=\"1\" class=\"dataframe\">\n",
       "  <thead>\n",
       "    <tr style=\"text-align: right;\">\n",
       "      <th></th>\n",
       "      <th>price</th>\n",
       "      <th>aditional shipping price</th>\n",
       "    </tr>\n",
       "  </thead>\n",
       "  <tbody>\n",
       "    <tr>\n",
       "      <th>count</th>\n",
       "      <td>6.112900e+04</td>\n",
       "      <td>65219.000000</td>\n",
       "    </tr>\n",
       "    <tr>\n",
       "      <th>mean</th>\n",
       "      <td>2.276485e+04</td>\n",
       "      <td>134.830234</td>\n",
       "    </tr>\n",
       "    <tr>\n",
       "      <th>std</th>\n",
       "      <td>3.059692e+04</td>\n",
       "      <td>2580.042710</td>\n",
       "    </tr>\n",
       "    <tr>\n",
       "      <th>min</th>\n",
       "      <td>3.150000e+02</td>\n",
       "      <td>0.000000</td>\n",
       "    </tr>\n",
       "    <tr>\n",
       "      <th>25%</th>\n",
       "      <td>9.157000e+03</td>\n",
       "      <td>31.000000</td>\n",
       "    </tr>\n",
       "    <tr>\n",
       "      <th>50%</th>\n",
       "      <td>1.500000e+04</td>\n",
       "      <td>99.000000</td>\n",
       "    </tr>\n",
       "    <tr>\n",
       "      <th>75%</th>\n",
       "      <td>2.483300e+04</td>\n",
       "      <td>160.000000</td>\n",
       "    </tr>\n",
       "    <tr>\n",
       "      <th>max</th>\n",
       "      <td>1.152102e+06</td>\n",
       "      <td>656389.000000</td>\n",
       "    </tr>\n",
       "  </tbody>\n",
       "</table>\n",
       "</div>"
      ],
      "text/plain": [
       "              price  aditional shipping price\n",
       "count  6.112900e+04              65219.000000\n",
       "mean   2.276485e+04                134.830234\n",
       "std    3.059692e+04               2580.042710\n",
       "min    3.150000e+02                  0.000000\n",
       "25%    9.157000e+03                 31.000000\n",
       "50%    1.500000e+04                 99.000000\n",
       "75%    2.483300e+04                160.000000\n",
       "max    1.152102e+06             656389.000000"
      ]
     },
     "execution_count": 388,
     "metadata": {},
     "output_type": "execute_result"
    }
   ],
   "source": [
    "numerical_cols.describe()"
   ]
  },
  {
   "attachments": {},
   "cell_type": "markdown",
   "metadata": {},
   "source": [
    "#### With each categorical column, how are values distributed?"
   ]
  },
  {
   "cell_type": "code",
   "execution_count": 389,
   "metadata": {},
   "outputs": [
    {
     "data": {
      "text/html": [
       "<div>\n",
       "<style scoped>\n",
       "    .dataframe tbody tr th:only-of-type {\n",
       "        vertical-align: middle;\n",
       "    }\n",
       "\n",
       "    .dataframe tbody tr th {\n",
       "        vertical-align: top;\n",
       "    }\n",
       "\n",
       "    .dataframe thead th {\n",
       "        text-align: right;\n",
       "    }\n",
       "</style>\n",
       "<table border=\"1\" class=\"dataframe\">\n",
       "  <thead>\n",
       "    <tr style=\"text-align: right;\">\n",
       "      <th></th>\n",
       "      <th>model</th>\n",
       "      <th>reference number</th>\n",
       "      <th>ad name</th>\n",
       "      <th>movement</th>\n",
       "      <th>case material</th>\n",
       "      <th>case diameter</th>\n",
       "      <th>year of production</th>\n",
       "      <th>condition</th>\n",
       "      <th>scope of delivery</th>\n",
       "      <th>location</th>\n",
       "    </tr>\n",
       "  </thead>\n",
       "  <tbody>\n",
       "    <tr>\n",
       "      <th>0</th>\n",
       "      <td>Rolex Lady-Datejust</td>\n",
       "      <td>179161</td>\n",
       "      <td>Steel Rose Gold Black Roman Dial Ladies Watch ...</td>\n",
       "      <td>Automatic</td>\n",
       "      <td>Steel</td>\n",
       "      <td>26 mm</td>\n",
       "      <td>2014.0</td>\n",
       "      <td>Very good</td>\n",
       "      <td>Original box, original papers</td>\n",
       "      <td>United States of America, Georgia</td>\n",
       "    </tr>\n",
       "    <tr>\n",
       "      <th>1</th>\n",
       "      <td>Rolex Chronograph</td>\n",
       "      <td>2917</td>\n",
       "      <td>REF. 2917</td>\n",
       "      <td>Manual winding</td>\n",
       "      <td>Steel</td>\n",
       "      <td>33 mm</td>\n",
       "      <td>1934.0</td>\n",
       "      <td>Very good</td>\n",
       "      <td>Original box, no original papers</td>\n",
       "      <td>Italy, Roma</td>\n",
       "    </tr>\n",
       "    <tr>\n",
       "      <th>2</th>\n",
       "      <td>Rolex Daytona</td>\n",
       "      <td>116519G</td>\n",
       "      <td>保証書付き ROLEX ロレックス デイトナ コスモグラフ K18WG 8Pダイヤ ランダム...</td>\n",
       "      <td>Automatic</td>\n",
       "      <td>White gold</td>\n",
       "      <td>39 mm</td>\n",
       "      <td>NaN</td>\n",
       "      <td>Fair</td>\n",
       "      <td>Original papers, no original box</td>\n",
       "      <td>Japan, Nagoya City</td>\n",
       "    </tr>\n",
       "    <tr>\n",
       "      <th>3</th>\n",
       "      <td>Rolex Submariner Date</td>\n",
       "      <td>116613</td>\n",
       "      <td>New Submariner 116613 Yellow Steel Gold Cerami...</td>\n",
       "      <td>Automatic</td>\n",
       "      <td>Steel</td>\n",
       "      <td>40 mm</td>\n",
       "      <td>2020.0</td>\n",
       "      <td>Unworn</td>\n",
       "      <td>Original box, original papers</td>\n",
       "      <td>United States of America, Florida, Miami</td>\n",
       "    </tr>\n",
       "    <tr>\n",
       "      <th>4</th>\n",
       "      <td>Rolex Submariner Date</td>\n",
       "      <td>16610</td>\n",
       "      <td>1990s ROLEX SUBMARINER 16610 Tritium vintage G...</td>\n",
       "      <td>Automatic</td>\n",
       "      <td>NaN</td>\n",
       "      <td>40 mm</td>\n",
       "      <td>1990.0</td>\n",
       "      <td>Good</td>\n",
       "      <td>Original box, original papers</td>\n",
       "      <td>Japan, Ehime yawatahama</td>\n",
       "    </tr>\n",
       "  </tbody>\n",
       "</table>\n",
       "</div>"
      ],
      "text/plain": [
       "                   model reference number  \\\n",
       "0    Rolex Lady-Datejust           179161   \n",
       "1      Rolex Chronograph             2917   \n",
       "2          Rolex Daytona          116519G   \n",
       "3  Rolex Submariner Date           116613   \n",
       "4  Rolex Submariner Date            16610   \n",
       "\n",
       "                                             ad name        movement  \\\n",
       "0  Steel Rose Gold Black Roman Dial Ladies Watch ...       Automatic   \n",
       "1                                          REF. 2917  Manual winding   \n",
       "2  保証書付き ROLEX ロレックス デイトナ コスモグラフ K18WG 8Pダイヤ ランダム...       Automatic   \n",
       "3  New Submariner 116613 Yellow Steel Gold Cerami...       Automatic   \n",
       "4  1990s ROLEX SUBMARINER 16610 Tritium vintage G...       Automatic   \n",
       "\n",
       "  case material case diameter year of production  condition  \\\n",
       "0         Steel         26 mm             2014.0  Very good   \n",
       "1         Steel         33 mm             1934.0  Very good   \n",
       "2    White gold         39 mm                NaN       Fair   \n",
       "3         Steel         40 mm             2020.0     Unworn   \n",
       "4           NaN         40 mm             1990.0       Good   \n",
       "\n",
       "                  scope of delivery                                  location  \n",
       "0     Original box, original papers         United States of America, Georgia  \n",
       "1  Original box, no original papers                               Italy, Roma  \n",
       "2  Original papers, no original box                        Japan, Nagoya City  \n",
       "3     Original box, original papers  United States of America, Florida, Miami  \n",
       "4     Original box, original papers                   Japan, Ehime yawatahama  "
      ]
     },
     "execution_count": 389,
     "metadata": {},
     "output_type": "execute_result"
    }
   ],
   "source": [
    "categorical_cols = rolex_df.select_dtypes(exclude=np.number).copy()\n",
    "categorical_cols.head()"
   ]
  },
  {
   "attachments": {},
   "cell_type": "markdown",
   "metadata": {},
   "source": [
    "Percentage of missing values"
   ]
  },
  {
   "cell_type": "code",
   "execution_count": 390,
   "metadata": {},
   "outputs": [
    {
     "data": {
      "text/plain": [
       "model                  0.000000\n",
       "reference number       3.207654\n",
       "ad name                0.088931\n",
       "movement               3.624711\n",
       "case material          5.363468\n",
       "case diameter          4.457290\n",
       "year of production    25.888161\n",
       "condition              1.407565\n",
       "scope of delivery      0.000000\n",
       "location               0.000000\n",
       "dtype: float64"
      ]
     },
     "execution_count": 390,
     "metadata": {},
     "output_type": "execute_result"
    }
   ],
   "source": [
    "cate_missing_percentages = (categorical_cols.isna()).sum() / rolex_df.shape[0] * 100\n",
    "cate_missing_percentages"
   ]
  },
  {
   "attachments": {},
   "cell_type": "markdown",
   "metadata": {},
   "source": [
    "Number of different values"
   ]
  },
  {
   "cell_type": "code",
   "execution_count": 391,
   "metadata": {},
   "outputs": [
    {
     "data": {
      "text/plain": [
       "model                    58\n",
       "reference number       4863\n",
       "ad name               44292\n",
       "movement                  3\n",
       "case material            13\n",
       "case diameter           643\n",
       "year of production      111\n",
       "condition                 7\n",
       "scope of delivery         4\n",
       "location               4097\n",
       "dtype: int64"
      ]
     },
     "execution_count": 391,
     "metadata": {},
     "output_type": "execute_result"
    }
   ],
   "source": [
    "categorical_cols.nunique()"
   ]
  },
  {
   "attachments": {},
   "cell_type": "markdown",
   "metadata": {},
   "source": [
    "---"
   ]
  },
  {
   "attachments": {},
   "cell_type": "markdown",
   "metadata": {},
   "source": [
    "# Asking meaningful questions "
   ]
  },
  {
   "cell_type": "code",
   "execution_count": 392,
   "metadata": {},
   "outputs": [],
   "source": [
    "rolex_df.drop(columns = ['ad name'],inplace=True)\n",
    "rolex_df = rolex_df[rolex_df['model'] != 'Rolex']"
   ]
  },
  {
   "cell_type": "code",
   "execution_count": 393,
   "metadata": {},
   "outputs": [],
   "source": [
    "#Remove watch's size in model name\n",
    "rolex_df['model'].replace(regex = True,to_replace = r\"[0-9]\",value = '',inplace= True)\n",
    "\n",
    "# #Get true size of case\n",
    "rolex_df['case diameter'] = rolex_df['case diameter'].str.extract(r'(^[\\d][\\d])')\n",
    "\n",
    "#Preprocess ref number because some ref num are in wrong format (including characters,etc) \n",
    "\n",
    "tmp = rolex_df['reference number'].str.extract(r'(\\d+[-]\\d+)|(\\d+)')\n",
    "tmp[0].fillna(tmp[1],inplace=True)\n",
    "rolex_df['reference number'] = tmp[0]\n",
    "\n",
    "#Replace all Nan with Unknown\n",
    "rolex_df['reference number'].replace(regex = True,to_replace = \"\",value = 'Unknown',inplace= True)"
   ]
  },
  {
   "cell_type": "code",
   "execution_count": 394,
   "metadata": {},
   "outputs": [
    {
     "data": {
      "text/html": [
       "<div>\n",
       "<style scoped>\n",
       "    .dataframe tbody tr th:only-of-type {\n",
       "        vertical-align: middle;\n",
       "    }\n",
       "\n",
       "    .dataframe tbody tr th {\n",
       "        vertical-align: top;\n",
       "    }\n",
       "\n",
       "    .dataframe thead th {\n",
       "        text-align: right;\n",
       "    }\n",
       "</style>\n",
       "<table border=\"1\" class=\"dataframe\">\n",
       "  <thead>\n",
       "    <tr style=\"text-align: right;\">\n",
       "      <th></th>\n",
       "      <th>model</th>\n",
       "      <th>reference number</th>\n",
       "      <th>price</th>\n",
       "      <th>aditional shipping price</th>\n",
       "      <th>movement</th>\n",
       "      <th>case material</th>\n",
       "      <th>case diameter</th>\n",
       "      <th>year of production</th>\n",
       "      <th>condition</th>\n",
       "      <th>scope of delivery</th>\n",
       "      <th>location</th>\n",
       "    </tr>\n",
       "  </thead>\n",
       "  <tbody>\n",
       "    <tr>\n",
       "      <th>0</th>\n",
       "      <td>Rolex Lady-Datejust</td>\n",
       "      <td>179161</td>\n",
       "      <td>9080.0</td>\n",
       "      <td>140.0</td>\n",
       "      <td>Automatic</td>\n",
       "      <td>Steel</td>\n",
       "      <td>26</td>\n",
       "      <td>2014.0</td>\n",
       "      <td>Very good</td>\n",
       "      <td>Original box, original papers</td>\n",
       "      <td>United States of America, Georgia</td>\n",
       "    </tr>\n",
       "    <tr>\n",
       "      <th>1</th>\n",
       "      <td>Rolex Chronograph</td>\n",
       "      <td>2917</td>\n",
       "      <td>16202.0</td>\n",
       "      <td>216.0</td>\n",
       "      <td>Manual winding</td>\n",
       "      <td>Steel</td>\n",
       "      <td>33</td>\n",
       "      <td>1934.0</td>\n",
       "      <td>Very good</td>\n",
       "      <td>Original box, no original papers</td>\n",
       "      <td>Italy, Roma</td>\n",
       "    </tr>\n",
       "    <tr>\n",
       "      <th>2</th>\n",
       "      <td>Rolex Daytona</td>\n",
       "      <td>116519</td>\n",
       "      <td>41567.0</td>\n",
       "      <td>0.0</td>\n",
       "      <td>Automatic</td>\n",
       "      <td>White gold</td>\n",
       "      <td>39</td>\n",
       "      <td>NaN</td>\n",
       "      <td>Fair</td>\n",
       "      <td>Original papers, no original box</td>\n",
       "      <td>Japan, Nagoya City</td>\n",
       "    </tr>\n",
       "    <tr>\n",
       "      <th>3</th>\n",
       "      <td>Rolex Submariner Date</td>\n",
       "      <td>116613</td>\n",
       "      <td>19795.0</td>\n",
       "      <td>235.0</td>\n",
       "      <td>Automatic</td>\n",
       "      <td>Steel</td>\n",
       "      <td>40</td>\n",
       "      <td>2020.0</td>\n",
       "      <td>Unworn</td>\n",
       "      <td>Original box, original papers</td>\n",
       "      <td>United States of America, Florida, Miami</td>\n",
       "    </tr>\n",
       "    <tr>\n",
       "      <th>4</th>\n",
       "      <td>Rolex Submariner Date</td>\n",
       "      <td>16610</td>\n",
       "      <td>10674.0</td>\n",
       "      <td>145.0</td>\n",
       "      <td>Automatic</td>\n",
       "      <td>NaN</td>\n",
       "      <td>40</td>\n",
       "      <td>1990.0</td>\n",
       "      <td>Good</td>\n",
       "      <td>Original box, original papers</td>\n",
       "      <td>Japan, Ehime yawatahama</td>\n",
       "    </tr>\n",
       "  </tbody>\n",
       "</table>\n",
       "</div>"
      ],
      "text/plain": [
       "                   model reference number    price  aditional shipping price  \\\n",
       "0    Rolex Lady-Datejust           179161   9080.0                     140.0   \n",
       "1      Rolex Chronograph             2917  16202.0                     216.0   \n",
       "2          Rolex Daytona           116519  41567.0                       0.0   \n",
       "3  Rolex Submariner Date           116613  19795.0                     235.0   \n",
       "4  Rolex Submariner Date            16610  10674.0                     145.0   \n",
       "\n",
       "         movement case material case diameter year of production  condition  \\\n",
       "0       Automatic         Steel            26             2014.0  Very good   \n",
       "1  Manual winding         Steel            33             1934.0  Very good   \n",
       "2       Automatic    White gold            39                NaN       Fair   \n",
       "3       Automatic         Steel            40             2020.0     Unworn   \n",
       "4       Automatic           NaN            40             1990.0       Good   \n",
       "\n",
       "                  scope of delivery                                  location  \n",
       "0     Original box, original papers         United States of America, Georgia  \n",
       "1  Original box, no original papers                               Italy, Roma  \n",
       "2  Original papers, no original box                        Japan, Nagoya City  \n",
       "3     Original box, original papers  United States of America, Florida, Miami  \n",
       "4     Original box, original papers                   Japan, Ehime yawatahama  "
      ]
     },
     "execution_count": 394,
     "metadata": {},
     "output_type": "execute_result"
    }
   ],
   "source": [
    "rolex_df.reset_index(drop=True,inplace = True)\n",
    "rolex_df.head()"
   ]
  },
  {
   "attachments": {},
   "cell_type": "markdown",
   "metadata": {},
   "source": [
    "Fill ref num movement case material and year of production with the mode of their model.  "
   ]
  },
  {
   "cell_type": "code",
   "execution_count": 395,
   "metadata": {},
   "outputs": [
    {
     "data": {
      "text/html": [
       "<div>\n",
       "<style scoped>\n",
       "    .dataframe tbody tr th:only-of-type {\n",
       "        vertical-align: middle;\n",
       "    }\n",
       "\n",
       "    .dataframe tbody tr th {\n",
       "        vertical-align: top;\n",
       "    }\n",
       "\n",
       "    .dataframe thead th {\n",
       "        text-align: right;\n",
       "    }\n",
       "</style>\n",
       "<table border=\"1\" class=\"dataframe\">\n",
       "  <thead>\n",
       "    <tr style=\"text-align: right;\">\n",
       "      <th></th>\n",
       "      <th>model</th>\n",
       "      <th>reference number</th>\n",
       "      <th>price</th>\n",
       "      <th>aditional shipping price</th>\n",
       "      <th>movement</th>\n",
       "      <th>case material</th>\n",
       "      <th>case diameter</th>\n",
       "      <th>year of production</th>\n",
       "      <th>condition</th>\n",
       "      <th>scope of delivery</th>\n",
       "      <th>location</th>\n",
       "    </tr>\n",
       "  </thead>\n",
       "  <tbody>\n",
       "    <tr>\n",
       "      <th>0</th>\n",
       "      <td>Rolex Lady-Datejust</td>\n",
       "      <td>179161</td>\n",
       "      <td>9080.0</td>\n",
       "      <td>140.0</td>\n",
       "      <td>Automatic</td>\n",
       "      <td>Steel</td>\n",
       "      <td>26</td>\n",
       "      <td>2014.0</td>\n",
       "      <td>Very good</td>\n",
       "      <td>Original box, original papers</td>\n",
       "      <td>United States of America, Georgia</td>\n",
       "    </tr>\n",
       "    <tr>\n",
       "      <th>1</th>\n",
       "      <td>Rolex Chronograph</td>\n",
       "      <td>2917</td>\n",
       "      <td>16202.0</td>\n",
       "      <td>216.0</td>\n",
       "      <td>Manual winding</td>\n",
       "      <td>Steel</td>\n",
       "      <td>33</td>\n",
       "      <td>1934.0</td>\n",
       "      <td>Very good</td>\n",
       "      <td>Original box, no original papers</td>\n",
       "      <td>Italy, Roma</td>\n",
       "    </tr>\n",
       "    <tr>\n",
       "      <th>2</th>\n",
       "      <td>Rolex Daytona</td>\n",
       "      <td>116519</td>\n",
       "      <td>41567.0</td>\n",
       "      <td>0.0</td>\n",
       "      <td>Automatic</td>\n",
       "      <td>White gold</td>\n",
       "      <td>39</td>\n",
       "      <td>2022.0</td>\n",
       "      <td>Fair</td>\n",
       "      <td>Original papers, no original box</td>\n",
       "      <td>Japan, Nagoya City</td>\n",
       "    </tr>\n",
       "    <tr>\n",
       "      <th>3</th>\n",
       "      <td>Rolex Submariner Date</td>\n",
       "      <td>116613</td>\n",
       "      <td>19795.0</td>\n",
       "      <td>235.0</td>\n",
       "      <td>Automatic</td>\n",
       "      <td>Steel</td>\n",
       "      <td>40</td>\n",
       "      <td>2020.0</td>\n",
       "      <td>Unworn</td>\n",
       "      <td>Original box, original papers</td>\n",
       "      <td>United States of America, Florida, Miami</td>\n",
       "    </tr>\n",
       "    <tr>\n",
       "      <th>4</th>\n",
       "      <td>Rolex Submariner Date</td>\n",
       "      <td>16610</td>\n",
       "      <td>10674.0</td>\n",
       "      <td>145.0</td>\n",
       "      <td>Automatic</td>\n",
       "      <td>Steel</td>\n",
       "      <td>40</td>\n",
       "      <td>1990.0</td>\n",
       "      <td>Good</td>\n",
       "      <td>Original box, original papers</td>\n",
       "      <td>Japan, Ehime yawatahama</td>\n",
       "    </tr>\n",
       "  </tbody>\n",
       "</table>\n",
       "</div>"
      ],
      "text/plain": [
       "                   model reference number    price  aditional shipping price  \\\n",
       "0    Rolex Lady-Datejust           179161   9080.0                     140.0   \n",
       "1      Rolex Chronograph             2917  16202.0                     216.0   \n",
       "2          Rolex Daytona           116519  41567.0                       0.0   \n",
       "3  Rolex Submariner Date           116613  19795.0                     235.0   \n",
       "4  Rolex Submariner Date            16610  10674.0                     145.0   \n",
       "\n",
       "         movement case material case diameter year of production  condition  \\\n",
       "0       Automatic         Steel            26             2014.0  Very good   \n",
       "1  Manual winding         Steel            33             1934.0  Very good   \n",
       "2       Automatic    White gold            39             2022.0       Fair   \n",
       "3       Automatic         Steel            40             2020.0     Unworn   \n",
       "4       Automatic         Steel            40             1990.0       Good   \n",
       "\n",
       "                  scope of delivery                                  location  \n",
       "0     Original box, original papers         United States of America, Georgia  \n",
       "1  Original box, no original papers                               Italy, Roma  \n",
       "2  Original papers, no original box                        Japan, Nagoya City  \n",
       "3     Original box, original papers  United States of America, Florida, Miami  \n",
       "4     Original box, original papers                   Japan, Ehime yawatahama  "
      ]
     },
     "execution_count": 395,
     "metadata": {},
     "output_type": "execute_result"
    }
   ],
   "source": [
    "rolex_df['year of production'] = rolex_df['year of production'].astype(np.number)\n",
    "rolex_df.loc[rolex_df['year of production'] < 1905, 'year of production' ] = np.nan\n",
    "rolex_df['year of production'] = rolex_df['year of production'].astype('object')\n",
    "\n",
    "model_list = rolex_df['model'].unique()\n",
    "for i in model_list:\n",
    "    rolex_df[rolex_df['model'] == i] = rolex_df[rolex_df['model'] == i].fillna(rolex_df[rolex_df['model'] == i].mode().iloc[0])\n",
    "\n",
    "rolex_df.head()\n",
    "\n",
    "\n",
    "\n",
    "num_missing_percentages = (numerical_cols.isna()).sum() / rolex_df.shape[0] * 100"
   ]
  },
  {
   "attachments": {},
   "cell_type": "markdown",
   "metadata": {},
   "source": [
    "Check if dataset still consists missing values"
   ]
  },
  {
   "cell_type": "code",
   "execution_count": 397,
   "metadata": {},
   "outputs": [
    {
     "data": {
      "text/plain": [
       "model                       0.0\n",
       "reference number            0.0\n",
       "price                       0.0\n",
       "aditional shipping price    0.0\n",
       "movement                    0.0\n",
       "case material               0.0\n",
       "case diameter               0.0\n",
       "year of production          0.0\n",
       "condition                   0.0\n",
       "scope of delivery           0.0\n",
       "location                    0.0\n",
       "dtype: float64"
      ]
     },
     "execution_count": 397,
     "metadata": {},
     "output_type": "execute_result"
    }
   ],
   "source": [
    "missing_percentages = rolex_df.isna().sum()/rolex_df.shape[0]*100\n",
    "missing_percentages"
   ]
  }
 ],
 "metadata": {
  "kernelspec": {
   "display_name": "Python 3",
   "language": "python",
   "name": "python3"
  },
  "language_info": {
   "codemirror_mode": {
    "name": "ipython",
    "version": 3
   },
   "file_extension": ".py",
   "mimetype": "text/x-python",
   "name": "python",
   "nbconvert_exporter": "python",
   "pygments_lexer": "ipython3",
   "version": "3.11.0"
  },
  "orig_nbformat": 4,
  "vscode": {
   "interpreter": {
    "hash": "c261aea317cc0286b3b3261fbba9abdec21eaa57589985bb7a274bf54d6cc0a7"
   }
  }
 },
 "nbformat": 4,
 "nbformat_minor": 2
}
